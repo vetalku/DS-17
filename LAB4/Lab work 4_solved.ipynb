{
 "cells":[
  {
   "cell_type":"markdown",
   "source":[
    "___\n",
    "\n",
    "<a href='https:\/\/mainacademy.ua\/'> <img src='https:\/\/mainacademy.ua\/wp-content\/uploads\/2019\/03\/logo-main.png' alt = 'Хмм, щось з інтернетом'\/><\/a>\n",
    "___\n",
    "\n",
    "# Module 4: Work with data professionally!"
   ],
   "attachments":{
    
   },
   "metadata":{
    "datalore":{
     "node_id":"1EyDUGlOA3GipfvlNgyaeq",
     "type":"MD",
     "hide_input_from_viewers":false,
     "hide_output_from_viewers":false,
     "report_properties":{
      "rowId":"FYEwfqds1wyph6nHRbM2k9"
     }
    }
   }
  },
  {
   "cell_type":"markdown",
   "source":[
    "## Lab work 4"
   ],
   "attachments":{
    
   },
   "metadata":{
    "datalore":{
     "node_id":"zKbE9c60gZBNJlaWTGsPEa",
     "type":"MD",
     "hide_input_from_viewers":false,
     "hide_output_from_viewers":false,
     "report_properties":{
      "rowId":"vRwSSVdLw8afVlaqSz9yG2"
     }
    }
   }
  },
  {
   "cell_type":"markdown",
   "source":[
    "#### Мета: \n",
    "\n",
    "* навчитися обробляти дані\n",
    "* \"парсити\" сайти"
   ],
   "attachments":{
    
   },
   "metadata":{
    "datalore":{
     "node_id":"HJ9lduatURQATbNUzGZHAs",
     "type":"MD",
     "hide_input_from_viewers":false,
     "hide_output_from_viewers":false,
     "report_properties":{
      "rowId":"oIjAo4vvljED4Qdg89imgX"
     }
    }
   }
  },
  {
   "cell_type":"markdown",
   "source":[
    "### Завдання 1:"
   ],
   "attachments":{
    
   },
   "metadata":{
    "datalore":{
     "node_id":"Qa4i8A7TeDToGByLuPBgN7",
     "type":"MD",
     "hide_input_from_viewers":false,
     "hide_output_from_viewers":false,
     "report_properties":{
      "rowId":"hWF3xMOqIz2mEf7rBZRfFl"
     }
    }
   }
  },
  {
   "cell_type":"markdown",
   "source":[
    "#### Ознайомитися із API Національного банку \n",
    "https:\/\/old.bank.gov.ua\/control\/uk\/publish\/article?art_id=38441973&cat_id=38459171#exchange"
   ],
   "attachments":{
    
   },
   "metadata":{
    "datalore":{
     "node_id":"cEZwO6tekseSG7J0FzagEW",
     "type":"MD",
     "hide_input_from_viewers":false,
     "hide_output_from_viewers":false,
     "report_properties":{
      "rowId":"33myk8UGwUV7AezgdOv5J8"
     }
    }
   }
  },
  {
   "cell_type":"markdown",
   "source":[
    "1. Підключитися до API."
   ],
   "attachments":{
    
   },
   "metadata":{
    "datalore":{
     "node_id":"ibokGyS7ufsIpZKhTxkOmH",
     "type":"MD",
     "hide_input_from_viewers":false,
     "hide_output_from_viewers":false,
     "report_properties":{
      "rowId":"a44TRwTFCxxt4ZWv0IbwjY"
     }
    }
   }
  },
  {
   "cell_type":"code",
   "source":[
    "import requests"
   ],
   "execution_count":null,
   "outputs":[
    
   ],
   "metadata":{
    "datalore":{
     "node_id":"prLhsKl8mJpdp3bFHo4O4O",
     "type":"CODE",
     "hide_input_from_viewers":false,
     "hide_output_from_viewers":false,
     "report_properties":{
      "rowId":"4aHLPLZeG5CDvsLy9iCLZu"
     }
    }
   }
  },
  {
   "cell_type":"markdown",
   "source":[
    "2. Отримати курс долара за останній рік."
   ],
   "attachments":{
    
   },
   "metadata":{
    "datalore":{
     "node_id":"PhE4jmy2B9Wt6YT4NEbkGR",
     "type":"MD",
     "hide_input_from_viewers":false,
     "hide_output_from_viewers":false,
     "report_properties":{
      "rowId":"MOapkMXzDbsM9MicwbqrDX"
     }
    }
   }
  },
  {
   "cell_type":"code",
   "source":[
    "\n",
    "from datetime import date\n",
    "import dateutil.relativedelta\n",
    "\n",
    "dt_today = date.today()\n",
    "dt_year_ago = dt_today - dateutil.relativedelta.relativedelta(years=3)\n",
    "params_line = {\n",
    "    'start':dt_year_ago.strftime(\"%Y%m%d\"),\n",
    "    'end':dt_today.strftime(\"%Y%m%d\"),\n",
    "    'valcode':\"usd\",\n",
    "    'sort':\"exchangedate\",\n",
    "    'order':\"desc\",\n",
    "    'format':'json'\n",
    "}\n",
    "print(params_line )\n",
    "\n",
    "usd_exchange_rates = requests.api.get(f\"https:\/\/bank.gov.ua\/NBU_Exchange\/exchange_site\", params= params_line ).json()\n",
    "\n",
    "print(usd_exchange_rates)"
   ],
   "execution_count":null,
   "outputs":[
    {
     "name":"stdout",
     "text":[
      "{'start': '20200313', 'end': '20230313', 'valcode': 'usd', 'sort': 'exchangedate', 'order': 'desc', 'format': 'json'}\n",
      "[{'exchangedate': '13.03.2023', 'r030': 840, 'cc': 'USD', 'txt': 'Долар США', 'enname': 'US Dollar', 'rate': 36.5686, 'units': 1, 'rate_per_unit': 36.5686, 'group': '1', 'calcdate': '10.03.2023'}, {'exchangedate': '12.03.2023', 'r030': 840, 'cc': 'USD', 'txt': 'Долар США', 'enname': 'US Dollar', 'rate': 36.5686, 'units': 1, 'rate_per_unit': 36.5686, 'group': '1', 'calcdate': '09.03.2023'}, {'exchangedate': '11.03.2023', 'r030': 840, 'cc': 'USD', 'txt': 'Долар США', 'enname': 'US Dollar', 'rate': 36.5686, 'units': 1, 'rate_per_unit': 36.5686, 'group': '1', 'calcdate': '09.03.2023'}, {'exchangedate': '10.03.2023', 'r030': 840, 'cc': 'USD', 'txt': 'Долар США', 'enname': 'US Dollar', 'rate': 36.5686, 'units': 1, 'rate_per_unit': 36.5686, 'group': '1', 'calcdate': '09.03.2023'}, {'exchangedate': '09.03.2023', 'r030': 840, 'cc': 'USD', 'txt': 'Долар США', 'enname': 'US Dollar', 'rate': 36.5686, 'units': 1, 'rate_per_unit': 36.5686, 'group': '1', 'calcdate': '08.03.2023'}, {'exchangedate': '08.03.2023', 'r030': 840, 'cc': 'USD', 'txt': 'Долар США', 'enname': 'US Dollar', 'rate': 36.5686, 'units': 1, 'rate_per_unit': 36.5686, 'group': '1', 'calcdate': '07.03.2023'}, {'exchangedate': '07.03.2023', 'r030': 840, 'cc': 'USD', 'txt': 'Долар США', 'enname': 'US Dollar', 'rate': 36.5686, 'units': 1, 'rate_per_unit': 36.5686, 'group': '1', 'calcdate': '06.03.2023'}, {'exchangedate': '06.03.2023', 'r030': 840, 'cc': 'USD', 'txt': 'Долар США', 'enname': 'US Dollar', 'rate': 36.5686, 'units': 1, 'rate_per_unit': 36.5686, 'group': '1', 'calcdate': '03.03.2023'}, {'exchangedate': '05.03.2023', 'r030': 840, 'cc': 'USD', 'txt': 'Долар США', 'enname': 'US Dollar', 'rate': 36.5686, 'units': 1, 'rate_per_unit': 36.5686, 'group': '1', 'calcdate': '02.03.2023'}, {'exchangedate': '04.03.2023', 'r030': 840, 'cc': 'USD', 'txt': 'Долар США', 'enname': 'US Dollar', 'rate': 36.5686, 'units': 1, 'rate_per_unit': 36.5686, 'group': '1', 'calcdate': '02.03.2023'}, {'exchangedate': '03.03.2023', 'r030': 840, 'cc': 'USD', 'txt': 'Долар США', 'enname': 'US Dollar', 'rate': 36.5686, 'units': 1, 'rate_per_unit': 36.5686, 'group': '1', 'calcdate': '02.03.2023'}, {'exchangedate': '02.03.2023', 'r030': 840, 'cc': 'USD', 'txt': 'Долар США', 'enname': 'US Dollar', 'rate': 36.5686, 'units': 1, 'rate_per_unit': 36.5686, 'group': '1', 'calcdate': '01.03.2023'}, {'exchangedate': '01.03.2023', 'r030': 840, 'cc': 'USD', 'txt': 'Долар США', 'enname': 'US Dollar', 'rate': 36.5686, 'units': 1, 'rate_per_unit': 36.5686, 'group': '1', 'calcdate': '28.02.2023'}, {'exchangedate': '28.02.2023', 'r030': 840, 'cc': 'USD', 'txt': 'Долар США', 'enname': 'US Dollar', 'rate': 36.5686, 'units': 1, 'rate_per_unit': 36.5686, 'group': '1', 'calcdate': '27.02.2023'}, {'exchangedate': '27.02.2023', 'r030': 840, 'cc': 'USD', 'txt': 'Долар США', 'enname': 'US Dollar', 'rate': 36.5686, 'units': 1, 'rate_per_unit': 36.5686, 'group': '1', 'calcdate': '24.02.2023'}, {'exchangedate': '26.02.2023', 'r030': 840, 'cc': 'USD', 'txt': 'Долар США', 'enname': 'US Dollar', 'rate': 36.5686, 'units': 1, 'rate_per_unit': 36.5686, 'group': '1', 'calcdate': '23.02.2023'}, {'exchangedate': '25.02.2023', 'r030': 840, 'cc': 'USD', 'txt': 'Долар США', 'enname': 'US Dollar', 'rate': 36.5686, 'units': 1, 'rate_per_unit': 36.5686, 'group': '1', 'calcdate': '23.02.2023'}, {'exchangedate': '24.02.2023', 'r030': 840, 'cc': 'USD', 'txt': 'Долар США', 'enname': 'US Dollar', 'rate': 36.5686, 'units': 1, 'rate_per_unit': 36.5686, 'group': '1', 'calcdate': '23.02.2023'}, {'exchangedate': '23.02.2023', 'r030': 840, 'cc': 'USD', 'txt': 'Долар США', 'enname': 'US Dollar', 'rate': 36.5686, 'units': 1, 'rate_per_unit': 36.5686, 'group': '1', 'calcdate': '22.02.2023'}, {'exchangedate': '22.02.2023', 'r030': 840, 'cc': 'USD', 'txt': 'Долар США', 'enname': 'US Dollar', 'rate': 36.5686, 'units': 1, 'rate_per_unit': 36.5686, 'group': '1', 'calcdate': '21.02.2023'}, {'exchangedate': '21.02.2023', 'r030': 840, 'cc': 'USD', 'txt': 'Долар США', 'enname': 'US Dollar', 'rate': 36.5686, 'units': 1, 'rate_per_unit': 36.5686, 'group': '1', 'calcdate': '20.02.2023'}, {'exchangedate': '20.02.2023', 'r030': 840, 'cc': 'USD', 'txt': 'Долар США', 'enname': 'US Dollar', 'rate': 36.5686, 'units': 1, 'rate_per_unit': 36.5686, 'group': '1', 'calcdate': '17.02.2023'}, {'exchangedate': '19.02.2023', 'r030': 840, 'cc': 'USD', 'txt': 'Долар США', 'enname': 'US Dollar', 'rate': 36.5686, 'units': 1, 'rate_per_unit': 36.5686, 'group': '1', 'calcdate': '16.02.2023'}, {'exchangedate': '18.02.2023', 'r030': 840, 'cc': 'USD', 'txt': 'Долар США', 'enname': 'US Dollar', 'rate': 36.5686, 'units': 1, 'rate_per_unit': 36.5686, 'group': '1', 'calcdate': '16.02.2023'}, {'exchangedate': '17.02.2023', 'r030': 840, 'cc': 'USD', 'txt': 'Долар США', 'enname': 'US Dollar', 'rate': 36.5686, 'units': 1, 'rate_per_unit': 36.5686, 'group': '1', 'calcdate': '16.02.2023'}, {'exchangedate': '16.02.2023', 'r030': 840, 'cc': 'USD', 'txt': 'Долар США', 'enname': 'US Dollar', 'rate': 36.5686, 'units': 1, 'rate_per_unit': 36.5686, 'group': '1', 'calcdate': '15.02.2023'}, {'exchangedate': '15.02.2023', 'r030': 840, 'cc': 'USD', 'txt': 'Долар США', 'enname': 'US Dollar', 'rate': 36.5686, 'units': 1, 'rate_per_unit': 36.5686, 'group': '1', 'calcdate': '14.02.2023'}, {'exchangedate': '14.02.2023', 'r030': 840, 'cc': 'USD', 'txt': 'Долар США', 'enname': 'US Dollar', 'rate': 36.5686, 'units': 1, 'rate_per_unit': 36.5686, 'group': '1', 'calcdate': '13.02.2023'}, {'exchangedate': '13.02.2023', 'r030': 840, 'cc': 'USD', 'txt': 'Долар США', 'enname': 'US Dollar', 'rate': 36.5686, 'units': 1, 'rate_per_unit': 36.5686, 'group': '1', 'calcdate': '10.02.2023'}, {'exchangedate': '12.02.2023', 'r030': 840, 'cc': 'USD', 'txt': 'Долар США', 'enname': 'US Dollar', 'rate': 36.5686, 'units': 1, 'rate_per_unit': 36.5686, 'group': '1', 'calcdate': '09.02.2023'}, {'exchangedate': '11.02.2023', 'r030': 840, 'cc': 'USD', 'txt': 'Долар США', 'enname': 'US Dollar', 'rate': 36.5686, 'units': 1, 'rate_per_unit': 36.5686, 'group': '1', 'calcdate': '09.02.2023'}, {'exchangedate': '10.02.2023', 'r030': 840, 'cc': 'USD', 'txt': 'Долар США', 'enname': 'US Dollar', 'rate': 36.5686, 'units': 1, 'rate_per_unit': 36.5686, 'group': '1', 'calcdate': '09.02.2023'}, {'exchangedate': '09.02.2023', 'r030': 840, 'cc': 'USD', 'txt': 'Долар США', 'enname': 'US Dollar', 'rate': 36.5686, 'units': 1, 'rate_per_unit': 36.5686, 'group': '1', 'calcdate': '08.02.2023'}, {'exchangedate': '08.02.2023', 'r030': 840, 'cc': 'USD', 'txt': 'Долар США', 'enname': 'US Dollar', 'rate': 36.5686, 'units': 1, 'rate_per_unit': 36.5686, 'group': '1', 'calcdate': '07.02.2023'}, {'exchangedate': '07.02.2023', 'r030': 840, 'cc': 'USD', 'txt': 'Долар США', 'enname': 'US Dollar', 'rate': 36.5686, 'units': 1, 'rate_per_unit': 36.5686, 'group': '1', 'calcdate': '06.02.2023'}, {'exchangedate': '06.02.2023', 'r030': 840, 'cc': 'USD', 'txt': 'Долар США', 'enname': 'US Dollar', 'rate': 36.5686, 'units': 1, 'rate_per_unit': 36.5686, 'group': '1', 'calcdate': '03.02.2023'}, {'exchangedate': '05.02.2023', 'r030': 840, 'cc': 'USD', 'txt': 'Долар США', 'enname': 'US Dollar', 'rate': 36.5686, 'units': 1, 'rate_per_unit': 36.5686, 'group': '1', 'calcdate': '02.02.2023'}, {'exchangedate': '04.02.2023', 'r030': 840, 'cc': 'USD', 'txt': 'Долар США', 'enname': 'US Dollar', 'rate': 36.5686, 'units': 1, 'rate_per_unit': 36.5686, 'group': '1', 'calcdate': '02.02.2023'}, {'exchangedate': '03.02.2023', 'r030': 840, 'cc': 'USD', 'txt': 'Долар США', 'enname': 'US Dollar', 'rate': 36.5686, 'units': 1, 'rate_per_unit': 36.5686, 'group': '1', 'calcdate': '02.02.2023'}, {'exchangedate': '02.02.2023', 'r030': 840, 'cc': 'USD', 'txt': 'Долар США', 'enname': 'US Dollar', 'rate': 36.5686, 'units': 1, 'rate_per_unit': 36.5686, 'group': '1', 'calcdate': '01.02.2023'}, {'exchangedate': '01.02.2023', 'r030': 840, 'cc': 'USD', 'txt': 'Долар США', 'enname': 'US Dollar', 'rate': 36.5686, 'units': 1, 'rate_per_unit': 36.5686, 'group': '1', 'calcdate': '31.01.2023'}, {'exchangedate': '31.01.2023', 'r030': 840, 'cc': 'USD', 'txt': 'Долар США', 'enname': 'US Dollar', 'rate': 36.5686, 'units': 1, 'rate_per_unit': 36.5686, 'group': '1', 'calcdate': '30.01.2023'}, {'exchangedate': '30.01.2023', 'r030': 840, 'cc': 'USD', 'txt': 'Долар США', 'enname': 'US Dollar', 'rate': 36.5686, 'units': 1, 'rate_per_unit': 36.5686, 'group': '1', 'calcdate': '27.01.2023'}, {'exchangedate': '29.01.2023', 'r030': 840, 'cc': 'USD', 'txt': 'Долар США', 'enname': 'US Dollar', 'rate': 36.5686, 'units': 1, 'rate_per_unit': 36.5686, 'group': '1', 'calcdate': '26.01.2023'}, {'exchangedate': '28.01.2023', 'r030': 840, 'cc': 'USD', 'txt': 'Долар США', 'enname': 'US Dollar', 'rate': 36.5686, 'units': 1, 'rate_per_unit': 36.5686, 'group': '1', 'calcdate': '26.01.2023'}, {'exchangedate': '27.01.2023', 'r030': 840, 'cc': 'USD', 'txt': 'Долар США', 'enname': 'US Dollar', 'rate': 36.5686, 'units': 1, 'rate_per_unit': 36.5686, 'group': '1', 'calcdate': '26.01.2023'}, {'exchangedate': '26.01.2023', 'r030': 840, 'cc': 'USD', 'txt': 'Долар США', 'enname': 'US Dollar', 'rate': 36.5686, 'units': 1, 'rate_per_unit': 36.5686, 'group': '1', 'calcdate': '25.01.2023'}, {'exchangedate': '25.01.2023', 'r030': 840, 'cc': 'USD', 'txt': 'Долар США', 'enname': 'US Dollar', 'rate': 36.5686, 'units': 1, 'rate_per_unit': 36.5686, 'group': '1', 'calcdate': '24.01.2023'}, {'exchangedate': '24.01.2023', 'r030': 840, 'cc': 'USD', 'txt': 'Долар США', 'enname': 'US Dollar', 'rate': 36.5686, 'units': 1, 'rate_per_unit': 36.5686, 'group': '1', 'calcdate': '23.01.2023'}, {'exchangedate': '23.01.2023', 'r030': 840, 'cc': 'USD', 'txt': 'Долар США', 'enname': 'US Dollar', 'rate': 36.5686, 'units': 1, 'rate_per_unit': 36.5686, 'group': '1', 'calcdate': '20.01.2023'}, {'exchangedate': '22.01.2023', 'r030': 840, 'cc': 'USD', 'txt': 'Долар США', 'enname': 'US Dollar', 'rate': 36.5686, 'units': 1, 'rate_per_unit': 36.5686, 'group': '1', 'calcdate': '19.01.2023'}, {'exchangedate': '21.01.2023', 'r030': 840, 'cc': 'USD', 'txt': 'Долар США', 'enname': 'US Dollar', 'rate': 36.5686, 'units': 1, 'rate_per_unit': 36.5686, 'group': '1', 'calcdate': '19.01.2023'}, {'exchangedate': '20.01.2023', 'r030': 840, 'cc': 'USD', 'txt': 'Долар США', 'enname': 'US Dollar', 'rate': 36.5686, 'units': 1, 'rate_per_unit': 36.5686, 'group': '1', 'calcdate': '19.01.2023'}, {'exchangedate': '19.01.2023', 'r030': 840, 'cc': 'USD', 'txt': 'Долар США', 'enname': 'US Dollar', 'rate': 36.5686, 'units': 1, 'rate_per_unit': 36.5686, 'group': '1', 'calcdate': '18.01.2023'}, {'exchangedate': '18.01.2023', 'r030': 840, 'cc': 'USD', 'txt': 'Долар США', 'enname': 'US Dollar', 'rate': 36.5686, 'units': 1, 'rate_per_unit': 36.5686, 'group': '1', 'calcdate': '17.01.2023'}, {'exchangedate': '17.01.2023', 'r030': 840, 'cc': 'USD', 'txt': 'Долар США', 'enname': 'US Dollar', 'rate': 36.5686, 'units': 1, 'rate_per_unit': 36.5686, 'group': '1', 'calcdate': '16.01.2023'}, {'exchangedate': '16.01.2023', 'r030': 840, 'cc': 'USD', 'txt': 'Долар США', 'enname': 'US Dollar', 'rate': 36.5686, 'units': 1, 'rate_per_unit': 36.5686, 'group': '1', 'calcdate': '13.01.2023'}, {'exchangedate': '15.01.2023', 'r030': 840, 'cc': 'USD', 'txt': 'Долар США', 'enname': 'US Dollar', 'rate': 36.5686, 'units': 1, 'rate_per_unit': 36.5686, 'group': '1', 'calcdate': '12.01.2023'}, {'exchangedate': '14.01.2023', 'r030': 840, 'cc': 'USD', 'txt': 'Долар США', 'enname': 'US Dollar', 'rate': 36.5686, 'units': 1, 'rate_per_unit': 36.5686, 'group': '1', 'calcdate': '12.01.2023'}, {'exchangedate': '13.01.2023', 'r030': 840, 'cc': 'USD', 'txt': 'Долар США', 'enname': 'US Dollar', 'rate': 36.5686, 'units': 1, 'rate_per_unit': 36.5686, 'group': '1', 'calcdate': '12.01.2023'}, {'exchangedate': '12.01.2023', 'r030': 840, 'cc': 'USD', 'txt': 'Долар США', 'enname': 'US Dollar', 'rate': 36.5686, 'units': 1, 'rate_per_unit': 36.5686, 'group': '1', 'calcdate': '11.01.2023'}, {'exchangedate': '11.01.2023', 'r030': 840, 'cc': 'USD', 'txt': 'Долар США', 'enname': 'US Dollar', 'rate': 36.5686, 'units': 1, 'rate_per_unit': 36.5686, 'group': '1', 'calcdate': '10.01.2023'}, {'exchangedate': '10.01.2023', 'r030': 840, 'cc': 'USD', 'txt': 'Долар США', 'enname': 'US Dollar', 'rate': 36.5686, 'units': 1, 'rate_per_unit': 36.5686, 'group': '1', 'calcdate': '09.01.2023'}, {'exchangedate': '09.01.2023', 'r030': 840, 'cc': 'USD', 'txt': 'Долар США', 'enname': 'US Dollar', 'rate': 36.5686, 'units': 1, 'rate_per_unit': 36.5686, 'group': '1', 'calcdate': '06.01.2023'}, {'exchangedate': '08.01.2023', 'r030': 840, 'cc': 'USD', 'txt': 'Долар США', 'enname': 'US Dollar', 'rate': 36.5686, 'units': 1, 'rate_per_unit': 36.5686, 'group': '1', 'calcdate': '05.01.2023'}, {'exchangedate': '07.01.2023', 'r030': 840, 'cc': 'USD', 'txt': 'Долар США', 'enname': 'US Dollar', 'rate': 36.5686, 'units': 1, 'rate_per_unit': 36.5686, 'group': '1', 'calcdate': '05.01.2023'}, {'exchangedate': '06.01.2023', 'r030': 840, 'cc': 'USD', 'txt': 'Долар США', 'enname': 'US Dollar', 'rate': 36.5686, 'units': 1, 'rate_per_unit': 36.5686, 'group': '1', 'calcdate': '05.01.2023'}, {'exchangedate': '05.01.2023', 'r030': 840, 'cc': 'USD', 'txt': 'Долар США', 'enname': 'US Dollar', 'rate': 36.5686, 'units': 1, 'rate_per_unit': 36.5686, 'group': '1', 'calcdate': '04.01.2023'}, {'exchangedate': '04.01.2023', 'r030': 840, 'cc': 'USD', 'txt': 'Долар США', 'enname': 'US Dollar', 'rate': 36.5686, 'units': 1, 'rate_per_unit': 36.5686, 'group': '1', 'calcdate': '03.01.2023'}, {'exchangedate': '03.01.2023', 'r030': 840, 'cc': 'USD', 'txt': 'Долар США', 'enname': 'US Dollar', 'rate': 36.5686, 'units': 1, 'rate_per_unit': 36.5686, 'group': '1', 'calcdate': '02.01.2023'}, {'exchangedate': '02.01.2023', 'r030': 840, 'cc': 'USD', 'txt': 'Долар США', 'enname': 'US Dollar', 'rate': 36.5686, 'units': 1, 'rate_per_unit': 36.5686, 'group': '1', 'calcdate': '30.12.2022'}, {'exchangedate': '01.01.2023', 'r030': 840, 'cc': 'USD', 'txt': 'Долар США', 'enname': 'US Dollar', 'rate': 36.5686, 'units': 1, 'rate_per_unit': 36.5686, 'group': '1', 'calcdate': '29.12.2022'}, {'exchangedate': '31.12.2022', 'r030': 840, 'cc': 'USD', 'txt': 'Долар США', 'enname': 'US Dollar', 'rate': 36.5686, 'units': 1, 'rate_per_unit': 36.5686, 'group': '1', 'calcdate': '29.12.2022'}, {'exchangedate': '30.12.2022', 'r030': 840, 'cc': 'USD', 'txt': 'Долар США', 'enname': 'US Dollar', 'rate': 36.5686, 'units': 1, 'rate_per_unit': 36.5686, 'group': '1', 'calcdate': '29.12.2022'}, {'exchangedate': '29.12.2022', 'r030': 840, 'cc': 'USD', 'txt': 'Долар США', 'enname': 'US Dollar', 'rate': 36.5686, 'units': 1, 'rate_per_unit': 36.5686, 'group': '1', 'calcdate': '28.12.2022'}, {'exchangedate': '28.12.2022', 'r030': 840, 'cc': 'USD', 'txt': 'Долар США', 'enname': 'US Dollar', 'rate': 36.5686, 'units': 1, 'rate_per_unit': 36.5686, 'group': '1', 'calcdate': '27.12.2022'}, {'exchangedate': '27.12.2022', 'r030': 840, 'cc': 'USD', 'txt': 'Долар США', 'enname': 'US Dollar', 'rate': 36.5686, 'units': 1, 'rate_per_unit': 36.5686, 'group': '1', 'calcdate': '26.12.2022'}, {'exchangedate': '26.12.2022', 'r030': 840, 'cc': 'USD', 'txt': 'Долар США', 'enname': 'US Dollar', 'rate': 36.5686, 'units': 1, 'rate_per_unit': 36.5686, 'group': '1', 'calcdate': '23.12.2022'}, {'exchangedate': '25.12.2022', 'r030': 840, 'cc': 'USD', 'txt': 'Долар США', 'enname': 'US Dollar', 'rate': 36.5686, 'units': 1, 'rate_per_unit': 36.5686, 'group': '1', 'calcdate': '22.12.2022'}, {'exchangedate': '24.12.2022', 'r030': 840, 'cc': 'USD', 'txt': 'Долар США', 'enname': 'US Dollar', 'rate': 36.5686, 'units': 1, 'rate_per_unit': 36.5686, 'group': '1', 'calcdate': '22.12.2022'}, {'exchangedate': '23.12.2022', 'r030': 840, 'cc': 'USD', 'txt': 'Долар США', 'enname': 'US Dollar', 'rate': 36.5686, 'units': 1, 'rate_per_unit': 36.5686, 'group': '1', 'calcdate': '22.12.2022'}, {'exchangedate': '22.12.2022', 'r030': 840, 'cc': 'USD', 'txt': 'Долар США', 'enname': 'US Dollar', 'rate': 36.5686, 'units': 1, 'rate_per_unit': 36.5686, 'group': '1', 'calcdate': '21.12.2022'}, {'exchangedate': '21.12.2022', 'r030': 840, 'cc': 'USD', 'txt': 'Долар США', 'enname': 'US Dollar', 'rate': 36.5686, 'units': 1, 'rate_per_unit': 36.5686, 'group': '1', 'calcdate': '20.12.2022'}, {'exchangedate': '20.12.2022', 'r030': 840, 'cc': 'USD', 'txt': 'Долар США', 'enname': 'US Dollar', 'rate': 36.5686, 'units': 1, 'rate_per_unit': 36.5686, 'group': '1', 'calcdate': '19.12.2022'}, {'exchangedate': '19.12.2022', 'r030': 840, 'cc': 'USD', 'txt': 'Долар США', 'enname': 'US Dollar', 'rate': 36.5686, 'units': 1, 'rate_per_unit': 36.5686, 'group': '1', 'calcdate': '16.12.2022'}, {'exchangedate': '18.12.2022', 'r030': 840, 'cc': 'USD', 'txt': 'Долар США', 'enname': 'US Dollar', 'rate': 36.5686, 'units': 1, 'rate_per_unit': 36.5686, 'group': '1', 'calcdate': '15.12.2022'}, {'exchangedate': '17.12.2022', 'r030': 840, 'cc': 'USD', 'txt': 'Долар США', 'enname': 'US Dollar', 'rate': 36.5686, 'units': 1, 'rate_per_unit': 36.5686, 'group': '1', 'calcdate': '15.12.2022'}, {'exchangedate': '16.12.2022', 'r030': 840, 'cc': 'USD', 'txt': 'Долар США', 'enname': 'US Dollar', 'rate': 36.5686, 'units': 1, 'rate_per_unit': 36.5686, 'group': '1', 'calcdate': '15.12.2022'}, {'exchangedate': '15.12.2022', 'r030': 840, 'cc': 'USD', 'txt': 'Долар США', 'enname': 'US Dollar', 'rate': 36.5686, 'units': 1, 'rate_per_unit': 36.5686, 'group': '1', 'calcdate': '14.12.2022'}, {'exchangedate': '14.12.2022', 'r030': 840, 'cc': 'USD', 'txt': 'Долар США', 'enname': 'US Dollar', 'rate': 36.5686, 'units': 1, 'rate_per_unit': 36.5686, 'group': '1', 'calcdate': '13.12.2022'}, {'exchangedate': '13.12.2022', 'r030': 840, 'cc': 'USD', 'txt': 'Долар США', 'enname': 'US Dollar', 'rate': 36.5686, 'units': 1, 'rate_per_unit': 36.5686, 'group': '1', 'calcdate': '12.12.2022'}, {'exchangedate': '12.12.2022', 'r030': 840, 'cc': 'USD', 'txt': 'Долар США', 'enname': 'US Dollar', 'rate': 36.5686, 'units': 1, 'rate_per_unit': 36.5686, 'group': '1', 'calcdate': '09.12.2022'}, {'exchangedate': '11.12.2022', 'r030': 840, 'cc': 'USD', 'txt': 'Долар США', 'enname': 'US Dollar', 'rate': 36.5686, 'units': 1, 'rate_per_unit': 36.5686, 'group': '1', 'calcdate': '08.12.2022'}, {'exchangedate': '10.12.2022', 'r030': 840, 'cc': 'USD', 'txt': 'Долар США', 'enname': 'US Dollar', 'rate': 36.5686, 'units': 1, 'rate_per_unit': 36.5686, 'group': '1', 'calcdate': '08.12.2022'}, {'exchangedate': '09.12.2022', 'r030': 840, 'cc': 'USD', 'txt': 'Долар США', 'enname': 'US Dollar', 'rate': 36.5686, 'units': 1, 'rate_per_unit': 36.5686, 'group': '1', 'calcdate': '08.12.2022'}, {'exchangedate': '08.12.2022', 'r030': 840, 'cc': 'USD', 'txt': 'Долар США', 'enname': 'US Dollar', 'rate': 36.5686, 'units': 1, 'rate_per_unit': 36.5686, 'group': '1', 'calcdate': '07.12.2022'}, {'exchangedate': '07.12.2022', 'r030': 840, 'cc': 'USD', 'txt': 'Долар США', 'enname': 'US Dollar', 'rate': 36.5686, 'units': 1, 'rate_per_unit': 36.5686, 'group': '1', 'calcdate': '06.12.2022'}, {'exchangedate': '06.12.2022', 'r030': 840, 'cc': 'USD', 'txt': 'Долар США', 'enname': 'US Dollar', 'rate': 36.5686, 'units': 1, 'rate_per_unit': 36.5686, 'group': '1', 'calcdate': '05.12.2022'}, {'exchangedate': '05.12.2022', 'r030': 840, 'cc': 'USD', 'txt': 'Долар США', 'enname': 'US Dollar', 'rate': 36.5686, 'units': 1, 'rate_per_unit': 36.5686, 'group': '1', 'calcdate': '02.12.2022'}, {'exchangedate': '04.12.2022', 'r030': 840, 'cc': 'USD', 'txt': 'Долар США', 'enname': 'US Dollar', 'rate': 36.5686, 'units': 1, 'rate_per_unit': 36.5686, 'group': '1', 'calcdate': '01.12.2022'}, {'exchangedate': '03.12.2022', 'r030': 840, 'cc': 'USD', 'txt': 'Долар США', 'enname': 'US Dollar', 'rate': 36.5686, 'units': 1, 'rate_per_unit': 36.5686, 'group': '1', 'calcdate': '01.12.2022'}, {'exchangedate': '02.12.2022', 'r030': 840, 'cc': 'USD', 'txt': 'Долар США', 'enname': 'US Dollar', 'rate': 36.5686, 'units': 1, 'rate_per_unit': 36.5686, 'group': '1', 'calcdate': '01.12.2022'}, {'exchangedate': '01.12.2022', 'r030': 840, 'cc': 'USD', 'txt': 'Долар США', 'enname': 'US Dollar', 'rate': 36.5686, 'units': 1, 'rate_per_unit': 36.5686, 'group': '1', 'calcdate': '30.11.2022'}, {'exchangedate': '30.11.2022', 'r030': 840, 'cc': 'USD', 'txt': 'Долар США', 'enname': 'US Dollar', 'rate': 36.5686, 'units': 1, 'rate_per_unit': 36.5686, 'group': '1', 'calcdate': '29.11.2022'}, {'exchangedate': '29.11.2022', 'r030': 840, 'cc': 'USD', 'txt': 'Долар США', 'enname': 'US Dollar', 'rate': 36.5686, 'units': 1, 'rate_per_unit': 36.5686, 'group': '1', 'calcdate': '28.11.2022'}, {'exchangedate': '28.11.2022', 'r030': 840, 'cc': 'USD', 'txt': 'Долар США', 'enname': 'US Dollar', 'rate': 36.5686, 'units': 1, 'rate_per_unit': 36.5686, 'group': '1', 'calcdate': '25.11.2022'}, {'exchangedate': '27.11.2022', 'r030': 840, 'cc': 'USD', 'txt': 'Долар США', 'enname': 'US Dollar', 'rate': 36.5686, 'units': 1, 'rate_per_unit': 36.5686, 'group': '1', 'calcdate': '24.11.2022'}, {'exchangedate': '26.11.2022', 'r030': 840, 'cc': 'USD', 'txt': 'Долар США', 'enname': 'US Dollar', 'rate': 36.5686, 'units': 1, 'rate_per_unit': 36.5686, 'group': '1', 'calcdate': '24.11.2022'}, {'exchangedate': '25.11.2022', 'r030': 840, 'cc': 'USD', 'txt': 'Долар США', 'enname': 'US Dollar', 'rate': 36.5686, 'units': 1, 'rate_per_unit': 36.5686, 'group': '1', 'calcdate': '24.11.2022'}, {'exchangedate': '24.11.2022', 'r030': 840, 'cc': 'USD', 'txt': 'Долар США', 'enname': 'US Dollar', 'rate': 36.5686, 'units': 1, 'rate_per_unit': 36.5686, 'group': '1', 'calcdate': '23.11.2022'}, {'exchangedate': '23.11.2022', 'r030': 840, 'cc': 'USD', 'txt': 'Долар США', 'enname': 'US Dollar', 'rate': 36.5686, 'units': 1, 'rate_per_unit': 36.5686, 'group': '1', 'calcdate': '22.11.2022'}, {'exchangedate': '22.11.2022', 'r030': 840, 'cc': 'USD', 'txt': 'Долар США', 'enname': 'US Dollar', 'rate': 36.5686, 'units': 1, 'rate_per_unit': 36.5686, 'group': '1', 'calcdate': '21.11.2022'}, {'exchangedate': '21.11.2022', 'r030': 840, 'cc': 'USD', 'txt': 'Долар США', 'enname': 'US Dollar', 'rate': 36.5686, 'units': 1, 'rate_per_unit': 36.5686, 'group': '1', 'calcdate': '18.11.2022'}, {'exchangedate': '20.11.2022', 'r030': 840, 'cc': 'USD', 'txt': 'Долар США', 'enname': 'US Dollar', 'rate': 36.5686, 'units': 1, 'rate_per_unit': 36.5686, 'group': '1', 'calcdate': '17.11.2022'}, {'exchangedate': '19.11.2022', 'r030': 840, 'cc': 'USD', 'txt': 'Долар США', 'enname': 'US Dollar', 'rate': 36.5686, 'units': 1, 'rate_per_unit': 36.5686, 'group': '1', 'calcdate': '17.11.2022'}, {'exchangedate': '18.11.2022', 'r030': 840, 'cc': 'USD', 'txt': 'Долар США', 'enname': 'US Dollar', 'rate': 36.5686, 'units': 1, 'rate_per_unit': 36.5686, 'group': '1', 'calcdate': '17.11.2022'}, {'exchangedate': '17.11.2022', 'r030': 840, 'cc': 'USD', 'txt': 'Долар США', 'enname': 'US Dollar', 'rate': 36.5686, 'units': 1, 'rate_per_unit': 36.5686, 'group': '1', 'calcdate': '16.11.2022'}, {'exchangedate': '16.11.2022', 'r030': 840, 'cc': 'USD', 'txt': 'Долар США', 'enname': 'US Dollar', 'rate': 36.5686, 'units': 1, 'rate_per_unit': 36.5686, 'group': '1', 'calcdate': '15.11.2022'}, {'exchangedate': '15.11.2022', 'r030': 840, 'cc': 'USD', 'txt': 'Долар США', 'enname': 'US Dollar', 'rate': 36.5686, 'units': 1, 'rate_per_unit': 36.5686, 'group': '1', 'calcdate': '14.11.2022'}, {'exchangedate': '14.11.2022', 'r030': 840, 'cc': 'USD', 'txt': 'Долар США', 'enname': 'US Dollar', 'rate': 36.5686, 'units': 1, 'rate_per_unit': 36.5686, 'group': '1', 'calcdate': '11.11.2022'}, {'exchangedate': '13.11.2022', 'r030': 840, 'cc': 'USD', 'txt': 'Долар США', 'enname': 'US Dollar', 'rate': 36.5686, 'units': 1, 'rate_per_unit': 36.5686, 'group': '1', 'calcdate': '10.11.2022'}, {'exchangedate': '12.11.2022', 'r030': 840, 'cc': 'USD', 'txt': 'Долар США', 'enname': 'US Dollar', 'rate': 36.5686, 'units': 1, 'rate_per_unit': 36.5686, 'group': '1', 'calcdate': '10.11.2022'}, {'exchangedate': '11.11.2022', 'r030': 840, 'cc': 'USD', 'txt': 'Долар США', 'enname': 'US Dollar', 'rate': 36.5686, 'units': 1, 'rate_per_unit': 36.5686, 'group': '1', 'calcdate': '10.11.2022'}, {'exchangedate': '10.11.2022', 'r030': 840, 'cc': 'USD', 'txt': 'Долар США', 'enname': 'US Dollar', 'rate': 36.5686, 'units': 1, 'rate_per_unit': 36.5686, 'group': '1', 'calcdate': '09.11.2022'}, {'exchangedate': '09.11.2022', 'r030': 840, 'cc': 'USD', 'txt': 'Долар США', 'enname': 'US Dollar', 'rate': 36.5686, 'units': 1, 'rate_per_unit': 36.5686, 'group': '1', 'calcdate': '08.11.2022'}, {'exchangedate': '08.11.2022', 'r030': 840, 'cc': 'USD', 'txt': 'Долар США', 'enname': 'US Dollar', 'rate': 36.5686, 'units': 1, 'rate_per_unit': 36.5686, 'group': '1', 'calcdate': '07.11.2022'}, {'exchangedate': '07.11.2022', 'r030': 840, 'cc': 'USD', 'txt': 'Долар США', 'enname': 'US Dollar', 'rate': 36.5686, 'units': 1, 'rate_per_unit': 36.5686, 'group': '1', 'calcdate': '04.11.2022'}, {'exchangedate': '06.11.2022', 'r030': 840, 'cc': 'USD', 'txt': 'Долар США', 'enname': 'US Dollar', 'rate': 36.5686, 'units': 1, 'rate_per_unit': 36.5686, 'group': '1', 'calcdate': '03.11.2022'}, {'exchangedate': '05.11.2022', 'r030': 840, 'cc': 'USD', 'txt': 'Долар США', 'enname': 'US Dollar', 'rate': 36.5686, 'units': 1, 'rate_per_unit': 36.5686, 'group': '1', 'calcdate': '03.11.2022'}, {'exchangedate': '04.11.2022', 'r030': 840, 'cc': 'USD', 'txt': 'Долар США', 'enname': 'US Dollar', 'rate': 36.5686, 'units': 1, 'rate_per_unit': 36.5686, 'group': '1', 'calcdate': '03.11.2022'}, {'exchangedate': '03.11.2022', 'r030': 840, 'cc': 'USD', 'txt': 'Долар США', 'enname': 'US Dollar', 'rate': 36.5686, 'units': 1, 'rate_per_unit': 36.5686, 'group': '1', 'calcdate': '02.11.2022'}, {'exchangedate': '02.11.2022', 'r030': 840, 'cc': 'USD', 'txt': 'Долар США', 'enname': 'US Dollar', 'rate': 36.5686, 'units': 1, 'rate_per_unit': 36.5686, 'group': '1', 'calcdate': '01.11.2022'}, {'exchangedate': '01.11.2022', 'r030': 840, 'cc': 'USD', 'txt': 'Долар США', 'enname': 'US Dollar', 'rate': 36.5686, 'units': 1, 'rate_per_unit': 36.5686, 'group': '1', 'calcdate': '31.10.2022'}, {'exchangedate': '31.10.2022', 'r030': 840, 'cc': 'USD', 'txt': 'Долар США', 'enname': 'US Dollar', 'rate': 36.5686, 'units': 1, 'rate_per_unit': 36.5686, 'group': '1', 'calcdate': '28.10.2022'}, {'exchangedate': '30.10.2022', 'r030': 840, 'cc': 'USD', 'txt': 'Долар США', 'enname': 'US Dollar', 'rate': 36.5686, 'units': 1, 'rate_per_unit': 36.5686, 'group': '1', 'calcdate': '27.10.2022'}, {'exchangedate': '29.10.2022', 'r030': 840, 'cc': 'USD', 'txt': 'Долар США', 'enname': 'US Dollar', 'rate': 36.5686, 'units': 1, 'rate_per_unit': 36.5686, 'group': '1', 'calcdate': '27.10.2022'}, {'exchangedate': '28.10.2022', 'r030': 840, 'cc': 'USD', 'txt': 'Долар США', 'enname': 'US Dollar', 'rate': 36.5686, 'units': 1, 'rate_per_unit': 36.5686, 'group': '1', 'calcdate': '27.10.2022'}, {'exchangedate': '27.10.2022', 'r030': 840, 'cc': 'USD', 'txt': 'Долар США', 'enname': 'US Dollar', 'rate': 36.5686, 'units': 1, 'rate_per_unit': 36.5686, 'group': '1', 'calcdate': '26.10.2022'}, {'exchangedate': '26.10.2022', 'r030': 840, 'cc': 'USD', 'txt': 'Долар США', 'enname': 'US Dollar', 'rate': 36.5686, 'units': 1, 'rate_per_unit': 36.5686, 'group': '1', 'calcdate': '25.10.2022'}, {'exchangedate': '25.10.2022', 'r030': 840, 'cc': 'USD', 'txt': 'Долар США', 'enname': 'US Dollar', 'rate': 36.5686, 'units': 1, 'rate_per_unit': 36.5686, 'group': '1', 'calcdate': '24.10.2022'}, {'exchangedate': '24.10.2022', 'r030': 840, 'cc': 'USD', 'txt': 'Долар США', 'enname': 'US Dollar', 'rate': 36.5686, 'units': 1, 'rate_per_unit': 36.5686, 'group': '1', 'calcdate': '21.10.2022'}, {'exchangedate': '23.10.2022', 'r030': 840, 'cc': 'USD', 'txt': 'Долар США', 'enname': 'US Dollar', 'rate': 36.5686, 'units': 1, 'rate_per_unit': 36.5686, 'group': '1', 'calcdate': '20.10.2022'}, {'exchangedate': '22.10.2022', 'r030': 840, 'cc': 'USD', 'txt': 'Долар США', 'enname': 'US Dollar', 'rate': 36.5686, 'units': 1, 'rate_per_unit': 36.5686, 'group': '1', 'calcdate': '20.10.2022'}, {'exchangedate': '21.10.2022', 'r030': 840, 'cc': 'USD', 'txt': 'Долар США', 'enname': 'US Dollar', 'rate': 36.5686, 'units': 1, 'rate_per_unit': 36.5686, 'group': '1', 'calcdate': '20.10.2022'}, {'exchangedate': '20.10.2022', 'r030': 840, 'cc': 'USD', 'txt': 'Долар США', 'enname': 'US Dollar', 'rate': 36.5686, 'units': 1, 'rate_per_unit': 36.5686, 'group': '1', 'calcdate': '19.10.2022'}, {'exchangedate': '19.10.2022', 'r030': 840, 'cc': 'USD', 'txt': 'Долар США', 'enname': 'US Dollar', 'rate': 36.5686, 'units': 1, 'rate_per_unit': 36.5686, 'group': '1', 'calcdate': '18.10.2022'}, {'exchangedate': '18.10.2022', 'r030': 840, 'cc': 'USD', 'txt': 'Долар США', 'enname': 'US Dollar', 'rate': 36.5686, 'units': 1, 'rate_per_unit': 36.5686, 'group': '1', 'calcdate': '17.10.2022'}, {'exchangedate': '17.10.2022', 'r030': 840, 'cc': 'USD', 'txt': 'Долар США', 'enname': 'US Dollar', 'rate': 36.5686, 'units': 1, 'rate_per_unit': 36.5686, 'group': '1', 'calcdate': '14.10.2022'}, {'exchangedate': '16.10.2022', 'r030': 840, 'cc': 'USD', 'txt': 'Долар США', 'enname': 'US Dollar', 'rate': 36.5686, 'units': 1, 'rate_per_unit': 36.5686, 'group': '1', 'calcdate': '13.10.2022'}, {'exchangedate': '15.10.2022', 'r030': 840, 'cc': 'USD', 'txt': 'Долар США', 'enname': 'US Dollar', 'rate': 36.5686, 'units': 1, 'rate_per_unit': 36.5686, 'group': '1', 'calcdate': '13.10.2022'}, {'exchangedate': '14.10.2022', 'r030': 840, 'cc': 'USD', 'txt': 'Долар США', 'enname': 'US Dollar', 'rate': 36.5686, 'units': 1, 'rate_per_unit': 36.5686, 'group': '1', 'calcdate': '13.10.2022'}, {'exchangedate': '13.10.2022', 'r030': 840, 'cc': 'USD', 'txt': 'Долар США', 'enname': 'US Dollar', 'rate': 36.5686, 'units': 1, 'rate_per_unit': 36.5686, 'group': '1', 'calcdate': '12.10.2022'}, {'exchangedate': '12.10.2022', 'r030': 840, 'cc': 'USD', 'txt': 'Долар США', 'enname': 'US Dollar', 'rate': 36.5686, 'units': 1, 'rate_per_unit': 36.5686, 'group': '1', 'calcdate': '11.10.2022'}, {'exchangedate': '11.10.2022', 'r030': 840, 'cc': 'USD', 'txt': 'Долар США', 'enname': 'US Dollar', 'rate': 36.5686, 'units': 1, 'rate_per_unit': 36.5686, 'group': '1', 'calcdate': '10.10.2022'}, {'exchangedate': '10.10.2022', 'r030': 840, 'cc': 'USD', 'txt': 'Долар США', 'enname': 'US Dollar', 'rate': 36.5686, 'units': 1, 'rate_per_unit': 36.5686, 'group': '1', 'calcdate': '07.10.2022'}, {'exchangedate': '09.10.2022', 'r030': 840, 'cc': 'USD', 'txt': 'Долар США', 'enname': 'US Dollar', 'rate': 36.5686, 'units': 1, 'rate_per_unit': 36.5686, 'group': '1', 'calcdate': '06.10.2022'}, {'exchangedate': '08.10.2022', 'r030': 840, 'cc': 'USD', 'txt': 'Долар США', 'enname': 'US Dollar', 'rate': 36.5686, 'units': 1, 'rate_per_unit': 36.5686, 'group': '1', 'calcdate': '06.10.2022'}, {'exchangedate': '07.10.2022', 'r030': 840, 'cc': 'USD', 'txt': 'Долар США', 'enname': 'US Dollar', 'rate': 36.5686, 'units': 1, 'rate_per_unit': 36.5686, 'group': '1', 'calcdate': '06.10.2022'}, {'exchangedate': '06.10.2022', 'r030': 840, 'cc': 'USD', 'txt': 'Долар США', 'enname': 'US Dollar', 'rate': 36.5686, 'units': 1, 'rate_per_unit': 36.5686, 'group': '1', 'calcdate': '05.10.2022'}, {'exchangedate': '05.10.2022', 'r030': 840, 'cc': 'USD', 'txt': 'Долар США', 'enname': 'US Dollar', 'rate': 36.5686, 'units': 1, 'rate_per_unit': 36.5686, 'group': '1', 'calcdate': '04.10.2022'}, {'exchangedate': '04.10.2022', 'r030': 840, 'cc': 'USD', 'txt': 'Долар США', 'enname': 'US Dollar', 'rate': 36.5686, 'units': 1, 'rate_per_unit': 36.5686, 'group': '1', 'calcdate': '03.10.2022'}, {'exchangedate': '03.10.2022', 'r030': 840, 'cc': 'USD', 'txt': 'Долар США', 'enname': 'US Dollar', 'rate': 36.5686, 'units': 1, 'rate_per_unit': 36.5686, 'group': '1', 'calcdate': '30.09.2022'}, {'exchangedate': '02.10.2022', 'r030': 840, 'cc': 'USD', 'txt': 'Долар США', 'enname': 'US Dollar', 'rate': 36.5686, 'units': 1, 'rate_per_unit': 36.5686, 'group': '1', 'calcdate': '29.09.2022'}, {'exchangedate': '01.10.2022', 'r030': 840, 'cc': 'USD', 'txt': 'Долар США', 'enname': 'US Dollar', 'rate': 36.5686, 'units': 1, 'rate_per_unit': 36.5686, 'group': '1', 'calcdate': '29.09.2022'}, {'exchangedate': '30.09.2022', 'r030': 840, 'cc': 'USD', 'txt': 'Долар США', 'enname': 'US Dollar', 'rate': 36.5686, 'units': 1, 'rate_per_unit': 36.5686, 'group': '1', 'calcdate': '29.09.2022'}, {'exchangedate': '29.09.2022', 'r030': 840, 'cc': 'USD', 'txt': 'Долар США', 'enname': 'US Dollar', 'rate': 36.5686, 'units': 1, 'rate_per_unit': 36.5686, 'group': '1', 'calcdate': '28.09.2022'}, {'exchangedate': '28.09.2022', 'r030': 840, 'cc': 'USD', 'txt': 'Долар США', 'enname': 'US Dollar', 'rate': 36.5686, 'units': 1, 'rate_per_unit': 36.5686, 'group': '1', 'calcdate': '27.09.2022'}, {'exchangedate': '27.09.2022', 'r030': 840, 'cc': 'USD', 'txt': 'Долар США', 'enname': 'US Dollar', 'rate': 36.5686, 'units': 1, 'rate_per_unit': 36.5686, 'group': '1', 'calcdate': '26.09.2022'}, {'exchangedate': '26.09.2022', 'r030': 840, 'cc': 'USD', 'txt': 'Долар США', 'enname': 'US Dollar', 'rate': 36.5686, 'units': 1, 'rate_per_unit': 36.5686, 'group': '1', 'calcdate': '23.09.2022'}, {'exchangedate': '25.09.2022', 'r030': 840, 'cc': 'USD', 'txt': 'Долар США', 'enname': 'US Dollar', 'rate': 36.5686, 'units': 1, 'rate_per_unit': 36.5686, 'group': '1', 'calcdate': '22.09.2022'}, {'exchangedate': '24.09.2022', 'r030': 840, 'cc': 'USD', 'txt': 'Долар США', 'enname': 'US Dollar', 'rate': 36.5686, 'units': 1, 'rate_per_unit': 36.5686, 'group': '1', 'calcdate': '22.09.2022'}, {'exchangedate': '23.09.2022', 'r030': 840, 'cc': 'USD', 'txt': 'Долар США', 'enname': 'US Dollar', 'rate': 36.5686, 'units': 1, 'rate_per_unit': 36.5686, 'group': '1', 'calcdate': '22.09.2022'}, {'exchangedate': '22.09.2022', 'r030': 840, 'cc': 'USD', 'txt': 'Долар США', 'enname': 'US Dollar', 'rate': 36.5686, 'units': 1, 'rate_per_unit': 36.5686, 'group': '1', 'calcdate': '21.09.2022'}, {'exchangedate': '21.09.2022', 'r030': 840, 'cc': 'USD', 'txt': 'Долар США', 'enname': 'US Dollar', 'rate': 36.5686, 'units': 1, 'rate_per_unit': 36.5686, 'group': '1', 'calcdate': '20.09.2022'}, {'exchangedate': '20.09.2022', 'r030': 840, 'cc': 'USD', 'txt': 'Долар США', 'enname': 'US Dollar', 'rate': 36.5686, 'units': 1, 'rate_per_unit': 36.5686, 'group': '1', 'calcdate': '19.09.2022'}, {'exchangedate': '19.09.2022', 'r030': 840, 'cc': 'USD', 'txt': 'Долар США', 'enname': 'US Dollar', 'rate': 36.5686, 'units': 1, 'rate_per_unit': 36.5686, 'group': '1', 'calcdate': '16.09.2022'}, {'exchangedate': '18.09.2022', 'r030': 840, 'cc': 'USD', 'txt': 'Долар США', 'enname': 'US Dollar', 'rate': 36.5686, 'units': 1, 'rate_per_unit': 36.5686, 'group': '1', 'calcdate': '15.09.2022'}, {'exchangedate': '17.09.2022', 'r030': 840, 'cc': 'USD', 'txt': 'Долар США', 'enname': 'US Dollar', 'rate': 36.5686, 'units': 1, 'rate_per_unit': 36.5686, 'group': '1', 'calcdate': '15.09.2022'}, {'exchangedate': '16.09.2022', 'r030': 840, 'cc': 'USD', 'txt': 'Долар США', 'enname': 'US Dollar', 'rate': 36.5686, 'units': 1, 'rate_per_unit': 36.5686, 'group': '1', 'calcdate': '15.09.2022'}, {'exchangedate': '15.09.2022', 'r030': 840, 'cc': 'USD', 'txt': 'Долар США', 'enname': 'US Dollar', 'rate': 36.5686, 'units': 1, 'rate_per_unit': 36.5686, 'group': '1', 'calcdate': '14.09.2022'}, {'exchangedate': '14.09.2022', 'r030': 840, 'cc': 'USD', 'txt': 'Долар США', 'enname': 'US Dollar', 'rate': 36.5686, 'units': 1, 'rate_per_unit': 36.5686, 'group': '1', 'calcdate': '13.09.2022'}, {'exchangedate': '13.09.2022', 'r030': 840, 'cc': 'USD', 'txt': 'Долар США', 'enname': 'US Dollar', 'rate': 36.5686, 'units': 1, 'rate_per_unit': 36.5686, 'group': '1', 'calcdate': '12.09.2022'}, {'exchangedate': '12.09.2022', 'r030': 840, 'cc': 'USD', 'txt': 'Долар США', 'enname': 'US Dollar', 'rate': 36.5686, 'units': 1, 'rate_per_unit': 36.5686, 'group': '1', 'calcdate': '09.09.2022'}, {'exchangedate': '11.09.2022', 'r030': 840, 'cc': 'USD', 'txt': 'Долар США', 'enname': 'US Dollar', 'rate': 36.5686, 'units': 1, 'rate_per_unit': 36.5686, 'group': '1', 'calcdate': '08.09.2022'}, {'exchangedate': '10.09.2022', 'r030': 840, 'cc': 'USD', 'txt': 'Долар США', 'enname': 'US Dollar', 'rate': 36.5686, 'units': 1, 'rate_per_unit': 36.5686, 'group': '1', 'calcdate': '08.09.2022'}, {'exchangedate': '09.09.2022', 'r030': 840, 'cc': 'USD', 'txt': 'Долар США', 'enname': 'US Dollar', 'rate': 36.5686, 'units': 1, 'rate_per_unit': 36.5686, 'group': '1', 'calcdate': '08.09.2022'}, {'exchangedate': '08.09.2022', 'r030': 840, 'cc': 'USD', 'txt': 'Долар США', 'enname': 'US Dollar', 'rate': 36.5686, 'units': 1, 'rate_per_unit': 36.5686, 'group': '1', 'calcdate': '07.09.2022'}, {'exchangedate': '07.09.2022', 'r030': 840, 'cc': 'USD', 'txt': 'Долар США', 'enname': 'US Dollar', 'rate': 36.5686, 'units': 1, 'rate_per_unit': 36.5686, 'group': '1', 'calcdate': '06.09.2022'}, {'exchangedate': '06.09.2022', 'r030': 840, 'cc': 'USD', 'txt': 'Долар США', 'enname': 'US Dollar', 'rate': 36.5686, 'units': 1, 'rate_per_unit': 36.5686, 'group': '1', 'calcdate': '05.09.2022'}, {'exchangedate': '05.09.2022', 'r030': 840, 'cc': 'USD', 'txt': 'Долар США', 'enname': 'US Dollar', 'rate': 36.5686, 'units': 1, 'rate_per_unit': 36.5686, 'group': '1', 'calcdate': '02.09.2022'}, {'exchangedate': '04.09.2022', 'r030': 840, 'cc': 'USD', 'txt': 'Долар США', 'enname': 'US Dollar', 'rate': 36.5686, 'units': 1, 'rate_per_unit': 36.5686, 'group': '1', 'calcdate': '01.09.2022'}, {'exchangedate': '03.09.2022', 'r030': 840, 'cc': 'USD', 'txt': 'Долар США', 'enname': 'US Dollar', 'rate': 36.5686, 'units': 1, 'rate_per_unit': 36.5686, 'group': '1', 'calcdate': '01.09.2022'}, {'exchangedate': '02.09.2022', 'r030': 840, 'cc': 'USD', 'txt': 'Долар США', 'enname': 'US Dollar', 'rate': 36.5686, 'units': 1, 'rate_per_unit': 36.5686, 'group': '1', 'calcdate': '01.09.2022'}, {'exchangedate': '01.09.2022', 'r030': 840, 'cc': 'USD', 'txt': 'Долар США', 'enname': 'US Dollar', 'rate': 36.5686, 'units': 1, 'rate_per_unit': 36.5686, 'group': '1', 'calcdate': '31.08.2022'}, {'exchangedate': '31.08.2022', 'r030': 840, 'cc': 'USD', 'txt': 'Долар США', 'enname': 'US Dollar', 'rate': 36.5686, 'units': 1, 'rate_per_unit': 36.5686, 'group': '1', 'calcdate': '30.08.2022'}, {'exchangedate': '30.08.2022', 'r030': 840, 'cc': 'USD', 'txt': 'Долар США', 'enname': 'US Dollar', 'rate': 36.5686, 'units': 1, 'rate_per_unit': 36.5686, 'group': '1', 'calcdate': '29.08.2022'}, {'exchangedate': '29.08.2022', 'r030': 840, 'cc': 'USD', 'txt': 'Долар США', 'enname': 'US Dollar', 'rate': 36.5686, 'units': 1, 'rate_per_unit': 36.5686, 'group': '1', 'calcdate': '26.08.2022'}, {'exchangedate': '28.08.2022', 'r030': 840, 'cc': 'USD', 'txt': 'Долар США', 'enname': 'US Dollar', 'rate': 36.5686, 'units': 1, 'rate_per_unit': 36.5686, 'group': '1', 'calcdate': '25.08.2022'}, {'exchangedate': '27.08.2022', 'r030': 840, 'cc': 'USD', 'txt': 'Долар США', 'enname': 'US Dollar', 'rate': 36.5686, 'units': 1, 'rate_per_unit': 36.5686, 'group': '1', 'calcdate': '25.08.2022'}, {'exchangedate': '26.08.2022', 'r030': 840, 'cc': 'USD', 'txt': 'Долар США', 'enname': 'US Dollar', 'rate': 36.5686, 'units': 1, 'rate_per_unit': 36.5686, 'group': '1', 'calcdate': '25.08.2022'}, {'exchangedate': '25.08.2022', 'r030': 840, 'cc': 'USD', 'txt': 'Долар США', 'enname': 'US Dollar', 'rate': 36.5686, 'units': 1, 'rate_per_unit': 36.5686, 'group': '1', 'calcdate': '24.08.2022'}, {'exchangedate': '24.08.2022', 'r030': 840, 'cc': 'USD', 'txt': 'Долар США', 'enname': 'US Dollar', 'rate': 36.5686, 'units': 1, 'rate_per_unit': 36.5686, 'group': '1', 'calcdate': '23.08.2022'}, {'exchangedate': '23.08.2022', 'r030': 840, 'cc': 'USD', 'txt': 'Долар США', 'enname': 'US Dollar', 'rate': 36.5686, 'units': 1, 'rate_per_unit': 36.5686, 'group': '1', 'calcdate': '22.08.2022'}, {'exchangedate': '22.08.2022', 'r030': 840, 'cc': 'USD', 'txt': 'Долар США', 'enname': 'US Dollar', 'rate': 36.5686, 'units': 1, 'rate_per_unit': 36.5686, 'group': '1', 'calcdate': '19.08.2022'}, {'exchangedate': '21.08.2022', 'r030': 840, 'cc': 'USD', 'txt': 'Долар США', 'enname': 'US Dollar', 'rate': 36.5686, 'units': 1, 'rate_per_unit': 36.5686, 'group': '1', 'calcdate': '18.08.2022'}, {'exchangedate': '20.08.2022', 'r030': 840, 'cc': 'USD', 'txt': 'Долар США', 'enname': 'US Dollar', 'rate': 36.5686, 'units': 1, 'rate_per_unit': 36.5686, 'group': '1', 'calcdate': '18.08.2022'}, {'exchangedate': '19.08.2022', 'r030': 840, 'cc': 'USD', 'txt': 'Долар США', 'enname': 'US Dollar', 'rate': 36.5686, 'units': 1, 'rate_per_unit': 36.5686, 'group': '1', 'calcdate': '18.08.2022'}, {'exchangedate': '18.08.2022', 'r030': 840, 'cc': 'USD', 'txt': 'Долар США', 'enname': 'US Dollar', 'rate': 36.5686, 'units': 1, 'rate_per_unit': 36.5686, 'group': '1', 'calcdate': '17.08.2022'}, {'exchangedate': '17.08.2022', 'r030': 840, 'cc': 'USD', 'txt': 'Долар США', 'enname': 'US Dollar', 'rate': 36.5686, 'units': 1, 'rate_per_unit': 36.5686, 'group': '1', 'calcdate': '16.08.2022'}, {'exchangedate': '16.08.2022', 'r030': 840, 'cc': 'USD', 'txt': 'Долар США', 'enname': 'US Dollar', 'rate': 36.5686, 'units': 1, 'rate_per_unit': 36.5686, 'group': '1', 'calcdate': '15.08.2022'}, {'exchangedate': '15.08.2022', 'r030': 840, 'cc': 'USD', 'txt': 'Долар США', 'enname': 'US Dollar', 'rate': 36.5686, 'units': 1, 'rate_per_unit': 36.5686, 'group': '1', 'calcdate': '12.08.2022'}, {'exchangedate': '14.08.2022', 'r030': 840, 'cc': 'USD', 'txt': 'Долар США', 'enname': 'US Dollar', 'rate': 36.5686, 'units': 1, 'rate_per_unit': 36.5686, 'group': '1', 'calcdate': '11.08.2022'}, {'exchangedate': '13.08.2022', 'r030': 840, 'cc': 'USD', 'txt': 'Долар США', 'enname': 'US Dollar', 'rate': 36.5686, 'units': 1, 'rate_per_unit': 36.5686, 'group': '1', 'calcdate': '11.08.2022'}, {'exchangedate': '12.08.2022', 'r030': 840, 'cc': 'USD', 'txt': 'Долар США', 'enname': 'US Dollar', 'rate': 36.5686, 'units': 1, 'rate_per_unit': 36.5686, 'group': '1', 'calcdate': '11.08.2022'}, {'exchangedate': '11.08.2022', 'r030': 840, 'cc': 'USD', 'txt': 'Долар США', 'enname': 'US Dollar', 'rate': 36.5686, 'units': 1, 'rate_per_unit': 36.5686, 'group': '1', 'calcdate': '10.08.2022'}, {'exchangedate': '10.08.2022', 'r030': 840, 'cc': 'USD', 'txt': 'Долар США', 'enname': 'US Dollar', 'rate': 36.5686, 'units': 1, 'rate_per_unit': 36.5686, 'group': '1', 'calcdate': '09.08.2022'}, {'exchangedate': '09.08.2022', 'r030': 840, 'cc': 'USD', 'txt': 'Долар США', 'enname': 'US Dollar', 'rate': 36.5686, 'units': 1, 'rate_per_unit': 36.5686, 'group': '1', 'calcdate': '08.08.2022'}, {'exchangedate': '08.08.2022', 'r030': 840, 'cc': 'USD', 'txt': 'Долар США', 'enname': 'US Dollar', 'rate': 36.5686, 'units': 1, 'rate_per_unit': 36.5686, 'group': '1', 'calcdate': '05.08.2022'}, {'exchangedate': '07.08.2022', 'r030': 840, 'cc': 'USD', 'txt': 'Долар США', 'enname': 'US Dollar', 'rate': 36.5686, 'units': 1, 'rate_per_unit': 36.5686, 'group': '1', 'calcdate': '04.08.2022'}, {'exchangedate': '06.08.2022', 'r030': 840, 'cc': 'USD', 'txt': 'Долар США', 'enname': 'US Dollar', 'rate': 36.5686, 'units': 1, 'rate_per_unit': 36.5686, 'group': '1', 'calcdate': '04.08.2022'}, {'exchangedate': '05.08.2022', 'r030': 840, 'cc': 'USD', 'txt': 'Долар США', 'enname': 'US Dollar', 'rate': 36.5686, 'units': 1, 'rate_per_unit': 36.5686, 'group': '1', 'calcdate': '04.08.2022'}, {'exchangedate': '04.08.2022', 'r030': 840, 'cc': 'USD', 'txt': 'Долар США', 'enname': 'US Dollar', 'rate': 36.5686, 'units': 1, 'rate_per_unit': 36.5686, 'group': '1', 'calcdate': '03.08.2022'}, {'exchangedate': '03.08.2022', 'r030': 840, 'cc': 'USD', 'txt': 'Долар США', 'enname': 'US Dollar', 'rate': 36.5686, 'units': 1, 'rate_per_unit': 36.5686, 'group': '1', 'calcdate': '02.08.2022'}, {'exchangedate': '02.08.2022', 'r030': 840, 'cc': 'USD', 'txt': 'Долар США', 'enname': 'US Dollar', 'rate': 36.5686, 'units': 1, 'rate_per_unit': 36.5686, 'group': '1', 'calcdate': '01.08.2022'}, {'exchangedate': '01.08.2022', 'r030': 840, 'cc': 'USD', 'txt': 'Долар США', 'enname': 'US Dollar', 'rate': 36.5686, 'units': 1, 'rate_per_unit': 36.5686, 'group': '1', 'calcdate': '29.07.2022'}, {'exchangedate': '31.07.2022', 'r030': 840, 'cc': 'USD', 'txt': 'Долар США', 'enname': 'US Dollar', 'rate': 36.5686, 'units': 1, 'rate_per_unit': 36.5686, 'group': '1', 'calcdate': '28.07.2022'}, {'exchangedate': '30.07.2022', 'r030': 840, 'cc': 'USD', 'txt': 'Долар США', 'enname': 'US Dollar', 'rate': 36.5686, 'units': 1, 'rate_per_unit': 36.5686, 'group': '1', 'calcdate': '28.07.2022'}, {'exchangedate': '29.07.2022', 'r030': 840, 'cc': 'USD', 'txt': 'Долар США', 'enname': 'US Dollar', 'rate': 36.5686, 'units': 1, 'rate_per_unit': 36.5686, 'group': '1', 'calcdate': '28.07.2022'}, {'exchangedate': '28.07.2022', 'r030': 840, 'cc': 'USD', 'txt': 'Долар США', 'enname': 'US Dollar', 'rate': 36.5686, 'units': 1, 'rate_per_unit': 36.5686, 'group': '1', 'calcdate': '27.07.2022'}, {'exchangedate': '27.07.2022', 'r030': 840, 'cc': 'USD', 'txt': 'Долар США', 'enname': 'US Dollar', 'rate': 36.5686, 'units': 1, 'rate_per_unit': 36.5686, 'group': '1', 'calcdate': '26.07.2022'}, {'exchangedate': '26.07.2022', 'r030': 840, 'cc': 'USD', 'txt': 'Долар США', 'enname': 'US Dollar', 'rate': 36.5686, 'units': 1, 'rate_per_unit': 36.5686, 'group': '1', 'calcdate': '25.07.2022'}, {'exchangedate': '25.07.2022', 'r030': 840, 'cc': 'USD', 'txt': 'Долар США', 'enname': 'US Dollar', 'rate': 36.5686, 'units': 1, 'rate_per_unit': 36.5686, 'group': '1', 'calcdate': '22.07.2022'}, {'exchangedate': '24.07.2022', 'r030': 840, 'cc': 'USD', 'txt': 'Долар США', 'enname': 'US Dollar', 'rate': 36.5686, 'units': 1, 'rate_per_unit': 36.5686, 'group': '1', 'calcdate': '21.07.2022'}, {'exchangedate': '23.07.2022', 'r030': 840, 'cc': 'USD', 'txt': 'Долар США', 'enname': 'US Dollar', 'rate': 36.5686, 'units': 1, 'rate_per_unit': 36.5686, 'group': '1', 'calcdate': '21.07.2022'}, {'exchangedate': '22.07.2022', 'r030': 840, 'cc': 'USD', 'txt': 'Долар США', 'enname': 'US Dollar', 'rate': 36.5686, 'units': 1, 'rate_per_unit': 36.5686, 'group': '1', 'calcdate': '21.07.2022'}, {'exchangedate': '21.07.2022', 'r030': 840, 'cc': 'USD', 'txt': 'Долар США', 'enname': 'US Dollar', 'rate': 36.5686, 'units': 1, 'rate_per_unit': 36.5686, 'group': '1', 'calcdate': '20.07.2022'}, {'exchangedate': '20.07.2022', 'r030': 840, 'cc': 'USD', 'txt': 'Долар США', 'enname': 'US Dollar', 'rate': 29.2549, 'units': 1, 'rate_per_unit': 29.2549, 'group': '1', 'calcdate': '19.07.2022'}, {'exchangedate': '19.07.2022', 'r030': 840, 'cc': 'USD', 'txt': 'Долар США', 'enname': 'US Dollar', 'rate': 29.2549, 'units': 1, 'rate_per_unit': 29.2549, 'group': '1', 'calcdate': '18.07.2022'}, {'exchangedate': '18.07.2022', 'r030': 840, 'cc': 'USD', 'txt': 'Долар США', 'enname': 'US Dollar', 'rate': 29.2549, 'units': 1, 'rate_per_unit': 29.2549, 'group': '1', 'calcdate': '15.07.2022'}, {'exchangedate': '17.07.2022', 'r030': 840, 'cc': 'USD', 'txt': 'Долар США', 'enname': 'US Dollar', 'rate': 29.2549, 'units': 1, 'rate_per_unit': 29.2549, 'group': '1', 'calcdate': '14.07.2022'}, {'exchangedate': '16.07.2022', 'r030': 840, 'cc': 'USD', 'txt': 'Долар США', 'enname': 'US Dollar', 'rate': 29.2549, 'units': 1, 'rate_per_unit': 29.2549, 'group': '1', 'calcdate': '14.07.2022'}, {'exchangedate': '15.07.2022', 'r030': 840, 'cc': 'USD', 'txt': 'Долар США', 'enname': 'US Dollar', 'rate': 29.2549, 'units': 1, 'rate_per_unit': 29.2549, 'group': '1', 'calcdate': '14.07.2022'}, {'exchangedate': '14.07.2022', 'r030': 840, 'cc': 'USD', 'txt': 'Долар США', 'enname': 'US Dollar', 'rate': 29.2549, 'units': 1, 'rate_per_unit': 29.2549, 'group': '1', 'calcdate': '13.07.2022'}, {'exchangedate': '13.07.2022', 'r030': 840, 'cc': 'USD', 'txt': 'Долар США', 'enname': 'US Dollar', 'rate': 29.2549, 'units': 1, 'rate_per_unit': 29.2549, 'group': '1', 'calcdate': '12.07.2022'}, {'exchangedate': '12.07.2022', 'r030': 840, 'cc': 'USD', 'txt': 'Долар США', 'enname': 'US Dollar', 'rate': 29.2549, 'units': 1, 'rate_per_unit': 29.2549, 'group': '1', 'calcdate': '11.07.2022'}, {'exchangedate': '11.07.2022', 'r030': 840, 'cc': 'USD', 'txt': 'Долар США', 'enname': 'US Dollar', 'rate': 29.2549, 'units': 1, 'rate_per_unit': 29.2549, 'group': '1', 'calcdate': '08.07.2022'}, {'exchangedate': '10.07.2022', 'r030': 840, 'cc': 'USD', 'txt': 'Долар США', 'enname': 'US Dollar', 'rate': 29.2549, 'units': 1, 'rate_per_unit': 29.2549, 'group': '1', 'calcdate': '07.07.2022'}, {'exchangedate': '09.07.2022', 'r030': 840, 'cc': 'USD', 'txt': 'Долар США', 'enname': 'US Dollar', 'rate': 29.2549, 'units': 1, 'rate_per_unit': 29.2549, 'group': '1', 'calcdate': '07.07.2022'}, {'exchangedate': '08.07.2022', 'r030': 840, 'cc': 'USD', 'txt': 'Долар США', 'enname': 'US Dollar', 'rate': 29.2549, 'units': 1, 'rate_per_unit': 29.2549, 'group': '1', 'calcdate': '07.07.2022'}, {'exchangedate': '07.07.2022', 'r030': 840, 'cc': 'USD', 'txt': 'Долар США', 'enname': 'US Dollar', 'rate': 29.2549, 'units': 1, 'rate_per_unit': 29.2549, 'group': '1', 'calcdate': '06.07.2022'}, {'exchangedate': '06.07.2022', 'r030': 840, 'cc': 'USD', 'txt': 'Долар США', 'enname': 'US Dollar', 'rate': 29.2549, 'units': 1, 'rate_per_unit': 29.2549, 'group': '1', 'calcdate': '05.07.2022'}, {'exchangedate': '05.07.2022', 'r030': 840, 'cc': 'USD', 'txt': 'Долар США', 'enname': 'US Dollar', 'rate': 29.2549, 'units': 1, 'rate_per_unit': 29.2549, 'group': '1', 'calcdate': '04.07.2022'}, {'exchangedate': '04.07.2022', 'r030': 840, 'cc': 'USD', 'txt': 'Долар США', 'enname': 'US Dollar', 'rate': 29.2549, 'units': 1, 'rate_per_unit': 29.2549, 'group': '1', 'calcdate': '01.07.2022'}, {'exchangedate': '03.07.2022', 'r030': 840, 'cc': 'USD', 'txt': 'Долар США', 'enname': 'US Dollar', 'rate': 29.2549, 'units': 1, 'rate_per_unit': 29.2549, 'group': '1', 'calcdate': '30.06.2022'}, {'exchangedate': '02.07.2022', 'r030': 840, 'cc': 'USD', 'txt': 'Долар США', 'enname': 'US Dollar', 'rate': 29.2549, 'units': 1, 'rate_per_unit': 29.2549, 'group': '1', 'calcdate': '30.06.2022'}, {'exchangedate': '01.07.2022', 'r030': 840, 'cc': 'USD', 'txt': 'Долар США', 'enname': 'US Dollar', 'rate': 29.2549, 'units': 1, 'rate_per_unit': 29.2549, 'group': '1', 'calcdate': '30.06.2022'}, {'exchangedate': '30.06.2022', 'r030': 840, 'cc': 'USD', 'txt': 'Долар США', 'enname': 'US Dollar', 'rate': 29.2549, 'units': 1, 'rate_per_unit': 29.2549, 'group': '1', 'calcdate': '29.06.2022'}, {'exchangedate': '29.06.2022', 'r030': 840, 'cc': 'USD', 'txt': 'Долар США', 'enname': 'US Dollar', 'rate': 29.2549, 'units': 1, 'rate_per_unit': 29.2549, 'group': '1', 'calcdate': '28.06.2022'}, {'exchangedate': '28.06.2022', 'r030': 840, 'cc': 'USD', 'txt': 'Долар США', 'enname': 'US Dollar', 'rate': 29.2549, 'units': 1, 'rate_per_unit': 29.2549, 'group': '1', 'calcdate': '27.06.2022'}, {'exchangedate': '27.06.2022', 'r030': 840, 'cc': 'USD', 'txt': 'Долар США', 'enname': 'US Dollar', 'rate': 29.2549, 'units': 1, 'rate_per_unit': 29.2549, 'group': '1', 'calcdate': '24.06.2022'}, {'exchangedate': '26.06.2022', 'r030': 840, 'cc': 'USD', 'txt': 'Долар США', 'enname': 'US Dollar', 'rate': 29.2549, 'units': 1, 'rate_per_unit': 29.2549, 'group': '1', 'calcdate': '23.06.2022'}, {'exchangedate': '25.06.2022', 'r030': 840, 'cc': 'USD', 'txt': 'Долар США', 'enname': 'US Dollar', 'rate': 29.2549, 'units': 1, 'rate_per_unit': 29.2549, 'group': '1', 'calcdate': '23.06.2022'}, {'exchangedate': '24.06.2022', 'r030': 840, 'cc': 'USD', 'txt': 'Долар США', 'enname': 'US Dollar', 'rate': 29.2549, 'units': 1, 'rate_per_unit': 29.2549, 'group': '1', 'calcdate': '23.06.2022'}, {'exchangedate': '23.06.2022', 'r030': 840, 'cc': 'USD', 'txt': 'Долар США', 'enname': 'US Dollar', 'rate': 29.2549, 'units': 1, 'rate_per_unit': 29.2549, 'group': '1', 'calcdate': '22.06.2022'}, {'exchangedate': '22.06.2022', 'r030': 840, 'cc': 'USD', 'txt': 'Долар США', 'enname': 'US Dollar', 'rate': 29.2549, 'units': 1, 'rate_per_unit': 29.2549, 'group': '1', 'calcdate': '21.06.2022'}, {'exchangedate': '21.06.2022', 'r030': 840, 'cc': 'USD', 'txt': 'Долар США', 'enname': 'US Dollar', 'rate': 29.2549, 'units': 1, 'rate_per_unit': 29.2549, 'group': '1', 'calcdate': '20.06.2022'}, {'exchangedate': '20.06.2022', 'r030': 840, 'cc': 'USD', 'txt': 'Долар США', 'enname': 'US Dollar', 'rate': 29.2549, 'units': 1, 'rate_per_unit': 29.2549, 'group': '1', 'calcdate': '17.06.2022'}, {'exchangedate': '19.06.2022', 'r030': 840, 'cc': 'USD', 'txt': 'Долар США', 'enname': 'US Dollar', 'rate': 29.2549, 'units': 1, 'rate_per_unit': 29.2549, 'group': '1', 'calcdate': '16.06.2022'}, {'exchangedate': '18.06.2022', 'r030': 840, 'cc': 'USD', 'txt': 'Долар США', 'enname': 'US Dollar', 'rate': 29.2549, 'units': 1, 'rate_per_unit': 29.2549, 'group': '1', 'calcdate': '16.06.2022'}, {'exchangedate': '17.06.2022', 'r030': 840, 'cc': 'USD', 'txt': 'Долар США', 'enname': 'US Dollar', 'rate': 29.2549, 'units': 1, 'rate_per_unit': 29.2549, 'group': '1', 'calcdate': '16.06.2022'}, {'exchangedate': '16.06.2022', 'r030': 840, 'cc': 'USD', 'txt': 'Долар США', 'enname': 'US Dollar', 'rate': 29.2549, 'units': 1, 'rate_per_unit': 29.2549, 'group': '1', 'calcdate': '15.06.2022'}, {'exchangedate': '15.06.2022', 'r030': 840, 'cc': 'USD', 'txt': 'Долар США', 'enname': 'US Dollar', 'rate': 29.2549, 'units': 1, 'rate_per_unit': 29.2549, 'group': '1', 'calcdate': '14.06.2022'}, {'exchangedate': '14.06.2022', 'r030': 840, 'cc': 'USD', 'txt': 'Долар США', 'enname': 'US Dollar', 'rate': 29.2549, 'units': 1, 'rate_per_unit': 29.2549, 'group': '1', 'calcdate': '13.06.2022'}, {'exchangedate': '13.06.2022', 'r030': 840, 'cc': 'USD', 'txt': 'Долар США', 'enname': 'US Dollar', 'rate': 29.2549, 'units': 1, 'rate_per_unit': 29.2549, 'group': '1', 'calcdate': '10.06.2022'}, {'exchangedate': '12.06.2022', 'r030': 840, 'cc': 'USD', 'txt': 'Долар США', 'enname': 'US Dollar', 'rate': 29.2549, 'units': 1, 'rate_per_unit': 29.2549, 'group': '1', 'calcdate': '09.06.2022'}, {'exchangedate': '11.06.2022', 'r030': 840, 'cc': 'USD', 'txt': 'Долар США', 'enname': 'US Dollar', 'rate': 29.2549, 'units': 1, 'rate_per_unit': 29.2549, 'group': '1', 'calcdate': '09.06.2022'}, {'exchangedate': '10.06.2022', 'r030': 840, 'cc': 'USD', 'txt': 'Долар США', 'enname': 'US Dollar', 'rate': 29.2549, 'units': 1, 'rate_per_unit': 29.2549, 'group': '1', 'calcdate': '09.06.2022'}, {'exchangedate': '09.06.2022', 'r030': 840, 'cc': 'USD', 'txt': 'Долар США', 'enname': 'US Dollar', 'rate': 29.2549, 'units': 1, 'rate_per_unit': 29.2549, 'group': '1', 'calcdate': '08.06.2022'}, {'exchangedate': '08.06.2022', 'r030': 840, 'cc': 'USD', 'txt': 'Долар США', 'enname': 'US Dollar', 'rate': 29.2549, 'units': 1, 'rate_per_unit': 29.2549, 'group': '1', 'calcdate': '07.06.2022'}, {'exchangedate': '07.06.2022', 'r030': 840, 'cc': 'USD', 'txt': 'Долар США', 'enname': 'US Dollar', 'rate': 29.2549, 'units': 1, 'rate_per_unit': 29.2549, 'group': '1', 'calcdate': '06.06.2022'}, {'exchangedate': '06.06.2022', 'r030': 840, 'cc': 'USD', 'txt': 'Долар США', 'enname': 'US Dollar', 'rate': 29.2549, 'units': 1, 'rate_per_unit': 29.2549, 'group': '1', 'calcdate': '03.06.2022'}, {'exchangedate': '05.06.2022', 'r030': 840, 'cc': 'USD', 'txt': 'Долар США', 'enname': 'US Dollar', 'rate': 29.2549, 'units': 1, 'rate_per_unit': 29.2549, 'group': '1', 'calcdate': '02.06.2022'}, {'exchangedate': '04.06.2022', 'r030': 840, 'cc': 'USD', 'txt': 'Долар США', 'enname': 'US Dollar', 'rate': 29.2549, 'units': 1, 'rate_per_unit': 29.2549, 'group': '1', 'calcdate': '02.06.2022'}, {'exchangedate': '03.06.2022', 'r030': 840, 'cc': 'USD', 'txt': 'Долар США', 'enname': 'US Dollar', 'rate': 29.2549, 'units': 1, 'rate_per_unit': 29.2549, 'group': '1', 'calcdate': '02.06.2022'}, {'exchangedate': '02.06.2022', 'r030': 840, 'cc': 'USD', 'txt': 'Долар США', 'enname': 'US Dollar', 'rate': 29.2549, 'units': 1, 'rate_per_unit': 29.2549, 'group': '1', 'calcdate': '01.06.2022'}, {'exchangedate': '01.06.2022', 'r030': 840, 'cc': 'USD', 'txt': 'Долар США', 'enname': 'US Dollar', 'rate': 29.2549, 'units': 1, 'rate_per_unit': 29.2549, 'group': '1', 'calcdate': '31.05.2022'}, {'exchangedate': '31.05.2022', 'r030': 840, 'cc': 'USD', 'txt': 'Долар США', 'enname': 'US Dollar', 'rate': 29.2549, 'units': 1, 'rate_per_unit': 29.2549, 'group': '1', 'calcdate': '30.05.2022'}, {'exchangedate': '30.05.2022', 'r030': 840, 'cc': 'USD', 'txt': 'Долар США', 'enname': 'US Dollar', 'rate': 29.2549, 'units': 1, 'rate_per_unit': 29.2549, 'group': '1', 'calcdate': '27.05.2022'}, {'exchangedate': '29.05.2022', 'r030': 840, 'cc': 'USD', 'txt': 'Долар США', 'enname': 'US Dollar', 'rate': 29.2549, 'units': 1, 'rate_per_unit': 29.2549, 'group': '1', 'calcdate': '26.05.2022'}, {'exchangedate': '28.05.2022', 'r030': 840, 'cc': 'USD', 'txt': 'Долар США', 'enname': 'US Dollar', 'rate': 29.2549, 'units': 1, 'rate_per_unit': 29.2549, 'group': '1', 'calcdate': '26.05.2022'}, {'exchangedate': '27.05.2022', 'r030': 840, 'cc': 'USD', 'txt': 'Долар США', 'enname': 'US Dollar', 'rate': 29.2549, 'units': 1, 'rate_per_unit': 29.2549, 'group': '1', 'calcdate': '26.05.2022'}, {'exchangedate': '26.05.2022', 'r030': 840, 'cc': 'USD', 'txt': 'Долар США', 'enname': 'US Dollar', 'rate': 29.2549, 'units': 1, 'rate_per_unit': 29.2549, 'group': '1', 'calcdate': '25.05.2022'}, {'exchangedate': '25.05.2022', 'r030': 840, 'cc': 'USD', 'txt': 'Долар США', 'enname': 'US Dollar', 'rate': 29.2549, 'units': 1, 'rate_per_unit': 29.2549, 'group': '1', 'calcdate': '24.05.2022'}, {'exchangedate': '24.05.2022', 'r030': 840, 'cc': 'USD', 'txt': 'Долар США', 'enname': 'US Dollar', 'rate': 29.2549, 'units': 1, 'rate_per_unit': 29.2549, 'group': '1', 'calcdate': '23.05.2022'}, {'exchangedate': '23.05.2022', 'r030': 840, 'cc': 'USD', 'txt': 'Долар США', 'enname': 'US Dollar', 'rate': 29.2549, 'units': 1, 'rate_per_unit': 29.2549, 'group': '1', 'calcdate': '20.05.2022'}, {'exchangedate': '22.05.2022', 'r030': 840, 'cc': 'USD', 'txt': 'Долар США', 'enname': 'US Dollar', 'rate': 29.2549, 'units': 1, 'rate_per_unit': 29.2549, 'group': '1', 'calcdate': '19.05.2022'}, {'exchangedate': '21.05.2022', 'r030': 840, 'cc': 'USD', 'txt': 'Долар США', 'enname': 'US Dollar', 'rate': 29.2549, 'units': 1, 'rate_per_unit': 29.2549, 'group': '1', 'calcdate': '19.05.2022'}, {'exchangedate': '20.05.2022', 'r030': 840, 'cc': 'USD', 'txt': 'Долар США', 'enname': 'US Dollar', 'rate': 29.2549, 'units': 1, 'rate_per_unit': 29.2549, 'group': '1', 'calcdate': '19.05.2022'}, {'exchangedate': '19.05.2022', 'r030': 840, 'cc': 'USD', 'txt': 'Долар США', 'enname': 'US Dollar', 'rate': 29.2549, 'units': 1, 'rate_per_unit': 29.2549, 'group': '1', 'calcdate': '18.05.2022'}, {'exchangedate': '18.05.2022', 'r030': 840, 'cc': 'USD', 'txt': 'Долар США', 'enname': 'US Dollar', 'rate': 29.2549, 'units': 1, 'rate_per_unit': 29.2549, 'group': '1', 'calcdate': '17.05.2022'}, {'exchangedate': '17.05.2022', 'r030': 840, 'cc': 'USD', 'txt': 'Долар США', 'enname': 'US Dollar', 'rate': 29.2549, 'units': 1, 'rate_per_unit': 29.2549, 'group': '1', 'calcdate': '16.05.2022'}, {'exchangedate': '16.05.2022', 'r030': 840, 'cc': 'USD', 'txt': 'Долар США', 'enname': 'US Dollar', 'rate': 29.2549, 'units': 1, 'rate_per_unit': 29.2549, 'group': '1', 'calcdate': '13.05.2022'}, {'exchangedate': '15.05.2022', 'r030': 840, 'cc': 'USD', 'txt': 'Долар США', 'enname': 'US Dollar', 'rate': 29.2549, 'units': 1, 'rate_per_unit': 29.2549, 'group': '1', 'calcdate': '12.05.2022'}, {'exchangedate': '14.05.2022', 'r030': 840, 'cc': 'USD', 'txt': 'Долар США', 'enname': 'US Dollar', 'rate': 29.2549, 'units': 1, 'rate_per_unit': 29.2549, 'group': '1', 'calcdate': '12.05.2022'}, {'exchangedate': '13.05.2022', 'r030': 840, 'cc': 'USD', 'txt': 'Долар США', 'enname': 'US Dollar', 'rate': 29.2549, 'units': 1, 'rate_per_unit': 29.2549, 'group': '1', 'calcdate': '12.05.2022'}, {'exchangedate': '12.05.2022', 'r030': 840, 'cc': 'USD', 'txt': 'Долар США', 'enname': 'US Dollar', 'rate': 29.2549, 'units': 1, 'rate_per_unit': 29.2549, 'group': '1', 'calcdate': '11.05.2022'}, {'exchangedate': '11.05.2022', 'r030': 840, 'cc': 'USD', 'txt': 'Долар США', 'enname': 'US Dollar', 'rate': 29.2549, 'units': 1, 'rate_per_unit': 29.2549, 'group': '1', 'calcdate': '10.05.2022'}, {'exchangedate': '10.05.2022', 'r030': 840, 'cc': 'USD', 'txt': 'Долар США', 'enname': 'US Dollar', 'rate': 29.2549, 'units': 1, 'rate_per_unit': 29.2549, 'group': '1', 'calcdate': '09.05.2022'}, {'exchangedate': '09.05.2022', 'r030': 840, 'cc': 'USD', 'txt': 'Долар США', 'enname': 'US Dollar', 'rate': 29.2549, 'units': 1, 'rate_per_unit': 29.2549, 'group': '1', 'calcdate': '06.05.2022'}, {'exchangedate': '08.05.2022', 'r030': 840, 'cc': 'USD', 'txt': 'Долар США', 'enname': 'US Dollar', 'rate': 29.2549, 'units': 1, 'rate_per_unit': 29.2549, 'group': '1', 'calcdate': '05.05.2022'}, {'exchangedate': '07.05.2022', 'r030': 840, 'cc': 'USD', 'txt': 'Долар США', 'enname': 'US Dollar', 'rate': 29.2549, 'units': 1, 'rate_per_unit': 29.2549, 'group': '1', 'calcdate': '05.05.2022'}, {'exchangedate': '06.05.2022', 'r030': 840, 'cc': 'USD', 'txt': 'Долар США', 'enname': 'US Dollar', 'rate': 29.2549, 'units': 1, 'rate_per_unit': 29.2549, 'group': '1', 'calcdate': '05.05.2022'}, {'exchangedate': '05.05.2022', 'r030': 840, 'cc': 'USD', 'txt': 'Долар США', 'enname': 'US Dollar', 'rate': 29.2549, 'units': 1, 'rate_per_unit': 29.2549, 'group': '1', 'calcdate': '04.05.2022'}, {'exchangedate': '04.05.2022', 'r030': 840, 'cc': 'USD', 'txt': 'Долар США', 'enname': 'US Dollar', 'rate': 29.2549, 'units': 1, 'rate_per_unit': 29.2549, 'group': '1', 'calcdate': '03.05.2022'}, {'exchangedate': '03.05.2022', 'r030': 840, 'cc': 'USD', 'txt': 'Долар США', 'enname': 'US Dollar', 'rate': 29.2549, 'units': 1, 'rate_per_unit': 29.2549, 'group': '1', 'calcdate': '02.05.2022'}, {'exchangedate': '02.05.2022', 'r030': 840, 'cc': 'USD', 'txt': 'Долар США', 'enname': 'US Dollar', 'rate': 29.2549, 'units': 1, 'rate_per_unit': 29.2549, 'group': '1', 'calcdate': '29.04.2022'}, {'exchangedate': '01.05.2022', 'r030': 840, 'cc': 'USD', 'txt': 'Долар США', 'enname': 'US Dollar', 'rate': 29.2549, 'units': 1, 'rate_per_unit': 29.2549, 'group': '1', 'calcdate': '28.04.2022'}, {'exchangedate': '30.04.2022', 'r030': 840, 'cc': 'USD', 'txt': 'Долар США', 'enname': 'US Dollar', 'rate': 29.2549, 'units': 1, 'rate_per_unit': 29.2549, 'group': '1', 'calcdate': '28.04.2022'}, {'exchangedate': '29.04.2022', 'r030': 840, 'cc': 'USD', 'txt': 'Долар США', 'enname': 'US Dollar', 'rate': 29.2549, 'units': 1, 'rate_per_unit': 29.2549, 'group': '1', 'calcdate': '28.04.2022'}, {'exchangedate': '28.04.2022', 'r030': 840, 'cc': 'USD', 'txt': 'Долар США', 'enname': 'US Dollar', 'rate': 29.2549, 'units': 1, 'rate_per_unit': 29.2549, 'group': '1', 'calcdate': '27.04.2022'}, {'exchangedate': '27.04.2022', 'r030': 840, 'cc': 'USD', 'txt': 'Долар США', 'enname': 'US Dollar', 'rate': 29.2549, 'units': 1, 'rate_per_unit': 29.2549, 'group': '1', 'calcdate': '26.04.2022'}, {'exchangedate': '26.04.2022', 'r030': 840, 'cc': 'USD', 'txt': 'Долар США', 'enname': 'US Dollar', 'rate': 29.2549, 'units': 1, 'rate_per_unit': 29.2549, 'group': '1', 'calcdate': '25.04.2022'}, {'exchangedate': '25.04.2022', 'r030': 840, 'cc': 'USD', 'txt': 'Долар США', 'enname': 'US Dollar', 'rate': 29.2549, 'units': 1, 'rate_per_unit': 29.2549, 'group': '1', 'calcdate': '22.04.2022'}, {'exchangedate': '24.04.2022', 'r030': 840, 'cc': 'USD', 'txt': 'Долар США', 'enname': 'US Dollar', 'rate': 29.2549, 'units': 1, 'rate_per_unit': 29.2549, 'group': '1', 'calcdate': '21.04.2022'}, {'exchangedate': '23.04.2022', 'r030': 840, 'cc': 'USD', 'txt': 'Долар США', 'enname': 'US Dollar', 'rate': 29.2549, 'units': 1, 'rate_per_unit': 29.2549, 'group': '1', 'calcdate': '21.04.2022'}, {'exchangedate': '22.04.2022', 'r030': 840, 'cc': 'USD', 'txt': 'Долар США', 'enname': 'US Dollar', 'rate': 29.2549, 'units': 1, 'rate_per_unit': 29.2549, 'group': '1', 'calcdate': '21.04.2022'}, {'exchangedate': '21.04.2022', 'r030': 840, 'cc': 'USD', 'txt': 'Долар США', 'enname': 'US Dollar', 'rate': 29.2549, 'units': 1, 'rate_per_unit': 29.2549, 'group': '1', 'calcdate': '20.04.2022'}, {'exchangedate': '20.04.2022', 'r030': 840, 'cc': 'USD', 'txt': 'Долар США', 'enname': 'US Dollar', 'rate': 29.2549, 'units': 1, 'rate_per_unit': 29.2549, 'group': '1', 'calcdate': '19.04.2022'}, {'exchangedate': '19.04.2022', 'r030': 840, 'cc': 'USD', 'txt': 'Долар США', 'enname': 'US Dollar', 'rate': 29.2549, 'units': 1, 'rate_per_unit': 29.2549, 'group': '1', 'calcdate': '18.04.2022'}, {'exchangedate': '18.04.2022', 'r030': 840, 'cc': 'USD', 'txt': 'Долар США', 'enname': 'US Dollar', 'rate': 29.2549, 'units': 1, 'rate_per_unit': 29.2549, 'group': '1', 'calcdate': '15.04.2022'}, {'exchangedate': '17.04.2022', 'r030': 840, 'cc': 'USD', 'txt': 'Долар США', 'enname': 'US Dollar', 'rate': 29.2549, 'units': 1, 'rate_per_unit': 29.2549, 'group': '1', 'calcdate': '14.04.2022'}, {'exchangedate': '16.04.2022', 'r030': 840, 'cc': 'USD', 'txt': 'Долар США', 'enname': 'US Dollar', 'rate': 29.2549, 'units': 1, 'rate_per_unit': 29.2549, 'group': '1', 'calcdate': '14.04.2022'}, {'exchangedate': '15.04.2022', 'r030': 840, 'cc': 'USD', 'txt': 'Долар США', 'enname': 'US Dollar', 'rate': 29.2549, 'units': 1, 'rate_per_unit': 29.2549, 'group': '1', 'calcdate': '14.04.2022'}, {'exchangedate': '14.04.2022', 'r030': 840, 'cc': 'USD', 'txt': 'Долар США', 'enname': 'US Dollar', 'rate': 29.2549, 'units': 1, 'rate_per_unit': 29.2549, 'group': '1', 'calcdate': '13.04.2022'}, {'exchangedate': '13.04.2022', 'r030': 840, 'cc': 'USD', 'txt': 'Долар США', 'enname': 'US Dollar', 'rate': 29.2549, 'units': 1, 'rate_per_unit': 29.2549, 'group': '1', 'calcdate': '12.04.2022'}, {'exchangedate': '12.04.2022', 'r030': 840, 'cc': 'USD', 'txt': 'Долар США', 'enname': 'US Dollar', 'rate': 29.2549, 'units': 1, 'rate_per_unit': 29.2549, 'group': '1', 'calcdate': '11.04.2022'}, {'exchangedate': '11.04.2022', 'r030': 840, 'cc': 'USD', 'txt': 'Долар США', 'enname': 'US Dollar', 'rate': 29.2549, 'units': 1, 'rate_per_unit': 29.2549, 'group': '1', 'calcdate': '08.04.2022'}, {'exchangedate': '10.04.2022', 'r030': 840, 'cc': 'USD', 'txt': 'Долар США', 'enname': 'US Dollar', 'rate': 29.2549, 'units': 1, 'rate_per_unit': 29.2549, 'group': '1', 'calcdate': '07.04.2022'}, {'exchangedate': '09.04.2022', 'r030': 840, 'cc': 'USD', 'txt': 'Долар США', 'enname': 'US Dollar', 'rate': 29.2549, 'units': 1, 'rate_per_unit': 29.2549, 'group': '1', 'calcdate': '07.04.2022'}, {'exchangedate': '08.04.2022', 'r030': 840, 'cc': 'USD', 'txt': 'Долар США', 'enname': 'US Dollar', 'rate': 29.2549, 'units': 1, 'rate_per_unit': 29.2549, 'group': '1', 'calcdate': '07.04.2022'}, {'exchangedate': '07.04.2022', 'r030': 840, 'cc': 'USD', 'txt': 'Долар США', 'enname': 'US Dollar', 'rate': 29.2549, 'units': 1, 'rate_per_unit': 29.2549, 'group': '1', 'calcdate': '06.04.2022'}, {'exchangedate': '06.04.2022', 'r030': 840, 'cc': 'USD', 'txt': 'Долар США', 'enname': 'US Dollar', 'rate': 29.2549, 'units': 1, 'rate_per_unit': 29.2549, 'group': '1', 'calcdate': '05.04.2022'}, {'exchangedate': '05.04.2022', 'r030': 840, 'cc': 'USD', 'txt': 'Долар США', 'enname': 'US Dollar', 'rate': 29.2549, 'units': 1, 'rate_per_unit': 29.2549, 'group': '1', 'calcdate': '04.04.2022'}, {'exchangedate': '04.04.2022', 'r030': 840, 'cc': 'USD', 'txt': 'Долар США', 'enname': 'US Dollar', 'rate': 29.2549, 'units': 1, 'rate_per_unit': 29.2549, 'group': '1', 'calcdate': '01.04.2022'}, {'exchangedate': '03.04.2022', 'r030': 840, 'cc': 'USD', 'txt': 'Долар США', 'enname': 'US Dollar', 'rate': 29.2549, 'units': 1, 'rate_per_unit': 29.2549, 'group': '1', 'calcdate': '31.03.2022'}, {'exchangedate': '02.04.2022', 'r030': 840, 'cc': 'USD', 'txt': 'Долар США', 'enname': 'US Dollar', 'rate': 29.2549, 'units': 1, 'rate_per_unit': 29.2549, 'group': '1', 'calcdate': '31.03.2022'}, {'exchangedate': '01.04.2022', 'r030': 840, 'cc': 'USD', 'txt': 'Долар США', 'enname': 'US Dollar', 'rate': 29.2549, 'units': 1, 'rate_per_unit': 29.2549, 'group': '1', 'calcdate': '31.03.2022'}, {'exchangedate': '31.03.2022', 'r030': 840, 'cc': 'USD', 'txt': 'Долар США', 'enname': 'US Dollar', 'rate': 29.2549, 'units': 1, 'rate_per_unit': 29.2549, 'group': '1', 'calcdate': '30.03.2022'}, {'exchangedate': '30.03.2022', 'r030': 840, 'cc': 'USD', 'txt': 'Долар США', 'enname': 'US Dollar', 'rate': 29.2549, 'units': 1, 'rate_per_unit': 29.2549, 'group': '1', 'calcdate': '29.03.2022'}, {'exchangedate': '29.03.2022', 'r030': 840, 'cc': 'USD', 'txt': 'Долар США', 'enname': 'US Dollar', 'rate': 29.2549, 'units': 1, 'rate_per_unit': 29.2549, 'group': '1', 'calcdate': '28.03.2022'}, {'exchangedate': '28.03.2022', 'r030': 840, 'cc': 'USD', 'txt': 'Долар США', 'enname': 'US Dollar', 'rate': 29.2549, 'units': 1, 'rate_per_unit': 29.2549, 'group': '1', 'calcdate': '25.03.2022'}, {'exchangedate': '27.03.2022', 'r030': 840, 'cc': 'USD', 'txt': 'Долар США', 'enname': 'US Dollar', 'rate': 29.2549, 'units': 1, 'rate_per_unit': 29.2549, 'group': '1', 'calcdate': '24.03.2022'}, {'exchangedate': '26.03.2022', 'r030': 840, 'cc': 'USD', 'txt': 'Долар США', 'enname': 'US Dollar', 'rate': 29.2549, 'units': 1, 'rate_per_unit': 29.2549, 'group': '1', 'calcdate': '24.03.2022'}, {'exchangedate': '25.03.2022', 'r030': 840, 'cc': 'USD', 'txt': 'Долар США', 'enname': 'US Dollar', 'rate': 29.2549, 'units': 1, 'rate_per_unit': 29.2549, 'group': '1', 'calcdate': '24.03.2022'}, {'exchangedate': '24.03.2022', 'r030': 840, 'cc': 'USD', 'txt': 'Долар США', 'enname': 'US Dollar', 'rate': 29.2549, 'units': 1, 'rate_per_unit': 29.2549, 'group': '1', 'calcdate': '23.03.2022'}, {'exchangedate': '23.03.2022', 'r030': 840, 'cc': 'USD', 'txt': 'Долар США', 'enname': 'US Dollar', 'rate': 29.2549, 'units': 1, 'rate_per_unit': 29.2549, 'group': '1', 'calcdate': '22.03.2022'}, {'exchangedate': '22.03.2022', 'r030': 840, 'cc': 'USD', 'txt': 'Долар США', 'enname': 'US Dollar', 'rate': 29.2549, 'units': 1, 'rate_per_unit': 29.2549, 'group': '1', 'calcdate': '21.03.2022'}, {'exchangedate': '21.03.2022', 'r030': 840, 'cc': 'USD', 'txt': 'Долар США', 'enname': 'US Dollar', 'rate': 29.2549, 'units': 1, 'rate_per_unit': 29.2549, 'group': '1', 'calcdate': '18.03.2022'}, {'exchangedate': '20.03.2022', 'r030': 840, 'cc': 'USD', 'txt': 'Долар США', 'enname': 'US Dollar', 'rate': 29.2549, 'units': 1, 'rate_per_unit': 29.2549, 'group': '1', 'calcdate': '17.03.2022'}, {'exchangedate': '19.03.2022', 'r030': 840, 'cc': 'USD', 'txt': 'Долар США', 'enname': 'US Dollar', 'rate': 29.2549, 'units': 1, 'rate_per_unit': 29.2549, 'group': '1', 'calcdate': '17.03.2022'}, {'exchangedate': '18.03.2022', 'r030': 840, 'cc': 'USD', 'txt': 'Долар США', 'enname': 'US Dollar', 'rate': 29.2549, 'units': 1, 'rate_per_unit': 29.2549, 'group': '1', 'calcdate': '17.03.2022'}, {'exchangedate': '17.03.2022', 'r030': 840, 'cc': 'USD', 'txt': 'Долар США', 'enname': 'US Dollar', 'rate': 29.2549, 'units': 1, 'rate_per_unit': 29.2549, 'group': '1', 'calcdate': '16.03.2022'}, {'exchangedate': '16.03.2022', 'r030': 840, 'cc': 'USD', 'txt': 'Долар США', 'enname': 'US Dollar', 'rate': 29.2549, 'units': 1, 'rate_per_unit': 29.2549, 'group': '1', 'calcdate': '15.03.2022'}, {'exchangedate': '15.03.2022', 'r030': 840, 'cc': 'USD', 'txt': 'Долар США', 'enname': 'US Dollar', 'rate': 29.2549, 'units': 1, 'rate_per_unit': 29.2549, 'group': '1', 'calcdate': '14.03.2022'}, {'exchangedate': '14.03.2022', 'r030': 840, 'cc': 'USD', 'txt': 'Долар США', 'enname': 'US Dollar', 'rate': 29.2549, 'units': 1, 'rate_per_unit': 29.2549, 'group': '1', 'calcdate': '12.03.2022'}, {'exchangedate': '13.03.2022', 'r030': 840, 'cc': 'USD', 'txt': 'Долар США', 'enname': 'US Dollar', 'rate': 29.2549, 'units': 1, 'rate_per_unit': 29.2549, 'group': '1', 'calcdate': '11.03.2022'}, {'exchangedate': '12.03.2022', 'r030': 840, 'cc': 'USD', 'txt': 'Долар США', 'enname': 'US Dollar', 'rate': 29.2549, 'units': 1, 'rate_per_unit': 29.2549, 'group': '1', 'calcdate': '11.03.2022'}, {'exchangedate': '11.03.2022', 'r030': 840, 'cc': 'USD', 'txt': 'Долар США', 'enname': 'US Dollar', 'rate': 29.2549, 'units': 1, 'rate_per_unit': 29.2549, 'group': '1', 'calcdate': '10.03.2022'}, {'exchangedate': '10.03.2022', 'r030': 840, 'cc': 'USD', 'txt': 'Долар США', 'enname': 'US Dollar', 'rate': 29.2549, 'units': 1, 'rate_per_unit': 29.2549, 'group': '1', 'calcdate': '09.03.2022'}, {'exchangedate': '09.03.2022', 'r030': 840, 'cc': 'USD', 'txt': 'Долар США', 'enname': 'US Dollar', 'rate': 29.2549, 'units': 1, 'rate_per_unit': 29.2549, 'group': '1', 'calcdate': '08.03.2022'}, {'exchangedate': '08.03.2022', 'r030': 840, 'cc': 'USD', 'txt': 'Долар США', 'enname': 'US Dollar', 'rate': 29.2549, 'units': 1, 'rate_per_unit': 29.2549, 'group': '1', 'calcdate': '07.03.2022'}, {'exchangedate': '07.03.2022', 'r030': 840, 'cc': 'USD', 'txt': 'Долар США', 'enname': 'US Dollar', 'rate': 29.2549, 'units': 1, 'rate_per_unit': 29.2549, 'group': '1', 'calcdate': '04.03.2022'}, {'exchangedate': '06.03.2022', 'r030': 840, 'cc': 'USD', 'txt': 'Долар США', 'enname': 'US Dollar', 'rate': 29.2549, 'units': 1, 'rate_per_unit': 29.2549, 'group': '1', 'calcdate': '03.03.2022'}, {'exchangedate': '05.03.2022', 'r030': 840, 'cc': 'USD', 'txt': 'Долар США', 'enname': 'US Dollar', 'rate': 29.2549, 'units': 1, 'rate_per_unit': 29.2549, 'group': '1', 'calcdate': '03.03.2022'}, {'exchangedate': '04.03.2022', 'r030': 840, 'cc': 'USD', 'txt': 'Долар США', 'enname': 'US Dollar', 'rate': 29.2549, 'units': 1, 'rate_per_unit': 29.2549, 'group': '1', 'calcdate': '03.03.2022'}, {'exchangedate': '03.03.2022', 'r030': 840, 'cc': 'USD', 'txt': 'Долар США', 'enname': 'US Dollar', 'rate': 29.2549, 'units': 1, 'rate_per_unit': 29.2549, 'group': '1', 'calcdate': '02.03.2022'}, {'exchangedate': '02.03.2022', 'r030': 840, 'cc': 'USD', 'txt': 'Долар США', 'enname': 'US Dollar', 'rate': 29.2549, 'units': 1, 'rate_per_unit': 29.2549, 'group': '1', 'calcdate': '01.03.2022'}, {'exchangedate': '01.03.2022', 'r030': 840, 'cc': 'USD', 'txt': 'Долар США', 'enname': 'US Dollar', 'rate': 29.2549, 'units': 1, 'rate_per_unit': 29.2549, 'group': '1', 'calcdate': '28.02.2022'}, {'exchangedate': '28.02.2022', 'r030': 840, 'cc': 'USD', 'txt': 'Долар США', 'enname': 'US Dollar', 'rate': 29.2549, 'units': 1, 'rate_per_unit': 29.2549, 'group': '1', 'calcdate': '25.02.2022'}, {'exchangedate': '27.02.2022', 'r030': 840, 'cc': 'USD', 'txt': 'Долар США', 'enname': 'US Dollar', 'rate': 29.2549, 'units': 1, 'rate_per_unit': 29.2549, 'group': '1', 'calcdate': '24.02.2022'}, {'exchangedate': '26.02.2022', 'r030': 840, 'cc': 'USD', 'txt': 'Долар США', 'enname': 'US Dollar', 'rate': 29.2549, 'units': 1, 'rate_per_unit': 29.2549, 'group': '1', 'calcdate': '24.02.2022'}, {'exchangedate': '25.02.2022', 'r030': 840, 'cc': 'USD', 'txt': 'Долар США', 'enname': 'US Dollar', 'rate': 29.2549, 'units': 1, 'rate_per_unit': 29.2549, 'group': '1', 'calcdate': '24.02.2022'}, {'exchangedate': '24.02.2022', 'r030': 840, 'cc': 'USD', 'txt': 'Долар США', 'enname': 'US Dollar', 'rate': 29.2549, 'units': 1, 'rate_per_unit': 29.2549, 'group': '1', 'calcdate': '23.02.2022'}, {'exchangedate': '23.02.2022', 'r030': 840, 'cc': 'USD', 'txt': 'Долар США', 'enname': 'US Dollar', 'rate': 28.9877, 'units': 1, 'rate_per_unit': 28.9877, 'group': '1', 'calcdate': '22.02.2022'}, {'exchangedate': '22.02.2022', 'r030': 840, 'cc': 'USD', 'txt': 'Долар США', 'enname': 'US Dollar', 'rate': 28.4846, 'units': 1, 'rate_per_unit': 28.4846, 'group': '1', 'calcdate': '21.02.2022'}, {'exchangedate': '21.02.2022', 'r030': 840, 'cc': 'USD', 'txt': 'Долар США', 'enname': 'US Dollar', 'rate': 28.3428, 'units': 1, 'rate_per_unit': 28.3428, 'group': '1', 'calcdate': '18.02.2022'}, {'exchangedate': '20.02.2022', 'r030': 840, 'cc': 'USD', 'txt': 'Долар США', 'enname': 'US Dollar', 'rate': 28.3, 'units': 1, 'rate_per_unit': 28.3, 'group': '1', 'calcdate': '17.02.2022'}, {'exchangedate': '19.02.2022', 'r030': 840, 'cc': 'USD', 'txt': 'Долар США', 'enname': 'US Dollar', 'rate': 28.3, 'units': 1, 'rate_per_unit': 28.3, 'group': '1', 'calcdate': '17.02.2022'}, {'exchangedate': '18.02.2022', 'r030': 840, 'cc': 'USD', 'txt': 'Долар США', 'enname': 'US Dollar', 'rate': 28.3, 'units': 1, 'rate_per_unit': 28.3, 'group': '1', 'calcdate': '17.02.2022'}, {'exchangedate': '17.02.2022', 'r030': 840, 'cc': 'USD', 'txt': 'Долар США', 'enname': 'US Dollar', 'rate': 28.0943, 'units': 1, 'rate_per_unit': 28.0943, 'group': '1', 'calcdate': '16.02.2022'}, {'exchangedate': '16.02.2022', 'r030': 840, 'cc': 'USD', 'txt': 'Долар США', 'enname': 'US Dollar', 'rate': 28.2424, 'units': 1, 'rate_per_unit': 28.2424, 'group': '1', 'calcdate': '15.02.2022'}, {'exchangedate': '15.02.2022', 'r030': 840, 'cc': 'USD', 'txt': 'Долар США', 'enname': 'US Dollar', 'rate': 28.5355, 'units': 1, 'rate_per_unit': 28.5355, 'group': '1', 'calcdate': '14.02.2022'}, {'exchangedate': '14.02.2022', 'r030': 840, 'cc': 'USD', 'txt': 'Долар США', 'enname': 'US Dollar', 'rate': 28.0346, 'units': 1, 'rate_per_unit': 28.0346, 'group': '1', 'calcdate': '11.02.2022'}, {'exchangedate': '13.02.2022', 'r030': 840, 'cc': 'USD', 'txt': 'Долар США', 'enname': 'US Dollar', 'rate': 27.8756, 'units': 1, 'rate_per_unit': 27.8756, 'group': '1', 'calcdate': '10.02.2022'}, {'exchangedate': '12.02.2022', 'r030': 840, 'cc': 'USD', 'txt': 'Долар США', 'enname': 'US Dollar', 'rate': 27.8756, 'units': 1, 'rate_per_unit': 27.8756, 'group': '1', 'calcdate': '10.02.2022'}, {'exchangedate': '11.02.2022', 'r030': 840, 'cc': 'USD', 'txt': 'Долар США', 'enname': 'US Dollar', 'rate': 27.8756, 'units': 1, 'rate_per_unit': 27.8756, 'group': '1', 'calcdate': '10.02.2022'}, {'exchangedate': '10.02.2022', 'r030': 840, 'cc': 'USD', 'txt': 'Долар США', 'enname': 'US Dollar', 'rate': 27.9795, 'units': 1, 'rate_per_unit': 27.9795, 'group': '1', 'calcdate': '09.02.2022'}, {'exchangedate': '09.02.2022', 'r030': 840, 'cc': 'USD', 'txt': 'Долар США', 'enname': 'US Dollar', 'rate': 27.9619, 'units': 1, 'rate_per_unit': 27.9619, 'group': '1', 'calcdate': '08.02.2022'}, {'exchangedate': '08.02.2022', 'r030': 840, 'cc': 'USD', 'txt': 'Долар США', 'enname': 'US Dollar', 'rate': 27.9998, 'units': 1, 'rate_per_unit': 27.9998, 'group': '1', 'calcdate': '07.02.2022'}, {'exchangedate': '07.02.2022', 'r030': 840, 'cc': 'USD', 'txt': 'Долар США', 'enname': 'US Dollar', 'rate': 28.1468, 'units': 1, 'rate_per_unit': 28.1468, 'group': '1', 'calcdate': '04.02.2022'}, {'exchangedate': '06.02.2022', 'r030': 840, 'cc': 'USD', 'txt': 'Долар США', 'enname': 'US Dollar', 'rate': 28.2701, 'units': 1, 'rate_per_unit': 28.2701, 'group': '1', 'calcdate': '03.02.2022'}, {'exchangedate': '05.02.2022', 'r030': 840, 'cc': 'USD', 'txt': 'Долар США', 'enname': 'US Dollar', 'rate': 28.2701, 'units': 1, 'rate_per_unit': 28.2701, 'group': '1', 'calcdate': '03.02.2022'}, {'exchangedate': '04.02.2022', 'r030': 840, 'cc': 'USD', 'txt': 'Долар США', 'enname': 'US Dollar', 'rate': 28.2701, 'units': 1, 'rate_per_unit': 28.2701, 'group': '1', 'calcdate': '03.02.2022'}, {'exchangedate': '03.02.2022', 'r030': 840, 'cc': 'USD', 'txt': 'Долар США', 'enname': 'US Dollar', 'rate': 28.3876, 'units': 1, 'rate_per_unit': 28.3876, 'group': '1', 'calcdate': '02.02.2022'}, {'exchangedate': '02.02.2022', 'r030': 840, 'cc': 'USD', 'txt': 'Долар США', 'enname': 'US Dollar', 'rate': 28.318, 'units': 1, 'rate_per_unit': 28.318, 'group': '1', 'calcdate': '01.02.2022'}, {'exchangedate': '01.02.2022', 'r030': 840, 'cc': 'USD', 'txt': 'Долар США', 'enname': 'US Dollar', 'rate': 28.4555, 'units': 1, 'rate_per_unit': 28.4555, 'group': '1', 'calcdate': '31.01.2022'}, {'exchangedate': '31.01.2022', 'r030': 840, 'cc': 'USD', 'txt': 'Долар США', 'enname': 'US Dollar', 'rate': 28.7839, 'units': 1, 'rate_per_unit': 28.7839, 'group': '1', 'calcdate': '28.01.2022'}, {'exchangedate': '30.01.2022', 'r030': 840, 'cc': 'USD', 'txt': 'Долар США', 'enname': 'US Dollar', 'rate': 28.9879, 'units': 1, 'rate_per_unit': 28.9879, 'group': '1', 'calcdate': '27.01.2022'}, {'exchangedate': '29.01.2022', 'r030': 840, 'cc': 'USD', 'txt': 'Долар США', 'enname': 'US Dollar', 'rate': 28.9879, 'units': 1, 'rate_per_unit': 28.9879, 'group': '1', 'calcdate': '27.01.2022'}, {'exchangedate': '28.01.2022', 'r030': 840, 'cc': 'USD', 'txt': 'Долар США', 'enname': 'US Dollar', 'rate': 28.9879, 'units': 1, 'rate_per_unit': 28.9879, 'group': '1', 'calcdate': '27.01.2022'}, {'exchangedate': '27.01.2022', 'r030': 840, 'cc': 'USD', 'txt': 'Долар США', 'enname': 'US Dollar', 'rate': 28.7984, 'units': 1, 'rate_per_unit': 28.7984, 'group': '1', 'calcdate': '26.01.2022'}, {'exchangedate': '26.01.2022', 'r030': 840, 'cc': 'USD', 'txt': 'Долар США', 'enname': 'US Dollar', 'rate': 28.6658, 'units': 1, 'rate_per_unit': 28.6658, 'group': '1', 'calcdate': '25.01.2022'}, {'exchangedate': '25.01.2022', 'r030': 840, 'cc': 'USD', 'txt': 'Долар США', 'enname': 'US Dollar', 'rate': 28.3749, 'units': 1, 'rate_per_unit': 28.3749, 'group': '1', 'calcdate': '24.01.2022'}, {'exchangedate': '24.01.2022', 'r030': 840, 'cc': 'USD', 'txt': 'Долар США', 'enname': 'US Dollar', 'rate': 28.3181, 'units': 1, 'rate_per_unit': 28.3181, 'group': '1', 'calcdate': '21.01.2022'}, {'exchangedate': '23.01.2022', 'r030': 840, 'cc': 'USD', 'txt': 'Долар США', 'enname': 'US Dollar', 'rate': 28.3236, 'units': 1, 'rate_per_unit': 28.3236, 'group': '1', 'calcdate': '20.01.2022'}, {'exchangedate': '22.01.2022', 'r030': 840, 'cc': 'USD', 'txt': 'Долар США', 'enname': 'US Dollar', 'rate': 28.3236, 'units': 1, 'rate_per_unit': 28.3236, 'group': '1', 'calcdate': '20.01.2022'}, {'exchangedate': '21.01.2022', 'r030': 840, 'cc': 'USD', 'txt': 'Долар США', 'enname': 'US Dollar', 'rate': 28.3236, 'units': 1, 'rate_per_unit': 28.3236, 'group': '1', 'calcdate': '20.01.2022'}, {'exchangedate': '20.01.2022', 'r030': 840, 'cc': 'USD', 'txt': 'Долар США', 'enname': 'US Dollar', 'rate': 28.4038, 'units': 1, 'rate_per_unit': 28.4038, 'group': '1', 'calcdate': '19.01.2022'}, {'exchangedate': '19.01.2022', 'r030': 840, 'cc': 'USD', 'txt': 'Долар США', 'enname': 'US Dollar', 'rate': 28.4101, 'units': 1, 'rate_per_unit': 28.4101, 'group': '1', 'calcdate': '18.01.2022'}, {'exchangedate': '18.01.2022', 'r030': 840, 'cc': 'USD', 'txt': 'Долар США', 'enname': 'US Dollar', 'rate': 28.122, 'units': 1, 'rate_per_unit': 28.122, 'group': '1', 'calcdate': '17.01.2022'}, {'exchangedate': '17.01.2022', 'r030': 840, 'cc': 'USD', 'txt': 'Долар США', 'enname': 'US Dollar', 'rate': 27.9514, 'units': 1, 'rate_per_unit': 27.9514, 'group': '1', 'calcdate': '14.01.2022'}, {'exchangedate': '16.01.2022', 'r030': 840, 'cc': 'USD', 'txt': 'Долар США', 'enname': 'US Dollar', 'rate': 27.7372, 'units': 1, 'rate_per_unit': 27.7372, 'group': '1', 'calcdate': '13.01.2022'}, {'exchangedate': '15.01.2022', 'r030': 840, 'cc': 'USD', 'txt': 'Долар США', 'enname': 'US Dollar', 'rate': 27.7372, 'units': 1, 'rate_per_unit': 27.7372, 'group': '1', 'calcdate': '13.01.2022'}, {'exchangedate': '14.01.2022', 'r030': 840, 'cc': 'USD', 'txt': 'Долар США', 'enname': 'US Dollar', 'rate': 27.7372, 'units': 1, 'rate_per_unit': 27.7372, 'group': '1', 'calcdate': '13.01.2022'}, {'exchangedate': '13.01.2022', 'r030': 840, 'cc': 'USD', 'txt': 'Долар США', 'enname': 'US Dollar', 'rate': 27.7073, 'units': 1, 'rate_per_unit': 27.7073, 'group': '1', 'calcdate': '12.01.2022'}, {'exchangedate': '12.01.2022', 'r030': 840, 'cc': 'USD', 'txt': 'Долар США', 'enname': 'US Dollar', 'rate': 27.5093, 'units': 1, 'rate_per_unit': 27.5093, 'group': '1', 'calcdate': '11.01.2022'}, {'exchangedate': '11.01.2022', 'r030': 840, 'cc': 'USD', 'txt': 'Долар США', 'enname': 'US Dollar', 'rate': 27.4998, 'units': 1, 'rate_per_unit': 27.4998, 'group': '1', 'calcdate': '10.01.2022'}, {'exchangedate': '10.01.2022', 'r030': 840, 'cc': 'USD', 'txt': 'Долар США', 'enname': 'US Dollar', 'rate': 27.4977, 'units': 1, 'rate_per_unit': 27.4977, 'group': '1', 'calcdate': '06.01.2022'}, {'exchangedate': '09.01.2022', 'r030': 840, 'cc': 'USD', 'txt': 'Долар США', 'enname': 'US Dollar', 'rate': 27.4551, 'units': 1, 'rate_per_unit': 27.4551, 'group': '1', 'calcdate': '05.01.2022'}, {'exchangedate': '08.01.2022', 'r030': 840, 'cc': 'USD', 'txt': 'Долар США', 'enname': 'US Dollar', 'rate': 27.4551, 'units': 1, 'rate_per_unit': 27.4551, 'group': '1', 'calcdate': '05.01.2022'}, {'exchangedate': '07.01.2022', 'r030': 840, 'cc': 'USD', 'txt': 'Долар США', 'enname': 'US Dollar', 'rate': 27.4551, 'units': 1, 'rate_per_unit': 27.4551, 'group': '1', 'calcdate': '05.01.2022'}, {'exchangedate': '06.01.2022', 'r030': 840, 'cc': 'USD', 'txt': 'Долар США', 'enname': 'US Dollar', 'rate': 27.4551, 'units': 1, 'rate_per_unit': 27.4551, 'group': '1', 'calcdate': '05.01.2022'}, {'exchangedate': '05.01.2022', 'r030': 840, 'cc': 'USD', 'txt': 'Долар США', 'enname': 'US Dollar', 'rate': 27.2976, 'units': 1, 'rate_per_unit': 27.2976, 'group': '1', 'calcdate': '04.01.2022'}, {'exchangedate': '04.01.2022', 'r030': 840, 'cc': 'USD', 'txt': 'Долар США', 'enname': 'US Dollar', 'rate': 27.2782, 'units': 1, 'rate_per_unit': 27.2782, 'group': '1', 'calcdate': '30.12.2021'}, {'exchangedate': '03.01.2022', 'r030': 840, 'cc': 'USD', 'txt': 'Долар США', 'enname': 'US Dollar', 'rate': 27.2782, 'units': 1, 'rate_per_unit': 27.2782, 'group': '1', 'calcdate': '30.12.2021'}, {'exchangedate': '02.01.2022', 'r030': 840, 'cc': 'USD', 'txt': 'Долар США', 'enname': 'US Dollar', 'rate': 27.2782, 'units': 1, 'rate_per_unit': 27.2782, 'group': '1', 'calcdate': '30.12.2021'}, {'exchangedate': '01.01.2022', 'r030': 840, 'cc': 'USD', 'txt': 'Долар США', 'enname': 'US Dollar', 'rate': 27.2782, 'units': 1, 'rate_per_unit': 27.2782, 'group': '1', 'calcdate': '30.12.2021'}, {'exchangedate': '31.12.2021', 'r030': 840, 'cc': 'USD', 'txt': 'Долар США', 'enname': 'US Dollar', 'rate': 27.2782, 'units': 1, 'rate_per_unit': 27.2782, 'group': '1', 'calcdate': '30.12.2021'}, {'exchangedate': '30.12.2021', 'r030': 840, 'cc': 'USD', 'txt': 'Долар США', 'enname': 'US Dollar', 'rate': 27.2077, 'units': 1, 'rate_per_unit': 27.2077, 'group': '1', 'calcdate': '29.12.2021'}, {'exchangedate': '29.12.2021', 'r030': 840, 'cc': 'USD', 'txt': 'Долар США', 'enname': 'US Dollar', 'rate': 27.2235, 'units': 1, 'rate_per_unit': 27.2235, 'group': '1', 'calcdate': '28.12.2021'}, {'exchangedate': '28.12.2021', 'r030': 840, 'cc': 'USD', 'txt': 'Долар США', 'enname': 'US Dollar', 'rate': 27.2306, 'units': 1, 'rate_per_unit': 27.2306, 'group': '1', 'calcdate': '24.12.2021'}, {'exchangedate': '27.12.2021', 'r030': 840, 'cc': 'USD', 'txt': 'Долар США', 'enname': 'US Dollar', 'rate': 27.2747, 'units': 1, 'rate_per_unit': 27.2747, 'group': '1', 'calcdate': '23.12.2021'}, {'exchangedate': '26.12.2021', 'r030': 840, 'cc': 'USD', 'txt': 'Долар США', 'enname': 'US Dollar', 'rate': 27.2747, 'units': 1, 'rate_per_unit': 27.2747, 'group': '1', 'calcdate': '23.12.2021'}, {'exchangedate': '25.12.2021', 'r030': 840, 'cc': 'USD', 'txt': 'Долар США', 'enname': 'US Dollar', 'rate': 27.2747, 'units': 1, 'rate_per_unit': 27.2747, 'group': '1', 'calcdate': '23.12.2021'}, {'exchangedate': '24.12.2021', 'r030': 840, 'cc': 'USD', 'txt': 'Долар США', 'enname': 'US Dollar', 'rate': 27.2747, 'units': 1, 'rate_per_unit': 27.2747, 'group': '1', 'calcdate': '23.12.2021'}, {'exchangedate': '23.12.2021', 'r030': 840, 'cc': 'USD', 'txt': 'Долар США', 'enname': 'US Dollar', 'rate': 27.2508, 'units': 1, 'rate_per_unit': 27.2508, 'group': '1', 'calcdate': '22.12.2021'}, {'exchangedate': '22.12.2021', 'r030': 840, 'cc': 'USD', 'txt': 'Долар США', 'enname': 'US Dollar', 'rate': 27.2598, 'units': 1, 'rate_per_unit': 27.2598, 'group': '1', 'calcdate': '21.12.2021'}, {'exchangedate': '21.12.2021', 'r030': 840, 'cc': 'USD', 'txt': 'Долар США', 'enname': 'US Dollar', 'rate': 27.2846, 'units': 1, 'rate_per_unit': 27.2846, 'group': '1', 'calcdate': '20.12.2021'}, {'exchangedate': '20.12.2021', 'r030': 840, 'cc': 'USD', 'txt': 'Долар США', 'enname': 'US Dollar', 'rate': 27.2483, 'units': 1, 'rate_per_unit': 27.2483, 'group': '1', 'calcdate': '17.12.2021'}, {'exchangedate': '19.12.2021', 'r030': 840, 'cc': 'USD', 'txt': 'Долар США', 'enname': 'US Dollar', 'rate': 27.1929, 'units': 1, 'rate_per_unit': 27.1929, 'group': '1', 'calcdate': '16.12.2021'}, {'exchangedate': '18.12.2021', 'r030': 840, 'cc': 'USD', 'txt': 'Долар США', 'enname': 'US Dollar', 'rate': 27.1929, 'units': 1, 'rate_per_unit': 27.1929, 'group': '1', 'calcdate': '16.12.2021'}, {'exchangedate': '17.12.2021', 'r030': 840, 'cc': 'USD', 'txt': 'Долар США', 'enname': 'US Dollar', 'rate': 27.1929, 'units': 1, 'rate_per_unit': 27.1929, 'group': '1', 'calcdate': '16.12.2021'}, {'exchangedate': '16.12.2021', 'r030': 840, 'cc': 'USD', 'txt': 'Долар США', 'enname': 'US Dollar', 'rate': 27.196, 'units': 1, 'rate_per_unit': 27.196, 'group': '1', 'calcdate': '15.12.2021'}, {'exchangedate': '15.12.2021', 'r030': 840, 'cc': 'USD', 'txt': 'Долар США', 'enname': 'US Dollar', 'rate': 26.9985, 'units': 1, 'rate_per_unit': 26.9985, 'group': '1', 'calcdate': '14.12.2021'}, {'exchangedate': '14.12.2021', 'r030': 840, 'cc': 'USD', 'txt': 'Долар США', 'enname': 'US Dollar', 'rate': 26.8846, 'units': 1, 'rate_per_unit': 26.8846, 'group': '1', 'calcdate': '13.12.2021'}, {'exchangedate': '13.12.2021', 'r030': 840, 'cc': 'USD', 'txt': 'Долар США', 'enname': 'US Dollar', 'rate': 27.0241, 'units': 1, 'rate_per_unit': 27.0241, 'group': '1', 'calcdate': '10.12.2021'}, {'exchangedate': '12.12.2021', 'r030': 840, 'cc': 'USD', 'txt': 'Долар США', 'enname': 'US Dollar', 'rate': 27.1013, 'units': 1, 'rate_per_unit': 27.1013, 'group': '1', 'calcdate': '09.12.2021'}, {'exchangedate': '11.12.2021', 'r030': 840, 'cc': 'USD', 'txt': 'Долар США', 'enname': 'US Dollar', 'rate': 27.1013, 'units': 1, 'rate_per_unit': 27.1013, 'group': '1', 'calcdate': '09.12.2021'}, {'exchangedate': '10.12.2021', 'r030': 840, 'cc': 'USD', 'txt': 'Долар США', 'enname': 'US Dollar', 'rate': 27.1013, 'units': 1, 'rate_per_unit': 27.1013, 'group': '1', 'calcdate': '09.12.2021'}, {'exchangedate': '09.12.2021', 'r030': 840, 'cc': 'USD', 'txt': 'Долар США', 'enname': 'US Dollar', 'rate': 27.2167, 'units': 1, 'rate_per_unit': 27.2167, 'group': '1', 'calcdate': '08.12.2021'}, {'exchangedate': '08.12.2021', 'r030': 840, 'cc': 'USD', 'txt': 'Долар США', 'enname': 'US Dollar', 'rate': 27.3317, 'units': 1, 'rate_per_unit': 27.3317, 'group': '1', 'calcdate': '07.12.2021'}, {'exchangedate': '07.12.2021', 'r030': 840, 'cc': 'USD', 'txt': 'Долар США', 'enname': 'US Dollar', 'rate': 27.3791, 'units': 1, 'rate_per_unit': 27.3791, 'group': '1', 'calcdate': '06.12.2021'}, {'exchangedate': '06.12.2021', 'r030': 840, 'cc': 'USD', 'txt': 'Долар США', 'enname': 'US Dollar', 'rate': 27.2981, 'units': 1, 'rate_per_unit': 27.2981, 'group': '1', 'calcdate': '03.12.2021'}, {'exchangedate': '05.12.2021', 'r030': 840, 'cc': 'USD', 'txt': 'Долар США', 'enname': 'US Dollar', 'rate': 27.2933, 'units': 1, 'rate_per_unit': 27.2933, 'group': '1', 'calcdate': '02.12.2021'}, {'exchangedate': '04.12.2021', 'r030': 840, 'cc': 'USD', 'txt': 'Долар США', 'enname': 'US Dollar', 'rate': 27.2933, 'units': 1, 'rate_per_unit': 27.2933, 'group': '1', 'calcdate': '02.12.2021'}, {'exchangedate': '03.12.2021', 'r030': 840, 'cc': 'USD', 'txt': 'Долар США', 'enname': 'US Dollar', 'rate': 27.2933, 'units': 1, 'rate_per_unit': 27.2933, 'group': '1', 'calcdate': '02.12.2021'}, {'exchangedate': '02.12.2021', 'r030': 840, 'cc': 'USD', 'txt': 'Долар США', 'enname': 'US Dollar', 'rate': 27.2296, 'units': 1, 'rate_per_unit': 27.2296, 'group': '1', 'calcdate': '01.12.2021'}, {'exchangedate': '01.12.2021', 'r030': 840, 'cc': 'USD', 'txt': 'Долар США', 'enname': 'US Dollar', 'rate': 27.2142, 'units': 1, 'rate_per_unit': 27.2142, 'group': '1', 'calcdate': '30.11.2021'}, {'exchangedate': '30.11.2021', 'r030': 840, 'cc': 'USD', 'txt': 'Долар США', 'enname': 'US Dollar', 'rate': 27.1739, 'units': 1, 'rate_per_unit': 27.1739, 'group': '1', 'calcdate': '29.11.2021'}, {'exchangedate': '29.11.2021', 'r030': 840, 'cc': 'USD', 'txt': 'Долар США', 'enname': 'US Dollar', 'rate': 27.1033, 'units': 1, 'rate_per_unit': 27.1033, 'group': '1', 'calcdate': '26.11.2021'}, {'exchangedate': '28.11.2021', 'r030': 840, 'cc': 'USD', 'txt': 'Долар США', 'enname': 'US Dollar', 'rate': 27.0256, 'units': 1, 'rate_per_unit': 27.0256, 'group': '1', 'calcdate': '25.11.2021'}, {'exchangedate': '27.11.2021', 'r030': 840, 'cc': 'USD', 'txt': 'Долар США', 'enname': 'US Dollar', 'rate': 27.0256, 'units': 1, 'rate_per_unit': 27.0256, 'group': '1', 'calcdate': '25.11.2021'}, {'exchangedate': '26.11.2021', 'r030': 840, 'cc': 'USD', 'txt': 'Долар США', 'enname': 'US Dollar', 'rate': 27.0256, 'units': 1, 'rate_per_unit': 27.0256, 'group': '1', 'calcdate': '25.11.2021'}, {'exchangedate': '25.11.2021', 'r030': 840, 'cc': 'USD', 'txt': 'Долар США', 'enname': 'US Dollar', 'rate': 26.9273, 'units': 1, 'rate_per_unit': 26.9273, 'group': '1', 'calcdate': '24.11.2021'}, {'exchangedate': '24.11.2021', 'r030': 840, 'cc': 'USD', 'txt': 'Долар США', 'enname': 'US Dollar', 'rate': 26.8604, 'units': 1, 'rate_per_unit': 26.8604, 'group': '1', 'calcdate': '23.11.2021'}, {'exchangedate': '23.11.2021', 'r030': 840, 'cc': 'USD', 'txt': 'Долар США', 'enname': 'US Dollar', 'rate': 26.6588, 'units': 1, 'rate_per_unit': 26.6588, 'group': '1', 'calcdate': '22.11.2021'}, {'exchangedate': '22.11.2021', 'r030': 840, 'cc': 'USD', 'txt': 'Долар США', 'enname': 'US Dollar', 'rate': 26.5694, 'units': 1, 'rate_per_unit': 26.5694, 'group': '1', 'calcdate': '19.11.2021'}, {'exchangedate': '21.11.2021', 'r030': 840, 'cc': 'USD', 'txt': 'Долар США', 'enname': 'US Dollar', 'rate': 26.4427, 'units': 1, 'rate_per_unit': 26.4427, 'group': '1', 'calcdate': '18.11.2021'}, {'exchangedate': '20.11.2021', 'r030': 840, 'cc': 'USD', 'txt': 'Долар США', 'enname': 'US Dollar', 'rate': 26.4427, 'units': 1, 'rate_per_unit': 26.4427, 'group': '1', 'calcdate': '18.11.2021'}, {'exchangedate': '19.11.2021', 'r030': 840, 'cc': 'USD', 'txt': 'Долар США', 'enname': 'US Dollar', 'rate': 26.4427, 'units': 1, 'rate_per_unit': 26.4427, 'group': '1', 'calcdate': '18.11.2021'}, {'exchangedate': '18.11.2021', 'r030': 840, 'cc': 'USD', 'txt': 'Долар США', 'enname': 'US Dollar', 'rate': 26.5147, 'units': 1, 'rate_per_unit': 26.5147, 'group': '1', 'calcdate': '17.11.2021'}, {'exchangedate': '17.11.2021', 'r030': 840, 'cc': 'USD', 'txt': 'Долар США', 'enname': 'US Dollar', 'rate': 26.4133, 'units': 1, 'rate_per_unit': 26.4133, 'group': '1', 'calcdate': '16.11.2021'}, {'exchangedate': '16.11.2021', 'r030': 840, 'cc': 'USD', 'txt': 'Долар США', 'enname': 'US Dollar', 'rate': 26.3371, 'units': 1, 'rate_per_unit': 26.3371, 'group': '1', 'calcdate': '15.11.2021'}, {'exchangedate': '15.11.2021', 'r030': 840, 'cc': 'USD', 'txt': 'Долар США', 'enname': 'US Dollar', 'rate': 26.1107, 'units': 1, 'rate_per_unit': 26.1107, 'group': '1', 'calcdate': '12.11.2021'}, {'exchangedate': '14.11.2021', 'r030': 840, 'cc': 'USD', 'txt': 'Долар США', 'enname': 'US Dollar', 'rate': 26.1022, 'units': 1, 'rate_per_unit': 26.1022, 'group': '1', 'calcdate': '11.11.2021'}, {'exchangedate': '13.11.2021', 'r030': 840, 'cc': 'USD', 'txt': 'Долар США', 'enname': 'US Dollar', 'rate': 26.1022, 'units': 1, 'rate_per_unit': 26.1022, 'group': '1', 'calcdate': '11.11.2021'}, {'exchangedate': '12.11.2021', 'r030': 840, 'cc': 'USD', 'txt': 'Долар США', 'enname': 'US Dollar', 'rate': 26.1022, 'units': 1, 'rate_per_unit': 26.1022, 'group': '1', 'calcdate': '11.11.2021'}, {'exchangedate': '11.11.2021', 'r030': 840, 'cc': 'USD', 'txt': 'Долар США', 'enname': 'US Dollar', 'rate': 26.0575, 'units': 1, 'rate_per_unit': 26.0575, 'group': '1', 'calcdate': '10.11.2021'}, {'exchangedate': '10.11.2021', 'r030': 840, 'cc': 'USD', 'txt': 'Долар США', 'enname': 'US Dollar', 'rate': 26.0927, 'units': 1, 'rate_per_unit': 26.0927, 'group': '1', 'calcdate': '09.11.2021'}, {'exchangedate': '09.11.2021', 'r030': 840, 'cc': 'USD', 'txt': 'Долар США', 'enname': 'US Dollar', 'rate': 26.0806, 'units': 1, 'rate_per_unit': 26.0806, 'group': '1', 'calcdate': '08.11.2021'}, {'exchangedate': '08.11.2021', 'r030': 840, 'cc': 'USD', 'txt': 'Долар США', 'enname': 'US Dollar', 'rate': 26.102, 'units': 1, 'rate_per_unit': 26.102, 'group': '1', 'calcdate': '05.11.2021'}, {'exchangedate': '07.11.2021', 'r030': 840, 'cc': 'USD', 'txt': 'Долар США', 'enname': 'US Dollar', 'rate': 26.19, 'units': 1, 'rate_per_unit': 26.19, 'group': '1', 'calcdate': '04.11.2021'}, {'exchangedate': '06.11.2021', 'r030': 840, 'cc': 'USD', 'txt': 'Долар США', 'enname': 'US Dollar', 'rate': 26.19, 'units': 1, 'rate_per_unit': 26.19, 'group': '1', 'calcdate': '04.11.2021'}, {'exchangedate': '05.11.2021', 'r030': 840, 'cc': 'USD', 'txt': 'Долар США', 'enname': 'US Dollar', 'rate': 26.19, 'units': 1, 'rate_per_unit': 26.19, 'group': '1', 'calcdate': '04.11.2021'}, {'exchangedate': '04.11.2021', 'r030': 840, 'cc': 'USD', 'txt': 'Долар США', 'enname': 'US Dollar', 'rate': 26.2431, 'units': 1, 'rate_per_unit': 26.2431, 'group': '1', 'calcdate': '03.11.2021'}, {'exchangedate': '03.11.2021', 'r030': 840, 'cc': 'USD', 'txt': 'Долар США', 'enname': 'US Dollar', 'rate': 26.2904, 'units': 1, 'rate_per_unit': 26.2904, 'group': '1', 'calcdate': '02.11.2021'}, {'exchangedate': '02.11.2021', 'r030': 840, 'cc': 'USD', 'txt': 'Долар США', 'enname': 'US Dollar', 'rate': 26.2933, 'units': 1, 'rate_per_unit': 26.2933, 'group': '1', 'calcdate': '01.11.2021'}, {'exchangedate': '01.11.2021', 'r030': 840, 'cc': 'USD', 'txt': 'Долар США', 'enname': 'US Dollar', 'rate': 26.2767, 'units': 1, 'rate_per_unit': 26.2767, 'group': '1', 'calcdate': '29.10.2021'}, {'exchangedate': '31.10.2021', 'r030': 840, 'cc': 'USD', 'txt': 'Долар США', 'enname': 'US Dollar', 'rate': 26.3265, 'units': 1, 'rate_per_unit': 26.3265, 'group': '1', 'calcdate': '28.10.2021'}, {'exchangedate': '30.10.2021', 'r030': 840, 'cc': 'USD', 'txt': 'Долар США', 'enname': 'US Dollar', 'rate': 26.3265, 'units': 1, 'rate_per_unit': 26.3265, 'group': '1', 'calcdate': '28.10.2021'}, {'exchangedate': '29.10.2021', 'r030': 840, 'cc': 'USD', 'txt': 'Долар США', 'enname': 'US Dollar', 'rate': 26.3265, 'units': 1, 'rate_per_unit': 26.3265, 'group': '1', 'calcdate': '28.10.2021'}, {'exchangedate': '28.10.2021', 'r030': 840, 'cc': 'USD', 'txt': 'Долар США', 'enname': 'US Dollar', 'rate': 26.3712, 'units': 1, 'rate_per_unit': 26.3712, 'group': '1', 'calcdate': '27.10.2021'}, {'exchangedate': '27.10.2021', 'r030': 840, 'cc': 'USD', 'txt': 'Долар США', 'enname': 'US Dollar', 'rate': 26.419, 'units': 1, 'rate_per_unit': 26.419, 'group': '1', 'calcdate': '26.10.2021'}, {'exchangedate': '26.10.2021', 'r030': 840, 'cc': 'USD', 'txt': 'Долар США', 'enname': 'US Dollar', 'rate': 26.3509, 'units': 1, 'rate_per_unit': 26.3509, 'group': '1', 'calcdate': '25.10.2021'}, {'exchangedate': '25.10.2021', 'r030': 840, 'cc': 'USD', 'txt': 'Долар США', 'enname': 'US Dollar', 'rate': 26.2918, 'units': 1, 'rate_per_unit': 26.2918, 'group': '1', 'calcdate': '23.10.2021'}, {'exchangedate': '24.10.2021', 'r030': 840, 'cc': 'USD', 'txt': 'Долар США', 'enname': 'US Dollar', 'rate': 26.2918, 'units': 1, 'rate_per_unit': 26.2918, 'group': '1', 'calcdate': '22.10.2021'}, {'exchangedate': '23.10.2021', 'r030': 840, 'cc': 'USD', 'txt': 'Долар США', 'enname': 'US Dollar', 'rate': 26.2918, 'units': 1, 'rate_per_unit': 26.2918, 'group': '1', 'calcdate': '22.10.2021'}, {'exchangedate': '22.10.2021', 'r030': 840, 'cc': 'USD', 'txt': 'Долар США', 'enname': 'US Dollar', 'rate': 26.2016, 'units': 1, 'rate_per_unit': 26.2016, 'group': '1', 'calcdate': '21.10.2021'}, {'exchangedate': '21.10.2021', 'r030': 840, 'cc': 'USD', 'txt': 'Долар США', 'enname': 'US Dollar', 'rate': 26.2078, 'units': 1, 'rate_per_unit': 26.2078, 'group': '1', 'calcdate': '20.10.2021'}, {'exchangedate': '20.10.2021', 'r030': 840, 'cc': 'USD', 'txt': 'Долар США', 'enname': 'US Dollar', 'rate': 26.272, 'units': 1, 'rate_per_unit': 26.272, 'group': '1', 'calcdate': '19.10.2021'}, {'exchangedate': '19.10.2021', 'r030': 840, 'cc': 'USD', 'txt': 'Долар США', 'enname': 'US Dollar', 'rate': 26.3356, 'units': 1, 'rate_per_unit': 26.3356, 'group': '1', 'calcdate': '18.10.2021'}, {'exchangedate': '18.10.2021', 'r030': 840, 'cc': 'USD', 'txt': 'Долар США', 'enname': 'US Dollar', 'rate': 26.3419, 'units': 1, 'rate_per_unit': 26.3419, 'group': '1', 'calcdate': '13.10.2021'}, {'exchangedate': '17.10.2021', 'r030': 840, 'cc': 'USD', 'txt': 'Долар США', 'enname': 'US Dollar', 'rate': 26.349, 'units': 1, 'rate_per_unit': 26.349, 'group': '1', 'calcdate': '12.10.2021'}, {'exchangedate': '16.10.2021', 'r030': 840, 'cc': 'USD', 'txt': 'Долар США', 'enname': 'US Dollar', 'rate': 26.349, 'units': 1, 'rate_per_unit': 26.349, 'group': '1', 'calcdate': '12.10.2021'}, {'exchangedate': '15.10.2021', 'r030': 840, 'cc': 'USD', 'txt': 'Долар США', 'enname': 'US Dollar', 'rate': 26.349, 'units': 1, 'rate_per_unit': 26.349, 'group': '1', 'calcdate': '12.10.2021'}, {'exchangedate': '14.10.2021', 'r030': 840, 'cc': 'USD', 'txt': 'Долар США', 'enname': 'US Dollar', 'rate': 26.349, 'units': 1, 'rate_per_unit': 26.349, 'group': '1', 'calcdate': '12.10.2021'}, {'exchangedate': '13.10.2021', 'r030': 840, 'cc': 'USD', 'txt': 'Долар США', 'enname': 'US Dollar', 'rate': 26.349, 'units': 1, 'rate_per_unit': 26.349, 'group': '1', 'calcdate': '12.10.2021'}, {'exchangedate': '12.10.2021', 'r030': 840, 'cc': 'USD', 'txt': 'Долар США', 'enname': 'US Dollar', 'rate': 26.36, 'units': 1, 'rate_per_unit': 26.36, 'group': '1', 'calcdate': '11.10.2021'}, {'exchangedate': '11.10.2021', 'r030': 840, 'cc': 'USD', 'txt': 'Долар США', 'enname': 'US Dollar', 'rate': 26.3515, 'units': 1, 'rate_per_unit': 26.3515, 'group': '1', 'calcdate': '08.10.2021'}, {'exchangedate': '10.10.2021', 'r030': 840, 'cc': 'USD', 'txt': 'Долар США', 'enname': 'US Dollar', 'rate': 26.3314, 'units': 1, 'rate_per_unit': 26.3314, 'group': '1', 'calcdate': '07.10.2021'}, {'exchangedate': '09.10.2021', 'r030': 840, 'cc': 'USD', 'txt': 'Долар США', 'enname': 'US Dollar', 'rate': 26.3314, 'units': 1, 'rate_per_unit': 26.3314, 'group': '1', 'calcdate': '07.10.2021'}, {'exchangedate': '08.10.2021', 'r030': 840, 'cc': 'USD', 'txt': 'Долар США', 'enname': 'US Dollar', 'rate': 26.3314, 'units': 1, 'rate_per_unit': 26.3314, 'group': '1', 'calcdate': '07.10.2021'}, {'exchangedate': '07.10.2021', 'r030': 840, 'cc': 'USD', 'txt': 'Долар США', 'enname': 'US Dollar', 'rate': 26.3503, 'units': 1, 'rate_per_unit': 26.3503, 'group': '1', 'calcdate': '06.10.2021'}, {'exchangedate': '06.10.2021', 'r030': 840, 'cc': 'USD', 'txt': 'Долар США', 'enname': 'US Dollar', 'rate': 26.4244, 'units': 1, 'rate_per_unit': 26.4244, 'group': '1', 'calcdate': '05.10.2021'}, {'exchangedate': '05.10.2021', 'r030': 840, 'cc': 'USD', 'txt': 'Долар США', 'enname': 'US Dollar', 'rate': 26.5722, 'units': 1, 'rate_per_unit': 26.5722, 'group': '1', 'calcdate': '04.10.2021'}, {'exchangedate': '04.10.2021', 'r030': 840, 'cc': 'USD', 'txt': 'Долар США', 'enname': 'US Dollar', 'rate': 26.61, 'units': 1, 'rate_per_unit': 26.61, 'group': '1', 'calcdate': '01.10.2021'}, {'exchangedate': '03.10.2021', 'r030': 840, 'cc': 'USD', 'txt': 'Долар США', 'enname': 'US Dollar', 'rate': 26.6175, 'units': 1, 'rate_per_unit': 26.6175, 'group': '1', 'calcdate': '30.09.2021'}, {'exchangedate': '02.10.2021', 'r030': 840, 'cc': 'USD', 'txt': 'Долар США', 'enname': 'US Dollar', 'rate': 26.6175, 'units': 1, 'rate_per_unit': 26.6175, 'group': '1', 'calcdate': '30.09.2021'}, {'exchangedate': '01.10.2021', 'r030': 840, 'cc': 'USD', 'txt': 'Долар США', 'enname': 'US Dollar', 'rate': 26.6175, 'units': 1, 'rate_per_unit': 26.6175, 'group': '1', 'calcdate': '30.09.2021'}, {'exchangedate': '30.09.2021', 'r030': 840, 'cc': 'USD', 'txt': 'Долар США', 'enname': 'US Dollar', 'rate': 26.576, 'units': 1, 'rate_per_unit': 26.576, 'group': '1', 'calcdate': '29.09.2021'}, {'exchangedate': '29.09.2021', 'r030': 840, 'cc': 'USD', 'txt': 'Долар США', 'enname': 'US Dollar', 'rate': 26.5698, 'units': 1, 'rate_per_unit': 26.5698, 'group': '1', 'calcdate': '28.09.2021'}, {'exchangedate': '28.09.2021', 'r030': 840, 'cc': 'USD', 'txt': 'Долар США', 'enname': 'US Dollar', 'rate': 26.6556, 'units': 1, 'rate_per_unit': 26.6556, 'group': '1', 'calcdate': '27.09.2021'}, {'exchangedate': '27.09.2021', 'r030': 840, 'cc': 'USD', 'txt': 'Долар США', 'enname': 'US Dollar', 'rate': 26.6422, 'units': 1, 'rate_per_unit': 26.6422, 'group': '1', 'calcdate': '24.09.2021'}, {'exchangedate': '26.09.2021', 'r030': 840, 'cc': 'USD', 'txt': 'Долар США', 'enname': 'US Dollar', 'rate': 26.5272, 'units': 1, 'rate_per_unit': 26.5272, 'group': '1', 'calcdate': '23.09.2021'}, {'exchangedate': '25.09.2021', 'r030': 840, 'cc': 'USD', 'txt': 'Долар США', 'enname': 'US Dollar', 'rate': 26.5272, 'units': 1, 'rate_per_unit': 26.5272, 'group': '1', 'calcdate': '23.09.2021'}, {'exchangedate': '24.09.2021', 'r030': 840, 'cc': 'USD', 'txt': 'Долар США', 'enname': 'US Dollar', 'rate': 26.5272, 'units': 1, 'rate_per_unit': 26.5272, 'group': '1', 'calcdate': '23.09.2021'}, {'exchangedate': '23.09.2021', 'r030': 840, 'cc': 'USD', 'txt': 'Долар США', 'enname': 'US Dollar', 'rate': 26.6714, 'units': 1, 'rate_per_unit': 26.6714, 'group': '1', 'calcdate': '22.09.2021'}, {'exchangedate': '22.09.2021', 'r030': 840, 'cc': 'USD', 'txt': 'Долар США', 'enname': 'US Dollar', 'rate': 26.7081, 'units': 1, 'rate_per_unit': 26.7081, 'group': '1', 'calcdate': '21.09.2021'}, {'exchangedate': '21.09.2021', 'r030': 840, 'cc': 'USD', 'txt': 'Долар США', 'enname': 'US Dollar', 'rate': 26.7072, 'units': 1, 'rate_per_unit': 26.7072, 'group': '1', 'calcdate': '20.09.2021'}, {'exchangedate': '20.09.2021', 'r030': 840, 'cc': 'USD', 'txt': 'Долар США', 'enname': 'US Dollar', 'rate': 26.7028, 'units': 1, 'rate_per_unit': 26.7028, 'group': '1', 'calcdate': '17.09.2021'}, {'exchangedate': '19.09.2021', 'r030': 840, 'cc': 'USD', 'txt': 'Долар США', 'enname': 'US Dollar', 'rate': 26.6672, 'units': 1, 'rate_per_unit': 26.6672, 'group': '1', 'calcdate': '16.09.2021'}, {'exchangedate': '18.09.2021', 'r030': 840, 'cc': 'USD', 'txt': 'Долар США', 'enname': 'US Dollar', 'rate': 26.6672, 'units': 1, 'rate_per_unit': 26.6672, 'group': '1', 'calcdate': '16.09.2021'}, {'exchangedate': '17.09.2021', 'r030': 840, 'cc': 'USD', 'txt': 'Долар США', 'enname': 'US Dollar', 'rate': 26.6672, 'units': 1, 'rate_per_unit': 26.6672, 'group': '1', 'calcdate': '16.09.2021'}, {'exchangedate': '16.09.2021', 'r030': 840, 'cc': 'USD', 'txt': 'Долар США', 'enname': 'US Dollar', 'rate': 26.645, 'units': 1, 'rate_per_unit': 26.645, 'group': '1', 'calcdate': '15.09.2021'}, {'exchangedate': '15.09.2021', 'r030': 840, 'cc': 'USD', 'txt': 'Долар США', 'enname': 'US Dollar', 'rate': 26.6362, 'units': 1, 'rate_per_unit': 26.6362, 'group': '1', 'calcdate': '14.09.2021'}, {'exchangedate': '14.09.2021', 'r030': 840, 'cc': 'USD', 'txt': 'Долар США', 'enname': 'US Dollar', 'rate': 26.692, 'units': 1, 'rate_per_unit': 26.692, 'group': '1', 'calcdate': '13.09.2021'}, {'exchangedate': '13.09.2021', 'r030': 840, 'cc': 'USD', 'txt': 'Долар США', 'enname': 'US Dollar', 'rate': 26.6782, 'units': 1, 'rate_per_unit': 26.6782, 'group': '1', 'calcdate': '10.09.2021'}, {'exchangedate': '12.09.2021', 'r030': 840, 'cc': 'USD', 'txt': 'Долар США', 'enname': 'US Dollar', 'rate': 26.7264, 'units': 1, 'rate_per_unit': 26.7264, 'group': '1', 'calcdate': '09.09.2021'}, {'exchangedate': '11.09.2021', 'r030': 840, 'cc': 'USD', 'txt': 'Долар США', 'enname': 'US Dollar', 'rate': 26.7264, 'units': 1, 'rate_per_unit': 26.7264, 'group': '1', 'calcdate': '09.09.2021'}, {'exchangedate': '10.09.2021', 'r030': 840, 'cc': 'USD', 'txt': 'Долар США', 'enname': 'US Dollar', 'rate': 26.7264, 'units': 1, 'rate_per_unit': 26.7264, 'group': '1', 'calcdate': '09.09.2021'}, {'exchangedate': '09.09.2021', 'r030': 840, 'cc': 'USD', 'txt': 'Долар США', 'enname': 'US Dollar', 'rate': 26.7452, 'units': 1, 'rate_per_unit': 26.7452, 'group': '1', 'calcdate': '08.09.2021'}, {'exchangedate': '08.09.2021', 'r030': 840, 'cc': 'USD', 'txt': 'Долар США', 'enname': 'US Dollar', 'rate': 26.7317, 'units': 1, 'rate_per_unit': 26.7317, 'group': '1', 'calcdate': '07.09.2021'}, {'exchangedate': '07.09.2021', 'r030': 840, 'cc': 'USD', 'txt': 'Долар США', 'enname': 'US Dollar', 'rate': 26.8102, 'units': 1, 'rate_per_unit': 26.8102, 'group': '1', 'calcdate': '06.09.2021'}, {'exchangedate': '06.09.2021', 'r030': 840, 'cc': 'USD', 'txt': 'Долар США', 'enname': 'US Dollar', 'rate': 26.9298, 'units': 1, 'rate_per_unit': 26.9298, 'group': '1', 'calcdate': '03.09.2021'}, {'exchangedate': '05.09.2021', 'r030': 840, 'cc': 'USD', 'txt': 'Долар США', 'enname': 'US Dollar', 'rate': 27.0247, 'units': 1, 'rate_per_unit': 27.0247, 'group': '1', 'calcdate': '02.09.2021'}, {'exchangedate': '04.09.2021', 'r030': 840, 'cc': 'USD', 'txt': 'Долар США', 'enname': 'US Dollar', 'rate': 27.0247, 'units': 1, 'rate_per_unit': 27.0247, 'group': '1', 'calcdate': '02.09.2021'}, {'exchangedate': '03.09.2021', 'r030': 840, 'cc': 'USD', 'txt': 'Долар США', 'enname': 'US Dollar', 'rate': 27.0247, 'units': 1, 'rate_per_unit': 27.0247, 'group': '1', 'calcdate': '02.09.2021'}, {'exchangedate': '02.09.2021', 'r030': 840, 'cc': 'USD', 'txt': 'Долар США', 'enname': 'US Dollar', 'rate': 27.0029, 'units': 1, 'rate_per_unit': 27.0029, 'group': '1', 'calcdate': '01.09.2021'}, {'exchangedate': '01.09.2021', 'r030': 840, 'cc': 'USD', 'txt': 'Долар США', 'enname': 'US Dollar', 'rate': 26.8928, 'units': 1, 'rate_per_unit': 26.8928, 'group': '1', 'calcdate': '31.08.2021'}, {'exchangedate': '31.08.2021', 'r030': 840, 'cc': 'USD', 'txt': 'Долар США', 'enname': 'US Dollar', 'rate': 26.8601, 'units': 1, 'rate_per_unit': 26.8601, 'group': '1', 'calcdate': '30.08.2021'}, {'exchangedate': '30.08.2021', 'r030': 840, 'cc': 'USD', 'txt': 'Долар США', 'enname': 'US Dollar', 'rate': 26.929, 'units': 1, 'rate_per_unit': 26.929, 'group': '1', 'calcdate': '28.08.2021'}, {'exchangedate': '29.08.2021', 'r030': 840, 'cc': 'USD', 'txt': 'Долар США', 'enname': 'US Dollar', 'rate': 26.929, 'units': 1, 'rate_per_unit': 26.929, 'group': '1', 'calcdate': '27.08.2021'}, {'exchangedate': '28.08.2021', 'r030': 840, 'cc': 'USD', 'txt': 'Долар США', 'enname': 'US Dollar', 'rate': 26.929, 'units': 1, 'rate_per_unit': 26.929, 'group': '1', 'calcdate': '27.08.2021'}, {'exchangedate': '27.08.2021', 'r030': 840, 'cc': 'USD', 'txt': 'Долар США', 'enname': 'US Dollar', 'rate': 26.7744, 'units': 1, 'rate_per_unit': 26.7744, 'group': '1', 'calcdate': '26.08.2021'}, {'exchangedate': '26.08.2021', 'r030': 840, 'cc': 'USD', 'txt': 'Долар США', 'enname': 'US Dollar', 'rate': 26.7074, 'units': 1, 'rate_per_unit': 26.7074, 'group': '1', 'calcdate': '25.08.2021'}, {'exchangedate': '25.08.2021', 'r030': 840, 'cc': 'USD', 'txt': 'Долар США', 'enname': 'US Dollar', 'rate': 26.6718, 'units': 1, 'rate_per_unit': 26.6718, 'group': '1', 'calcdate': '20.08.2021'}, {'exchangedate': '24.08.2021', 'r030': 840, 'cc': 'USD', 'txt': 'Долар США', 'enname': 'US Dollar', 'rate': 26.6504, 'units': 1, 'rate_per_unit': 26.6504, 'group': '1', 'calcdate': '19.08.2021'}, {'exchangedate': '23.08.2021', 'r030': 840, 'cc': 'USD', 'txt': 'Долар США', 'enname': 'US Dollar', 'rate': 26.6504, 'units': 1, 'rate_per_unit': 26.6504, 'group': '1', 'calcdate': '19.08.2021'}, {'exchangedate': '22.08.2021', 'r030': 840, 'cc': 'USD', 'txt': 'Долар США', 'enname': 'US Dollar', 'rate': 26.6504, 'units': 1, 'rate_per_unit': 26.6504, 'group': '1', 'calcdate': '19.08.2021'}, {'exchangedate': '21.08.2021', 'r030': 840, 'cc': 'USD', 'txt': 'Долар США', 'enname': 'US Dollar', 'rate': 26.6504, 'units': 1, 'rate_per_unit': 26.6504, 'group': '1', 'calcdate': '19.08.2021'}, {'exchangedate': '20.08.2021', 'r030': 840, 'cc': 'USD', 'txt': 'Долар США', 'enname': 'US Dollar', 'rate': 26.6504, 'units': 1, 'rate_per_unit': 26.6504, 'group': '1', 'calcdate': '19.08.2021'}, {'exchangedate': '19.08.2021', 'r030': 840, 'cc': 'USD', 'txt': 'Долар США', 'enname': 'US Dollar', 'rate': 26.6455, 'units': 1, 'rate_per_unit': 26.6455, 'group': '1', 'calcdate': '18.08.2021'}, {'exchangedate': '18.08.2021', 'r030': 840, 'cc': 'USD', 'txt': 'Долар США', 'enname': 'US Dollar', 'rate': 26.6752, 'units': 1, 'rate_per_unit': 26.6752, 'group': '1', 'calcdate': '17.08.2021'}, {'exchangedate': '17.08.2021', 'r030': 840, 'cc': 'USD', 'txt': 'Долар США', 'enname': 'US Dollar', 'rate': 26.6457, 'units': 1, 'rate_per_unit': 26.6457, 'group': '1', 'calcdate': '16.08.2021'}, {'exchangedate': '16.08.2021', 'r030': 840, 'cc': 'USD', 'txt': 'Долар США', 'enname': 'US Dollar', 'rate': 26.6931, 'units': 1, 'rate_per_unit': 26.6931, 'group': '1', 'calcdate': '13.08.2021'}, {'exchangedate': '15.08.2021', 'r030': 840, 'cc': 'USD', 'txt': 'Долар США', 'enname': 'US Dollar', 'rate': 26.7686, 'units': 1, 'rate_per_unit': 26.7686, 'group': '1', 'calcdate': '12.08.2021'}, {'exchangedate': '14.08.2021', 'r030': 840, 'cc': 'USD', 'txt': 'Долар США', 'enname': 'US Dollar', 'rate': 26.7686, 'units': 1, 'rate_per_unit': 26.7686, 'group': '1', 'calcdate': '12.08.2021'}, {'exchangedate': '13.08.2021', 'r030': 840, 'cc': 'USD', 'txt': 'Долар США', 'enname': 'US Dollar', 'rate': 26.7686, 'units': 1, 'rate_per_unit': 26.7686, 'group': '1', 'calcdate': '12.08.2021'}, {'exchangedate': '12.08.2021', 'r030': 840, 'cc': 'USD', 'txt': 'Долар США', 'enname': 'US Dollar', 'rate': 26.8042, 'units': 1, 'rate_per_unit': 26.8042, 'group': '1', 'calcdate': '11.08.2021'}, {'exchangedate': '11.08.2021', 'r030': 840, 'cc': 'USD', 'txt': 'Долар США', 'enname': 'US Dollar', 'rate': 26.7557, 'units': 1, 'rate_per_unit': 26.7557, 'group': '1', 'calcdate': '10.08.2021'}, {'exchangedate': '10.08.2021', 'r030': 840, 'cc': 'USD', 'txt': 'Долар США', 'enname': 'US Dollar', 'rate': 26.8011, 'units': 1, 'rate_per_unit': 26.8011, 'group': '1', 'calcdate': '09.08.2021'}, {'exchangedate': '09.08.2021', 'r030': 840, 'cc': 'USD', 'txt': 'Долар США', 'enname': 'US Dollar', 'rate': 26.8346, 'units': 1, 'rate_per_unit': 26.8346, 'group': '1', 'calcdate': '06.08.2021'}, {'exchangedate': '08.08.2021', 'r030': 840, 'cc': 'USD', 'txt': 'Долар США', 'enname': 'US Dollar', 'rate': 26.9395, 'units': 1, 'rate_per_unit': 26.9395, 'group': '1', 'calcdate': '05.08.2021'}, {'exchangedate': '07.08.2021', 'r030': 840, 'cc': 'USD', 'txt': 'Долар США', 'enname': 'US Dollar', 'rate': 26.9395, 'units': 1, 'rate_per_unit': 26.9395, 'group': '1', 'calcdate': '05.08.2021'}, {'exchangedate': '06.08.2021', 'r030': 840, 'cc': 'USD', 'txt': 'Долар США', 'enname': 'US Dollar', 'rate': 26.9395, 'units': 1, 'rate_per_unit': 26.9395, 'group': '1', 'calcdate': '05.08.2021'}, {'exchangedate': '05.08.2021', 'r030': 840, 'cc': 'USD', 'txt': 'Долар США', 'enname': 'US Dollar', 'rate': 26.9094, 'units': 1, 'rate_per_unit': 26.9094, 'group': '1', 'calcdate': '04.08.2021'}, {'exchangedate': '04.08.2021', 'r030': 840, 'cc': 'USD', 'txt': 'Долар США', 'enname': 'US Dollar', 'rate': 26.8411, 'units': 1, 'rate_per_unit': 26.8411, 'group': '1', 'calcdate': '03.08.2021'}, {'exchangedate': '03.08.2021', 'r030': 840, 'cc': 'USD', 'txt': 'Долар США', 'enname': 'US Dollar', 'rate': 26.8444, 'units': 1, 'rate_per_unit': 26.8444, 'group': '1', 'calcdate': '02.08.2021'}, {'exchangedate': '02.08.2021', 'r030': 840, 'cc': 'USD', 'txt': 'Долар США', 'enname': 'US Dollar', 'rate': 26.8168, 'units': 1, 'rate_per_unit': 26.8168, 'group': '1', 'calcdate': '30.07.2021'}, {'exchangedate': '01.08.2021', 'r030': 840, 'cc': 'USD', 'txt': 'Долар США', 'enname': 'US Dollar', 'rate': 26.8867, 'units': 1, 'rate_per_unit': 26.8867, 'group': '1', 'calcdate': '29.07.2021'}, {'exchangedate': '31.07.2021', 'r030': 840, 'cc': 'USD', 'txt': 'Долар США', 'enname': 'US Dollar', 'rate': 26.8867, 'units': 1, 'rate_per_unit': 26.8867, 'group': '1', 'calcdate': '29.07.2021'}, {'exchangedate': '30.07.2021', 'r030': 840, 'cc': 'USD', 'txt': 'Долар США', 'enname': 'US Dollar', 'rate': 26.8867, 'units': 1, 'rate_per_unit': 26.8867, 'group': '1', 'calcdate': '29.07.2021'}, {'exchangedate': '29.07.2021', 'r030': 840, 'cc': 'USD', 'txt': 'Долар США', 'enname': 'US Dollar', 'rate': 26.8628, 'units': 1, 'rate_per_unit': 26.8628, 'group': '1', 'calcdate': '28.07.2021'}, {'exchangedate': '28.07.2021', 'r030': 840, 'cc': 'USD', 'txt': 'Долар США', 'enname': 'US Dollar', 'rate': 26.906, 'units': 1, 'rate_per_unit': 26.906, 'group': '1', 'calcdate': '27.07.2021'}, {'exchangedate': '27.07.2021', 'r030': 840, 'cc': 'USD', 'txt': 'Долар США', 'enname': 'US Dollar', 'rate': 26.9805, 'units': 1, 'rate_per_unit': 26.9805, 'group': '1', 'calcdate': '26.07.2021'}, {'exchangedate': '26.07.2021', 'r030': 840, 'cc': 'USD', 'txt': 'Долар США', 'enname': 'US Dollar', 'rate': 27.048, 'units': 1, 'rate_per_unit': 27.048, 'group': '1', 'calcdate': '23.07.2021'}, {'exchangedate': '25.07.2021', 'r030': 840, 'cc': 'USD', 'txt': 'Долар США', 'enname': 'US Dollar', 'rate': 27.1915, 'units': 1, 'rate_per_unit': 27.1915, 'group': '1', 'calcdate': '22.07.2021'}, {'exchangedate': '24.07.2021', 'r030': 840, 'cc': 'USD', 'txt': 'Долар США', 'enname': 'US Dollar', 'rate': 27.1915, 'units': 1, 'rate_per_unit': 27.1915, 'group': '1', 'calcdate': '22.07.2021'}, {'exchangedate': '23.07.2021', 'r030': 840, 'cc': 'USD', 'txt': 'Долар США', 'enname': 'US Dollar', 'rate': 27.1915, 'units': 1, 'rate_per_unit': 27.1915, 'group': '1', 'calcdate': '22.07.2021'}, {'exchangedate': '22.07.2021', 'r030': 840, 'cc': 'USD', 'txt': 'Долар США', 'enname': 'US Dollar', 'rate': 27.2405, 'units': 1, 'rate_per_unit': 27.2405, 'group': '1', 'calcdate': '21.07.2021'}, {'exchangedate': '21.07.2021', 'r030': 840, 'cc': 'USD', 'txt': 'Долар США', 'enname': 'US Dollar', 'rate': 27.2205, 'units': 1, 'rate_per_unit': 27.2205, 'group': '1', 'calcdate': '20.07.2021'}, {'exchangedate': '20.07.2021', 'r030': 840, 'cc': 'USD', 'txt': 'Долар США', 'enname': 'US Dollar', 'rate': 27.2132, 'units': 1, 'rate_per_unit': 27.2132, 'group': '1', 'calcdate': '19.07.2021'}, {'exchangedate': '19.07.2021', 'r030': 840, 'cc': 'USD', 'txt': 'Долар США', 'enname': 'US Dollar', 'rate': 27.2301, 'units': 1, 'rate_per_unit': 27.2301, 'group': '1', 'calcdate': '16.07.2021'}, {'exchangedate': '18.07.2021', 'r030': 840, 'cc': 'USD', 'txt': 'Долар США', 'enname': 'US Dollar', 'rate': 27.2905, 'units': 1, 'rate_per_unit': 27.2905, 'group': '1', 'calcdate': '15.07.2021'}, {'exchangedate': '17.07.2021', 'r030': 840, 'cc': 'USD', 'txt': 'Долар США', 'enname': 'US Dollar', 'rate': 27.2905, 'units': 1, 'rate_per_unit': 27.2905, 'group': '1', 'calcdate': '15.07.2021'}, {'exchangedate': '16.07.2021', 'r030': 840, 'cc': 'USD', 'txt': 'Долар США', 'enname': 'US Dollar', 'rate': 27.2905, 'units': 1, 'rate_per_unit': 27.2905, 'group': '1', 'calcdate': '15.07.2021'}, {'exchangedate': '15.07.2021', 'r030': 840, 'cc': 'USD', 'txt': 'Долар США', 'enname': 'US Dollar', 'rate': 27.3047, 'units': 1, 'rate_per_unit': 27.3047, 'group': '1', 'calcdate': '14.07.2021'}, {'exchangedate': '14.07.2021', 'r030': 840, 'cc': 'USD', 'txt': 'Долар США', 'enname': 'US Dollar', 'rate': 27.3216, 'units': 1, 'rate_per_unit': 27.3216, 'group': '1', 'calcdate': '13.07.2021'}, {'exchangedate': '13.07.2021', 'r030': 840, 'cc': 'USD', 'txt': 'Долар США', 'enname': 'US Dollar', 'rate': 27.2904, 'units': 1, 'rate_per_unit': 27.2904, 'group': '1', 'calcdate': '12.07.2021'}, {'exchangedate': '12.07.2021', 'r030': 840, 'cc': 'USD', 'txt': 'Долар США', 'enname': 'US Dollar', 'rate': 27.3234, 'units': 1, 'rate_per_unit': 27.3234, 'group': '1', 'calcdate': '09.07.2021'}, {'exchangedate': '11.07.2021', 'r030': 840, 'cc': 'USD', 'txt': 'Долар США', 'enname': 'US Dollar', 'rate': 27.2862, 'units': 1, 'rate_per_unit': 27.2862, 'group': '1', 'calcdate': '08.07.2021'}, {'exchangedate': '10.07.2021', 'r030': 840, 'cc': 'USD', 'txt': 'Долар США', 'enname': 'US Dollar', 'rate': 27.2862, 'units': 1, 'rate_per_unit': 27.2862, 'group': '1', 'calcdate': '08.07.2021'}, {'exchangedate': '09.07.2021', 'r030': 840, 'cc': 'USD', 'txt': 'Долар США', 'enname': 'US Dollar', 'rate': 27.2862, 'units': 1, 'rate_per_unit': 27.2862, 'group': '1', 'calcdate': '08.07.2021'}, {'exchangedate': '08.07.2021', 'r030': 840, 'cc': 'USD', 'txt': 'Долар США', 'enname': 'US Dollar', 'rate': 27.2993, 'units': 1, 'rate_per_unit': 27.2993, 'group': '1', 'calcdate': '07.07.2021'}, {'exchangedate': '07.07.2021', 'r030': 840, 'cc': 'USD', 'txt': 'Долар США', 'enname': 'US Dollar', 'rate': 27.2497, 'units': 1, 'rate_per_unit': 27.2497, 'group': '1', 'calcdate': '06.07.2021'}, {'exchangedate': '06.07.2021', 'r030': 840, 'cc': 'USD', 'txt': 'Долар США', 'enname': 'US Dollar', 'rate': 27.2904, 'units': 1, 'rate_per_unit': 27.2904, 'group': '1', 'calcdate': '05.07.2021'}, {'exchangedate': '05.07.2021', 'r030': 840, 'cc': 'USD', 'txt': 'Долар США', 'enname': 'US Dollar', 'rate': 27.4121, 'units': 1, 'rate_per_unit': 27.4121, 'group': '1', 'calcdate': '02.07.2021'}, {'exchangedate': '04.07.2021', 'r030': 840, 'cc': 'USD', 'txt': 'Долар США', 'enname': 'US Dollar', 'rate': 27.3841, 'units': 1, 'rate_per_unit': 27.3841, 'group': '1', 'calcdate': '01.07.2021'}, {'exchangedate': '03.07.2021', 'r030': 840, 'cc': 'USD', 'txt': 'Долар США', 'enname': 'US Dollar', 'rate': 27.3841, 'units': 1, 'rate_per_unit': 27.3841, 'group': '1', 'calcdate': '01.07.2021'}, {'exchangedate': '02.07.2021', 'r030': 840, 'cc': 'USD', 'txt': 'Долар США', 'enname': 'US Dollar', 'rate': 27.3841, 'units': 1, 'rate_per_unit': 27.3841, 'group': '1', 'calcdate': '01.07.2021'}, {'exchangedate': '01.07.2021', 'r030': 840, 'cc': 'USD', 'txt': 'Долар США', 'enname': 'US Dollar', 'rate': 27.2275, 'units': 1, 'rate_per_unit': 27.2275, 'group': '1', 'calcdate': '30.06.2021'}, {'exchangedate': '30.06.2021', 'r030': 840, 'cc': 'USD', 'txt': 'Долар США', 'enname': 'US Dollar', 'rate': 27.1763, 'units': 1, 'rate_per_unit': 27.1763, 'group': '1', 'calcdate': '29.06.2021'}, {'exchangedate': '29.06.2021', 'r030': 840, 'cc': 'USD', 'txt': 'Долар США', 'enname': 'US Dollar', 'rate': 27.3964, 'units': 1, 'rate_per_unit': 27.3964, 'group': '1', 'calcdate': '25.06.2021'}, {'exchangedate': '28.06.2021', 'r030': 840, 'cc': 'USD', 'txt': 'Долар США', 'enname': 'US Dollar', 'rate': 27.4589, 'units': 1, 'rate_per_unit': 27.4589, 'group': '1', 'calcdate': '24.06.2021'}, {'exchangedate': '27.06.2021', 'r030': 840, 'cc': 'USD', 'txt': 'Долар США', 'enname': 'US Dollar', 'rate': 27.4589, 'units': 1, 'rate_per_unit': 27.4589, 'group': '1', 'calcdate': '24.06.2021'}, {'exchangedate': '26.06.2021', 'r030': 840, 'cc': 'USD', 'txt': 'Долар США', 'enname': 'US Dollar', 'rate': 27.4589, 'units': 1, 'rate_per_unit': 27.4589, 'group': '1', 'calcdate': '24.06.2021'}, {'exchangedate': '25.06.2021', 'r030': 840, 'cc': 'USD', 'txt': 'Долар США', 'enname': 'US Dollar', 'rate': 27.4589, 'units': 1, 'rate_per_unit': 27.4589, 'group': '1', 'calcdate': '24.06.2021'}, {'exchangedate': '24.06.2021', 'r030': 840, 'cc': 'USD', 'txt': 'Долар США', 'enname': 'US Dollar', 'rate': 27.2737, 'units': 1, 'rate_per_unit': 27.2737, 'group': '1', 'calcdate': '23.06.2021'}, {'exchangedate': '23.06.2021', 'r030': 840, 'cc': 'USD', 'txt': 'Долар США', 'enname': 'US Dollar', 'rate': 27.305, 'units': 1, 'rate_per_unit': 27.305, 'group': '1', 'calcdate': '22.06.2021'}, {'exchangedate': '22.06.2021', 'r030': 840, 'cc': 'USD', 'txt': 'Долар США', 'enname': 'US Dollar', 'rate': 27.1935, 'units': 1, 'rate_per_unit': 27.1935, 'group': '1', 'calcdate': '18.06.2021'}, {'exchangedate': '21.06.2021', 'r030': 840, 'cc': 'USD', 'txt': 'Долар США', 'enname': 'US Dollar', 'rate': 27.1712, 'units': 1, 'rate_per_unit': 27.1712, 'group': '1', 'calcdate': '17.06.2021'}, {'exchangedate': '20.06.2021', 'r030': 840, 'cc': 'USD', 'txt': 'Долар США', 'enname': 'US Dollar', 'rate': 27.1712, 'units': 1, 'rate_per_unit': 27.1712, 'group': '1', 'calcdate': '17.06.2021'}, {'exchangedate': '19.06.2021', 'r030': 840, 'cc': 'USD', 'txt': 'Долар США', 'enname': 'US Dollar', 'rate': 27.1712, 'units': 1, 'rate_per_unit': 27.1712, 'group': '1', 'calcdate': '17.06.2021'}, {'exchangedate': '18.06.2021', 'r030': 840, 'cc': 'USD', 'txt': 'Долар США', 'enname': 'US Dollar', 'rate': 27.1712, 'units': 1, 'rate_per_unit': 27.1712, 'group': '1', 'calcdate': '17.06.2021'}, {'exchangedate': '17.06.2021', 'r030': 840, 'cc': 'USD', 'txt': 'Долар США', 'enname': 'US Dollar', 'rate': 27.0275, 'units': 1, 'rate_per_unit': 27.0275, 'group': '1', 'calcdate': '16.06.2021'}, {'exchangedate': '16.06.2021', 'r030': 840, 'cc': 'USD', 'txt': 'Долар США', 'enname': 'US Dollar', 'rate': 26.9258, 'units': 1, 'rate_per_unit': 26.9258, 'group': '1', 'calcdate': '15.06.2021'}, {'exchangedate': '15.06.2021', 'r030': 840, 'cc': 'USD', 'txt': 'Долар США', 'enname': 'US Dollar', 'rate': 26.9957, 'units': 1, 'rate_per_unit': 26.9957, 'group': '1', 'calcdate': '14.06.2021'}, {'exchangedate': '14.06.2021', 'r030': 840, 'cc': 'USD', 'txt': 'Долар США', 'enname': 'US Dollar', 'rate': 27.0404, 'units': 1, 'rate_per_unit': 27.0404, 'group': '1', 'calcdate': '11.06.2021'}, {'exchangedate': '13.06.2021', 'r030': 840, 'cc': 'USD', 'txt': 'Долар США', 'enname': 'US Dollar', 'rate': 27.1068, 'units': 1, 'rate_per_unit': 27.1068, 'group': '1', 'calcdate': '10.06.2021'}, {'exchangedate': '12.06.2021', 'r030': 840, 'cc': 'USD', 'txt': 'Долар США', 'enname': 'US Dollar', 'rate': 27.1068, 'units': 1, 'rate_per_unit': 27.1068, 'group': '1', 'calcdate': '10.06.2021'}, {'exchangedate': '11.06.2021', 'r030': 840, 'cc': 'USD', 'txt': 'Долар США', 'enname': 'US Dollar', 'rate': 27.1068, 'units': 1, 'rate_per_unit': 27.1068, 'group': '1', 'calcdate': '10.06.2021'}, {'exchangedate': '10.06.2021', 'r030': 840, 'cc': 'USD', 'txt': 'Долар США', 'enname': 'US Dollar', 'rate': 27.0906, 'units': 1, 'rate_per_unit': 27.0906, 'group': '1', 'calcdate': '09.06.2021'}, {'exchangedate': '09.06.2021', 'r030': 840, 'cc': 'USD', 'txt': 'Долар США', 'enname': 'US Dollar', 'rate': 27.1764, 'units': 1, 'rate_per_unit': 27.1764, 'group': '1', 'calcdate': '08.06.2021'}, {'exchangedate': '08.06.2021', 'r030': 840, 'cc': 'USD', 'txt': 'Долар США', 'enname': 'US Dollar', 'rate': 27.1923, 'units': 1, 'rate_per_unit': 27.1923, 'group': '1', 'calcdate': '07.06.2021'}, {'exchangedate': '07.06.2021', 'r030': 840, 'cc': 'USD', 'txt': 'Долар США', 'enname': 'US Dollar', 'rate': 27.2914, 'units': 1, 'rate_per_unit': 27.2914, 'group': '1', 'calcdate': '04.06.2021'}, {'exchangedate': '06.06.2021', 'r030': 840, 'cc': 'USD', 'txt': 'Долар США', 'enname': 'US Dollar', 'rate': 27.34, 'units': 1, 'rate_per_unit': 27.34, 'group': '1', 'calcdate': '03.06.2021'}, {'exchangedate': '05.06.2021', 'r030': 840, 'cc': 'USD', 'txt': 'Долар США', 'enname': 'US Dollar', 'rate': 27.34, 'units': 1, 'rate_per_unit': 27.34, 'group': '1', 'calcdate': '03.06.2021'}, {'exchangedate': '04.06.2021', 'r030': 840, 'cc': 'USD', 'txt': 'Долар США', 'enname': 'US Dollar', 'rate': 27.34, 'units': 1, 'rate_per_unit': 27.34, 'group': '1', 'calcdate': '03.06.2021'}, {'exchangedate': '03.06.2021', 'r030': 840, 'cc': 'USD', 'txt': 'Долар США', 'enname': 'US Dollar', 'rate': 27.3449, 'units': 1, 'rate_per_unit': 27.3449, 'group': '1', 'calcdate': '02.06.2021'}, {'exchangedate': '02.06.2021', 'r030': 840, 'cc': 'USD', 'txt': 'Долар США', 'enname': 'US Dollar', 'rate': 27.4381, 'units': 1, 'rate_per_unit': 27.4381, 'group': '1', 'calcdate': '01.06.2021'}, {'exchangedate': '01.06.2021', 'r030': 840, 'cc': 'USD', 'txt': 'Долар США', 'enname': 'US Dollar', 'rate': 27.4674, 'units': 1, 'rate_per_unit': 27.4674, 'group': '1', 'calcdate': '31.05.2021'}, {'exchangedate': '31.05.2021', 'r030': 840, 'cc': 'USD', 'txt': 'Долар США', 'enname': 'US Dollar', 'rate': 27.5004, 'units': 1, 'rate_per_unit': 27.5004, 'group': '1', 'calcdate': '28.05.2021'}, {'exchangedate': '30.05.2021', 'r030': 840, 'cc': 'USD', 'txt': 'Долар США', 'enname': 'US Dollar', 'rate': 27.526, 'units': 1, 'rate_per_unit': 27.526, 'group': '1', 'calcdate': '27.05.2021'}, {'exchangedate': '29.05.2021', 'r030': 840, 'cc': 'USD', 'txt': 'Долар США', 'enname': 'US Dollar', 'rate': 27.526, 'units': 1, 'rate_per_unit': 27.526, 'group': '1', 'calcdate': '27.05.2021'}, {'exchangedate': '28.05.2021', 'r030': 840, 'cc': 'USD', 'txt': 'Долар США', 'enname': 'US Dollar', 'rate': 27.526, 'units': 1, 'rate_per_unit': 27.526, 'group': '1', 'calcdate': '27.05.2021'}, {'exchangedate': '27.05.2021', 'r030': 840, 'cc': 'USD', 'txt': 'Долар США', 'enname': 'US Dollar', 'rate': 27.5461, 'units': 1, 'rate_per_unit': 27.5461, 'group': '1', 'calcdate': '26.05.2021'}, {'exchangedate': '26.05.2021', 'r030': 840, 'cc': 'USD', 'txt': 'Долар США', 'enname': 'US Dollar', 'rate': 27.4553, 'units': 1, 'rate_per_unit': 27.4553, 'group': '1', 'calcdate': '25.05.2021'}, {'exchangedate': '25.05.2021', 'r030': 840, 'cc': 'USD', 'txt': 'Долар США', 'enname': 'US Dollar', 'rate': 27.4281, 'units': 1, 'rate_per_unit': 27.4281, 'group': '1', 'calcdate': '24.05.2021'}, {'exchangedate': '24.05.2021', 'r030': 840, 'cc': 'USD', 'txt': 'Долар США', 'enname': 'US Dollar', 'rate': 27.4572, 'units': 1, 'rate_per_unit': 27.4572, 'group': '1', 'calcdate': '21.05.2021'}, {'exchangedate': '23.05.2021', 'r030': 840, 'cc': 'USD', 'txt': 'Долар США', 'enname': 'US Dollar', 'rate': 27.4665, 'units': 1, 'rate_per_unit': 27.4665, 'group': '1', 'calcdate': '20.05.2021'}, {'exchangedate': '22.05.2021', 'r030': 840, 'cc': 'USD', 'txt': 'Долар США', 'enname': 'US Dollar', 'rate': 27.4665, 'units': 1, 'rate_per_unit': 27.4665, 'group': '1', 'calcdate': '20.05.2021'}, {'exchangedate': '21.05.2021', 'r030': 840, 'cc': 'USD', 'txt': 'Долар США', 'enname': 'US Dollar', 'rate': 27.4665, 'units': 1, 'rate_per_unit': 27.4665, 'group': '1', 'calcdate': '20.05.2021'}, {'exchangedate': '20.05.2021', 'r030': 840, 'cc': 'USD', 'txt': 'Долар США', 'enname': 'US Dollar', 'rate': 27.4166, 'units': 1, 'rate_per_unit': 27.4166, 'group': '1', 'calcdate': '19.05.2021'}, {'exchangedate': '19.05.2021', 'r030': 840, 'cc': 'USD', 'txt': 'Долар США', 'enname': 'US Dollar', 'rate': 27.4368, 'units': 1, 'rate_per_unit': 27.4368, 'group': '1', 'calcdate': '18.05.2021'}, {'exchangedate': '18.05.2021', 'r030': 840, 'cc': 'USD', 'txt': 'Долар США', 'enname': 'US Dollar', 'rate': 27.555, 'units': 1, 'rate_per_unit': 27.555, 'group': '1', 'calcdate': '17.05.2021'}, {'exchangedate': '17.05.2021', 'r030': 840, 'cc': 'USD', 'txt': 'Долар США', 'enname': 'US Dollar', 'rate': 27.6142, 'units': 1, 'rate_per_unit': 27.6142, 'group': '1', 'calcdate': '14.05.2021'}, {'exchangedate': '16.05.2021', 'r030': 840, 'cc': 'USD', 'txt': 'Долар США', 'enname': 'US Dollar', 'rate': 27.6273, 'units': 1, 'rate_per_unit': 27.6273, 'group': '1', 'calcdate': '13.05.2021'}, {'exchangedate': '15.05.2021', 'r030': 840, 'cc': 'USD', 'txt': 'Долар США', 'enname': 'US Dollar', 'rate': 27.6273, 'units': 1, 'rate_per_unit': 27.6273, 'group': '1', 'calcdate': '13.05.2021'}, {'exchangedate': '14.05.2021', 'r030': 840, 'cc': 'USD', 'txt': 'Долар США', 'enname': 'US Dollar', 'rate': 27.6273, 'units': 1, 'rate_per_unit': 27.6273, 'group': '1', 'calcdate': '13.05.2021'}, {'exchangedate': '13.05.2021', 'r030': 840, 'cc': 'USD', 'txt': 'Долар США', 'enname': 'US Dollar', 'rate': 27.6318, 'units': 1, 'rate_per_unit': 27.6318, 'group': '1', 'calcdate': '12.05.2021'}, {'exchangedate': '12.05.2021', 'r030': 840, 'cc': 'USD', 'txt': 'Долар США', 'enname': 'US Dollar', 'rate': 27.6744, 'units': 1, 'rate_per_unit': 27.6744, 'group': '1', 'calcdate': '11.05.2021'}, {'exchangedate': '11.05.2021', 'r030': 840, 'cc': 'USD', 'txt': 'Долар США', 'enname': 'US Dollar', 'rate': 27.7641, 'units': 1, 'rate_per_unit': 27.7641, 'group': '1', 'calcdate': '07.05.2021'}, {'exchangedate': '10.05.2021', 'r030': 840, 'cc': 'USD', 'txt': 'Долар США', 'enname': 'US Dollar', 'rate': 27.7205, 'units': 1, 'rate_per_unit': 27.7205, 'group': '1', 'calcdate': '06.05.2021'}, {'exchangedate': '09.05.2021', 'r030': 840, 'cc': 'USD', 'txt': 'Долар США', 'enname': 'US Dollar', 'rate': 27.7205, 'units': 1, 'rate_per_unit': 27.7205, 'group': '1', 'calcdate': '06.05.2021'}, {'exchangedate': '08.05.2021', 'r030': 840, 'cc': 'USD', 'txt': 'Долар США', 'enname': 'US Dollar', 'rate': 27.7205, 'units': 1, 'rate_per_unit': 27.7205, 'group': '1', 'calcdate': '06.05.2021'}, {'exchangedate': '07.05.2021', 'r030': 840, 'cc': 'USD', 'txt': 'Долар США', 'enname': 'US Dollar', 'rate': 27.7205, 'units': 1, 'rate_per_unit': 27.7205, 'group': '1', 'calcdate': '06.05.2021'}, {'exchangedate': '06.05.2021', 'r030': 840, 'cc': 'USD', 'txt': 'Долар США', 'enname': 'US Dollar', 'rate': 27.7339, 'units': 1, 'rate_per_unit': 27.7339, 'group': '1', 'calcdate': '05.05.2021'}, {'exchangedate': '05.05.2021', 'r030': 840, 'cc': 'USD', 'txt': 'Долар США', 'enname': 'US Dollar', 'rate': 27.733, 'units': 1, 'rate_per_unit': 27.733, 'group': '1', 'calcdate': '30.04.2021'}, {'exchangedate': '04.05.2021', 'r030': 840, 'cc': 'USD', 'txt': 'Долар США', 'enname': 'US Dollar', 'rate': 27.75, 'units': 1, 'rate_per_unit': 27.75, 'group': '1', 'calcdate': '29.04.2021'}, {'exchangedate': '03.05.2021', 'r030': 840, 'cc': 'USD', 'txt': 'Долар США', 'enname': 'US Dollar', 'rate': 27.75, 'units': 1, 'rate_per_unit': 27.75, 'group': '1', 'calcdate': '29.04.2021'}, {'exchangedate': '02.05.2021', 'r030': 840, 'cc': 'USD', 'txt': 'Долар США', 'enname': 'US Dollar', 'rate': 27.75, 'units': 1, 'rate_per_unit': 27.75, 'group': '1', 'calcdate': '29.04.2021'}, {'exchangedate': '01.05.2021', 'r030': 840, 'cc': 'USD', 'txt': 'Долар США', 'enname': 'US Dollar', 'rate': 27.75, 'units': 1, 'rate_per_unit': 27.75, 'group': '1', 'calcdate': '29.04.2021'}, {'exchangedate': '30.04.2021', 'r030': 840, 'cc': 'USD', 'txt': 'Долар США', 'enname': 'US Dollar', 'rate': 27.75, 'units': 1, 'rate_per_unit': 27.75, 'group': '1', 'calcdate': '29.04.2021'}, {'exchangedate': '29.04.2021', 'r030': 840, 'cc': 'USD', 'txt': 'Долар США', 'enname': 'US Dollar', 'rate': 27.7867, 'units': 1, 'rate_per_unit': 27.7867, 'group': '1', 'calcdate': '28.04.2021'}, {'exchangedate': '28.04.2021', 'r030': 840, 'cc': 'USD', 'txt': 'Долар США', 'enname': 'US Dollar', 'rate': 27.7715, 'units': 1, 'rate_per_unit': 27.7715, 'group': '1', 'calcdate': '27.04.2021'}, {'exchangedate': '27.04.2021', 'r030': 840, 'cc': 'USD', 'txt': 'Долар США', 'enname': 'US Dollar', 'rate': 27.8558, 'units': 1, 'rate_per_unit': 27.8558, 'group': '1', 'calcdate': '26.04.2021'}, {'exchangedate': '26.04.2021', 'r030': 840, 'cc': 'USD', 'txt': 'Долар США', 'enname': 'US Dollar', 'rate': 27.9014, 'units': 1, 'rate_per_unit': 27.9014, 'group': '1', 'calcdate': '23.04.2021'}, {'exchangedate': '25.04.2021', 'r030': 840, 'cc': 'USD', 'txt': 'Долар США', 'enname': 'US Dollar', 'rate': 28.0642, 'units': 1, 'rate_per_unit': 28.0642, 'group': '1', 'calcdate': '22.04.2021'}, {'exchangedate': '24.04.2021', 'r030': 840, 'cc': 'USD', 'txt': 'Долар США', 'enname': 'US Dollar', 'rate': 28.0642, 'units': 1, 'rate_per_unit': 28.0642, 'group': '1', 'calcdate': '22.04.2021'}, {'exchangedate': '23.04.2021', 'r030': 840, 'cc': 'USD', 'txt': 'Долар США', 'enname': 'US Dollar', 'rate': 28.0642, 'units': 1, 'rate_per_unit': 28.0642, 'group': '1', 'calcdate': '22.04.2021'}, {'exchangedate': '22.04.2021', 'r030': 840, 'cc': 'USD', 'txt': 'Долар США', 'enname': 'US Dollar', 'rate': 28.0576, 'units': 1, 'rate_per_unit': 28.0576, 'group': '1', 'calcdate': '21.04.2021'}, {'exchangedate': '21.04.2021', 'r030': 840, 'cc': 'USD', 'txt': 'Долар США', 'enname': 'US Dollar', 'rate': 28.0096, 'units': 1, 'rate_per_unit': 28.0096, 'group': '1', 'calcdate': '20.04.2021'}, {'exchangedate': '20.04.2021', 'r030': 840, 'cc': 'USD', 'txt': 'Долар США', 'enname': 'US Dollar', 'rate': 28.0087, 'units': 1, 'rate_per_unit': 28.0087, 'group': '1', 'calcdate': '19.04.2021'}, {'exchangedate': '19.04.2021', 'r030': 840, 'cc': 'USD', 'txt': 'Долар США', 'enname': 'US Dollar', 'rate': 27.9783, 'units': 1, 'rate_per_unit': 27.9783, 'group': '1', 'calcdate': '16.04.2021'}, {'exchangedate': '18.04.2021', 'r030': 840, 'cc': 'USD', 'txt': 'Долар США', 'enname': 'US Dollar', 'rate': 27.9592, 'units': 1, 'rate_per_unit': 27.9592, 'group': '1', 'calcdate': '15.04.2021'}, {'exchangedate': '17.04.2021', 'r030': 840, 'cc': 'USD', 'txt': 'Долар США', 'enname': 'US Dollar', 'rate': 27.9592, 'units': 1, 'rate_per_unit': 27.9592, 'group': '1', 'calcdate': '15.04.2021'}, {'exchangedate': '16.04.2021', 'r030': 840, 'cc': 'USD', 'txt': 'Долар США', 'enname': 'US Dollar', 'rate': 27.9592, 'units': 1, 'rate_per_unit': 27.9592, 'group': '1', 'calcdate': '15.04.2021'}, {'exchangedate': '15.04.2021', 'r030': 840, 'cc': 'USD', 'txt': 'Долар США', 'enname': 'US Dollar', 'rate': 27.9765, 'units': 1, 'rate_per_unit': 27.9765, 'group': '1', 'calcdate': '14.04.2021'}, {'exchangedate': '14.04.2021', 'r030': 840, 'cc': 'USD', 'txt': 'Долар США', 'enname': 'US Dollar', 'rate': 28.0156, 'units': 1, 'rate_per_unit': 28.0156, 'group': '1', 'calcdate': '13.04.2021'}, {'exchangedate': '13.04.2021', 'r030': 840, 'cc': 'USD', 'txt': 'Долар США', 'enname': 'US Dollar', 'rate': 27.9335, 'units': 1, 'rate_per_unit': 27.9335, 'group': '1', 'calcdate': '12.04.2021'}, {'exchangedate': '12.04.2021', 'r030': 840, 'cc': 'USD', 'txt': 'Долар США', 'enname': 'US Dollar', 'rate': 27.9094, 'units': 1, 'rate_per_unit': 27.9094, 'group': '1', 'calcdate': '09.04.2021'}, {'exchangedate': '11.04.2021', 'r030': 840, 'cc': 'USD', 'txt': 'Долар США', 'enname': 'US Dollar', 'rate': 27.9768, 'units': 1, 'rate_per_unit': 27.9768, 'group': '1', 'calcdate': '08.04.2021'}, {'exchangedate': '10.04.2021', 'r030': 840, 'cc': 'USD', 'txt': 'Долар США', 'enname': 'US Dollar', 'rate': 27.9768, 'units': 1, 'rate_per_unit': 27.9768, 'group': '1', 'calcdate': '08.04.2021'}, {'exchangedate': '09.04.2021', 'r030': 840, 'cc': 'USD', 'txt': 'Долар США', 'enname': 'US Dollar', 'rate': 27.9768, 'units': 1, 'rate_per_unit': 27.9768, 'group': '1', 'calcdate': '08.04.2021'}, {'exchangedate': '08.04.2021', 'r030': 840, 'cc': 'USD', 'txt': 'Долар США', 'enname': 'US Dollar', 'rate': 27.8923, 'units': 1, 'rate_per_unit': 27.8923, 'group': '1', 'calcdate': '07.04.2021'}, {'exchangedate': '07.04.2021', 'r030': 840, 'cc': 'USD', 'txt': 'Долар США', 'enname': 'US Dollar', 'rate': 27.8384, 'units': 1, 'rate_per_unit': 27.8384, 'group': '1', 'calcdate': '06.04.2021'}, {'exchangedate': '06.04.2021', 'r030': 840, 'cc': 'USD', 'txt': 'Долар США', 'enname': 'US Dollar', 'rate': 27.939, 'units': 1, 'rate_per_unit': 27.939, 'group': '1', 'calcdate': '05.04.2021'}, {'exchangedate': '05.04.2021', 'r030': 840, 'cc': 'USD', 'txt': 'Долар США', 'enname': 'US Dollar', 'rate': 27.9555, 'units': 1, 'rate_per_unit': 27.9555, 'group': '1', 'calcdate': '02.04.2021'}, {'exchangedate': '04.04.2021', 'r030': 840, 'cc': 'USD', 'txt': 'Долар США', 'enname': 'US Dollar', 'rate': 27.8324, 'units': 1, 'rate_per_unit': 27.8324, 'group': '1', 'calcdate': '01.04.2021'}, {'exchangedate': '03.04.2021', 'r030': 840, 'cc': 'USD', 'txt': 'Долар США', 'enname': 'US Dollar', 'rate': 27.8324, 'units': 1, 'rate_per_unit': 27.8324, 'group': '1', 'calcdate': '01.04.2021'}, {'exchangedate': '02.04.2021', 'r030': 840, 'cc': 'USD', 'txt': 'Долар США', 'enname': 'US Dollar', 'rate': 27.8324, 'units': 1, 'rate_per_unit': 27.8324, 'group': '1', 'calcdate': '01.04.2021'}, {'exchangedate': '01.04.2021', 'r030': 840, 'cc': 'USD', 'txt': 'Долар США', 'enname': 'US Dollar', 'rate': 27.8226, 'units': 1, 'rate_per_unit': 27.8226, 'group': '1', 'calcdate': '31.03.2021'}, {'exchangedate': '31.03.2021', 'r030': 840, 'cc': 'USD', 'txt': 'Долар США', 'enname': 'US Dollar', 'rate': 27.8852, 'units': 1, 'rate_per_unit': 27.8852, 'group': '1', 'calcdate': '30.03.2021'}, {'exchangedate': '30.03.2021', 'r030': 840, 'cc': 'USD', 'txt': 'Долар США', 'enname': 'US Dollar', 'rate': 27.9694, 'units': 1, 'rate_per_unit': 27.9694, 'group': '1', 'calcdate': '29.03.2021'}, {'exchangedate': '29.03.2021', 'r030': 840, 'cc': 'USD', 'txt': 'Долар США', 'enname': 'US Dollar', 'rate': 27.9679, 'units': 1, 'rate_per_unit': 27.9679, 'group': '1', 'calcdate': '26.03.2021'}, {'exchangedate': '28.03.2021', 'r030': 840, 'cc': 'USD', 'txt': 'Долар США', 'enname': 'US Dollar', 'rate': 27.9698, 'units': 1, 'rate_per_unit': 27.9698, 'group': '1', 'calcdate': '25.03.2021'}, {'exchangedate': '27.03.2021', 'r030': 840, 'cc': 'USD', 'txt': 'Долар США', 'enname': 'US Dollar', 'rate': 27.9698, 'units': 1, 'rate_per_unit': 27.9698, 'group': '1', 'calcdate': '25.03.2021'}, {'exchangedate': '26.03.2021', 'r030': 840, 'cc': 'USD', 'txt': 'Долар США', 'enname': 'US Dollar', 'rate': 27.9698, 'units': 1, 'rate_per_unit': 27.9698, 'group': '1', 'calcdate': '25.03.2021'}, {'exchangedate': '25.03.2021', 'r030': 840, 'cc': 'USD', 'txt': 'Долар США', 'enname': 'US Dollar', 'rate': 27.8706, 'units': 1, 'rate_per_unit': 27.8706, 'group': '1', 'calcdate': '24.03.2021'}, {'exchangedate': '24.03.2021', 'r030': 840, 'cc': 'USD', 'txt': 'Долар США', 'enname': 'US Dollar', 'rate': 27.7295, 'units': 1, 'rate_per_unit': 27.7295, 'group': '1', 'calcdate': '23.03.2021'}, {'exchangedate': '23.03.2021', 'r030': 840, 'cc': 'USD', 'txt': 'Долар США', 'enname': 'US Dollar', 'rate': 27.6871, 'units': 1, 'rate_per_unit': 27.6871, 'group': '1', 'calcdate': '22.03.2021'}, {'exchangedate': '22.03.2021', 'r030': 840, 'cc': 'USD', 'txt': 'Долар США', 'enname': 'US Dollar', 'rate': 27.7184, 'units': 1, 'rate_per_unit': 27.7184, 'group': '1', 'calcdate': '19.03.2021'}, {'exchangedate': '21.03.2021', 'r030': 840, 'cc': 'USD', 'txt': 'Долар США', 'enname': 'US Dollar', 'rate': 27.6828, 'units': 1, 'rate_per_unit': 27.6828, 'group': '1', 'calcdate': '18.03.2021'}, {'exchangedate': '20.03.2021', 'r030': 840, 'cc': 'USD', 'txt': 'Долар США', 'enname': 'US Dollar', 'rate': 27.6828, 'units': 1, 'rate_per_unit': 27.6828, 'group': '1', 'calcdate': '18.03.2021'}, {'exchangedate': '19.03.2021', 'r030': 840, 'cc': 'USD', 'txt': 'Долар США', 'enname': 'US Dollar', 'rate': 27.6828, 'units': 1, 'rate_per_unit': 27.6828, 'group': '1', 'calcdate': '18.03.2021'}, {'exchangedate': '18.03.2021', 'r030': 840, 'cc': 'USD', 'txt': 'Долар США', 'enname': 'US Dollar', 'rate': 27.6978, 'units': 1, 'rate_per_unit': 27.6978, 'group': '1', 'calcdate': '17.03.2021'}, {'exchangedate': '17.03.2021', 'r030': 840, 'cc': 'USD', 'txt': 'Долар США', 'enname': 'US Dollar', 'rate': 27.6525, 'units': 1, 'rate_per_unit': 27.6525, 'group': '1', 'calcdate': '16.03.2021'}, {'exchangedate': '16.03.2021', 'r030': 840, 'cc': 'USD', 'txt': 'Долар США', 'enname': 'US Dollar', 'rate': 27.6434, 'units': 1, 'rate_per_unit': 27.6434, 'group': '1', 'calcdate': '15.03.2021'}, {'exchangedate': '15.03.2021', 'r030': 840, 'cc': 'USD', 'txt': 'Долар США', 'enname': 'US Dollar', 'rate': 27.7305, 'units': 1, 'rate_per_unit': 27.7305, 'group': '1', 'calcdate': '12.03.2021'}, {'exchangedate': '14.03.2021', 'r030': 840, 'cc': 'USD', 'txt': 'Долар США', 'enname': 'US Dollar', 'rate': 27.7486, 'units': 1, 'rate_per_unit': 27.7486, 'group': '1', 'calcdate': '11.03.2021'}, {'exchangedate': '13.03.2021', 'r030': 840, 'cc': 'USD', 'txt': 'Долар США', 'enname': 'US Dollar', 'rate': 27.7486, 'units': 1, 'rate_per_unit': 27.7486, 'group': '1', 'calcdate': '11.03.2021'}, {'exchangedate': '12.03.2021', 'r030': 840, 'cc': 'USD', 'txt': 'Долар США', 'enname': 'US Dollar', 'rate': 27.7486, 'units': 1, 'rate_per_unit': 27.7486, 'group': '1', 'calcdate': '11.03.2021'}, {'exchangedate': '11.03.2021', 'r030': 840, 'cc': 'USD', 'txt': 'Долар США', 'enname': 'US Dollar', 'rate': 27.7016, 'units': 1, 'rate_per_unit': 27.7016, 'group': '1', 'calcdate': '10.03.2021'}, {'exchangedate': '10.03.2021', 'r030': 840, 'cc': 'USD', 'txt': 'Долар США', 'enname': 'US Dollar', 'rate': 27.7431, 'units': 1, 'rate_per_unit': 27.7431, 'group': '1', 'calcdate': '09.03.2021'}, {'exchangedate': '09.03.2021', 'r030': 840, 'cc': 'USD', 'txt': 'Долар США', 'enname': 'US Dollar', 'rate': 27.7091, 'units': 1, 'rate_per_unit': 27.7091, 'group': '1', 'calcdate': '05.03.2021'}, {'exchangedate': '08.03.2021', 'r030': 840, 'cc': 'USD', 'txt': 'Долар США', 'enname': 'US Dollar', 'rate': 27.7564, 'units': 1, 'rate_per_unit': 27.7564, 'group': '1', 'calcdate': '04.03.2021'}, {'exchangedate': '07.03.2021', 'r030': 840, 'cc': 'USD', 'txt': 'Долар США', 'enname': 'US Dollar', 'rate': 27.7564, 'units': 1, 'rate_per_unit': 27.7564, 'group': '1', 'calcdate': '04.03.2021'}, {'exchangedate': '06.03.2021', 'r030': 840, 'cc': 'USD', 'txt': 'Долар США', 'enname': 'US Dollar', 'rate': 27.7564, 'units': 1, 'rate_per_unit': 27.7564, 'group': '1', 'calcdate': '04.03.2021'}, {'exchangedate': '05.03.2021', 'r030': 840, 'cc': 'USD', 'txt': 'Долар США', 'enname': 'US Dollar', 'rate': 27.7564, 'units': 1, 'rate_per_unit': 27.7564, 'group': '1', 'calcdate': '04.03.2021'}, {'exchangedate': '04.03.2021', 'r030': 840, 'cc': 'USD', 'txt': 'Долар США', 'enname': 'US Dollar', 'rate': 27.8477, 'units': 1, 'rate_per_unit': 27.8477, 'group': '1', 'calcdate': '03.03.2021'}, {'exchangedate': '03.03.2021', 'r030': 840, 'cc': 'USD', 'txt': 'Долар США', 'enname': 'US Dollar', 'rate': 27.933, 'units': 1, 'rate_per_unit': 27.933, 'group': '1', 'calcdate': '02.03.2021'}, {'exchangedate': '02.03.2021', 'r030': 840, 'cc': 'USD', 'txt': 'Долар США', 'enname': 'US Dollar', 'rate': 28.0007, 'units': 1, 'rate_per_unit': 28.0007, 'group': '1', 'calcdate': '01.03.2021'}, {'exchangedate': '01.03.2021', 'r030': 840, 'cc': 'USD', 'txt': 'Долар США', 'enname': 'US Dollar', 'rate': 27.9456, 'units': 1, 'rate_per_unit': 27.9456, 'group': '1', 'calcdate': '26.02.2021'}, {'exchangedate': '28.02.2021', 'r030': 840, 'cc': 'USD', 'txt': 'Долар США', 'enname': 'US Dollar', 'rate': 27.9301, 'units': 1, 'rate_per_unit': 27.9301, 'group': '1', 'calcdate': '25.02.2021'}, {'exchangedate': '27.02.2021', 'r030': 840, 'cc': 'USD', 'txt': 'Долар США', 'enname': 'US Dollar', 'rate': 27.9301, 'units': 1, 'rate_per_unit': 27.9301, 'group': '1', 'calcdate': '25.02.2021'}, {'exchangedate': '26.02.2021', 'r030': 840, 'cc': 'USD', 'txt': 'Долар США', 'enname': 'US Dollar', 'rate': 27.9301, 'units': 1, 'rate_per_unit': 27.9301, 'group': '1', 'calcdate': '25.02.2021'}, {'exchangedate': '25.02.2021', 'r030': 840, 'cc': 'USD', 'txt': 'Долар США', 'enname': 'US Dollar', 'rate': 27.9492, 'units': 1, 'rate_per_unit': 27.9492, 'group': '1', 'calcdate': '24.02.2021'}, {'exchangedate': '24.02.2021', 'r030': 840, 'cc': 'USD', 'txt': 'Долар США', 'enname': 'US Dollar', 'rate': 27.8976, 'units': 1, 'rate_per_unit': 27.8976, 'group': '1', 'calcdate': '23.02.2021'}, {'exchangedate': '23.02.2021', 'r030': 840, 'cc': 'USD', 'txt': 'Долар США', 'enname': 'US Dollar', 'rate': 27.9304, 'units': 1, 'rate_per_unit': 27.9304, 'group': '1', 'calcdate': '22.02.2021'}, {'exchangedate': '22.02.2021', 'r030': 840, 'cc': 'USD', 'txt': 'Долар США', 'enname': 'US Dollar', 'rate': 27.8468, 'units': 1, 'rate_per_unit': 27.8468, 'group': '1', 'calcdate': '19.02.2021'}, {'exchangedate': '21.02.2021', 'r030': 840, 'cc': 'USD', 'txt': 'Долар США', 'enname': 'US Dollar', 'rate': 27.8461, 'units': 1, 'rate_per_unit': 27.8461, 'group': '1', 'calcdate': '18.02.2021'}, {'exchangedate': '20.02.2021', 'r030': 840, 'cc': 'USD', 'txt': 'Долар США', 'enname': 'US Dollar', 'rate': 27.8461, 'units': 1, 'rate_per_unit': 27.8461, 'group': '1', 'calcdate': '18.02.2021'}, {'exchangedate': '19.02.2021', 'r030': 840, 'cc': 'USD', 'txt': 'Долар США', 'enname': 'US Dollar', 'rate': 27.8461, 'units': 1, 'rate_per_unit': 27.8461, 'group': '1', 'calcdate': '18.02.2021'}, {'exchangedate': '18.02.2021', 'r030': 840, 'cc': 'USD', 'txt': 'Долар США', 'enname': 'US Dollar', 'rate': 27.9038, 'units': 1, 'rate_per_unit': 27.9038, 'group': '1', 'calcdate': '17.02.2021'}, {'exchangedate': '17.02.2021', 'r030': 840, 'cc': 'USD', 'txt': 'Долар США', 'enname': 'US Dollar', 'rate': 27.8304, 'units': 1, 'rate_per_unit': 27.8304, 'group': '1', 'calcdate': '16.02.2021'}, {'exchangedate': '16.02.2021', 'r030': 840, 'cc': 'USD', 'txt': 'Долар США', 'enname': 'US Dollar', 'rate': 27.9671, 'units': 1, 'rate_per_unit': 27.9671, 'group': '1', 'calcdate': '15.02.2021'}, {'exchangedate': '15.02.2021', 'r030': 840, 'cc': 'USD', 'txt': 'Долар США', 'enname': 'US Dollar', 'rate': 27.844, 'units': 1, 'rate_per_unit': 27.844, 'group': '1', 'calcdate': '12.02.2021'}, {'exchangedate': '14.02.2021', 'r030': 840, 'cc': 'USD', 'txt': 'Долар США', 'enname': 'US Dollar', 'rate': 27.8384, 'units': 1, 'rate_per_unit': 27.8384, 'group': '1', 'calcdate': '11.02.2021'}, {'exchangedate': '13.02.2021', 'r030': 840, 'cc': 'USD', 'txt': 'Долар США', 'enname': 'US Dollar', 'rate': 27.8384, 'units': 1, 'rate_per_unit': 27.8384, 'group': '1', 'calcdate': '11.02.2021'}, {'exchangedate': '12.02.2021', 'r030': 840, 'cc': 'USD', 'txt': 'Долар США', 'enname': 'US Dollar', 'rate': 27.8384, 'units': 1, 'rate_per_unit': 27.8384, 'group': '1', 'calcdate': '11.02.2021'}, {'exchangedate': '11.02.2021', 'r030': 840, 'cc': 'USD', 'txt': 'Долар США', 'enname': 'US Dollar', 'rate': 27.7665, 'units': 1, 'rate_per_unit': 27.7665, 'group': '1', 'calcdate': '10.02.2021'}, {'exchangedate': '10.02.2021', 'r030': 840, 'cc': 'USD', 'txt': 'Долар США', 'enname': 'US Dollar', 'rate': 27.6426, 'units': 1, 'rate_per_unit': 27.6426, 'group': '1', 'calcdate': '09.02.2021'}, {'exchangedate': '09.02.2021', 'r030': 840, 'cc': 'USD', 'txt': 'Долар США', 'enname': 'US Dollar', 'rate': 27.6651, 'units': 1, 'rate_per_unit': 27.6651, 'group': '1', 'calcdate': '08.02.2021'}, {'exchangedate': '08.02.2021', 'r030': 840, 'cc': 'USD', 'txt': 'Долар США', 'enname': 'US Dollar', 'rate': 27.7711, 'units': 1, 'rate_per_unit': 27.7711, 'group': '1', 'calcdate': '05.02.2021'}, {'exchangedate': '07.02.2021', 'r030': 840, 'cc': 'USD', 'txt': 'Долар США', 'enname': 'US Dollar', 'rate': 27.8885, 'units': 1, 'rate_per_unit': 27.8885, 'group': '1', 'calcdate': '04.02.2021'}, {'exchangedate': '06.02.2021', 'r030': 840, 'cc': 'USD', 'txt': 'Долар США', 'enname': 'US Dollar', 'rate': 27.8885, 'units': 1, 'rate_per_unit': 27.8885, 'group': '1', 'calcdate': '04.02.2021'}, {'exchangedate': '05.02.2021', 'r030': 840, 'cc': 'USD', 'txt': 'Долар США', 'enname': 'US Dollar', 'rate': 27.8885, 'units': 1, 'rate_per_unit': 27.8885, 'group': '1', 'calcdate': '04.02.2021'}, {'exchangedate': '04.02.2021', 'r030': 840, 'cc': 'USD', 'txt': 'Долар США', 'enname': 'US Dollar', 'rate': 27.995, 'units': 1, 'rate_per_unit': 27.995, 'group': '1', 'calcdate': '03.02.2021'}, {'exchangedate': '03.02.2021', 'r030': 840, 'cc': 'USD', 'txt': 'Долар США', 'enname': 'US Dollar', 'rate': 28.0589, 'units': 1, 'rate_per_unit': 28.0589, 'group': '1', 'calcdate': '02.02.2021'}, {'exchangedate': '02.02.2021', 'r030': 840, 'cc': 'USD', 'txt': 'Долар США', 'enname': 'US Dollar', 'rate': 28.0603, 'units': 1, 'rate_per_unit': 28.0603, 'group': '1', 'calcdate': '01.02.2021'}, {'exchangedate': '01.02.2021', 'r030': 840, 'cc': 'USD', 'txt': 'Долар США', 'enname': 'US Dollar', 'rate': 28.1324, 'units': 1, 'rate_per_unit': 28.1324, 'group': '1', 'calcdate': '29.01.2021'}, {'exchangedate': '31.01.2021', 'r030': 840, 'cc': 'USD', 'txt': 'Долар США', 'enname': 'US Dollar', 'rate': 28.1929, 'units': 1, 'rate_per_unit': 28.1929, 'group': '1', 'calcdate': '28.01.2021'}, {'exchangedate': '30.01.2021', 'r030': 840, 'cc': 'USD', 'txt': 'Долар США', 'enname': 'US Dollar', 'rate': 28.1929, 'units': 1, 'rate_per_unit': 28.1929, 'group': '1', 'calcdate': '28.01.2021'}, {'exchangedate': '29.01.2021', 'r030': 840, 'cc': 'USD', 'txt': 'Долар США', 'enname': 'US Dollar', 'rate': 28.1929, 'units': 1, 'rate_per_unit': 28.1929, 'group': '1', 'calcdate': '28.01.2021'}, {'exchangedate': '28.01.2021', 'r030': 840, 'cc': 'USD', 'txt': 'Долар США', 'enname': 'US Dollar', 'rate': 28.1652, 'units': 1, 'rate_per_unit': 28.1652, 'group': '1', 'calcdate': '27.01.2021'}, {'exchangedate': '27.01.2021', 'r030': 840, 'cc': 'USD', 'txt': 'Долар США', 'enname': 'US Dollar', 'rate': 28.1524, 'units': 1, 'rate_per_unit': 28.1524, 'group': '1', 'calcdate': '26.01.2021'}, {'exchangedate': '26.01.2021', 'r030': 840, 'cc': 'USD', 'txt': 'Долар США', 'enname': 'US Dollar', 'rate': 28.1665, 'units': 1, 'rate_per_unit': 28.1665, 'group': '1', 'calcdate': '25.01.2021'}, {'exchangedate': '25.01.2021', 'r030': 840, 'cc': 'USD', 'txt': 'Долар США', 'enname': 'US Dollar', 'rate': 28.1648, 'units': 1, 'rate_per_unit': 28.1648, 'group': '1', 'calcdate': '22.01.2021'}, {'exchangedate': '24.01.2021', 'r030': 840, 'cc': 'USD', 'txt': 'Долар США', 'enname': 'US Dollar', 'rate': 28.2561, 'units': 1, 'rate_per_unit': 28.2561, 'group': '1', 'calcdate': '21.01.2021'}, {'exchangedate': '23.01.2021', 'r030': 840, 'cc': 'USD', 'txt': 'Долар США', 'enname': 'US Dollar', 'rate': 28.2561, 'units': 1, 'rate_per_unit': 28.2561, 'group': '1', 'calcdate': '21.01.2021'}, {'exchangedate': '22.01.2021', 'r030': 840, 'cc': 'USD', 'txt': 'Долар США', 'enname': 'US Dollar', 'rate': 28.2561, 'units': 1, 'rate_per_unit': 28.2561, 'group': '1', 'calcdate': '21.01.2021'}, {'exchangedate': '21.01.2021', 'r030': 840, 'cc': 'USD', 'txt': 'Долар США', 'enname': 'US Dollar', 'rate': 28.2035, 'units': 1, 'rate_per_unit': 28.2035, 'group': '1', 'calcdate': '20.01.2021'}, {'exchangedate': '20.01.2021', 'r030': 840, 'cc': 'USD', 'txt': 'Долар США', 'enname': 'US Dollar', 'rate': 28.1544, 'units': 1, 'rate_per_unit': 28.1544, 'group': '1', 'calcdate': '19.01.2021'}, {'exchangedate': '19.01.2021', 'r030': 840, 'cc': 'USD', 'txt': 'Долар США', 'enname': 'US Dollar', 'rate': 28.1926, 'units': 1, 'rate_per_unit': 28.1926, 'group': '1', 'calcdate': '18.01.2021'}, {'exchangedate': '18.01.2021', 'r030': 840, 'cc': 'USD', 'txt': 'Долар США', 'enname': 'US Dollar', 'rate': 28.0524, 'units': 1, 'rate_per_unit': 28.0524, 'group': '1', 'calcdate': '16.01.2021'}, {'exchangedate': '17.01.2021', 'r030': 840, 'cc': 'USD', 'txt': 'Долар США', 'enname': 'US Dollar', 'rate': 28.0524, 'units': 1, 'rate_per_unit': 28.0524, 'group': '1', 'calcdate': '15.01.2021'}, {'exchangedate': '16.01.2021', 'r030': 840, 'cc': 'USD', 'txt': 'Долар США', 'enname': 'US Dollar', 'rate': 28.0524, 'units': 1, 'rate_per_unit': 28.0524, 'group': '1', 'calcdate': '15.01.2021'}, {'exchangedate': '15.01.2021', 'r030': 840, 'cc': 'USD', 'txt': 'Долар США', 'enname': 'US Dollar', 'rate': 28.0609, 'units': 1, 'rate_per_unit': 28.0609, 'group': '1', 'calcdate': '14.01.2021'}, {'exchangedate': '14.01.2021', 'r030': 840, 'cc': 'USD', 'txt': 'Долар США', 'enname': 'US Dollar', 'rate': 27.9705, 'units': 1, 'rate_per_unit': 27.9705, 'group': '1', 'calcdate': '13.01.2021'}, {'exchangedate': '13.01.2021', 'r030': 840, 'cc': 'USD', 'txt': 'Долар США', 'enname': 'US Dollar', 'rate': 28.046, 'units': 1, 'rate_per_unit': 28.046, 'group': '1', 'calcdate': '12.01.2021'}, {'exchangedate': '12.01.2021', 'r030': 840, 'cc': 'USD', 'txt': 'Долар США', 'enname': 'US Dollar', 'rate': 28.2038, 'units': 1, 'rate_per_unit': 28.2038, 'group': '1', 'calcdate': '11.01.2021'}, {'exchangedate': '11.01.2021', 'r030': 840, 'cc': 'USD', 'txt': 'Долар США', 'enname': 'US Dollar', 'rate': 28.2847, 'units': 1, 'rate_per_unit': 28.2847, 'group': '1', 'calcdate': '06.01.2021'}, {'exchangedate': '10.01.2021', 'r030': 840, 'cc': 'USD', 'txt': 'Долар США', 'enname': 'US Dollar', 'rate': 28.4028, 'units': 1, 'rate_per_unit': 28.4028, 'group': '1', 'calcdate': '05.01.2021'}, {'exchangedate': '09.01.2021', 'r030': 840, 'cc': 'USD', 'txt': 'Долар США', 'enname': 'US Dollar', 'rate': 28.4028, 'units': 1, 'rate_per_unit': 28.4028, 'group': '1', 'calcdate': '05.01.2021'}, {'exchangedate': '08.01.2021', 'r030': 840, 'cc': 'USD', 'txt': 'Долар США', 'enname': 'US Dollar', 'rate': 28.4028, 'units': 1, 'rate_per_unit': 28.4028, 'group': '1', 'calcdate': '05.01.2021'}, {'exchangedate': '07.01.2021', 'r030': 840, 'cc': 'USD', 'txt': 'Долар США', 'enname': 'US Dollar', 'rate': 28.4028, 'units': 1, 'rate_per_unit': 28.4028, 'group': '1', 'calcdate': '05.01.2021'}, {'exchangedate': '06.01.2021', 'r030': 840, 'cc': 'USD', 'txt': 'Долар США', 'enname': 'US Dollar', 'rate': 28.4028, 'units': 1, 'rate_per_unit': 28.4028, 'group': '1', 'calcdate': '05.01.2021'}, {'exchangedate': '05.01.2021', 'r030': 840, 'cc': 'USD', 'txt': 'Долар США', 'enname': 'US Dollar', 'rate': 28.431, 'units': 1, 'rate_per_unit': 28.431, 'group': '1', 'calcdate': '04.01.2021'}, {'exchangedate': '04.01.2021', 'r030': 840, 'cc': 'USD', 'txt': 'Долар США', 'enname': 'US Dollar', 'rate': 28.2746, 'units': 1, 'rate_per_unit': 28.2746, 'group': '1', 'calcdate': '30.12.2020'}, {'exchangedate': '03.01.2021', 'r030': 840, 'cc': 'USD', 'txt': 'Долар США', 'enname': 'US Dollar', 'rate': 28.2746, 'units': 1, 'rate_per_unit': 28.2746, 'group': '1', 'calcdate': '30.12.2020'}, {'exchangedate': '02.01.2021', 'r030': 840, 'cc': 'USD', 'txt': 'Долар США', 'enname': 'US Dollar', 'rate': 28.2746, 'units': 1, 'rate_per_unit': 28.2746, 'group': '1', 'calcdate': '30.12.2020'}, {'exchangedate': '01.01.2021', 'r030': 840, 'cc': 'USD', 'txt': 'Долар США', 'enname': 'US Dollar', 'rate': 28.2746, 'units': 1, 'rate_per_unit': 28.2746, 'group': '1', 'calcdate': '30.12.2020'}, {'exchangedate': '31.12.2020', 'r030': 840, 'cc': 'USD', 'txt': 'Долар США', 'enname': 'US Dollar', 'rate': 28.2746, 'units': 1, 'rate_per_unit': 28.2746, 'group': '1', 'calcdate': '30.12.2020'}, {'exchangedate': '30.12.2020', 'r030': 840, 'cc': 'USD', 'txt': 'Долар США', 'enname': 'US Dollar', 'rate': 28.2605, 'units': 1, 'rate_per_unit': 28.2605, 'group': '1', 'calcdate': '29.12.2020'}, {'exchangedate': '29.12.2020', 'r030': 840, 'cc': 'USD', 'txt': 'Долар США', 'enname': 'US Dollar', 'rate': 28.3668, 'units': 1, 'rate_per_unit': 28.3668, 'group': '1', 'calcdate': '28.12.2020'}, {'exchangedate': '28.12.2020', 'r030': 840, 'cc': 'USD', 'txt': 'Долар США', 'enname': 'US Dollar', 'rate': 28.3547, 'units': 1, 'rate_per_unit': 28.3547, 'group': '1', 'calcdate': '24.12.2020'}, {'exchangedate': '27.12.2020', 'r030': 840, 'cc': 'USD', 'txt': 'Долар США', 'enname': 'US Dollar', 'rate': 28.4551, 'units': 1, 'rate_per_unit': 28.4551, 'group': '1', 'calcdate': '23.12.2020'}, {'exchangedate': '26.12.2020', 'r030': 840, 'cc': 'USD', 'txt': 'Долар США', 'enname': 'US Dollar', 'rate': 28.4551, 'units': 1, 'rate_per_unit': 28.4551, 'group': '1', 'calcdate': '23.12.2020'}, {'exchangedate': '25.12.2020', 'r030': 840, 'cc': 'USD', 'txt': 'Долар США', 'enname': 'US Dollar', 'rate': 28.4551, 'units': 1, 'rate_per_unit': 28.4551, 'group': '1', 'calcdate': '23.12.2020'}, {'exchangedate': '24.12.2020', 'r030': 840, 'cc': 'USD', 'txt': 'Долар США', 'enname': 'US Dollar', 'rate': 28.4551, 'units': 1, 'rate_per_unit': 28.4551, 'group': '1', 'calcdate': '23.12.2020'}, {'exchangedate': '23.12.2020', 'r030': 840, 'cc': 'USD', 'txt': 'Долар США', 'enname': 'US Dollar', 'rate': 28.2513, 'units': 1, 'rate_per_unit': 28.2513, 'group': '1', 'calcdate': '22.12.2020'}, {'exchangedate': '22.12.2020', 'r030': 840, 'cc': 'USD', 'txt': 'Долар США', 'enname': 'US Dollar', 'rate': 28.0391, 'units': 1, 'rate_per_unit': 28.0391, 'group': '1', 'calcdate': '21.12.2020'}, {'exchangedate': '21.12.2020', 'r030': 840, 'cc': 'USD', 'txt': 'Долар США', 'enname': 'US Dollar', 'rate': 27.828, 'units': 1, 'rate_per_unit': 27.828, 'group': '1', 'calcdate': '18.12.2020'}, {'exchangedate': '20.12.2020', 'r030': 840, 'cc': 'USD', 'txt': 'Долар США', 'enname': 'US Dollar', 'rate': 27.8184, 'units': 1, 'rate_per_unit': 27.8184, 'group': '1', 'calcdate': '17.12.2020'}, {'exchangedate': '19.12.2020', 'r030': 840, 'cc': 'USD', 'txt': 'Долар США', 'enname': 'US Dollar', 'rate': 27.8184, 'units': 1, 'rate_per_unit': 27.8184, 'group': '1', 'calcdate': '17.12.2020'}, {'exchangedate': '18.12.2020', 'r030': 840, 'cc': 'USD', 'txt': 'Долар США', 'enname': 'US Dollar', 'rate': 27.8184, 'units': 1, 'rate_per_unit': 27.8184, 'group': '1', 'calcdate': '17.12.2020'}, {'exchangedate': '17.12.2020', 'r030': 840, 'cc': 'USD', 'txt': 'Долар США', 'enname': 'US Dollar', 'rate': 27.7373, 'units': 1, 'rate_per_unit': 27.7373, 'group': '1', 'calcdate': '16.12.2020'}, {'exchangedate': '16.12.2020', 'r030': 840, 'cc': 'USD', 'txt': 'Долар США', 'enname': 'US Dollar', 'rate': 27.759, 'units': 1, 'rate_per_unit': 27.759, 'group': '1', 'calcdate': '15.12.2020'}, {'exchangedate': '15.12.2020', 'r030': 840, 'cc': 'USD', 'txt': 'Долар США', 'enname': 'US Dollar', 'rate': 27.8661, 'units': 1, 'rate_per_unit': 27.8661, 'group': '1', 'calcdate': '14.12.2020'}, {'exchangedate': '14.12.2020', 'r030': 840, 'cc': 'USD', 'txt': 'Долар США', 'enname': 'US Dollar', 'rate': 27.9666, 'units': 1, 'rate_per_unit': 27.9666, 'group': '1', 'calcdate': '11.12.2020'}, {'exchangedate': '13.12.2020', 'r030': 840, 'cc': 'USD', 'txt': 'Долар США', 'enname': 'US Dollar', 'rate': 28.075, 'units': 1, 'rate_per_unit': 28.075, 'group': '1', 'calcdate': '10.12.2020'}, {'exchangedate': '12.12.2020', 'r030': 840, 'cc': 'USD', 'txt': 'Долар США', 'enname': 'US Dollar', 'rate': 28.075, 'units': 1, 'rate_per_unit': 28.075, 'group': '1', 'calcdate': '10.12.2020'}, {'exchangedate': '11.12.2020', 'r030': 840, 'cc': 'USD', 'txt': 'Долар США', 'enname': 'US Dollar', 'rate': 28.075, 'units': 1, 'rate_per_unit': 28.075, 'group': '1', 'calcdate': '10.12.2020'}, {'exchangedate': '10.12.2020', 'r030': 840, 'cc': 'USD', 'txt': 'Долар США', 'enname': 'US Dollar', 'rate': 28.0406, 'units': 1, 'rate_per_unit': 28.0406, 'group': '1', 'calcdate': '09.12.2020'}, {'exchangedate': '09.12.2020', 'r030': 840, 'cc': 'USD', 'txt': 'Долар США', 'enname': 'US Dollar', 'rate': 28.0828, 'units': 1, 'rate_per_unit': 28.0828, 'group': '1', 'calcdate': '08.12.2020'}, {'exchangedate': '08.12.2020', 'r030': 840, 'cc': 'USD', 'txt': 'Долар США', 'enname': 'US Dollar', 'rate': 28.2394, 'units': 1, 'rate_per_unit': 28.2394, 'group': '1', 'calcdate': '07.12.2020'}, {'exchangedate': '07.12.2020', 'r030': 840, 'cc': 'USD', 'txt': 'Долар США', 'enname': 'US Dollar', 'rate': 28.2913, 'units': 1, 'rate_per_unit': 28.2913, 'group': '1', 'calcdate': '04.12.2020'}, {'exchangedate': '06.12.2020', 'r030': 840, 'cc': 'USD', 'txt': 'Долар США', 'enname': 'US Dollar', 'rate': 28.3038, 'units': 1, 'rate_per_unit': 28.3038, 'group': '1', 'calcdate': '03.12.2020'}, {'exchangedate': '05.12.2020', 'r030': 840, 'cc': 'USD', 'txt': 'Долар США', 'enname': 'US Dollar', 'rate': 28.3038, 'units': 1, 'rate_per_unit': 28.3038, 'group': '1', 'calcdate': '03.12.2020'}, {'exchangedate': '04.12.2020', 'r030': 840, 'cc': 'USD', 'txt': 'Долар США', 'enname': 'US Dollar', 'rate': 28.3038, 'units': 1, 'rate_per_unit': 28.3038, 'group': '1', 'calcdate': '03.12.2020'}, {'exchangedate': '03.12.2020', 'r030': 840, 'cc': 'USD', 'txt': 'Долар США', 'enname': 'US Dollar', 'rate': 28.4367, 'units': 1, 'rate_per_unit': 28.4367, 'group': '1', 'calcdate': '02.12.2020'}, {'exchangedate': '02.12.2020', 'r030': 840, 'cc': 'USD', 'txt': 'Долар США', 'enname': 'US Dollar', 'rate': 28.5583, 'units': 1, 'rate_per_unit': 28.5583, 'group': '1', 'calcdate': '01.12.2020'}, {'exchangedate': '01.12.2020', 'r030': 840, 'cc': 'USD', 'txt': 'Долар США', 'enname': 'US Dollar', 'rate': 28.4962, 'units': 1, 'rate_per_unit': 28.4962, 'group': '1', 'calcdate': '30.11.2020'}, {'exchangedate': '30.11.2020', 'r030': 840, 'cc': 'USD', 'txt': 'Долар США', 'enname': 'US Dollar', 'rate': 28.4681, 'units': 1, 'rate_per_unit': 28.4681, 'group': '1', 'calcdate': '27.11.2020'}, {'exchangedate': '29.11.2020', 'r030': 840, 'cc': 'USD', 'txt': 'Долар США', 'enname': 'US Dollar', 'rate': 28.4428, 'units': 1, 'rate_per_unit': 28.4428, 'group': '1', 'calcdate': '26.11.2020'}, {'exchangedate': '28.11.2020', 'r030': 840, 'cc': 'USD', 'txt': 'Долар США', 'enname': 'US Dollar', 'rate': 28.4428, 'units': 1, 'rate_per_unit': 28.4428, 'group': '1', 'calcdate': '26.11.2020'}, {'exchangedate': '27.11.2020', 'r030': 840, 'cc': 'USD', 'txt': 'Долар США', 'enname': 'US Dollar', 'rate': 28.4428, 'units': 1, 'rate_per_unit': 28.4428, 'group': '1', 'calcdate': '26.11.2020'}, {'exchangedate': '26.11.2020', 'r030': 840, 'cc': 'USD', 'txt': 'Долар США', 'enname': 'US Dollar', 'rate': 28.3816, 'units': 1, 'rate_per_unit': 28.3816, 'group': '1', 'calcdate': '25.11.2020'}, {'exchangedate': '25.11.2020', 'r030': 840, 'cc': 'USD', 'txt': 'Долар США', 'enname': 'US Dollar', 'rate': 28.3741, 'units': 1, 'rate_per_unit': 28.3741, 'group': '1', 'calcdate': '24.11.2020'}, {'exchangedate': '24.11.2020', 'r030': 840, 'cc': 'USD', 'txt': 'Долар США', 'enname': 'US Dollar', 'rate': 28.3694, 'units': 1, 'rate_per_unit': 28.3694, 'group': '1', 'calcdate': '23.11.2020'}, {'exchangedate': '23.11.2020', 'r030': 840, 'cc': 'USD', 'txt': 'Долар США', 'enname': 'US Dollar', 'rate': 28.3553, 'units': 1, 'rate_per_unit': 28.3553, 'group': '1', 'calcdate': '20.11.2020'}, {'exchangedate': '22.11.2020', 'r030': 840, 'cc': 'USD', 'txt': 'Долар США', 'enname': 'US Dollar', 'rate': 28.2572, 'units': 1, 'rate_per_unit': 28.2572, 'group': '1', 'calcdate': '19.11.2020'}, {'exchangedate': '21.11.2020', 'r030': 840, 'cc': 'USD', 'txt': 'Долар США', 'enname': 'US Dollar', 'rate': 28.2572, 'units': 1, 'rate_per_unit': 28.2572, 'group': '1', 'calcdate': '19.11.2020'}, {'exchangedate': '20.11.2020', 'r030': 840, 'cc': 'USD', 'txt': 'Долар США', 'enname': 'US Dollar', 'rate': 28.2572, 'units': 1, 'rate_per_unit': 28.2572, 'group': '1', 'calcdate': '19.11.2020'}, {'exchangedate': '19.11.2020', 'r030': 840, 'cc': 'USD', 'txt': 'Долар США', 'enname': 'US Dollar', 'rate': 28.13, 'units': 1, 'rate_per_unit': 28.13, 'group': '1', 'calcdate': '18.11.2020'}, {'exchangedate': '18.11.2020', 'r030': 840, 'cc': 'USD', 'txt': 'Долар США', 'enname': 'US Dollar', 'rate': 28.1067, 'units': 1, 'rate_per_unit': 28.1067, 'group': '1', 'calcdate': '17.11.2020'}, {'exchangedate': '17.11.2020', 'r030': 840, 'cc': 'USD', 'txt': 'Долар США', 'enname': 'US Dollar', 'rate': 28.112, 'units': 1, 'rate_per_unit': 28.112, 'group': '1', 'calcdate': '16.11.2020'}, {'exchangedate': '16.11.2020', 'r030': 840, 'cc': 'USD', 'txt': 'Долар США', 'enname': 'US Dollar', 'rate': 28.1158, 'units': 1, 'rate_per_unit': 28.1158, 'group': '1', 'calcdate': '13.11.2020'}, {'exchangedate': '15.11.2020', 'r030': 840, 'cc': 'USD', 'txt': 'Долар США', 'enname': 'US Dollar', 'rate': 28.1963, 'units': 1, 'rate_per_unit': 28.1963, 'group': '1', 'calcdate': '12.11.2020'}, {'exchangedate': '14.11.2020', 'r030': 840, 'cc': 'USD', 'txt': 'Долар США', 'enname': 'US Dollar', 'rate': 28.1963, 'units': 1, 'rate_per_unit': 28.1963, 'group': '1', 'calcdate': '12.11.2020'}, {'exchangedate': '13.11.2020', 'r030': 840, 'cc': 'USD', 'txt': 'Долар США', 'enname': 'US Dollar', 'rate': 28.1963, 'units': 1, 'rate_per_unit': 28.1963, 'group': '1', 'calcdate': '12.11.2020'}, {'exchangedate': '12.11.2020', 'r030': 840, 'cc': 'USD', 'txt': 'Долар США', 'enname': 'US Dollar', 'rate': 28.161, 'units': 1, 'rate_per_unit': 28.161, 'group': '1', 'calcdate': '11.11.2020'}, {'exchangedate': '11.11.2020', 'r030': 840, 'cc': 'USD', 'txt': 'Долар США', 'enname': 'US Dollar', 'rate': 28.1206, 'units': 1, 'rate_per_unit': 28.1206, 'group': '1', 'calcdate': '10.11.2020'}, {'exchangedate': '10.11.2020', 'r030': 840, 'cc': 'USD', 'txt': 'Долар США', 'enname': 'US Dollar', 'rate': 28.1116, 'units': 1, 'rate_per_unit': 28.1116, 'group': '1', 'calcdate': '09.11.2020'}, {'exchangedate': '09.11.2020', 'r030': 840, 'cc': 'USD', 'txt': 'Долар США', 'enname': 'US Dollar', 'rate': 28.1375, 'units': 1, 'rate_per_unit': 28.1375, 'group': '1', 'calcdate': '06.11.2020'}, {'exchangedate': '08.11.2020', 'r030': 840, 'cc': 'USD', 'txt': 'Долар США', 'enname': 'US Dollar', 'rate': 28.3643, 'units': 1, 'rate_per_unit': 28.3643, 'group': '1', 'calcdate': '05.11.2020'}, {'exchangedate': '07.11.2020', 'r030': 840, 'cc': 'USD', 'txt': 'Долар США', 'enname': 'US Dollar', 'rate': 28.3643, 'units': 1, 'rate_per_unit': 28.3643, 'group': '1', 'calcdate': '05.11.2020'}, {'exchangedate': '06.11.2020', 'r030': 840, 'cc': 'USD', 'txt': 'Долар США', 'enname': 'US Dollar', 'rate': 28.3643, 'units': 1, 'rate_per_unit': 28.3643, 'group': '1', 'calcdate': '05.11.2020'}, {'exchangedate': '05.11.2020', 'r030': 840, 'cc': 'USD', 'txt': 'Долар США', 'enname': 'US Dollar', 'rate': 28.5074, 'units': 1, 'rate_per_unit': 28.5074, 'group': '1', 'calcdate': '04.11.2020'}, {'exchangedate': '04.11.2020', 'r030': 840, 'cc': 'USD', 'txt': 'Долар США', 'enname': 'US Dollar', 'rate': 28.6, 'units': 1, 'rate_per_unit': 28.6, 'group': '1', 'calcdate': '03.11.2020'}, {'exchangedate': '03.11.2020', 'r030': 840, 'cc': 'USD', 'txt': 'Долар США', 'enname': 'US Dollar', 'rate': 28.5827, 'units': 1, 'rate_per_unit': 28.5827, 'group': '1', 'calcdate': '02.11.2020'}, {'exchangedate': '02.11.2020', 'r030': 840, 'cc': 'USD', 'txt': 'Долар США', 'enname': 'US Dollar', 'rate': 28.4507, 'units': 1, 'rate_per_unit': 28.4507, 'group': '1', 'calcdate': '30.10.2020'}, {'exchangedate': '01.11.2020', 'r030': 840, 'cc': 'USD', 'txt': 'Долар США', 'enname': 'US Dollar', 'rate': 28.4383, 'units': 1, 'rate_per_unit': 28.4383, 'group': '1', 'calcdate': '29.10.2020'}, {'exchangedate': '31.10.2020', 'r030': 840, 'cc': 'USD', 'txt': 'Долар США', 'enname': 'US Dollar', 'rate': 28.4383, 'units': 1, 'rate_per_unit': 28.4383, 'group': '1', 'calcdate': '29.10.2020'}, {'exchangedate': '30.10.2020', 'r030': 840, 'cc': 'USD', 'txt': 'Долар США', 'enname': 'US Dollar', 'rate': 28.4383, 'units': 1, 'rate_per_unit': 28.4383, 'group': '1', 'calcdate': '29.10.2020'}, {'exchangedate': '29.10.2020', 'r030': 840, 'cc': 'USD', 'txt': 'Долар США', 'enname': 'US Dollar', 'rate': 28.3989, 'units': 1, 'rate_per_unit': 28.3989, 'group': '1', 'calcdate': '28.10.2020'}, {'exchangedate': '28.10.2020', 'r030': 840, 'cc': 'USD', 'txt': 'Долар США', 'enname': 'US Dollar', 'rate': 28.3655, 'units': 1, 'rate_per_unit': 28.3655, 'group': '1', 'calcdate': '27.10.2020'}, {'exchangedate': '27.10.2020', 'r030': 840, 'cc': 'USD', 'txt': 'Долар США', 'enname': 'US Dollar', 'rate': 28.3352, 'units': 1, 'rate_per_unit': 28.3352, 'group': '1', 'calcdate': '26.10.2020'}, {'exchangedate': '26.10.2020', 'r030': 840, 'cc': 'USD', 'txt': 'Долар США', 'enname': 'US Dollar', 'rate': 28.2911, 'units': 1, 'rate_per_unit': 28.2911, 'group': '1', 'calcdate': '23.10.2020'}, {'exchangedate': '25.10.2020', 'r030': 840, 'cc': 'USD', 'txt': 'Долар США', 'enname': 'US Dollar', 'rate': 28.265, 'units': 1, 'rate_per_unit': 28.265, 'group': '1', 'calcdate': '22.10.2020'}, {'exchangedate': '24.10.2020', 'r030': 840, 'cc': 'USD', 'txt': 'Долар США', 'enname': 'US Dollar', 'rate': 28.265, 'units': 1, 'rate_per_unit': 28.265, 'group': '1', 'calcdate': '22.10.2020'}, {'exchangedate': '23.10.2020', 'r030': 840, 'cc': 'USD', 'txt': 'Долар США', 'enname': 'US Dollar', 'rate': 28.265, 'units': 1, 'rate_per_unit': 28.265, 'group': '1', 'calcdate': '22.10.2020'}, {'exchangedate': '22.10.2020', 'r030': 840, 'cc': 'USD', 'txt': 'Долар США', 'enname': 'US Dollar', 'rate': 28.2737, 'units': 1, 'rate_per_unit': 28.2737, 'group': '1', 'calcdate': '21.10.2020'}, {'exchangedate': '21.10.2020', 'r030': 840, 'cc': 'USD', 'txt': 'Долар США', 'enname': 'US Dollar', 'rate': 28.3707, 'units': 1, 'rate_per_unit': 28.3707, 'group': '1', 'calcdate': '20.10.2020'}, {'exchangedate': '20.10.2020', 'r030': 840, 'cc': 'USD', 'txt': 'Долар США', 'enname': 'US Dollar', 'rate': 28.3762, 'units': 1, 'rate_per_unit': 28.3762, 'group': '1', 'calcdate': '19.10.2020'}, {'exchangedate': '19.10.2020', 'r030': 840, 'cc': 'USD', 'txt': 'Долар США', 'enname': 'US Dollar', 'rate': 28.3649, 'units': 1, 'rate_per_unit': 28.3649, 'group': '1', 'calcdate': '16.10.2020'}, {'exchangedate': '18.10.2020', 'r030': 840, 'cc': 'USD', 'txt': 'Долар США', 'enname': 'US Dollar', 'rate': 28.3365, 'units': 1, 'rate_per_unit': 28.3365, 'group': '1', 'calcdate': '15.10.2020'}, {'exchangedate': '17.10.2020', 'r030': 840, 'cc': 'USD', 'txt': 'Долар США', 'enname': 'US Dollar', 'rate': 28.3365, 'units': 1, 'rate_per_unit': 28.3365, 'group': '1', 'calcdate': '15.10.2020'}, {'exchangedate': '16.10.2020', 'r030': 840, 'cc': 'USD', 'txt': 'Долар США', 'enname': 'US Dollar', 'rate': 28.3365, 'units': 1, 'rate_per_unit': 28.3365, 'group': '1', 'calcdate': '15.10.2020'}, {'exchangedate': '15.10.2020', 'r030': 840, 'cc': 'USD', 'txt': 'Долар США', 'enname': 'US Dollar', 'rate': 28.3164, 'units': 1, 'rate_per_unit': 28.3164, 'group': '1', 'calcdate': '13.10.2020'}, {'exchangedate': '14.10.2020', 'r030': 840, 'cc': 'USD', 'txt': 'Долар США', 'enname': 'US Dollar', 'rate': 28.2481, 'units': 1, 'rate_per_unit': 28.2481, 'group': '1', 'calcdate': '12.10.2020'}, {'exchangedate': '13.10.2020', 'r030': 840, 'cc': 'USD', 'txt': 'Долар США', 'enname': 'US Dollar', 'rate': 28.2481, 'units': 1, 'rate_per_unit': 28.2481, 'group': '1', 'calcdate': '12.10.2020'}, {'exchangedate': '12.10.2020', 'r030': 840, 'cc': 'USD', 'txt': 'Долар США', 'enname': 'US Dollar', 'rate': 28.2098, 'units': 1, 'rate_per_unit': 28.2098, 'group': '1', 'calcdate': '09.10.2020'}, {'exchangedate': '11.10.2020', 'r030': 840, 'cc': 'USD', 'txt': 'Долар США', 'enname': 'US Dollar', 'rate': 28.2836, 'units': 1, 'rate_per_unit': 28.2836, 'group': '1', 'calcdate': '08.10.2020'}, {'exchangedate': '10.10.2020', 'r030': 840, 'cc': 'USD', 'txt': 'Долар США', 'enname': 'US Dollar', 'rate': 28.2836, 'units': 1, 'rate_per_unit': 28.2836, 'group': '1', 'calcdate': '08.10.2020'}, {'exchangedate': '09.10.2020', 'r030': 840, 'cc': 'USD', 'txt': 'Долар США', 'enname': 'US Dollar', 'rate': 28.2836, 'units': 1, 'rate_per_unit': 28.2836, 'group': '1', 'calcdate': '08.10.2020'}, {'exchangedate': '08.10.2020', 'r030': 840, 'cc': 'USD', 'txt': 'Долар США', 'enname': 'US Dollar', 'rate': 28.324, 'units': 1, 'rate_per_unit': 28.324, 'group': '1', 'calcdate': '07.10.2020'}, {'exchangedate': '07.10.2020', 'r030': 840, 'cc': 'USD', 'txt': 'Долар США', 'enname': 'US Dollar', 'rate': 28.3639, 'units': 1, 'rate_per_unit': 28.3639, 'group': '1', 'calcdate': '06.10.2020'}, {'exchangedate': '06.10.2020', 'r030': 840, 'cc': 'USD', 'txt': 'Долар США', 'enname': 'US Dollar', 'rate': 28.4009, 'units': 1, 'rate_per_unit': 28.4009, 'group': '1', 'calcdate': '05.10.2020'}, {'exchangedate': '05.10.2020', 'r030': 840, 'cc': 'USD', 'txt': 'Долар США', 'enname': 'US Dollar', 'rate': 28.3408, 'units': 1, 'rate_per_unit': 28.3408, 'group': '1', 'calcdate': '02.10.2020'}, {'exchangedate': '04.10.2020', 'r030': 840, 'cc': 'USD', 'txt': 'Долар США', 'enname': 'US Dollar', 'rate': 28.3343, 'units': 1, 'rate_per_unit': 28.3343, 'group': '1', 'calcdate': '01.10.2020'}, {'exchangedate': '03.10.2020', 'r030': 840, 'cc': 'USD', 'txt': 'Долар США', 'enname': 'US Dollar', 'rate': 28.3343, 'units': 1, 'rate_per_unit': 28.3343, 'group': '1', 'calcdate': '01.10.2020'}, {'exchangedate': '02.10.2020', 'r030': 840, 'cc': 'USD', 'txt': 'Долар США', 'enname': 'US Dollar', 'rate': 28.3343, 'units': 1, 'rate_per_unit': 28.3343, 'group': '1', 'calcdate': '01.10.2020'}, {'exchangedate': '01.10.2020', 'r030': 840, 'cc': 'USD', 'txt': 'Долар США', 'enname': 'US Dollar', 'rate': 28.3105, 'units': 1, 'rate_per_unit': 28.3105, 'group': '1', 'calcdate': '30.09.2020'}, {'exchangedate': '30.09.2020', 'r030': 840, 'cc': 'USD', 'txt': 'Долар США', 'enname': 'US Dollar', 'rate': 28.2989, 'units': 1, 'rate_per_unit': 28.2989, 'group': '1', 'calcdate': '29.09.2020'}, {'exchangedate': '29.09.2020', 'r030': 840, 'cc': 'USD', 'txt': 'Долар США', 'enname': 'US Dollar', 'rate': 28.3062, 'units': 1, 'rate_per_unit': 28.3062, 'group': '1', 'calcdate': '28.09.2020'}, {'exchangedate': '28.09.2020', 'r030': 840, 'cc': 'USD', 'txt': 'Долар США', 'enname': 'US Dollar', 'rate': 28.2673, 'units': 1, 'rate_per_unit': 28.2673, 'group': '1', 'calcdate': '25.09.2020'}, {'exchangedate': '27.09.2020', 'r030': 840, 'cc': 'USD', 'txt': 'Долар США', 'enname': 'US Dollar', 'rate': 28.2487, 'units': 1, 'rate_per_unit': 28.2487, 'group': '1', 'calcdate': '24.09.2020'}, {'exchangedate': '26.09.2020', 'r030': 840, 'cc': 'USD', 'txt': 'Долар США', 'enname': 'US Dollar', 'rate': 28.2487, 'units': 1, 'rate_per_unit': 28.2487, 'group': '1', 'calcdate': '24.09.2020'}, {'exchangedate': '25.09.2020', 'r030': 840, 'cc': 'USD', 'txt': 'Долар США', 'enname': 'US Dollar', 'rate': 28.2487, 'units': 1, 'rate_per_unit': 28.2487, 'group': '1', 'calcdate': '24.09.2020'}, {'exchangedate': '24.09.2020', 'r030': 840, 'cc': 'USD', 'txt': 'Долар США', 'enname': 'US Dollar', 'rate': 28.1874, 'units': 1, 'rate_per_unit': 28.1874, 'group': '1', 'calcdate': '23.09.2020'}, {'exchangedate': '23.09.2020', 'r030': 840, 'cc': 'USD', 'txt': 'Долар США', 'enname': 'US Dollar', 'rate': 28.2059, 'units': 1, 'rate_per_unit': 28.2059, 'group': '1', 'calcdate': '22.09.2020'}, {'exchangedate': '22.09.2020', 'r030': 840, 'cc': 'USD', 'txt': 'Долар США', 'enname': 'US Dollar', 'rate': 28.2022, 'units': 1, 'rate_per_unit': 28.2022, 'group': '1', 'calcdate': '21.09.2020'}, {'exchangedate': '21.09.2020', 'r030': 840, 'cc': 'USD', 'txt': 'Долар США', 'enname': 'US Dollar', 'rate': 28.1718, 'units': 1, 'rate_per_unit': 28.1718, 'group': '1', 'calcdate': '18.09.2020'}, {'exchangedate': '20.09.2020', 'r030': 840, 'cc': 'USD', 'txt': 'Долар США', 'enname': 'US Dollar', 'rate': 28.1127, 'units': 1, 'rate_per_unit': 28.1127, 'group': '1', 'calcdate': '17.09.2020'}, {'exchangedate': '19.09.2020', 'r030': 840, 'cc': 'USD', 'txt': 'Долар США', 'enname': 'US Dollar', 'rate': 28.1127, 'units': 1, 'rate_per_unit': 28.1127, 'group': '1', 'calcdate': '17.09.2020'}, {'exchangedate': '18.09.2020', 'r030': 840, 'cc': 'USD', 'txt': 'Долар США', 'enname': 'US Dollar', 'rate': 28.1127, 'units': 1, 'rate_per_unit': 28.1127, 'group': '1', 'calcdate': '17.09.2020'}, {'exchangedate': '17.09.2020', 'r030': 840, 'cc': 'USD', 'txt': 'Долар США', 'enname': 'US Dollar', 'rate': 28.1195, 'units': 1, 'rate_per_unit': 28.1195, 'group': '1', 'calcdate': '16.09.2020'}, {'exchangedate': '16.09.2020', 'r030': 840, 'cc': 'USD', 'txt': 'Долар США', 'enname': 'US Dollar', 'rate': 28.0556, 'units': 1, 'rate_per_unit': 28.0556, 'group': '1', 'calcdate': '15.09.2020'}, {'exchangedate': '15.09.2020', 'r030': 840, 'cc': 'USD', 'txt': 'Долар США', 'enname': 'US Dollar', 'rate': 28.0003, 'units': 1, 'rate_per_unit': 28.0003, 'group': '1', 'calcdate': '14.09.2020'}, {'exchangedate': '14.09.2020', 'r030': 840, 'cc': 'USD', 'txt': 'Долар США', 'enname': 'US Dollar', 'rate': 27.9003, 'units': 1, 'rate_per_unit': 27.9003, 'group': '1', 'calcdate': '11.09.2020'}, {'exchangedate': '13.09.2020', 'r030': 840, 'cc': 'USD', 'txt': 'Долар США', 'enname': 'US Dollar', 'rate': 27.8346, 'units': 1, 'rate_per_unit': 27.8346, 'group': '1', 'calcdate': '10.09.2020'}, {'exchangedate': '12.09.2020', 'r030': 840, 'cc': 'USD', 'txt': 'Долар США', 'enname': 'US Dollar', 'rate': 27.8346, 'units': 1, 'rate_per_unit': 27.8346, 'group': '1', 'calcdate': '10.09.2020'}, {'exchangedate': '11.09.2020', 'r030': 840, 'cc': 'USD', 'txt': 'Долар США', 'enname': 'US Dollar', 'rate': 27.8346, 'units': 1, 'rate_per_unit': 27.8346, 'group': '1', 'calcdate': '10.09.2020'}, {'exchangedate': '10.09.2020', 'r030': 840, 'cc': 'USD', 'txt': 'Долар США', 'enname': 'US Dollar', 'rate': 27.8296, 'units': 1, 'rate_per_unit': 27.8296, 'group': '1', 'calcdate': '09.09.2020'}, {'exchangedate': '09.09.2020', 'r030': 840, 'cc': 'USD', 'txt': 'Долар США', 'enname': 'US Dollar', 'rate': 27.8032, 'units': 1, 'rate_per_unit': 27.8032, 'group': '1', 'calcdate': '08.09.2020'}, {'exchangedate': '08.09.2020', 'r030': 840, 'cc': 'USD', 'txt': 'Долар США', 'enname': 'US Dollar', 'rate': 27.7509, 'units': 1, 'rate_per_unit': 27.7509, 'group': '1', 'calcdate': '07.09.2020'}, {'exchangedate': '07.09.2020', 'r030': 840, 'cc': 'USD', 'txt': 'Долар США', 'enname': 'US Dollar', 'rate': 27.7325, 'units': 1, 'rate_per_unit': 27.7325, 'group': '1', 'calcdate': '04.09.2020'}, {'exchangedate': '06.09.2020', 'r030': 840, 'cc': 'USD', 'txt': 'Долар США', 'enname': 'US Dollar', 'rate': 27.6908, 'units': 1, 'rate_per_unit': 27.6908, 'group': '1', 'calcdate': '03.09.2020'}, {'exchangedate': '05.09.2020', 'r030': 840, 'cc': 'USD', 'txt': 'Долар США', 'enname': 'US Dollar', 'rate': 27.6908, 'units': 1, 'rate_per_unit': 27.6908, 'group': '1', 'calcdate': '03.09.2020'}, {'exchangedate': '04.09.2020', 'r030': 840, 'cc': 'USD', 'txt': 'Долар США', 'enname': 'US Dollar', 'rate': 27.6908, 'units': 1, 'rate_per_unit': 27.6908, 'group': '1', 'calcdate': '03.09.2020'}, {'exchangedate': '03.09.2020', 'r030': 840, 'cc': 'USD', 'txt': 'Долар США', 'enname': 'US Dollar', 'rate': 27.6428, 'units': 1, 'rate_per_unit': 27.6428, 'group': '1', 'calcdate': '02.09.2020'}, {'exchangedate': '02.09.2020', 'r030': 840, 'cc': 'USD', 'txt': 'Долар США', 'enname': 'US Dollar', 'rate': 27.6049, 'units': 1, 'rate_per_unit': 27.6049, 'group': '1', 'calcdate': '01.09.2020'}, {'exchangedate': '01.09.2020', 'r030': 840, 'cc': 'USD', 'txt': 'Долар США', 'enname': 'US Dollar', 'rate': 27.5618, 'units': 1, 'rate_per_unit': 27.5618, 'group': '1', 'calcdate': '31.08.2020'}, {'exchangedate': '31.08.2020', 'r030': 840, 'cc': 'USD', 'txt': 'Долар США', 'enname': 'US Dollar', 'rate': 27.4759, 'units': 1, 'rate_per_unit': 27.4759, 'group': '1', 'calcdate': '28.08.2020'}, {'exchangedate': '30.08.2020', 'r030': 840, 'cc': 'USD', 'txt': 'Долар США', 'enname': 'US Dollar', 'rate': 27.4615, 'units': 1, 'rate_per_unit': 27.4615, 'group': '1', 'calcdate': '27.08.2020'}, {'exchangedate': '29.08.2020', 'r030': 840, 'cc': 'USD', 'txt': 'Долар США', 'enname': 'US Dollar', 'rate': 27.4615, 'units': 1, 'rate_per_unit': 27.4615, 'group': '1', 'calcdate': '27.08.2020'}, {'exchangedate': '28.08.2020', 'r030': 840, 'cc': 'USD', 'txt': 'Долар США', 'enname': 'US Dollar', 'rate': 27.4615, 'units': 1, 'rate_per_unit': 27.4615, 'group': '1', 'calcdate': '27.08.2020'}, {'exchangedate': '27.08.2020', 'r030': 840, 'cc': 'USD', 'txt': 'Долар США', 'enname': 'US Dollar', 'rate': 27.386, 'units': 1, 'rate_per_unit': 27.386, 'group': '1', 'calcdate': '26.08.2020'}, {'exchangedate': '26.08.2020', 'r030': 840, 'cc': 'USD', 'txt': 'Долар США', 'enname': 'US Dollar', 'rate': 27.4383, 'units': 1, 'rate_per_unit': 27.4383, 'group': '1', 'calcdate': '25.08.2020'}, {'exchangedate': '25.08.2020', 'r030': 840, 'cc': 'USD', 'txt': 'Долар США', 'enname': 'US Dollar', 'rate': 27.3942, 'units': 1, 'rate_per_unit': 27.3942, 'group': '1', 'calcdate': '21.08.2020'}, {'exchangedate': '24.08.2020', 'r030': 840, 'cc': 'USD', 'txt': 'Долар США', 'enname': 'US Dollar', 'rate': 27.4812, 'units': 1, 'rate_per_unit': 27.4812, 'group': '1', 'calcdate': '20.08.2020'}, {'exchangedate': '23.08.2020', 'r030': 840, 'cc': 'USD', 'txt': 'Долар США', 'enname': 'US Dollar', 'rate': 27.4812, 'units': 1, 'rate_per_unit': 27.4812, 'group': '1', 'calcdate': '20.08.2020'}, {'exchangedate': '22.08.2020', 'r030': 840, 'cc': 'USD', 'txt': 'Долар США', 'enname': 'US Dollar', 'rate': 27.4812, 'units': 1, 'rate_per_unit': 27.4812, 'group': '1', 'calcdate': '20.08.2020'}, {'exchangedate': '21.08.2020', 'r030': 840, 'cc': 'USD', 'txt': 'Долар США', 'enname': 'US Dollar', 'rate': 27.4812, 'units': 1, 'rate_per_unit': 27.4812, 'group': '1', 'calcdate': '20.08.2020'}, {'exchangedate': '20.08.2020', 'r030': 840, 'cc': 'USD', 'txt': 'Долар США', 'enname': 'US Dollar', 'rate': 27.316, 'units': 1, 'rate_per_unit': 27.316, 'group': '1', 'calcdate': '19.08.2020'}, {'exchangedate': '19.08.2020', 'r030': 840, 'cc': 'USD', 'txt': 'Долар США', 'enname': 'US Dollar', 'rate': 27.2297, 'units': 1, 'rate_per_unit': 27.2297, 'group': '1', 'calcdate': '18.08.2020'}, {'exchangedate': '18.08.2020', 'r030': 840, 'cc': 'USD', 'txt': 'Долар США', 'enname': 'US Dollar', 'rate': 27.3061, 'units': 1, 'rate_per_unit': 27.3061, 'group': '1', 'calcdate': '17.08.2020'}, {'exchangedate': '17.08.2020', 'r030': 840, 'cc': 'USD', 'txt': 'Долар США', 'enname': 'US Dollar', 'rate': 27.3474, 'units': 1, 'rate_per_unit': 27.3474, 'group': '1', 'calcdate': '14.08.2020'}, {'exchangedate': '16.08.2020', 'r030': 840, 'cc': 'USD', 'txt': 'Долар США', 'enname': 'US Dollar', 'rate': 27.4083, 'units': 1, 'rate_per_unit': 27.4083, 'group': '1', 'calcdate': '13.08.2020'}, {'exchangedate': '15.08.2020', 'r030': 840, 'cc': 'USD', 'txt': 'Долар США', 'enname': 'US Dollar', 'rate': 27.4083, 'units': 1, 'rate_per_unit': 27.4083, 'group': '1', 'calcdate': '13.08.2020'}, {'exchangedate': '14.08.2020', 'r030': 840, 'cc': 'USD', 'txt': 'Долар США', 'enname': 'US Dollar', 'rate': 27.4083, 'units': 1, 'rate_per_unit': 27.4083, 'group': '1', 'calcdate': '13.08.2020'}, {'exchangedate': '13.08.2020', 'r030': 840, 'cc': 'USD', 'txt': 'Долар США', 'enname': 'US Dollar', 'rate': 27.5266, 'units': 1, 'rate_per_unit': 27.5266, 'group': '1', 'calcdate': '12.08.2020'}, {'exchangedate': '12.08.2020', 'r030': 840, 'cc': 'USD', 'txt': 'Долар США', 'enname': 'US Dollar', 'rate': 27.5982, 'units': 1, 'rate_per_unit': 27.5982, 'group': '1', 'calcdate': '11.08.2020'}, {'exchangedate': '11.08.2020', 'r030': 840, 'cc': 'USD', 'txt': 'Долар США', 'enname': 'US Dollar', 'rate': 27.6007, 'units': 1, 'rate_per_unit': 27.6007, 'group': '1', 'calcdate': '10.08.2020'}, {'exchangedate': '10.08.2020', 'r030': 840, 'cc': 'USD', 'txt': 'Долар США', 'enname': 'US Dollar', 'rate': 27.6486, 'units': 1, 'rate_per_unit': 27.6486, 'group': '1', 'calcdate': '07.08.2020'}, {'exchangedate': '09.08.2020', 'r030': 840, 'cc': 'USD', 'txt': 'Долар США', 'enname': 'US Dollar', 'rate': 27.6793, 'units': 1, 'rate_per_unit': 27.6793, 'group': '1', 'calcdate': '06.08.2020'}, {'exchangedate': '08.08.2020', 'r030': 840, 'cc': 'USD', 'txt': 'Долар США', 'enname': 'US Dollar', 'rate': 27.6793, 'units': 1, 'rate_per_unit': 27.6793, 'group': '1', 'calcdate': '06.08.2020'}, {'exchangedate': '07.08.2020', 'r030': 840, 'cc': 'USD', 'txt': 'Долар США', 'enname': 'US Dollar', 'rate': 27.6793, 'units': 1, 'rate_per_unit': 27.6793, 'group': '1', 'calcdate': '06.08.2020'}, {'exchangedate': '06.08.2020', 'r030': 840, 'cc': 'USD', 'txt': 'Долар США', 'enname': 'US Dollar', 'rate': 27.7028, 'units': 1, 'rate_per_unit': 27.7028, 'group': '1', 'calcdate': '05.08.2020'}, {'exchangedate': '05.08.2020', 'r030': 840, 'cc': 'USD', 'txt': 'Долар США', 'enname': 'US Dollar', 'rate': 27.8225, 'units': 1, 'rate_per_unit': 27.8225, 'group': '1', 'calcdate': '04.08.2020'}, {'exchangedate': '04.08.2020', 'r030': 840, 'cc': 'USD', 'txt': 'Долар США', 'enname': 'US Dollar', 'rate': 27.7365, 'units': 1, 'rate_per_unit': 27.7365, 'group': '1', 'calcdate': '03.08.2020'}, {'exchangedate': '03.08.2020', 'r030': 840, 'cc': 'USD', 'txt': 'Долар США', 'enname': 'US Dollar', 'rate': 27.6798, 'units': 1, 'rate_per_unit': 27.6798, 'group': '1', 'calcdate': '31.07.2020'}, {'exchangedate': '02.08.2020', 'r030': 840, 'cc': 'USD', 'txt': 'Долар США', 'enname': 'US Dollar', 'rate': 27.6913, 'units': 1, 'rate_per_unit': 27.6913, 'group': '1', 'calcdate': '30.07.2020'}, {'exchangedate': '01.08.2020', 'r030': 840, 'cc': 'USD', 'txt': 'Долар США', 'enname': 'US Dollar', 'rate': 27.6913, 'units': 1, 'rate_per_unit': 27.6913, 'group': '1', 'calcdate': '30.07.2020'}, {'exchangedate': '31.07.2020', 'r030': 840, 'cc': 'USD', 'txt': 'Долар США', 'enname': 'US Dollar', 'rate': 27.6913, 'units': 1, 'rate_per_unit': 27.6913, 'group': '1', 'calcdate': '30.07.2020'}, {'exchangedate': '30.07.2020', 'r030': 840, 'cc': 'USD', 'txt': 'Долар США', 'enname': 'US Dollar', 'rate': 27.6867, 'units': 1, 'rate_per_unit': 27.6867, 'group': '1', 'calcdate': '29.07.2020'}, {'exchangedate': '29.07.2020', 'r030': 840, 'cc': 'USD', 'txt': 'Долар США', 'enname': 'US Dollar', 'rate': 27.6851, 'units': 1, 'rate_per_unit': 27.6851, 'group': '1', 'calcdate': '28.07.2020'}, {'exchangedate': '28.07.2020', 'r030': 840, 'cc': 'USD', 'txt': 'Долар США', 'enname': 'US Dollar', 'rate': 27.7571, 'units': 1, 'rate_per_unit': 27.7571, 'group': '1', 'calcdate': '27.07.2020'}, {'exchangedate': '27.07.2020', 'r030': 840, 'cc': 'USD', 'txt': 'Долар США', 'enname': 'US Dollar', 'rate': 27.7559, 'units': 1, 'rate_per_unit': 27.7559, 'group': '1', 'calcdate': '24.07.2020'}, {'exchangedate': '26.07.2020', 'r030': 840, 'cc': 'USD', 'txt': 'Долар США', 'enname': 'US Dollar', 'rate': 27.8779, 'units': 1, 'rate_per_unit': 27.8779, 'group': '1', 'calcdate': '23.07.2020'}, {'exchangedate': '25.07.2020', 'r030': 840, 'cc': 'USD', 'txt': 'Долар США', 'enname': 'US Dollar', 'rate': 27.8779, 'units': 1, 'rate_per_unit': 27.8779, 'group': '1', 'calcdate': '23.07.2020'}, {'exchangedate': '24.07.2020', 'r030': 840, 'cc': 'USD', 'txt': 'Долар США', 'enname': 'US Dollar', 'rate': 27.8779, 'units': 1, 'rate_per_unit': 27.8779, 'group': '1', 'calcdate': '23.07.2020'}, {'exchangedate': '23.07.2020', 'r030': 840, 'cc': 'USD', 'txt': 'Долар США', 'enname': 'US Dollar', 'rate': 27.7798, 'units': 1, 'rate_per_unit': 27.7798, 'group': '1', 'calcdate': '22.07.2020'}, {'exchangedate': '22.07.2020', 'r030': 840, 'cc': 'USD', 'txt': 'Долар США', 'enname': 'US Dollar', 'rate': 27.6647, 'units': 1, 'rate_per_unit': 27.6647, 'group': '1', 'calcdate': '21.07.2020'}, {'exchangedate': '21.07.2020', 'r030': 840, 'cc': 'USD', 'txt': 'Долар США', 'enname': 'US Dollar', 'rate': 27.6011, 'units': 1, 'rate_per_unit': 27.6011, 'group': '1', 'calcdate': '20.07.2020'}, {'exchangedate': '20.07.2020', 'r030': 840, 'cc': 'USD', 'txt': 'Долар США', 'enname': 'US Dollar', 'rate': 27.3606, 'units': 1, 'rate_per_unit': 27.3606, 'group': '1', 'calcdate': '17.07.2020'}, {'exchangedate': '19.07.2020', 'r030': 840, 'cc': 'USD', 'txt': 'Долар США', 'enname': 'US Dollar', 'rate': 27.2738, 'units': 1, 'rate_per_unit': 27.2738, 'group': '1', 'calcdate': '16.07.2020'}, {'exchangedate': '18.07.2020', 'r030': 840, 'cc': 'USD', 'txt': 'Долар США', 'enname': 'US Dollar', 'rate': 27.2738, 'units': 1, 'rate_per_unit': 27.2738, 'group': '1', 'calcdate': '16.07.2020'}, {'exchangedate': '17.07.2020', 'r030': 840, 'cc': 'USD', 'txt': 'Долар США', 'enname': 'US Dollar', 'rate': 27.2738, 'units': 1, 'rate_per_unit': 27.2738, 'group': '1', 'calcdate': '16.07.2020'}, {'exchangedate': '16.07.2020', 'r030': 840, 'cc': 'USD', 'txt': 'Долар США', 'enname': 'US Dollar', 'rate': 27.119, 'units': 1, 'rate_per_unit': 27.119, 'group': '1', 'calcdate': '15.07.2020'}, {'exchangedate': '15.07.2020', 'r030': 840, 'cc': 'USD', 'txt': 'Долар США', 'enname': 'US Dollar', 'rate': 27.1436, 'units': 1, 'rate_per_unit': 27.1436, 'group': '1', 'calcdate': '14.07.2020'}, {'exchangedate': '14.07.2020', 'r030': 840, 'cc': 'USD', 'txt': 'Долар США', 'enname': 'US Dollar', 'rate': 27.0883, 'units': 1, 'rate_per_unit': 27.0883, 'group': '1', 'calcdate': '13.07.2020'}, {'exchangedate': '13.07.2020', 'r030': 840, 'cc': 'USD', 'txt': 'Долар США', 'enname': 'US Dollar', 'rate': 26.9505, 'units': 1, 'rate_per_unit': 26.9505, 'group': '1', 'calcdate': '10.07.2020'}, {'exchangedate': '12.07.2020', 'r030': 840, 'cc': 'USD', 'txt': 'Долар США', 'enname': 'US Dollar', 'rate': 26.9335, 'units': 1, 'rate_per_unit': 26.9335, 'group': '1', 'calcdate': '09.07.2020'}, {'exchangedate': '11.07.2020', 'r030': 840, 'cc': 'USD', 'txt': 'Долар США', 'enname': 'US Dollar', 'rate': 26.9335, 'units': 1, 'rate_per_unit': 26.9335, 'group': '1', 'calcdate': '09.07.2020'}, {'exchangedate': '10.07.2020', 'r030': 840, 'cc': 'USD', 'txt': 'Долар США', 'enname': 'US Dollar', 'rate': 26.9335, 'units': 1, 'rate_per_unit': 26.9335, 'group': '1', 'calcdate': '09.07.2020'}, {'exchangedate': '09.07.2020', 'r030': 840, 'cc': 'USD', 'txt': 'Долар США', 'enname': 'US Dollar', 'rate': 26.9514, 'units': 1, 'rate_per_unit': 26.9514, 'group': '1', 'calcdate': '08.07.2020'}, {'exchangedate': '08.07.2020', 'r030': 840, 'cc': 'USD', 'txt': 'Долар США', 'enname': 'US Dollar', 'rate': 26.9309, 'units': 1, 'rate_per_unit': 26.9309, 'group': '1', 'calcdate': '07.07.2020'}, {'exchangedate': '07.07.2020', 'r030': 840, 'cc': 'USD', 'txt': 'Долар США', 'enname': 'US Dollar', 'rate': 27.1269, 'units': 1, 'rate_per_unit': 27.1269, 'group': '1', 'calcdate': '06.07.2020'}, {'exchangedate': '06.07.2020', 'r030': 840, 'cc': 'USD', 'txt': 'Долар США', 'enname': 'US Dollar', 'rate': 27.1716, 'units': 1, 'rate_per_unit': 27.1716, 'group': '1', 'calcdate': '03.07.2020'}, {'exchangedate': '05.07.2020', 'r030': 840, 'cc': 'USD', 'txt': 'Долар США', 'enname': 'US Dollar', 'rate': 27.1801, 'units': 1, 'rate_per_unit': 27.1801, 'group': '1', 'calcdate': '02.07.2020'}, {'exchangedate': '04.07.2020', 'r030': 840, 'cc': 'USD', 'txt': 'Долар США', 'enname': 'US Dollar', 'rate': 27.1801, 'units': 1, 'rate_per_unit': 27.1801, 'group': '1', 'calcdate': '02.07.2020'}, {'exchangedate': '03.07.2020', 'r030': 840, 'cc': 'USD', 'txt': 'Долар США', 'enname': 'US Dollar', 'rate': 27.1801, 'units': 1, 'rate_per_unit': 27.1801, 'group': '1', 'calcdate': '02.07.2020'}, {'exchangedate': '02.07.2020', 'r030': 840, 'cc': 'USD', 'txt': 'Долар США', 'enname': 'US Dollar', 'rate': 26.77, 'units': 1, 'rate_per_unit': 26.77, 'group': '1', 'calcdate': '01.07.2020'}, {'exchangedate': '01.07.2020', 'r030': 840, 'cc': 'USD', 'txt': 'Долар США', 'enname': 'US Dollar', 'rate': 26.6676, 'units': 1, 'rate_per_unit': 26.6676, 'group': '1', 'calcdate': '30.06.2020'}, {'exchangedate': '30.06.2020', 'r030': 840, 'cc': 'USD', 'txt': 'Долар США', 'enname': 'US Dollar', 'rate': 26.6922, 'units': 1, 'rate_per_unit': 26.6922, 'group': '1', 'calcdate': '26.06.2020'}, {'exchangedate': '29.06.2020', 'r030': 840, 'cc': 'USD', 'txt': 'Долар США', 'enname': 'US Dollar', 'rate': 26.7002, 'units': 1, 'rate_per_unit': 26.7002, 'group': '1', 'calcdate': '25.06.2020'}, {'exchangedate': '28.06.2020', 'r030': 840, 'cc': 'USD', 'txt': 'Долар США', 'enname': 'US Dollar', 'rate': 26.7002, 'units': 1, 'rate_per_unit': 26.7002, 'group': '1', 'calcdate': '25.06.2020'}, {'exchangedate': '27.06.2020', 'r030': 840, 'cc': 'USD', 'txt': 'Долар США', 'enname': 'US Dollar', 'rate': 26.7002, 'units': 1, 'rate_per_unit': 26.7002, 'group': '1', 'calcdate': '25.06.2020'}, {'exchangedate': '26.06.2020', 'r030': 840, 'cc': 'USD', 'txt': 'Долар США', 'enname': 'US Dollar', 'rate': 26.7002, 'units': 1, 'rate_per_unit': 26.7002, 'group': '1', 'calcdate': '25.06.2020'}, {'exchangedate': '25.06.2020', 'r030': 840, 'cc': 'USD', 'txt': 'Долар США', 'enname': 'US Dollar', 'rate': 26.6509, 'units': 1, 'rate_per_unit': 26.6509, 'group': '1', 'calcdate': '24.06.2020'}, {'exchangedate': '24.06.2020', 'r030': 840, 'cc': 'USD', 'txt': 'Долар США', 'enname': 'US Dollar', 'rate': 26.6078, 'units': 1, 'rate_per_unit': 26.6078, 'group': '1', 'calcdate': '23.06.2020'}, {'exchangedate': '23.06.2020', 'r030': 840, 'cc': 'USD', 'txt': 'Долар США', 'enname': 'US Dollar', 'rate': 26.6695, 'units': 1, 'rate_per_unit': 26.6695, 'group': '1', 'calcdate': '22.06.2020'}, {'exchangedate': '22.06.2020', 'r030': 840, 'cc': 'USD', 'txt': 'Долар США', 'enname': 'US Dollar', 'rate': 26.7207, 'units': 1, 'rate_per_unit': 26.7207, 'group': '1', 'calcdate': '19.06.2020'}, {'exchangedate': '21.06.2020', 'r030': 840, 'cc': 'USD', 'txt': 'Долар США', 'enname': 'US Dollar', 'rate': 26.7633, 'units': 1, 'rate_per_unit': 26.7633, 'group': '1', 'calcdate': '18.06.2020'}, {'exchangedate': '20.06.2020', 'r030': 840, 'cc': 'USD', 'txt': 'Долар США', 'enname': 'US Dollar', 'rate': 26.7633, 'units': 1, 'rate_per_unit': 26.7633, 'group': '1', 'calcdate': '18.06.2020'}, {'exchangedate': '19.06.2020', 'r030': 840, 'cc': 'USD', 'txt': 'Долар США', 'enname': 'US Dollar', 'rate': 26.7633, 'units': 1, 'rate_per_unit': 26.7633, 'group': '1', 'calcdate': '18.06.2020'}, {'exchangedate': '18.06.2020', 'r030': 840, 'cc': 'USD', 'txt': 'Долар США', 'enname': 'US Dollar', 'rate': 26.776, 'units': 1, 'rate_per_unit': 26.776, 'group': '1', 'calcdate': '17.06.2020'}, {'exchangedate': '17.06.2020', 'r030': 840, 'cc': 'USD', 'txt': 'Долар США', 'enname': 'US Dollar', 'rate': 26.7424, 'units': 1, 'rate_per_unit': 26.7424, 'group': '1', 'calcdate': '16.06.2020'}, {'exchangedate': '16.06.2020', 'r030': 840, 'cc': 'USD', 'txt': 'Долар США', 'enname': 'US Dollar', 'rate': 26.844, 'units': 1, 'rate_per_unit': 26.844, 'group': '1', 'calcdate': '15.06.2020'}, {'exchangedate': '15.06.2020', 'r030': 840, 'cc': 'USD', 'txt': 'Долар США', 'enname': 'US Dollar', 'rate': 26.7303, 'units': 1, 'rate_per_unit': 26.7303, 'group': '1', 'calcdate': '12.06.2020'}, {'exchangedate': '14.06.2020', 'r030': 840, 'cc': 'USD', 'txt': 'Долар США', 'enname': 'US Dollar', 'rate': 26.5999, 'units': 1, 'rate_per_unit': 26.5999, 'group': '1', 'calcdate': '11.06.2020'}, {'exchangedate': '13.06.2020', 'r030': 840, 'cc': 'USD', 'txt': 'Долар США', 'enname': 'US Dollar', 'rate': 26.5999, 'units': 1, 'rate_per_unit': 26.5999, 'group': '1', 'calcdate': '11.06.2020'}, {'exchangedate': '12.06.2020', 'r030': 840, 'cc': 'USD', 'txt': 'Долар США', 'enname': 'US Dollar', 'rate': 26.5999, 'units': 1, 'rate_per_unit': 26.5999, 'group': '1', 'calcdate': '11.06.2020'}, {'exchangedate': '11.06.2020', 'r030': 840, 'cc': 'USD', 'txt': 'Долар США', 'enname': 'US Dollar', 'rate': 26.6367, 'units': 1, 'rate_per_unit': 26.6367, 'group': '1', 'calcdate': '10.06.2020'}, {'exchangedate': '10.06.2020', 'r030': 840, 'cc': 'USD', 'txt': 'Долар США', 'enname': 'US Dollar', 'rate': 26.6412, 'units': 1, 'rate_per_unit': 26.6412, 'group': '1', 'calcdate': '09.06.2020'}, {'exchangedate': '09.06.2020', 'r030': 840, 'cc': 'USD', 'txt': 'Долар США', 'enname': 'US Dollar', 'rate': 26.6005, 'units': 1, 'rate_per_unit': 26.6005, 'group': '1', 'calcdate': '05.06.2020'}, {'exchangedate': '08.06.2020', 'r030': 840, 'cc': 'USD', 'txt': 'Долар США', 'enname': 'US Dollar', 'rate': 26.6953, 'units': 1, 'rate_per_unit': 26.6953, 'group': '1', 'calcdate': '04.06.2020'}, {'exchangedate': '07.06.2020', 'r030': 840, 'cc': 'USD', 'txt': 'Долар США', 'enname': 'US Dollar', 'rate': 26.6953, 'units': 1, 'rate_per_unit': 26.6953, 'group': '1', 'calcdate': '04.06.2020'}, {'exchangedate': '06.06.2020', 'r030': 840, 'cc': 'USD', 'txt': 'Долар США', 'enname': 'US Dollar', 'rate': 26.6953, 'units': 1, 'rate_per_unit': 26.6953, 'group': '1', 'calcdate': '04.06.2020'}, {'exchangedate': '05.06.2020', 'r030': 840, 'cc': 'USD', 'txt': 'Долар США', 'enname': 'US Dollar', 'rate': 26.6953, 'units': 1, 'rate_per_unit': 26.6953, 'group': '1', 'calcdate': '04.06.2020'}, {'exchangedate': '04.06.2020', 'r030': 840, 'cc': 'USD', 'txt': 'Долар США', 'enname': 'US Dollar', 'rate': 26.7544, 'units': 1, 'rate_per_unit': 26.7544, 'group': '1', 'calcdate': '03.06.2020'}, {'exchangedate': '03.06.2020', 'r030': 840, 'cc': 'USD', 'txt': 'Долар США', 'enname': 'US Dollar', 'rate': 26.7955, 'units': 1, 'rate_per_unit': 26.7955, 'group': '1', 'calcdate': '02.06.2020'}, {'exchangedate': '02.06.2020', 'r030': 840, 'cc': 'USD', 'txt': 'Долар США', 'enname': 'US Dollar', 'rate': 26.8181, 'units': 1, 'rate_per_unit': 26.8181, 'group': '1', 'calcdate': '01.06.2020'}, {'exchangedate': '01.06.2020', 'r030': 840, 'cc': 'USD', 'txt': 'Долар США', 'enname': 'US Dollar', 'rate': 26.8685, 'units': 1, 'rate_per_unit': 26.8685, 'group': '1', 'calcdate': '29.05.2020'}, {'exchangedate': '31.05.2020', 'r030': 840, 'cc': 'USD', 'txt': 'Долар США', 'enname': 'US Dollar', 'rate': 26.9059, 'units': 1, 'rate_per_unit': 26.9059, 'group': '1', 'calcdate': '28.05.2020'}, {'exchangedate': '30.05.2020', 'r030': 840, 'cc': 'USD', 'txt': 'Долар США', 'enname': 'US Dollar', 'rate': 26.9059, 'units': 1, 'rate_per_unit': 26.9059, 'group': '1', 'calcdate': '28.05.2020'}, {'exchangedate': '29.05.2020', 'r030': 840, 'cc': 'USD', 'txt': 'Долар США', 'enname': 'US Dollar', 'rate': 26.9059, 'units': 1, 'rate_per_unit': 26.9059, 'group': '1', 'calcdate': '28.05.2020'}, {'exchangedate': '28.05.2020', 'r030': 840, 'cc': 'USD', 'txt': 'Долар США', 'enname': 'US Dollar', 'rate': 27.0002, 'units': 1, 'rate_per_unit': 27.0002, 'group': '1', 'calcdate': '27.05.2020'}, {'exchangedate': '27.05.2020', 'r030': 840, 'cc': 'USD', 'txt': 'Долар США', 'enname': 'US Dollar', 'rate': 26.9029, 'units': 1, 'rate_per_unit': 26.9029, 'group': '1', 'calcdate': '26.05.2020'}, {'exchangedate': '26.05.2020', 'r030': 840, 'cc': 'USD', 'txt': 'Долар США', 'enname': 'US Dollar', 'rate': 26.8742, 'units': 1, 'rate_per_unit': 26.8742, 'group': '1', 'calcdate': '25.05.2020'}, {'exchangedate': '25.05.2020', 'r030': 840, 'cc': 'USD', 'txt': 'Долар США', 'enname': 'US Dollar', 'rate': 26.7556, 'units': 1, 'rate_per_unit': 26.7556, 'group': '1', 'calcdate': '22.05.2020'}, {'exchangedate': '24.05.2020', 'r030': 840, 'cc': 'USD', 'txt': 'Долар США', 'enname': 'US Dollar', 'rate': 26.7699, 'units': 1, 'rate_per_unit': 26.7699, 'group': '1', 'calcdate': '21.05.2020'}, {'exchangedate': '23.05.2020', 'r030': 840, 'cc': 'USD', 'txt': 'Долар США', 'enname': 'US Dollar', 'rate': 26.7699, 'units': 1, 'rate_per_unit': 26.7699, 'group': '1', 'calcdate': '21.05.2020'}, {'exchangedate': '22.05.2020', 'r030': 840, 'cc': 'USD', 'txt': 'Долар США', 'enname': 'US Dollar', 'rate': 26.7699, 'units': 1, 'rate_per_unit': 26.7699, 'group': '1', 'calcdate': '21.05.2020'}, {'exchangedate': '21.05.2020', 'r030': 840, 'cc': 'USD', 'txt': 'Долар США', 'enname': 'US Dollar', 'rate': 26.5854, 'units': 1, 'rate_per_unit': 26.5854, 'group': '1', 'calcdate': '20.05.2020'}, {'exchangedate': '20.05.2020', 'r030': 840, 'cc': 'USD', 'txt': 'Долар США', 'enname': 'US Dollar', 'rate': 26.5159, 'units': 1, 'rate_per_unit': 26.5159, 'group': '1', 'calcdate': '19.05.2020'}, {'exchangedate': '19.05.2020', 'r030': 840, 'cc': 'USD', 'txt': 'Долар США', 'enname': 'US Dollar', 'rate': 26.571, 'units': 1, 'rate_per_unit': 26.571, 'group': '1', 'calcdate': '18.05.2020'}, {'exchangedate': '18.05.2020', 'r030': 840, 'cc': 'USD', 'txt': 'Долар США', 'enname': 'US Dollar', 'rate': 26.638, 'units': 1, 'rate_per_unit': 26.638, 'group': '1', 'calcdate': '15.05.2020'}, {'exchangedate': '17.05.2020', 'r030': 840, 'cc': 'USD', 'txt': 'Долар США', 'enname': 'US Dollar', 'rate': 26.6792, 'units': 1, 'rate_per_unit': 26.6792, 'group': '1', 'calcdate': '14.05.2020'}, {'exchangedate': '16.05.2020', 'r030': 840, 'cc': 'USD', 'txt': 'Долар США', 'enname': 'US Dollar', 'rate': 26.6792, 'units': 1, 'rate_per_unit': 26.6792, 'group': '1', 'calcdate': '14.05.2020'}, {'exchangedate': '15.05.2020', 'r030': 840, 'cc': 'USD', 'txt': 'Долар США', 'enname': 'US Dollar', 'rate': 26.6792, 'units': 1, 'rate_per_unit': 26.6792, 'group': '1', 'calcdate': '14.05.2020'}, {'exchangedate': '14.05.2020', 'r030': 840, 'cc': 'USD', 'txt': 'Долар США', 'enname': 'US Dollar', 'rate': 26.6897, 'units': 1, 'rate_per_unit': 26.6897, 'group': '1', 'calcdate': '13.05.2020'}, {'exchangedate': '13.05.2020', 'r030': 840, 'cc': 'USD', 'txt': 'Долар США', 'enname': 'US Dollar', 'rate': 26.7947, 'units': 1, 'rate_per_unit': 26.7947, 'group': '1', 'calcdate': '12.05.2020'}, {'exchangedate': '12.05.2020', 'r030': 840, 'cc': 'USD', 'txt': 'Долар США', 'enname': 'US Dollar', 'rate': 26.8196, 'units': 1, 'rate_per_unit': 26.8196, 'group': '1', 'calcdate': '08.05.2020'}, {'exchangedate': '11.05.2020', 'r030': 840, 'cc': 'USD', 'txt': 'Долар США', 'enname': 'US Dollar', 'rate': 26.8185, 'units': 1, 'rate_per_unit': 26.8185, 'group': '1', 'calcdate': '07.05.2020'}, {'exchangedate': '10.05.2020', 'r030': 840, 'cc': 'USD', 'txt': 'Долар США', 'enname': 'US Dollar', 'rate': 26.8185, 'units': 1, 'rate_per_unit': 26.8185, 'group': '1', 'calcdate': '07.05.2020'}, {'exchangedate': '09.05.2020', 'r030': 840, 'cc': 'USD', 'txt': 'Долар США', 'enname': 'US Dollar', 'rate': 26.8185, 'units': 1, 'rate_per_unit': 26.8185, 'group': '1', 'calcdate': '07.05.2020'}, {'exchangedate': '08.05.2020', 'r030': 840, 'cc': 'USD', 'txt': 'Долар США', 'enname': 'US Dollar', 'rate': 26.8185, 'units': 1, 'rate_per_unit': 26.8185, 'group': '1', 'calcdate': '07.05.2020'}, {'exchangedate': '07.05.2020', 'r030': 840, 'cc': 'USD', 'txt': 'Долар США', 'enname': 'US Dollar', 'rate': 26.9323, 'units': 1, 'rate_per_unit': 26.9323, 'group': '1', 'calcdate': '06.05.2020'}, {'exchangedate': '06.05.2020', 'r030': 840, 'cc': 'USD', 'txt': 'Долар США', 'enname': 'US Dollar', 'rate': 26.9774, 'units': 1, 'rate_per_unit': 26.9774, 'group': '1', 'calcdate': '05.05.2020'}, {'exchangedate': '05.05.2020', 'r030': 840, 'cc': 'USD', 'txt': 'Долар США', 'enname': 'US Dollar', 'rate': 26.9749, 'units': 1, 'rate_per_unit': 26.9749, 'group': '1', 'calcdate': '04.05.2020'}, {'exchangedate': '04.05.2020', 'r030': 840, 'cc': 'USD', 'txt': 'Долар США', 'enname': 'US Dollar', 'rate': 26.9592, 'units': 1, 'rate_per_unit': 26.9592, 'group': '1', 'calcdate': '30.04.2020'}, {'exchangedate': '03.05.2020', 'r030': 840, 'cc': 'USD', 'txt': 'Долар США', 'enname': 'US Dollar', 'rate': 26.9714, 'units': 1, 'rate_per_unit': 26.9714, 'group': '1', 'calcdate': '29.04.2020'}, {'exchangedate': '02.05.2020', 'r030': 840, 'cc': 'USD', 'txt': 'Долар США', 'enname': 'US Dollar', 'rate': 26.9714, 'units': 1, 'rate_per_unit': 26.9714, 'group': '1', 'calcdate': '29.04.2020'}, {'exchangedate': '01.05.2020', 'r030': 840, 'cc': 'USD', 'txt': 'Долар США', 'enname': 'US Dollar', 'rate': 26.9714, 'units': 1, 'rate_per_unit': 26.9714, 'group': '1', 'calcdate': '29.04.2020'}, {'exchangedate': '30.04.2020', 'r030': 840, 'cc': 'USD', 'txt': 'Долар США', 'enname': 'US Dollar', 'rate': 26.9714, 'units': 1, 'rate_per_unit': 26.9714, 'group': '1', 'calcdate': '29.04.2020'}, {'exchangedate': '29.04.2020', 'r030': 840, 'cc': 'USD', 'txt': 'Долар США', 'enname': 'US Dollar', 'rate': 27.0485, 'units': 1, 'rate_per_unit': 27.0485, 'group': '1', 'calcdate': '28.04.2020'}, {'exchangedate': '28.04.2020', 'r030': 840, 'cc': 'USD', 'txt': 'Долар США', 'enname': 'US Dollar', 'rate': 27.1025, 'units': 1, 'rate_per_unit': 27.1025, 'group': '1', 'calcdate': '27.04.2020'}, {'exchangedate': '27.04.2020', 'r030': 840, 'cc': 'USD', 'txt': 'Долар США', 'enname': 'US Dollar', 'rate': 27.1441, 'units': 1, 'rate_per_unit': 27.1441, 'group': '1', 'calcdate': '24.04.2020'}, {'exchangedate': '26.04.2020', 'r030': 840, 'cc': 'USD', 'txt': 'Долар США', 'enname': 'US Dollar', 'rate': 27.0137, 'units': 1, 'rate_per_unit': 27.0137, 'group': '1', 'calcdate': '23.04.2020'}, {'exchangedate': '25.04.2020', 'r030': 840, 'cc': 'USD', 'txt': 'Долар США', 'enname': 'US Dollar', 'rate': 27.0137, 'units': 1, 'rate_per_unit': 27.0137, 'group': '1', 'calcdate': '23.04.2020'}, {'exchangedate': '24.04.2020', 'r030': 840, 'cc': 'USD', 'txt': 'Долар США', 'enname': 'US Dollar', 'rate': 27.0137, 'units': 1, 'rate_per_unit': 27.0137, 'group': '1', 'calcdate': '23.04.2020'}, {'exchangedate': '23.04.2020', 'r030': 840, 'cc': 'USD', 'txt': 'Долар США', 'enname': 'US Dollar', 'rate': 27.0536, 'units': 1, 'rate_per_unit': 27.0536, 'group': '1', 'calcdate': '22.04.2020'}, {'exchangedate': '22.04.2020', 'r030': 840, 'cc': 'USD', 'txt': 'Долар США', 'enname': 'US Dollar', 'rate': 27.0815, 'units': 1, 'rate_per_unit': 27.0815, 'group': '1', 'calcdate': '21.04.2020'}, {'exchangedate': '21.04.2020', 'r030': 840, 'cc': 'USD', 'txt': 'Долар США', 'enname': 'US Dollar', 'rate': 27.0774, 'units': 1, 'rate_per_unit': 27.0774, 'group': '1', 'calcdate': '17.04.2020'}, {'exchangedate': '20.04.2020', 'r030': 840, 'cc': 'USD', 'txt': 'Долар США', 'enname': 'US Dollar', 'rate': 27.2022, 'units': 1, 'rate_per_unit': 27.2022, 'group': '1', 'calcdate': '16.04.2020'}, {'exchangedate': '19.04.2020', 'r030': 840, 'cc': 'USD', 'txt': 'Долар США', 'enname': 'US Dollar', 'rate': 27.2022, 'units': 1, 'rate_per_unit': 27.2022, 'group': '1', 'calcdate': '16.04.2020'}, {'exchangedate': '18.04.2020', 'r030': 840, 'cc': 'USD', 'txt': 'Долар США', 'enname': 'US Dollar', 'rate': 27.2022, 'units': 1, 'rate_per_unit': 27.2022, 'group': '1', 'calcdate': '16.04.2020'}, {'exchangedate': '17.04.2020', 'r030': 840, 'cc': 'USD', 'txt': 'Долар США', 'enname': 'US Dollar', 'rate': 27.2022, 'units': 1, 'rate_per_unit': 27.2022, 'group': '1', 'calcdate': '16.04.2020'}, {'exchangedate': '16.04.2020', 'r030': 840, 'cc': 'USD', 'txt': 'Долар США', 'enname': 'US Dollar', 'rate': 27.2219, 'units': 1, 'rate_per_unit': 27.2219, 'group': '1', 'calcdate': '15.04.2020'}, {'exchangedate': '15.04.2020', 'r030': 840, 'cc': 'USD', 'txt': 'Долар США', 'enname': 'US Dollar', 'rate': 27.0899, 'units': 1, 'rate_per_unit': 27.0899, 'group': '1', 'calcdate': '14.04.2020'}, {'exchangedate': '14.04.2020', 'r030': 840, 'cc': 'USD', 'txt': 'Долар США', 'enname': 'US Dollar', 'rate': 27.0404, 'units': 1, 'rate_per_unit': 27.0404, 'group': '1', 'calcdate': '13.04.2020'}, {'exchangedate': '13.04.2020', 'r030': 840, 'cc': 'USD', 'txt': 'Долар США', 'enname': 'US Dollar', 'rate': 27.2022, 'units': 1, 'rate_per_unit': 27.2022, 'group': '1', 'calcdate': '10.04.2020'}, {'exchangedate': '12.04.2020', 'r030': 840, 'cc': 'USD', 'txt': 'Долар США', 'enname': 'US Dollar', 'rate': 27.2598, 'units': 1, 'rate_per_unit': 27.2598, 'group': '1', 'calcdate': '09.04.2020'}, {'exchangedate': '11.04.2020', 'r030': 840, 'cc': 'USD', 'txt': 'Долар США', 'enname': 'US Dollar', 'rate': 27.2598, 'units': 1, 'rate_per_unit': 27.2598, 'group': '1', 'calcdate': '09.04.2020'}, {'exchangedate': '10.04.2020', 'r030': 840, 'cc': 'USD', 'txt': 'Долар США', 'enname': 'US Dollar', 'rate': 27.2598, 'units': 1, 'rate_per_unit': 27.2598, 'group': '1', 'calcdate': '09.04.2020'}, {'exchangedate': '09.04.2020', 'r030': 840, 'cc': 'USD', 'txt': 'Долар США', 'enname': 'US Dollar', 'rate': 27.1965, 'units': 1, 'rate_per_unit': 27.1965, 'group': '1', 'calcdate': '08.04.2020'}, {'exchangedate': '08.04.2020', 'r030': 840, 'cc': 'USD', 'txt': 'Долар США', 'enname': 'US Dollar', 'rate': 27.0996, 'units': 1, 'rate_per_unit': 27.0996, 'group': '1', 'calcdate': '07.04.2020'}, {'exchangedate': '07.04.2020', 'r030': 840, 'cc': 'USD', 'txt': 'Долар США', 'enname': 'US Dollar', 'rate': 27.2365, 'units': 1, 'rate_per_unit': 27.2365, 'group': '1', 'calcdate': '06.04.2020'}, {'exchangedate': '06.04.2020', 'r030': 840, 'cc': 'USD', 'txt': 'Долар США', 'enname': 'US Dollar', 'rate': 27.373, 'units': 1, 'rate_per_unit': 27.373, 'group': '1', 'calcdate': '03.04.2020'}, {'exchangedate': '05.04.2020', 'r030': 840, 'cc': 'USD', 'txt': 'Долар США', 'enname': 'US Dollar', 'rate': 27.5962, 'units': 1, 'rate_per_unit': 27.5962, 'group': '1', 'calcdate': '02.04.2020'}, {'exchangedate': '04.04.2020', 'r030': 840, 'cc': 'USD', 'txt': 'Долар США', 'enname': 'US Dollar', 'rate': 27.5962, 'units': 1, 'rate_per_unit': 27.5962, 'group': '1', 'calcdate': '02.04.2020'}, {'exchangedate': '03.04.2020', 'r030': 840, 'cc': 'USD', 'txt': 'Долар США', 'enname': 'US Dollar', 'rate': 27.5962, 'units': 1, 'rate_per_unit': 27.5962, 'group': '1', 'calcdate': '02.04.2020'}, {'exchangedate': '02.04.2020', 'r030': 840, 'cc': 'USD', 'txt': 'Долар США', 'enname': 'US Dollar', 'rate': 27.7538, 'units': 1, 'rate_per_unit': 27.7538, 'group': '1', 'calcdate': '01.04.2020'}, {'exchangedate': '01.04.2020', 'r030': 840, 'cc': 'USD', 'txt': 'Долар США', 'enname': 'US Dollar', 'rate': 27.6289, 'units': 1, 'rate_per_unit': 27.6289, 'group': '1', 'calcdate': '31.03.2020'}, {'exchangedate': '31.03.2020', 'r030': 840, 'cc': 'USD', 'txt': 'Долар США', 'enname': 'US Dollar', 'rate': 28.0615, 'units': 1, 'rate_per_unit': 28.0615, 'group': '1', 'calcdate': '30.03.2020'}, {'exchangedate': '30.03.2020', 'r030': 840, 'cc': 'USD', 'txt': 'Долар США', 'enname': 'US Dollar', 'rate': 28.183, 'units': 1, 'rate_per_unit': 28.183, 'group': '1', 'calcdate': '27.03.2020'}, {'exchangedate': '29.03.2020', 'r030': 840, 'cc': 'USD', 'txt': 'Долар США', 'enname': 'US Dollar', 'rate': 28.1381, 'units': 1, 'rate_per_unit': 28.1381, 'group': '1', 'calcdate': '26.03.2020'}, {'exchangedate': '28.03.2020', 'r030': 840, 'cc': 'USD', 'txt': 'Долар США', 'enname': 'US Dollar', 'rate': 28.1381, 'units': 1, 'rate_per_unit': 28.1381, 'group': '1', 'calcdate': '26.03.2020'}, {'exchangedate': '27.03.2020', 'r030': 840, 'cc': 'USD', 'txt': 'Долар США', 'enname': 'US Dollar', 'rate': 28.1381, 'units': 1, 'rate_per_unit': 28.1381, 'group': '1', 'calcdate': '26.03.2020'}, {'exchangedate': '26.03.2020', 'r030': 840, 'cc': 'USD', 'txt': 'Долар США', 'enname': 'US Dollar', 'rate': 27.9552, 'units': 1, 'rate_per_unit': 27.9552, 'group': '1', 'calcdate': '25.03.2020'}, {'exchangedate': '25.03.2020', 'r030': 840, 'cc': 'USD', 'txt': 'Долар США', 'enname': 'US Dollar', 'rate': 27.7728, 'units': 1, 'rate_per_unit': 27.7728, 'group': '1', 'calcdate': '24.03.2020'}, {'exchangedate': '24.03.2020', 'r030': 840, 'cc': 'USD', 'txt': 'Долар США', 'enname': 'US Dollar', 'rate': 28.1126, 'units': 1, 'rate_per_unit': 28.1126, 'group': '1', 'calcdate': '23.03.2020'}, {'exchangedate': '23.03.2020', 'r030': 840, 'cc': 'USD', 'txt': 'Долар США', 'enname': 'US Dollar', 'rate': 27.7386, 'units': 1, 'rate_per_unit': 27.7386, 'group': '1', 'calcdate': '20.03.2020'}, {'exchangedate': '22.03.2020', 'r030': 840, 'cc': 'USD', 'txt': 'Долар США', 'enname': 'US Dollar', 'rate': 27.8025, 'units': 1, 'rate_per_unit': 27.8025, 'group': '1', 'calcdate': '19.03.2020'}, {'exchangedate': '21.03.2020', 'r030': 840, 'cc': 'USD', 'txt': 'Долар США', 'enname': 'US Dollar', 'rate': 27.8025, 'units': 1, 'rate_per_unit': 27.8025, 'group': '1', 'calcdate': '19.03.2020'}, {'exchangedate': '20.03.2020', 'r030': 840, 'cc': 'USD', 'txt': 'Долар США', 'enname': 'US Dollar', 'rate': 27.8025, 'units': 1, 'rate_per_unit': 27.8025, 'group': '1', 'calcdate': '19.03.2020'}, {'exchangedate': '19.03.2020', 'r030': 840, 'cc': 'USD', 'txt': 'Долар США', 'enname': 'US Dollar', 'rate': 27.2685, 'units': 1, 'rate_per_unit': 27.2685, 'group': '1', 'calcdate': '18.03.2020'}, {'exchangedate': '18.03.2020', 'r030': 840, 'cc': 'USD', 'txt': 'Долар США', 'enname': 'US Dollar', 'rate': 27.0566, 'units': 1, 'rate_per_unit': 27.0566, 'group': '1', 'calcdate': '17.03.2020'}, {'exchangedate': '17.03.2020', 'r030': 840, 'cc': 'USD', 'txt': 'Долар США', 'enname': 'US Dollar', 'rate': 26.5249, 'units': 1, 'rate_per_unit': 26.5249, 'group': '1', 'calcdate': '16.03.2020'}, {'exchangedate': '16.03.2020', 'r030': 840, 'cc': 'USD', 'txt': 'Долар США', 'enname': 'US Dollar', 'rate': 26.089, 'units': 1, 'rate_per_unit': 26.089, 'group': '1', 'calcdate': '13.03.2020'}, {'exchangedate': '15.03.2020', 'r030': 840, 'cc': 'USD', 'txt': 'Долар США', 'enname': 'US Dollar', 'rate': 25.858, 'units': 1, 'rate_per_unit': 25.858, 'group': '1', 'calcdate': '12.03.2020'}, {'exchangedate': '14.03.2020', 'r030': 840, 'cc': 'USD', 'txt': 'Долар США', 'enname': 'US Dollar', 'rate': 25.858, 'units': 1, 'rate_per_unit': 25.858, 'group': '1', 'calcdate': '12.03.2020'}, {'exchangedate': '13.03.2020', 'r030': 840, 'cc': 'USD', 'txt': 'Долар США', 'enname': 'US Dollar', 'rate': 25.858, 'units': 1, 'rate_per_unit': 25.858, 'group': '1', 'calcdate': '12.03.2020'}]\n"
     ],
     "output_type":"stream"
    }
   ],
   "metadata":{
    "datalore":{
     "node_id":"SgPeEfHwMxq4bPaiaulB4w",
     "type":"CODE",
     "hide_input_from_viewers":false,
     "hide_output_from_viewers":false,
     "report_properties":{
      "rowId":"5INNaVnitbuyaJC6N3qRSh"
     }
    }
   }
  },
  {
   "cell_type":"markdown",
   "source":[
    "3. Вивести середнє значення та відхилення курсу за кожний місяць."
   ],
   "attachments":{
    
   },
   "metadata":{
    "datalore":{
     "node_id":"hnr3hatYTIOEbzHm13IqZq",
     "type":"MD",
     "hide_input_from_viewers":false,
     "hide_output_from_viewers":false,
     "report_properties":{
      "rowId":"isjfI6yiSB1ZwfMjKJe0Oi"
     }
    }
   }
  },
  {
   "cell_type":"code",
   "source":[
    "#import statistics\n",
    "from math import sqrt\n",
    "\n",
    "def list_avg(list_n):\n",
    "    sum_n=0\n",
    "    for n in list_n:\n",
    "        sum_n+=n\n",
    "    return sum_n\/len(list_n)\n",
    "\n",
    "def list_std(list_n):\n",
    "    list_avg_n = list_avg(list_n)\n",
    "    return sqrt((sum([pow((i-list_avg_n),2) for i in list_n])\/len(list_n)))\n",
    "\n",
    "\n",
    "for i in usd_exchange_rates:\n",
    "    stat[i['exchangedate'][3:]]={'list':[], \n",
    "                                 'month_avg':0,\n",
    "                                 'month_stdev':0\n",
    "                                 }\n",
    "\n",
    "for i in usd_exchange_rates:\n",
    "    stat[i['exchangedate'][3:]]['list'].append(i['rate'])\n",
    "\n",
    "for d in stat:\n",
    "    stat[d]['month_avg'] = round(sum(stat[d]['list']) \/ len(stat[d]['list']),2)\n",
    "    stat[d]['month_stdev'] = round(list_std(stat[d]['list']),2) #round(statistics.stdev(stat[d]['list']),2)\n",
    "\n",
    "print(stat)"
   ],
   "execution_count":null,
   "outputs":[
    {
     "name":"stdout",
     "text":[
      "{'03.2023': {'list': [36.5686, 36.5686, 36.5686, 36.5686, 36.5686, 36.5686, 36.5686, 36.5686, 36.5686, 36.5686, 36.5686, 36.5686, 36.5686], 'month_avg': 36.57, 'month_stdev': 0.0}, '02.2023': {'list': [36.5686, 36.5686, 36.5686, 36.5686, 36.5686, 36.5686, 36.5686, 36.5686, 36.5686, 36.5686, 36.5686, 36.5686, 36.5686, 36.5686, 36.5686, 36.5686, 36.5686, 36.5686, 36.5686, 36.5686, 36.5686, 36.5686, 36.5686, 36.5686, 36.5686, 36.5686, 36.5686, 36.5686], 'month_avg': 36.57, 'month_stdev': 0.0}, '01.2023': {'list': [36.5686, 36.5686, 36.5686, 36.5686, 36.5686, 36.5686, 36.5686, 36.5686, 36.5686, 36.5686, 36.5686, 36.5686, 36.5686, 36.5686, 36.5686, 36.5686, 36.5686, 36.5686, 36.5686, 36.5686, 36.5686, 36.5686, 36.5686, 36.5686, 36.5686, 36.5686, 36.5686, 36.5686, 36.5686, 36.5686, 36.5686], 'month_avg': 36.57, 'month_stdev': 0.0}, '12.2022': {'list': [36.5686, 36.5686, 36.5686, 36.5686, 36.5686, 36.5686, 36.5686, 36.5686, 36.5686, 36.5686, 36.5686, 36.5686, 36.5686, 36.5686, 36.5686, 36.5686, 36.5686, 36.5686, 36.5686, 36.5686, 36.5686, 36.5686, 36.5686, 36.5686, 36.5686, 36.5686, 36.5686, 36.5686, 36.5686, 36.5686, 36.5686], 'month_avg': 36.57, 'month_stdev': 0.0}, '11.2022': {'list': [36.5686, 36.5686, 36.5686, 36.5686, 36.5686, 36.5686, 36.5686, 36.5686, 36.5686, 36.5686, 36.5686, 36.5686, 36.5686, 36.5686, 36.5686, 36.5686, 36.5686, 36.5686, 36.5686, 36.5686, 36.5686, 36.5686, 36.5686, 36.5686, 36.5686, 36.5686, 36.5686, 36.5686, 36.5686, 36.5686], 'month_avg': 36.57, 'month_stdev': 0.0}, '10.2022': {'list': [36.5686, 36.5686, 36.5686, 36.5686, 36.5686, 36.5686, 36.5686, 36.5686, 36.5686, 36.5686, 36.5686, 36.5686, 36.5686, 36.5686, 36.5686, 36.5686, 36.5686, 36.5686, 36.5686, 36.5686, 36.5686, 36.5686, 36.5686, 36.5686, 36.5686, 36.5686, 36.5686, 36.5686, 36.5686, 36.5686, 36.5686], 'month_avg': 36.57, 'month_stdev': 0.0}, '09.2022': {'list': [36.5686, 36.5686, 36.5686, 36.5686, 36.5686, 36.5686, 36.5686, 36.5686, 36.5686, 36.5686, 36.5686, 36.5686, 36.5686, 36.5686, 36.5686, 36.5686, 36.5686, 36.5686, 36.5686, 36.5686, 36.5686, 36.5686, 36.5686, 36.5686, 36.5686, 36.5686, 36.5686, 36.5686, 36.5686, 36.5686], 'month_avg': 36.57, 'month_stdev': 0.0}, '08.2022': {'list': [36.5686, 36.5686, 36.5686, 36.5686, 36.5686, 36.5686, 36.5686, 36.5686, 36.5686, 36.5686, 36.5686, 36.5686, 36.5686, 36.5686, 36.5686, 36.5686, 36.5686, 36.5686, 36.5686, 36.5686, 36.5686, 36.5686, 36.5686, 36.5686, 36.5686, 36.5686, 36.5686, 36.5686, 36.5686, 36.5686, 36.5686], 'month_avg': 36.57, 'month_stdev': 0.0}, '07.2022': {'list': [36.5686, 36.5686, 36.5686, 36.5686, 36.5686, 36.5686, 36.5686, 36.5686, 36.5686, 36.5686, 36.5686, 29.2549, 29.2549, 29.2549, 29.2549, 29.2549, 29.2549, 29.2549, 29.2549, 29.2549, 29.2549, 29.2549, 29.2549, 29.2549, 29.2549, 29.2549, 29.2549, 29.2549, 29.2549, 29.2549, 29.2549], 'month_avg': 31.85, 'month_stdev': 3.5}, '06.2022': {'list': [29.2549, 29.2549, 29.2549, 29.2549, 29.2549, 29.2549, 29.2549, 29.2549, 29.2549, 29.2549, 29.2549, 29.2549, 29.2549, 29.2549, 29.2549, 29.2549, 29.2549, 29.2549, 29.2549, 29.2549, 29.2549, 29.2549, 29.2549, 29.2549, 29.2549, 29.2549, 29.2549, 29.2549, 29.2549, 29.2549], 'month_avg': 29.25, 'month_stdev': 0.0}, '05.2022': {'list': [29.2549, 29.2549, 29.2549, 29.2549, 29.2549, 29.2549, 29.2549, 29.2549, 29.2549, 29.2549, 29.2549, 29.2549, 29.2549, 29.2549, 29.2549, 29.2549, 29.2549, 29.2549, 29.2549, 29.2549, 29.2549, 29.2549, 29.2549, 29.2549, 29.2549, 29.2549, 29.2549, 29.2549, 29.2549, 29.2549, 29.2549], 'month_avg': 29.25, 'month_stdev': 0.0}, '04.2022': {'list': [29.2549, 29.2549, 29.2549, 29.2549, 29.2549, 29.2549, 29.2549, 29.2549, 29.2549, 29.2549, 29.2549, 29.2549, 29.2549, 29.2549, 29.2549, 29.2549, 29.2549, 29.2549, 29.2549, 29.2549, 29.2549, 29.2549, 29.2549, 29.2549, 29.2549, 29.2549, 29.2549, 29.2549, 29.2549, 29.2549], 'month_avg': 29.25, 'month_stdev': 0.0}, '03.2022': {'list': [29.2549, 29.2549, 29.2549, 29.2549, 29.2549, 29.2549, 29.2549, 29.2549, 29.2549, 29.2549, 29.2549, 29.2549, 29.2549, 29.2549, 29.2549, 29.2549, 29.2549, 29.2549, 29.2549, 29.2549, 29.2549, 29.2549, 29.2549, 29.2549, 29.2549, 29.2549, 29.2549, 29.2549, 29.2549, 29.2549, 29.2549], 'month_avg': 29.25, 'month_stdev': 0.0}, '02.2022': {'list': [29.2549, 29.2549, 29.2549, 29.2549, 29.2549, 28.9877, 28.4846, 28.3428, 28.3, 28.3, 28.3, 28.0943, 28.2424, 28.5355, 28.0346, 27.8756, 27.8756, 27.8756, 27.9795, 27.9619, 27.9998, 28.1468, 28.2701, 28.2701, 28.2701, 28.3876, 28.318, 28.4555], 'month_avg': 28.41, 'month_stdev': 0.45}, '01.2022': {'list': [28.7839, 28.9879, 28.9879, 28.9879, 28.7984, 28.6658, 28.3749, 28.3181, 28.3236, 28.3236, 28.3236, 28.4038, 28.4101, 28.122, 27.9514, 27.7372, 27.7372, 27.7372, 27.7073, 27.5093, 27.4998, 27.4977, 27.4551, 27.4551, 27.4551, 27.4551, 27.2976, 27.2782, 27.2782, 27.2782, 27.2782], 'month_avg': 27.98, 'month_stdev': 0.58}, '12.2021': {'list': [27.2782, 27.2077, 27.2235, 27.2306, 27.2747, 27.2747, 27.2747, 27.2747, 27.2508, 27.2598, 27.2846, 27.2483, 27.1929, 27.1929, 27.1929, 27.196, 26.9985, 26.8846, 27.0241, 27.1013, 27.1013, 27.1013, 27.2167, 27.3317, 27.3791, 27.2981, 27.2933, 27.2933, 27.2933, 27.2296, 27.2142], 'month_avg': 27.21, 'month_stdev': 0.1}, '11.2021': {'list': [27.1739, 27.1033, 27.0256, 27.0256, 27.0256, 26.9273, 26.8604, 26.6588, 26.5694, 26.4427, 26.4427, 26.4427, 26.5147, 26.4133, 26.3371, 26.1107, 26.1022, 26.1022, 26.1022, 26.0575, 26.0927, 26.0806, 26.102, 26.19, 26.19, 26.19, 26.2431, 26.2904, 26.2933, 26.2767], 'month_avg': 26.45, 'month_stdev': 0.35}, '10.2021': {'list': [26.3265, 26.3265, 26.3265, 26.3712, 26.419, 26.3509, 26.2918, 26.2918, 26.2918, 26.2016, 26.2078, 26.272, 26.3356, 26.3419, 26.349, 26.349, 26.349, 26.349, 26.349, 26.36, 26.3515, 26.3314, 26.3314, 26.3314, 26.3503, 26.4244, 26.5722, 26.61, 26.6175, 26.6175, 26.6175], 'month_avg': 26.37, 'month_stdev': 0.11}, '09.2021': {'list': [26.576, 26.5698, 26.6556, 26.6422, 26.5272, 26.5272, 26.5272, 26.6714, 26.7081, 26.7072, 26.7028, 26.6672, 26.6672, 26.6672, 26.645, 26.6362, 26.692, 26.6782, 26.7264, 26.7264, 26.7264, 26.7452, 26.7317, 26.8102, 26.9298, 27.0247, 27.0247, 27.0247, 27.0029, 26.8928], 'month_avg': 26.73, 'month_stdev': 0.15}, '08.2021': {'list': [26.8601, 26.929, 26.929, 26.929, 26.7744, 26.7074, 26.6718, 26.6504, 26.6504, 26.6504, 26.6504, 26.6504, 26.6455, 26.6752, 26.6457, 26.6931, 26.7686, 26.7686, 26.7686, 26.8042, 26.7557, 26.8011, 26.8346, 26.9395, 26.9395, 26.9395, 26.9094, 26.8411, 26.8444, 26.8168, 26.8867], 'month_avg': 26.78, 'month_stdev': 0.11}, '07.2021': {'list': [26.8867, 26.8867, 26.8628, 26.906, 26.9805, 27.048, 27.1915, 27.1915, 27.1915, 27.2405, 27.2205, 27.2132, 27.2301, 27.2905, 27.2905, 27.2905, 27.3047, 27.3216, 27.2904, 27.3234, 27.2862, 27.2862, 27.2862, 27.2993, 27.2497, 27.2904, 27.4121, 27.3841, 27.3841, 27.3841, 27.2275], 'month_avg': 27.21, 'month_stdev': 0.15}, '06.2021': {'list': [27.1763, 27.3964, 27.4589, 27.4589, 27.4589, 27.4589, 27.2737, 27.305, 27.1935, 27.1712, 27.1712, 27.1712, 27.1712, 27.0275, 26.9258, 26.9957, 27.0404, 27.1068, 27.1068, 27.1068, 27.0906, 27.1764, 27.1923, 27.2914, 27.34, 27.34, 27.34, 27.3449, 27.4381, 27.4674], 'month_avg': 27.24, 'month_stdev': 0.15}, '05.2021': {'list': [27.5004, 27.526, 27.526, 27.526, 27.5461, 27.4553, 27.4281, 27.4572, 27.4665, 27.4665, 27.4665, 27.4166, 27.4368, 27.555, 27.6142, 27.6273, 27.6273, 27.6273, 27.6318, 27.6744, 27.7641, 27.7205, 27.7205, 27.7205, 27.7205, 27.7339, 27.733, 27.75, 27.75, 27.75, 27.75], 'month_avg': 27.6, 'month_stdev': 0.12}, '04.2021': {'list': [27.75, 27.7867, 27.7715, 27.8558, 27.9014, 28.0642, 28.0642, 28.0642, 28.0576, 28.0096, 28.0087, 27.9783, 27.9592, 27.9592, 27.9592, 27.9765, 28.0156, 27.9335, 27.9094, 27.9768, 27.9768, 27.9768, 27.8923, 27.8384, 27.939, 27.9555, 27.8324, 27.8324, 27.8324, 27.8226], 'month_avg': 27.93, 'month_stdev': 0.09}, '03.2021': {'list': [27.8852, 27.9694, 27.9679, 27.9698, 27.9698, 27.9698, 27.8706, 27.7295, 27.6871, 27.7184, 27.6828, 27.6828, 27.6828, 27.6978, 27.6525, 27.6434, 27.7305, 27.7486, 27.7486, 27.7486, 27.7016, 27.7431, 27.7091, 27.7564, 27.7564, 27.7564, 27.7564, 27.8477, 27.933, 28.0007, 27.9456], 'month_avg': 27.8, 'month_stdev': 0.11}, '02.2021': {'list': [27.9301, 27.9301, 27.9301, 27.9492, 27.8976, 27.9304, 27.8468, 27.8461, 27.8461, 27.8461, 27.9038, 27.8304, 27.9671, 27.844, 27.8384, 27.8384, 27.8384, 27.7665, 27.6426, 27.6651, 27.7711, 27.8885, 27.8885, 27.8885, 27.995, 28.0589, 28.0603, 28.1324], 'month_avg': 27.88, 'month_stdev': 0.1}, '01.2021': {'list': [28.1929, 28.1929, 28.1929, 28.1652, 28.1524, 28.1665, 28.1648, 28.2561, 28.2561, 28.2561, 28.2035, 28.1544, 28.1926, 28.0524, 28.0524, 28.0524, 28.0609, 27.9705, 28.046, 28.2038, 28.2847, 28.4028, 28.4028, 28.4028, 28.4028, 28.4028, 28.431, 28.2746, 28.2746, 28.2746, 28.2746], 'month_avg': 28.22, 'month_stdev': 0.12}, '12.2020': {'list': [28.2746, 28.2605, 28.3668, 28.3547, 28.4551, 28.4551, 28.4551, 28.4551, 28.2513, 28.0391, 27.828, 27.8184, 27.8184, 27.8184, 27.7373, 27.759, 27.8661, 27.9666, 28.075, 28.075, 28.075, 28.0406, 28.0828, 28.2394, 28.2913, 28.3038, 28.3038, 28.3038, 28.4367, 28.5583, 28.4962], 'month_avg': 28.17, 'month_stdev': 0.25}, '11.2020': {'list': [28.4681, 28.4428, 28.4428, 28.4428, 28.3816, 28.3741, 28.3694, 28.3553, 28.2572, 28.2572, 28.2572, 28.13, 28.1067, 28.112, 28.1158, 28.1963, 28.1963, 28.1963, 28.161, 28.1206, 28.1116, 28.1375, 28.3643, 28.3643, 28.3643, 28.5074, 28.6, 28.5827, 28.4507, 28.4383], 'month_avg': 28.31, 'month_stdev': 0.15}, '10.2020': {'list': [28.4383, 28.4383, 28.3989, 28.3655, 28.3352, 28.2911, 28.265, 28.265, 28.265, 28.2737, 28.3707, 28.3762, 28.3649, 28.3365, 28.3365, 28.3365, 28.3164, 28.2481, 28.2481, 28.2098, 28.2836, 28.2836, 28.2836, 28.324, 28.3639, 28.4009, 28.3408, 28.3343, 28.3343, 28.3343, 28.3105], 'month_avg': 28.32, 'month_stdev': 0.05}, '09.2020': {'list': [28.2989, 28.3062, 28.2673, 28.2487, 28.2487, 28.2487, 28.1874, 28.2059, 28.2022, 28.1718, 28.1127, 28.1127, 28.1127, 28.1195, 28.0556, 28.0003, 27.9003, 27.8346, 27.8346, 27.8346, 27.8296, 27.8032, 27.7509, 27.7325, 27.6908, 27.6908, 27.6908, 27.6428, 27.6049, 27.5618], 'month_avg': 27.98, 'month_stdev': 0.24}, '08.2020': {'list': [27.4759, 27.4615, 27.4615, 27.4615, 27.386, 27.4383, 27.3942, 27.4812, 27.4812, 27.4812, 27.4812, 27.316, 27.2297, 27.3061, 27.3474, 27.4083, 27.4083, 27.4083, 27.5266, 27.5982, 27.6007, 27.6486, 27.6793, 27.6793, 27.6793, 27.7028, 27.8225, 27.7365, 27.6798, 27.6913, 27.6913], 'month_avg': 27.52, 'month_stdev': 0.15}, '07.2020': {'list': [27.6913, 27.6867, 27.6851, 27.7571, 27.7559, 27.8779, 27.8779, 27.8779, 27.7798, 27.6647, 27.6011, 27.3606, 27.2738, 27.2738, 27.2738, 27.119, 27.1436, 27.0883, 26.9505, 26.9335, 26.9335, 26.9335, 26.9514, 26.9309, 27.1269, 27.1716, 27.1801, 27.1801, 27.1801, 26.77, 26.6676], 'month_avg': 27.31, 'month_stdev': 0.36}, '06.2020': {'list': [26.6922, 26.7002, 26.7002, 26.7002, 26.7002, 26.6509, 26.6078, 26.6695, 26.7207, 26.7633, 26.7633, 26.7633, 26.776, 26.7424, 26.844, 26.7303, 26.5999, 26.5999, 26.5999, 26.6367, 26.6412, 26.6005, 26.6953, 26.6953, 26.6953, 26.6953, 26.7544, 26.7955, 26.8181, 26.8685], 'month_avg': 26.71, 'month_stdev': 0.07}, '05.2020': {'list': [26.9059, 26.9059, 26.9059, 27.0002, 26.9029, 26.8742, 26.7556, 26.7699, 26.7699, 26.7699, 26.5854, 26.5159, 26.571, 26.638, 26.6792, 26.6792, 26.6792, 26.6897, 26.7947, 26.8196, 26.8185, 26.8185, 26.8185, 26.8185, 26.9323, 26.9774, 26.9749, 26.9592, 26.9714, 26.9714, 26.9714], 'month_avg': 26.81, 'month_stdev': 0.13}, '04.2020': {'list': [26.9714, 27.0485, 27.1025, 27.1441, 27.0137, 27.0137, 27.0137, 27.0536, 27.0815, 27.0774, 27.2022, 27.2022, 27.2022, 27.2022, 27.2219, 27.0899, 27.0404, 27.2022, 27.2598, 27.2598, 27.2598, 27.1965, 27.0996, 27.2365, 27.373, 27.5962, 27.5962, 27.5962, 27.7538, 27.6289], 'month_avg': 27.22, 'month_stdev': 0.21}, '03.2020': {'list': [28.0615, 28.183, 28.1381, 28.1381, 28.1381, 27.9552, 27.7728, 28.1126, 27.7386, 27.8025, 27.8025, 27.8025, 27.2685, 27.0566, 26.5249, 26.089, 25.858, 25.858, 25.858], 'month_avg': 27.38, 'month_stdev': 0.86}}\n"
     ],
     "output_type":"stream"
    }
   ],
   "metadata":{
    "datalore":{
     "node_id":"qtfFbk1NHsvWe89qYRKsNo",
     "type":"CODE",
     "hide_input_from_viewers":false,
     "hide_output_from_viewers":false,
     "report_properties":{
      "rowId":"fXUlC5KDf0Yh4Fn4YoadCx"
     }
    }
   }
  },
  {
   "cell_type":"markdown",
   "source":[
    "4. Дану інформацію записати у файл за допомогою pickle."
   ],
   "attachments":{
    
   },
   "metadata":{
    "datalore":{
     "node_id":"NBY3yxjiwdtQNaMh21W26h",
     "type":"MD",
     "hide_input_from_viewers":false,
     "hide_output_from_viewers":false,
     "report_properties":{
      "rowId":"0tVfHWTe53y8eA18miRoGM"
     }
    }
   }
  },
  {
   "cell_type":"code",
   "source":[
    "import pickle \n",
    "\n",
    "\n",
    "with open(\"stat_data.pcl\", \"wb\") as file1:\n",
    "    pickle.dump(stat, file1)"
   ],
   "execution_count":null,
   "outputs":[
    
   ],
   "metadata":{
    "datalore":{
     "node_id":"Hpw4DHRzGIMX62l5yqZDv6",
     "type":"CODE",
     "hide_input_from_viewers":false,
     "hide_output_from_viewers":false,
     "report_properties":{
      "rowId":"aPEEshJ9m8XSjBydkffs9Q"
     }
    }
   }
  },
  {
   "cell_type":"code",
   "source":[
    "with open(\"stat_data.pcl\", \"rb\") as file1:\n",
    "    loaded_data = pickle.load(file1)\n",
    "\n",
    "print(loaded_data)"
   ],
   "execution_count":null,
   "outputs":[
    {
     "name":"stdout",
     "text":[
      "{'03.2023': {'list': [36.5686, 36.5686, 36.5686, 36.5686, 36.5686, 36.5686, 36.5686, 36.5686, 36.5686, 36.5686, 36.5686, 36.5686, 36.5686], 'month_avg': 36.57, 'month_stdev': 0.0}, '02.2023': {'list': [36.5686, 36.5686, 36.5686, 36.5686, 36.5686, 36.5686, 36.5686, 36.5686, 36.5686, 36.5686, 36.5686, 36.5686, 36.5686, 36.5686, 36.5686, 36.5686, 36.5686, 36.5686, 36.5686, 36.5686, 36.5686, 36.5686, 36.5686, 36.5686, 36.5686, 36.5686, 36.5686, 36.5686], 'month_avg': 36.57, 'month_stdev': 0.0}, '01.2023': {'list': [36.5686, 36.5686, 36.5686, 36.5686, 36.5686, 36.5686, 36.5686, 36.5686, 36.5686, 36.5686, 36.5686, 36.5686, 36.5686, 36.5686, 36.5686, 36.5686, 36.5686, 36.5686, 36.5686, 36.5686, 36.5686, 36.5686, 36.5686, 36.5686, 36.5686, 36.5686, 36.5686, 36.5686, 36.5686, 36.5686, 36.5686], 'month_avg': 36.57, 'month_stdev': 0.0}, '12.2022': {'list': [36.5686, 36.5686, 36.5686, 36.5686, 36.5686, 36.5686, 36.5686, 36.5686, 36.5686, 36.5686, 36.5686, 36.5686, 36.5686, 36.5686, 36.5686, 36.5686, 36.5686, 36.5686, 36.5686, 36.5686, 36.5686, 36.5686, 36.5686, 36.5686, 36.5686, 36.5686, 36.5686, 36.5686, 36.5686, 36.5686, 36.5686], 'month_avg': 36.57, 'month_stdev': 0.0}, '11.2022': {'list': [36.5686, 36.5686, 36.5686, 36.5686, 36.5686, 36.5686, 36.5686, 36.5686, 36.5686, 36.5686, 36.5686, 36.5686, 36.5686, 36.5686, 36.5686, 36.5686, 36.5686, 36.5686, 36.5686, 36.5686, 36.5686, 36.5686, 36.5686, 36.5686, 36.5686, 36.5686, 36.5686, 36.5686, 36.5686, 36.5686], 'month_avg': 36.57, 'month_stdev': 0.0}, '10.2022': {'list': [36.5686, 36.5686, 36.5686, 36.5686, 36.5686, 36.5686, 36.5686, 36.5686, 36.5686, 36.5686, 36.5686, 36.5686, 36.5686, 36.5686, 36.5686, 36.5686, 36.5686, 36.5686, 36.5686, 36.5686, 36.5686, 36.5686, 36.5686, 36.5686, 36.5686, 36.5686, 36.5686, 36.5686, 36.5686, 36.5686, 36.5686], 'month_avg': 36.57, 'month_stdev': 0.0}, '09.2022': {'list': [36.5686, 36.5686, 36.5686, 36.5686, 36.5686, 36.5686, 36.5686, 36.5686, 36.5686, 36.5686, 36.5686, 36.5686, 36.5686, 36.5686, 36.5686, 36.5686, 36.5686, 36.5686, 36.5686, 36.5686, 36.5686, 36.5686, 36.5686, 36.5686, 36.5686, 36.5686, 36.5686, 36.5686, 36.5686, 36.5686], 'month_avg': 36.57, 'month_stdev': 0.0}, '08.2022': {'list': [36.5686, 36.5686, 36.5686, 36.5686, 36.5686, 36.5686, 36.5686, 36.5686, 36.5686, 36.5686, 36.5686, 36.5686, 36.5686, 36.5686, 36.5686, 36.5686, 36.5686, 36.5686, 36.5686, 36.5686, 36.5686, 36.5686, 36.5686, 36.5686, 36.5686, 36.5686, 36.5686, 36.5686, 36.5686, 36.5686, 36.5686], 'month_avg': 36.57, 'month_stdev': 0.0}, '07.2022': {'list': [36.5686, 36.5686, 36.5686, 36.5686, 36.5686, 36.5686, 36.5686, 36.5686, 36.5686, 36.5686, 36.5686, 29.2549, 29.2549, 29.2549, 29.2549, 29.2549, 29.2549, 29.2549, 29.2549, 29.2549, 29.2549, 29.2549, 29.2549, 29.2549, 29.2549, 29.2549, 29.2549, 29.2549, 29.2549, 29.2549, 29.2549], 'month_avg': 31.85, 'month_stdev': 3.5}, '06.2022': {'list': [29.2549, 29.2549, 29.2549, 29.2549, 29.2549, 29.2549, 29.2549, 29.2549, 29.2549, 29.2549, 29.2549, 29.2549, 29.2549, 29.2549, 29.2549, 29.2549, 29.2549, 29.2549, 29.2549, 29.2549, 29.2549, 29.2549, 29.2549, 29.2549, 29.2549, 29.2549, 29.2549, 29.2549, 29.2549, 29.2549], 'month_avg': 29.25, 'month_stdev': 0.0}, '05.2022': {'list': [29.2549, 29.2549, 29.2549, 29.2549, 29.2549, 29.2549, 29.2549, 29.2549, 29.2549, 29.2549, 29.2549, 29.2549, 29.2549, 29.2549, 29.2549, 29.2549, 29.2549, 29.2549, 29.2549, 29.2549, 29.2549, 29.2549, 29.2549, 29.2549, 29.2549, 29.2549, 29.2549, 29.2549, 29.2549, 29.2549, 29.2549], 'month_avg': 29.25, 'month_stdev': 0.0}, '04.2022': {'list': [29.2549, 29.2549, 29.2549, 29.2549, 29.2549, 29.2549, 29.2549, 29.2549, 29.2549, 29.2549, 29.2549, 29.2549, 29.2549, 29.2549, 29.2549, 29.2549, 29.2549, 29.2549, 29.2549, 29.2549, 29.2549, 29.2549, 29.2549, 29.2549, 29.2549, 29.2549, 29.2549, 29.2549, 29.2549, 29.2549], 'month_avg': 29.25, 'month_stdev': 0.0}, '03.2022': {'list': [29.2549, 29.2549, 29.2549, 29.2549, 29.2549, 29.2549, 29.2549, 29.2549, 29.2549, 29.2549, 29.2549, 29.2549, 29.2549, 29.2549, 29.2549, 29.2549, 29.2549, 29.2549, 29.2549, 29.2549, 29.2549, 29.2549, 29.2549, 29.2549, 29.2549, 29.2549, 29.2549, 29.2549, 29.2549, 29.2549, 29.2549], 'month_avg': 29.25, 'month_stdev': 0.0}, '02.2022': {'list': [29.2549, 29.2549, 29.2549, 29.2549, 29.2549, 28.9877, 28.4846, 28.3428, 28.3, 28.3, 28.3, 28.0943, 28.2424, 28.5355, 28.0346, 27.8756, 27.8756, 27.8756, 27.9795, 27.9619, 27.9998, 28.1468, 28.2701, 28.2701, 28.2701, 28.3876, 28.318, 28.4555], 'month_avg': 28.41, 'month_stdev': 0.45}, '01.2022': {'list': [28.7839, 28.9879, 28.9879, 28.9879, 28.7984, 28.6658, 28.3749, 28.3181, 28.3236, 28.3236, 28.3236, 28.4038, 28.4101, 28.122, 27.9514, 27.7372, 27.7372, 27.7372, 27.7073, 27.5093, 27.4998, 27.4977, 27.4551, 27.4551, 27.4551, 27.4551, 27.2976, 27.2782, 27.2782, 27.2782, 27.2782], 'month_avg': 27.98, 'month_stdev': 0.58}, '12.2021': {'list': [27.2782, 27.2077, 27.2235, 27.2306, 27.2747, 27.2747, 27.2747, 27.2747, 27.2508, 27.2598, 27.2846, 27.2483, 27.1929, 27.1929, 27.1929, 27.196, 26.9985, 26.8846, 27.0241, 27.1013, 27.1013, 27.1013, 27.2167, 27.3317, 27.3791, 27.2981, 27.2933, 27.2933, 27.2933, 27.2296, 27.2142], 'month_avg': 27.21, 'month_stdev': 0.1}, '11.2021': {'list': [27.1739, 27.1033, 27.0256, 27.0256, 27.0256, 26.9273, 26.8604, 26.6588, 26.5694, 26.4427, 26.4427, 26.4427, 26.5147, 26.4133, 26.3371, 26.1107, 26.1022, 26.1022, 26.1022, 26.0575, 26.0927, 26.0806, 26.102, 26.19, 26.19, 26.19, 26.2431, 26.2904, 26.2933, 26.2767], 'month_avg': 26.45, 'month_stdev': 0.35}, '10.2021': {'list': [26.3265, 26.3265, 26.3265, 26.3712, 26.419, 26.3509, 26.2918, 26.2918, 26.2918, 26.2016, 26.2078, 26.272, 26.3356, 26.3419, 26.349, 26.349, 26.349, 26.349, 26.349, 26.36, 26.3515, 26.3314, 26.3314, 26.3314, 26.3503, 26.4244, 26.5722, 26.61, 26.6175, 26.6175, 26.6175], 'month_avg': 26.37, 'month_stdev': 0.11}, '09.2021': {'list': [26.576, 26.5698, 26.6556, 26.6422, 26.5272, 26.5272, 26.5272, 26.6714, 26.7081, 26.7072, 26.7028, 26.6672, 26.6672, 26.6672, 26.645, 26.6362, 26.692, 26.6782, 26.7264, 26.7264, 26.7264, 26.7452, 26.7317, 26.8102, 26.9298, 27.0247, 27.0247, 27.0247, 27.0029, 26.8928], 'month_avg': 26.73, 'month_stdev': 0.15}, '08.2021': {'list': [26.8601, 26.929, 26.929, 26.929, 26.7744, 26.7074, 26.6718, 26.6504, 26.6504, 26.6504, 26.6504, 26.6504, 26.6455, 26.6752, 26.6457, 26.6931, 26.7686, 26.7686, 26.7686, 26.8042, 26.7557, 26.8011, 26.8346, 26.9395, 26.9395, 26.9395, 26.9094, 26.8411, 26.8444, 26.8168, 26.8867], 'month_avg': 26.78, 'month_stdev': 0.11}, '07.2021': {'list': [26.8867, 26.8867, 26.8628, 26.906, 26.9805, 27.048, 27.1915, 27.1915, 27.1915, 27.2405, 27.2205, 27.2132, 27.2301, 27.2905, 27.2905, 27.2905, 27.3047, 27.3216, 27.2904, 27.3234, 27.2862, 27.2862, 27.2862, 27.2993, 27.2497, 27.2904, 27.4121, 27.3841, 27.3841, 27.3841, 27.2275], 'month_avg': 27.21, 'month_stdev': 0.15}, '06.2021': {'list': [27.1763, 27.3964, 27.4589, 27.4589, 27.4589, 27.4589, 27.2737, 27.305, 27.1935, 27.1712, 27.1712, 27.1712, 27.1712, 27.0275, 26.9258, 26.9957, 27.0404, 27.1068, 27.1068, 27.1068, 27.0906, 27.1764, 27.1923, 27.2914, 27.34, 27.34, 27.34, 27.3449, 27.4381, 27.4674], 'month_avg': 27.24, 'month_stdev': 0.15}, '05.2021': {'list': [27.5004, 27.526, 27.526, 27.526, 27.5461, 27.4553, 27.4281, 27.4572, 27.4665, 27.4665, 27.4665, 27.4166, 27.4368, 27.555, 27.6142, 27.6273, 27.6273, 27.6273, 27.6318, 27.6744, 27.7641, 27.7205, 27.7205, 27.7205, 27.7205, 27.7339, 27.733, 27.75, 27.75, 27.75, 27.75], 'month_avg': 27.6, 'month_stdev': 0.12}, '04.2021': {'list': [27.75, 27.7867, 27.7715, 27.8558, 27.9014, 28.0642, 28.0642, 28.0642, 28.0576, 28.0096, 28.0087, 27.9783, 27.9592, 27.9592, 27.9592, 27.9765, 28.0156, 27.9335, 27.9094, 27.9768, 27.9768, 27.9768, 27.8923, 27.8384, 27.939, 27.9555, 27.8324, 27.8324, 27.8324, 27.8226], 'month_avg': 27.93, 'month_stdev': 0.09}, '03.2021': {'list': [27.8852, 27.9694, 27.9679, 27.9698, 27.9698, 27.9698, 27.8706, 27.7295, 27.6871, 27.7184, 27.6828, 27.6828, 27.6828, 27.6978, 27.6525, 27.6434, 27.7305, 27.7486, 27.7486, 27.7486, 27.7016, 27.7431, 27.7091, 27.7564, 27.7564, 27.7564, 27.7564, 27.8477, 27.933, 28.0007, 27.9456], 'month_avg': 27.8, 'month_stdev': 0.11}, '02.2021': {'list': [27.9301, 27.9301, 27.9301, 27.9492, 27.8976, 27.9304, 27.8468, 27.8461, 27.8461, 27.8461, 27.9038, 27.8304, 27.9671, 27.844, 27.8384, 27.8384, 27.8384, 27.7665, 27.6426, 27.6651, 27.7711, 27.8885, 27.8885, 27.8885, 27.995, 28.0589, 28.0603, 28.1324], 'month_avg': 27.88, 'month_stdev': 0.1}, '01.2021': {'list': [28.1929, 28.1929, 28.1929, 28.1652, 28.1524, 28.1665, 28.1648, 28.2561, 28.2561, 28.2561, 28.2035, 28.1544, 28.1926, 28.0524, 28.0524, 28.0524, 28.0609, 27.9705, 28.046, 28.2038, 28.2847, 28.4028, 28.4028, 28.4028, 28.4028, 28.4028, 28.431, 28.2746, 28.2746, 28.2746, 28.2746], 'month_avg': 28.22, 'month_stdev': 0.12}, '12.2020': {'list': [28.2746, 28.2605, 28.3668, 28.3547, 28.4551, 28.4551, 28.4551, 28.4551, 28.2513, 28.0391, 27.828, 27.8184, 27.8184, 27.8184, 27.7373, 27.759, 27.8661, 27.9666, 28.075, 28.075, 28.075, 28.0406, 28.0828, 28.2394, 28.2913, 28.3038, 28.3038, 28.3038, 28.4367, 28.5583, 28.4962], 'month_avg': 28.17, 'month_stdev': 0.25}, '11.2020': {'list': [28.4681, 28.4428, 28.4428, 28.4428, 28.3816, 28.3741, 28.3694, 28.3553, 28.2572, 28.2572, 28.2572, 28.13, 28.1067, 28.112, 28.1158, 28.1963, 28.1963, 28.1963, 28.161, 28.1206, 28.1116, 28.1375, 28.3643, 28.3643, 28.3643, 28.5074, 28.6, 28.5827, 28.4507, 28.4383], 'month_avg': 28.31, 'month_stdev': 0.15}, '10.2020': {'list': [28.4383, 28.4383, 28.3989, 28.3655, 28.3352, 28.2911, 28.265, 28.265, 28.265, 28.2737, 28.3707, 28.3762, 28.3649, 28.3365, 28.3365, 28.3365, 28.3164, 28.2481, 28.2481, 28.2098, 28.2836, 28.2836, 28.2836, 28.324, 28.3639, 28.4009, 28.3408, 28.3343, 28.3343, 28.3343, 28.3105], 'month_avg': 28.32, 'month_stdev': 0.05}, '09.2020': {'list': [28.2989, 28.3062, 28.2673, 28.2487, 28.2487, 28.2487, 28.1874, 28.2059, 28.2022, 28.1718, 28.1127, 28.1127, 28.1127, 28.1195, 28.0556, 28.0003, 27.9003, 27.8346, 27.8346, 27.8346, 27.8296, 27.8032, 27.7509, 27.7325, 27.6908, 27.6908, 27.6908, 27.6428, 27.6049, 27.5618], 'month_avg': 27.98, 'month_stdev': 0.24}, '08.2020': {'list': [27.4759, 27.4615, 27.4615, 27.4615, 27.386, 27.4383, 27.3942, 27.4812, 27.4812, 27.4812, 27.4812, 27.316, 27.2297, 27.3061, 27.3474, 27.4083, 27.4083, 27.4083, 27.5266, 27.5982, 27.6007, 27.6486, 27.6793, 27.6793, 27.6793, 27.7028, 27.8225, 27.7365, 27.6798, 27.6913, 27.6913], 'month_avg': 27.52, 'month_stdev': 0.15}, '07.2020': {'list': [27.6913, 27.6867, 27.6851, 27.7571, 27.7559, 27.8779, 27.8779, 27.8779, 27.7798, 27.6647, 27.6011, 27.3606, 27.2738, 27.2738, 27.2738, 27.119, 27.1436, 27.0883, 26.9505, 26.9335, 26.9335, 26.9335, 26.9514, 26.9309, 27.1269, 27.1716, 27.1801, 27.1801, 27.1801, 26.77, 26.6676], 'month_avg': 27.31, 'month_stdev': 0.36}, '06.2020': {'list': [26.6922, 26.7002, 26.7002, 26.7002, 26.7002, 26.6509, 26.6078, 26.6695, 26.7207, 26.7633, 26.7633, 26.7633, 26.776, 26.7424, 26.844, 26.7303, 26.5999, 26.5999, 26.5999, 26.6367, 26.6412, 26.6005, 26.6953, 26.6953, 26.6953, 26.6953, 26.7544, 26.7955, 26.8181, 26.8685], 'month_avg': 26.71, 'month_stdev': 0.07}, '05.2020': {'list': [26.9059, 26.9059, 26.9059, 27.0002, 26.9029, 26.8742, 26.7556, 26.7699, 26.7699, 26.7699, 26.5854, 26.5159, 26.571, 26.638, 26.6792, 26.6792, 26.6792, 26.6897, 26.7947, 26.8196, 26.8185, 26.8185, 26.8185, 26.8185, 26.9323, 26.9774, 26.9749, 26.9592, 26.9714, 26.9714, 26.9714], 'month_avg': 26.81, 'month_stdev': 0.13}, '04.2020': {'list': [26.9714, 27.0485, 27.1025, 27.1441, 27.0137, 27.0137, 27.0137, 27.0536, 27.0815, 27.0774, 27.2022, 27.2022, 27.2022, 27.2022, 27.2219, 27.0899, 27.0404, 27.2022, 27.2598, 27.2598, 27.2598, 27.1965, 27.0996, 27.2365, 27.373, 27.5962, 27.5962, 27.5962, 27.7538, 27.6289], 'month_avg': 27.22, 'month_stdev': 0.21}, '03.2020': {'list': [28.0615, 28.183, 28.1381, 28.1381, 28.1381, 27.9552, 27.7728, 28.1126, 27.7386, 27.8025, 27.8025, 27.8025, 27.2685, 27.0566, 26.5249, 26.089, 25.858, 25.858, 25.858], 'month_avg': 27.38, 'month_stdev': 0.86}}\n"
     ],
     "output_type":"stream"
    }
   ],
   "metadata":{
    "datalore":{
     "node_id":"JaaI4IEXjDPNtVpCyAHJNT",
     "type":"CODE",
     "hide_input_from_viewers":true,
     "hide_output_from_viewers":true
    }
   }
  },
  {
   "cell_type":"markdown",
   "source":[
    "### Завдання 2:"
   ],
   "attachments":{
    
   },
   "metadata":{
    "datalore":{
     "node_id":"LzB0IJ5TNR8H1fEmrl8pJL",
     "type":"MD",
     "hide_input_from_viewers":false,
     "hide_output_from_viewers":false,
     "report_properties":{
      "rowId":"OT46IA3NjSg4dX5yBjaJvt"
     }
    }
   }
  },
  {
   "cell_type":"markdown",
   "source":[
    "Потрібно проаналізувати всі товари на сайті: \n",
    "https:\/\/smallpacking.agrosem.ua\/shop\/"
   ],
   "attachments":{
    
   },
   "metadata":{
    "datalore":{
     "node_id":"H8al2Laj1C5VdnFqQZqHss",
     "type":"MD",
     "hide_input_from_viewers":false,
     "hide_output_from_viewers":false,
     "report_properties":{
      "rowId":"CmhURaN71Ok1FnPTGw0can"
     }
    }
   }
  },
  {
   "cell_type":"code",
   "source":[
    "import requests\n",
    "from bs4 import BeautifulSoup\n",
    "\n",
    "\n",
    "url = 'https:\/\/smallpacking.agrosem.ua'\n",
    "cookies={'PHPSESSID':'ocjornu1v306k94p7kuc01f3cv'}\n",
    "\n",
    "res=requests.get('https:\/\/smallpacking.agrosem.ua\/products',cookies={'PHPSESSID':'ocjornu1v306k94p7kuc01f3cv'})\n",
    "\n",
    "soup = BeautifulSoup(res.content, \"html.parser\")\n",
    "\n",
    "prod = {}\n",
    "\n",
    "def get_product_weight(product_url, cookies):\n",
    "    res_weight= requests.get(product_url, cookies=cookies)\n",
    "    soup_item = BeautifulSoup(res_weight.content, \"html.parser\")\n",
    "    table_content = soup_item.find('table').get_text().split()\n",
    "    index_weight = table_content.index('Вага')\n",
    "\n",
    "    return table_content[index_weight+1:index_weight+3]\n",
    "\n",
    "def product_page_parsing(soup, product_dict):\n",
    "    for i in soup.findAll('div', class_='item'):\n",
    "            product_dict[i.attrs['data-id']]={'full-name':i.find('a')['full-name'],\n",
    "                                    'price':float(i.find(class_='price').contents[0][:-2].replace(\" \",'')),\n",
    "                                    'weight':get_product_weight(url+i.find(class_='info').find('a')['href'], cookies)}\n",
    "\n",
    "\n",
    "while 1:\n",
    "    product_page_parsing(soup,prod)\n",
    "    \n",
    "    try:\n",
    "        next_link = soup.findAll('li', class_='next')[0].find('a')['href']\n",
    "        res=requests.get(url+next_link,cookies={'PHPSESSID':'ocjornu1v306k94p7kuc01f3cv'})\n",
    "        soup = BeautifulSoup(res.content, \"html.parser\")\n",
    "    except KeyError:\n",
    "        print('No pages left - ', soup.findAll('li', class_='next'))\n",
    "        break\n",
    "    except IndexError:\n",
    "        print('No pages - ', soup.findAll('li', class_='next'))\n",
    "        break\n",
    "\n",
    "\n",
    "print(prod, len(prod))"
   ],
   "execution_count":1,
   "outputs":[
    {
     "name":"stdout",
     "text":[
      "No pages left -  [<li class=\"next disabled\"><a class=\"btn prev disabled\"><div class=\"btn next\"><\/div><\/a><\/li>]\n",
      "{'1542': {'full-name': 'ДОБРИВО ДЛЯ ВІЧНОЗЕЛЕНИХ ДЕРЕВ ТА КУЩІВ ОСІНЬ 3 кг', 'price': 799.0, 'weight': ['3', 'кг']}, '1523': {'full-name': 'ДОБРИВО ДЛЯ ВІЧНОЗЕЛЕНИХ ДЕРЕВ ТА КУЩІВ ОСІНЬ 10 кг', 'price': 2299.0, 'weight': ['10', 'кг']}, '1525': {'full-name': 'ДОБРИВО УНІВЕРСАЛЬНЕ ГРУНТОВЕ ОСІНЬ 1 кг', 'price': 348.0, 'weight': ['1', 'кг']}, '1528': {'full-name': 'ДОБРИВО ДЛЯ ГАЗОНУ ОСІНЬ 1 кг', 'price': 348.0, 'weight': ['1', 'кг']}, '1536': {'full-name': 'ДОБРИВО ДЛЯ ГАЗОНУ ОСІНЬ 10 кг', 'price': 2299.0, 'weight': ['10', 'кг']}, '1608': {'full-name': 'ДОБРИВО ДЛЯ САМШИТУ ТА ВІЧНОЗЕЛЕНИХ ЧАГАРНИКІВ, Yara Folicare 180 г', 'price': 119.0, 'weight': ['180', 'г']}, '1610': {'full-name': 'ДОБРИВО ДЛЯ ХВОЙНИХ РОСЛИН, Yara Folicare 180 г', 'price': 169.0, 'weight': ['180', 'г']}, '1537': {'full-name': 'ДОБРИВО ДЛЯ ДЕКОРАТИВНИХ ЛИСТОВИХ ВЕСНА-ЛІТО 3 кг', 'price': 799.0, 'weight': ['3', 'кг']}, '1538': {'full-name': 'ДОБРИВО ДЛЯ ВІЧНОЗЕЛЕНИХ ДЕРЕВ ТА КУЩІВ ВЕСНА-ЛІТО 10 кг', 'price': 2299.0, 'weight': ['10', 'кг']}, '1539': {'full-name': 'ДОБРИВО ДЛЯ ДЕКОРАТИВНИХ ЛИСТОВИХ ВЕСНА-ЛІТО 1 кг', 'price': 348.0, 'weight': ['1', 'кг']}, '1540': {'full-name': 'ДОБРИВО ДЛЯ ОВОЧІВ 3 кг', 'price': 799.0, 'weight': ['3', 'кг']}, '1541': {'full-name': 'ДОБРИВО ДЛЯ ВИНОГРАДУ 1 кг', 'price': 348.0, 'weight': ['1', 'кг']}, '1543': {'full-name': 'ДОБРИВО ДЛЯ ГАЗОНУ ВЕСНА-ЛІТО 1 кг', 'price': 348.0, 'weight': ['1', 'кг']}, '1544': {'full-name': 'ДОБРИВО ДЛЯ ОВОЧІВ 1 кг', 'price': 348.0, 'weight': ['1', 'кг']}, '1545': {'full-name': 'ДОБРИВО ДЛЯ РОЗСАДИ 1 кг', 'price': 348.0, 'weight': ['1', 'кг']}, '1546': {'full-name': 'ДОБРИВО ДЛЯ ТЕПЛИЧНИХ ОВОЧІВ 3 кг', 'price': 799.0, 'weight': ['3', 'кг']}, '1547': {'full-name': 'ДОБРИВО ДЛЯ ТРОЯНД 1 кг', 'price': 348.0, 'weight': ['1', 'кг']}, '1548': {'full-name': 'ДОБРИВО ДЛЯ ВІЧНОЗЕЛЕНИХ ДЕРЕВ ТА КУЩІВ ВЕСНА-ЛІТО 1 кг', 'price': 348.0, 'weight': ['1', 'кг']}, '1549': {'full-name': 'ДОБРИВО ДЛЯ ГАЗОНУ ВЕСНА-ЛІТО 10 кг', 'price': 2299.0, 'weight': ['10', 'кг']}, '1550': {'full-name': 'ДОБРИВО ДЛЯ ТЕПЛИЧНИХ ОВОЧІВ 1 кг', 'price': 348.0, 'weight': ['1', 'кг']}, '1551': {'full-name': 'PULAN 34.4', 'price': 17800.0, 'weight': ['600', 'кг']}, '1554': {'full-name': 'SALETRZAK 27 MACRO', 'price': 4850.0, 'weight': ['500', 'кг']}, '1555': {'full-name': 'SIARCZAN AS 21 MACRO', 'price': 11790.0, 'weight': ['500', 'кг']}, '1556': {'full-name': 'YARABELA СУЛЬФАН', 'price': 26680.0, 'weight': ['600', 'кг']}, '1557': {'full-name': 'YARAMILA NP 20-20 +9,0SO3', 'price': 29320.0, 'weight': ['600', 'кг']}, '1558': {'full-name': 'YARAMILA NPK 12-24-12', 'price': 33160.0, 'weight': ['600', 'кг']}, '1559': {'full-name': 'YARAMILA NPK 16-16-16', 'price': 30250.0, 'weight': ['600', 'кг']}, '1560': {'full-name': 'YARAMILA NPK 16-27-7', 'price': 33910.0, 'weight': ['600', 'кг']}, '1562': {'full-name': 'YARAMILA NPK 7-20-28', 'price': 33160.0, 'weight': ['600', 'кг']}, '1563': {'full-name': 'YARAMILA NPK 8-24-24', 'price': 34920.0, 'weight': ['600', 'кг']}, '1564': {'full-name': 'YARAMILA NPK 9-12-25 + 2MGO + 6,5SO3 + MICRO', 'price': 28470.0, 'weight': ['600', 'кг']}, '1565': {'full-name': 'СУЛЬФАТ МАГНІЮ ГРАНУЛЬОВАНИЙ', 'price': 24880.0, 'weight': ['1000', 'кг']}, '1566': {'full-name': 'FERTICARE HYDRO 6-14-30 + MICRO', 'price': 3750.0, 'weight': ['25', 'кг']}, '1567': {'full-name': 'FERTICARE KOMBI 14-11-25 + MICRO', 'price': 3450.0, 'weight': ['25', 'кг']}, '1568': {'full-name': 'YARATERA SOP (СУЛЬФАТ КАЛІЮ)', 'price': 1995.0, 'weight': ['25', 'кг']}, '1569': {'full-name': 'YARATERA КRISTA MAG (НІТРАТ МАГНІЮ)', 'price': 1630.0, 'weight': ['25', 'кг']}, '1570': {'full-name': 'YaraTera КRISTA К (НІТРАТ КАЛІЮ)', 'price': 2840.0, 'weight': ['25', 'кг']}, '1571': {'full-name': 'YaraTera КRISTA МАР (МОНОАМОНІЙ ФОСФАТ)', 'price': 3510.0, 'weight': ['25', 'кг']}, '1572': {'full-name': 'YaraTera КRISTA МКР (МОНОКАЛІЙ ФОСФАТ)', 'price': 3990.0, 'weight': ['25', 'кг']}, '1573': {'full-name': 'СУЛЬФАТ МАГНІЮ (СЕМИВОДНЕВИЙ)', 'price': 807.0, 'weight': ['25', 'кг']}, '1574': {'full-name': 'ЯРА (FOLICARE) NPK 10-5-40+MICRO', 'price': 3820.0, 'weight': ['25', 'кг']}, '1575': {'full-name': 'ЯРА (FOLICARE) NPK 12-0-38', 'price': 3180.0, 'weight': ['25', 'кг']}, '1576': {'full-name': 'ЯРА (FOLICARE) NPK 12-46-8+MICRO', 'price': 4450.0, 'weight': ['25', 'кг']}, '1577': {'full-name': 'ЯРА (FOLICARE) NPK 18-18-18+MICRO', 'price': 3960.0, 'weight': ['25', 'кг']}, '1578': {'full-name': 'ЯРА (FOLICARE) NPK 22-5-22+MICRO', 'price': 3580.0, 'weight': ['25', 'кг']}, '1579': {'full-name': 'ЯРА FERTICARE TOMATO', 'price': 3450.0, 'weight': ['25', 'кг']}, '1580': {'full-name': 'ЯРА FERTICARE ОВОЧІ', 'price': 3510.0, 'weight': ['25', 'кг']}, '1581': {'full-name': 'YARAVITA ФОСАМКО БІО', 'price': 2770.0, 'weight': ['10', 'л']}, '1583': {'full-name': 'ДОБРИВО НА ОСНОВІ ВИТЯЖКИ МОРСЬКИХ ВОДОРОСТЕЙ YaraVITA, 1 л', 'price': 574.0, 'weight': ['1', 'л']}, '1584': {'full-name': 'YARAVITA ТЕПРОСИН NP+ZN', 'price': 5060.0, 'weight': ['5', 'л']}, '1586': {'full-name': 'YARAVITA БОРТРАК', 'price': 2560.0, 'weight': ['10', 'л']}, '1587': {'full-name': 'YARAVITA БРАСІТРЕЛ ПРО', 'price': 3670.0, 'weight': ['10', 'л']}, '1588': {'full-name': 'YARAVITA ГРАМІТРЕЛ', 'price': 3630.0, 'weight': ['10', 'л']}, '1589': {'full-name': 'YARAVITA КОМБІФОС', 'price': 4070.0, 'weight': ['10', 'л']}, '1590': {'full-name': 'YARAVITA МАНКОЦИН', 'price': 2330.0, 'weight': ['5', 'л']}, '1591': {'full-name': 'YARAVITA МАНТРАК ПРО', 'price': 2350.0, 'weight': ['5', 'л']}, '1592': {'full-name': 'YARAVITA МАЇЗ БУСТ', 'price': 4890.0, 'weight': ['10', 'л']}, '1593': {'full-name': 'YARAVITA МОЛІТРАК', 'price': 10970.0, 'weight': ['5', 'л']}, '1594': {'full-name': 'YARAVITA ТІОТРАК', 'price': 2280.0, 'weight': ['10', 'л']}, '1596': {'full-name': 'YARAVITA ЦИНТРАК', 'price': 3060.0, 'weight': ['5', 'л']}, '1597': {'full-name': 'ДОБРИВО ДЛЯ АЗАЛІЙ ТА РОДОДЕНДРОНІВ, Yara Folicare 180 г', 'price': 169.0, 'weight': ['180', 'г']}, '1598': {'full-name': 'ДОБРИВО ДЛЯ ВИНОГРАДУ, Yara Folicare 180 г', 'price': 169.0, 'weight': ['180', 'г']}, '1599': {'full-name': 'ДОБРИВО ДЛЯ ДЕКОРАТИВНО-ЛИСТЯНИХ КІМНАТНИХ РОСЛИН, Yara Folicare 180 г', 'price': 169.0, 'weight': ['180', 'г']}, '1600': {'full-name': 'ДОБРИВО ДЛЯ КВІТУЧИХ КІМНАТНИХ РОСЛИН, Yara Folicare 180 г', 'price': 169.0, 'weight': ['180', 'г']}, '1601': {'full-name': 'ДОБРИВО ДЛЯ ЛОХИНИ ТА ЧОРНИЦІ, Yara Folicare 180 г', 'price': 169.0, 'weight': ['180', 'г']}, '1602': {'full-name': 'ДОБРИВО ДЛЯ МАГНОЛІЙ, ГОРТЕНЗІЙ, Yara Folicare 180 г', 'price': 169.0, 'weight': ['180', 'г']}, '1603': {'full-name': 'ДОБРИВО ДЛЯ ОВОЧІВ ТА ЗЕЛЕНІ, Yara Folicare 180 г', 'price': 169.0, 'weight': ['180', 'г']}, '1604': {'full-name': 'ДОБРИВО ДЛЯ ОРХІДЕЙ, Yara Folicare 180 г', 'price': 169.0, 'weight': ['180', 'г']}, '1605': {'full-name': 'ДОБРИВО ДЛЯ ПЕТУНІЙ ТА СУРФІНІЙ, Yara Folicare 180 г', 'price': 169.0, 'weight': ['180', 'г']}, '1606': {'full-name': 'ДОБРИВО ДЛЯ ПЛОДОВО-ЯГІДНИХ КУЛЬТУР, Yara Folicare 180 г', 'price': 169.0, 'weight': ['180', 'г']}, '1607': {'full-name': 'ДОБРИВО ДЛЯ САДУ ТА ГОРОДУ, Yara Folicare 180 г', 'price': 169.0, 'weight': ['180', 'г']}, '1609': {'full-name': 'ДОБРИВО ДЛЯ ТРОЯНД ТА КВІТУЧИХ РОСЛИН, Yara Folicare 180 г', 'price': 169.0, 'weight': ['180', 'г']}, '1611': {'full-name': 'YARAIRIX', 'price': 24000.0, 'weight': ['1', 'шт.']}, '1612': {'full-name': 'YARAVITA  BIOMARIS', 'price': 7010.0, 'weight': ['10', 'л']}, '1614': {'full-name': 'YARAVITA БІОТРАК', 'price': 5990.0, 'weight': ['10', 'л']}, '1617': {'full-name': 'ДОБРИВО ДЛЯ ГАЗОНУ ВЕСНА-ЛІТО 3 кг', 'price': 3900.0, 'weight': ['18', 'кг']}, '1618': {'full-name': 'ДОБРИВО ДЛЯ ГАЗОНУ ОСІНЬ 10 кг', 'price': 3900.0, 'weight': ['18', 'кг']}, '1621': {'full-name': 'ДОБРИВО НА ОСНОВІ ВИТЯЖКИ МОРСЬКИХ ВОДОРОСТЕЙ YaraVITA, 0,5 л', 'price': 55.0, 'weight': ['1', 'шт.']}, '1624': {'full-name': 'ДОБРИВО НА ОСНОВІ ВИТЯЖКИ МОРСЬКИХ ВОДОРОСТЕЙ YaraVITA, 0,5 л', 'price': 339.0, 'weight': ['0.5', 'л']}, '1625': {'full-name': 'БІОСТИМУЛЯТОР РОСТУ. ТРОЯНДИ 20 мл', 'price': 60.0, 'weight': ['1', 'шт.']}, '1626': {'full-name': 'ВІДНОВЛЕННЯ ТА АКТИВІЗАЦІЯ РОСТУ ОВОЧЕВИХ ТА ФРУКТОВИХ РОСЛИН 20 мл', 'price': 60.0, 'weight': ['1', 'шт.']}, '1627': {'full-name': 'БІОСТИМУЛЯТОР РОСТУ ДЛЯ ЛОХИНИ ТА ЯГІДНИХ КУЩІВ 20 мл', 'price': 60.0, 'weight': ['1', 'шт.']}, '1628': {'full-name': 'ГАЗОН. ЗАХИСТ ВІД ПОЖОВТІННЯ 20 мл', 'price': 90.0, 'weight': ['1', 'шт.']}, '1629': {'full-name': 'РЯСНЕ ЦВІТІННЯ ТА ПЛОДОНОШЕННЯ. ОВОЧІ, ФРУКТИ ТА ЯГОДИ 25 мл', 'price': 80.0, 'weight': ['1', 'шт.']}, '1630': {'full-name': 'РЯСНЕ ЦВІТІННЯ. ГОРТЕНЗІЯ ТА МАГНОЛІЯ 20 мл', 'price': 60.0, 'weight': ['1', 'шт.']}, '1631': {'full-name': 'СИЛЬНИЙ КОРІНЬ. СТАРТ. ОВОЧІ ТА ЗЕЛЕНЬ 25 мл', 'price': 80.0, 'weight': ['1', 'шт.']}, '1632': {'full-name': 'УРОЖАЙНА КАРТОПЛЯ ТА КОРЕНЕПЛОДИ 25 мл', 'price': 80.0, 'weight': ['1', 'шт.']}, '1633': {'full-name': 'ЯСКРАВА ХВОЯ. ЗАХИСТ ТА РОЗВИТОК 20 мл', 'price': 90.0, 'weight': ['1', 'шт.']}, '1634': {'full-name': 'Монокалій фосфат 0-52-34 Nova Peak ', 'price': 3880.0, 'weight': ['25', 'кг']}, '1509': {'full-name': 'YARA LIVA КАЛЬЦИНІТ', 'price': 1380.0, 'weight': ['25', 'кг']}, '1510': {'full-name': 'YARA LIVA НІТРАБОР', 'price': 1390.0, 'weight': ['25', 'кг']}, '1511': {'full-name': 'YARAMILA COMPLEX 12-11-18', 'price': 1900.0, 'weight': ['25', 'кг']}, '1512': {'full-name': 'YARAMILA CROPCARE 11-11-21', 'price': 1900.0, 'weight': ['25', 'кг']}, '1513': {'full-name': 'YARATERA REXOLIN ABC (КОМПЛЕКС МІКРОЕЛЕМЕНТІВ)', 'price': 3350.0, 'weight': ['5', 'кг']}, '1514': {'full-name': 'YARATERA REXOLIN D12 (ХЕЛАТ ЗАЛІЗА)', 'price': 3150.0, 'weight': ['5', 'кг']}, '1515': {'full-name': 'СУЛЬФАТ МАГНІЮ ЯРА KRISTA MGS', 'price': 1015.0, 'weight': ['25', 'кг']}, '1516': {'full-name': 'ДОБРИВО ДЛЯ ФРУКТОВИХ ТА ГОРІХОВИХ ДЕРЕВ 3 кг', 'price': 799.0, 'weight': ['3', 'кг']}, '1517': {'full-name': 'ДОБРИВО ДЛЯ ЯГІДНИХ ЧАГАРНИКІВ 3 кг', 'price': 799.0, 'weight': ['3', 'кг']}, '1518': {'full-name': 'ДОБРИВО ДЛЯ ЯГІДНИХ ЧАГАРНИКІВ 1 кг', 'price': 348.0, 'weight': ['1', 'кг']}, '1519': {'full-name': 'ДОБРИВО УНІВЕРСАЛЬНЕ ГРУНТОВЕ 1 кг', 'price': 348.0, 'weight': ['1', 'кг']}, '1520': {'full-name': 'ДОБРИВО УНІВЕРСАЛЬНЕ ГРУНТОВЕ 3 кг', 'price': 799.0, 'weight': ['3', 'кг']}, '1521': {'full-name': 'ДОБРИВО УНІВЕРСАЛЬНЕ ГРУНТОВЕ 10 кг', 'price': 2299.0, 'weight': ['10', 'кг']}, '1522': {'full-name': 'ДОБРИВО ДЛЯ ДЕКОРАТИВНИХ ЛИСТОВИХ ОСІНЬ 3 кг', 'price': 799.0, 'weight': ['3', 'кг']}, '1524': {'full-name': 'ДОБРИВО УНІВЕРСАЛЬНЕ ГРУНТОВЕ ОСІНЬ 3 кг', 'price': 799.0, 'weight': ['3', 'кг']}, '1526': {'full-name': 'ДОБРИВО ДЛЯ ГАЗОНУ ОСІНЬ 3 кг', 'price': 799.0, 'weight': ['3', 'кг']}, '1527': {'full-name': 'ДОБРИВО ДЛЯ ВІЧНОЗЕЛЕНИХ ДЕРЕВ ТА КУЩІВ ОСІНЬ 1 кг', 'price': 348.0, 'weight': ['1', 'кг']}, '1529': {'full-name': 'ДОБРИВО ДЛЯ ДЕКОРАТИВНИХ ЛИСТОВИХ ОСІНЬ 1 кг', 'price': 348.0, 'weight': ['1', 'кг']}, '1530': {'full-name': 'ДОБРИВО УНІВЕРСАЛЬНЕ ГРУНТОВЕ ОСІНЬ 10 кг', 'price': 2299.0, 'weight': ['10', 'кг']}, '1531': {'full-name': 'ДОБРИВО ДЛЯ ГАЗОНУ ВЕСНА-ЛІТО 3 кг', 'price': 799.0, 'weight': ['3', 'кг']}, '1532': {'full-name': 'ДОБРИВО ДЛЯ ПОЛУНИЦІ 1 кг', 'price': 348.0, 'weight': ['1', 'кг']}, '1533': {'full-name': 'ДОБРИВО ДЛЯ ВІЧНОЗЕЛЕНИХ ДЕРЕВ ТА КУЩІВ ВЕСНА-ЛІТО 3 кг', 'price': 799.0, 'weight': ['3', 'кг']}, '1535': {'full-name': 'ДОБРИВО ДЛЯ ФРУКТОВИХ ТА ГОРІХОВИХ ДЕРЕВ 1 кг', 'price': 348.0, 'weight': ['1', 'кг']}} 112\n"
     ],
     "output_type":"stream"
    }
   ],
   "metadata":{
    "datalore":{
     "node_id":"ju2TjYRezn4zU6pZYlYGOv",
     "type":"CODE",
     "hide_input_from_viewers":true,
     "hide_output_from_viewers":true
    }
   }
  },
  {
   "cell_type":"markdown",
   "source":[
    "Створіть базу даних, що містить таблицю із такими стовбцями: \n",
    "    - артикул товару\n",
    "    - найменування\n",
    "    - ціна \n",
    "    - вага"
   ],
   "attachments":{
    
   },
   "metadata":{
    "datalore":{
     "node_id":"TqTANgF2vlmSq3ivPJJcmJ",
     "type":"MD",
     "hide_input_from_viewers":false,
     "hide_output_from_viewers":false,
     "report_properties":{
      "rowId":"LFfnUmKhFg76XGyGJHF9fE"
     }
    }
   }
  },
  {
   "cell_type":"code",
   "source":[
    "import sqlite3\n",
    "con = sqlite3.connect(\"test1.sqlite\")\n",
    "\n",
    "cur = con.cursor()\n",
    "sql = '''\n",
    "CREATE TABLE IF NOT EXISTS product_items (\n",
    "\tprod_id    integer     PRIMARY KEY,\n",
    "   \tproduct_name  char(150) NOT NULL,\n",
    "\tproduct_price decimal(8,2),\n",
    "    product_weight decimal(8,2)\n",
    ") \n",
    "'''\n",
    "\n",
    "res_sql = cur.execute(sql)\n",
    "\n",
    "for i in res_sql:\n",
    "    print(i)"
   ],
   "execution_count":2,
   "outputs":[
    
   ],
   "metadata":{
    "datalore":{
     "node_id":"mcKYtdpfWp7gpGDzTPoJE9",
     "type":"CODE",
     "hide_input_from_viewers":false,
     "hide_output_from_viewers":false,
     "report_properties":{
      "rowId":"ziKpMIBEEUEsZOetc3gGlp"
     }
    }
   }
  },
  {
   "cell_type":"code",
   "source":[
    "sqlite_insert_with_param = \"\"\"INSERT INTO product_items\n",
    "                          (prod_id, product_name, product_price, product_weight) \n",
    "                          VALUES (?, ?, ?, ?);\"\"\"\n",
    "\n",
    "for i in prod:\n",
    "    cur.execute(sqlite_insert_with_param,(i, prod[i]['full-name'],prod[i]['price'], prod[i]['weight'][0]))\n",
    "    con.commit()"
   ],
   "execution_count":3,
   "outputs":[
    
   ],
   "metadata":{
    "datalore":{
     "node_id":"3aCiLXgfveHN0snvxeS8sQ",
     "type":"CODE",
     "hide_input_from_viewers":true,
     "hide_output_from_viewers":true
    }
   }
  },
  {
   "cell_type":"code",
   "source":[
    "sql = '''\n",
    "SELECT * FROM product_items order by prod_id asc\n",
    "'''\n",
    "\n",
    "res_sql = cur.execute(sql)\n",
    "\n",
    "for i in res_sql:\n",
    "    print(i)"
   ],
   "execution_count":4,
   "outputs":[
    {
     "name":"stdout",
     "text":[
      "(1509, 'YARA LIVA КАЛЬЦИНІТ', 1380, 25)\n",
      "(1510, 'YARA LIVA НІТРАБОР', 1390, 25)\n",
      "(1511, 'YARAMILA COMPLEX 12-11-18', 1900, 25)\n",
      "(1512, 'YARAMILA CROPCARE 11-11-21', 1900, 25)\n",
      "(1513, 'YARATERA REXOLIN ABC (КОМПЛЕКС МІКРОЕЛЕМЕНТІВ)', 3350, 5)\n",
      "(1514, 'YARATERA REXOLIN D12 (ХЕЛАТ ЗАЛІЗА)', 3150, 5)\n",
      "(1515, 'СУЛЬФАТ МАГНІЮ ЯРА KRISTA MGS', 1015, 25)\n",
      "(1516, 'ДОБРИВО ДЛЯ ФРУКТОВИХ ТА ГОРІХОВИХ ДЕРЕВ 3 кг', 799, 3)\n",
      "(1517, 'ДОБРИВО ДЛЯ ЯГІДНИХ ЧАГАРНИКІВ 3 кг', 799, 3)\n",
      "(1518, 'ДОБРИВО ДЛЯ ЯГІДНИХ ЧАГАРНИКІВ 1 кг', 348, 1)\n",
      "(1519, 'ДОБРИВО УНІВЕРСАЛЬНЕ ГРУНТОВЕ 1 кг', 348, 1)\n",
      "(1520, 'ДОБРИВО УНІВЕРСАЛЬНЕ ГРУНТОВЕ 3 кг', 799, 3)\n",
      "(1521, 'ДОБРИВО УНІВЕРСАЛЬНЕ ГРУНТОВЕ 10 кг', 2299, 10)\n",
      "(1522, 'ДОБРИВО ДЛЯ ДЕКОРАТИВНИХ ЛИСТОВИХ ОСІНЬ 3 кг', 799, 3)\n",
      "(1523, 'ДОБРИВО ДЛЯ ВІЧНОЗЕЛЕНИХ ДЕРЕВ ТА КУЩІВ ОСІНЬ 10 кг', 2299, 10)\n",
      "(1524, 'ДОБРИВО УНІВЕРСАЛЬНЕ ГРУНТОВЕ ОСІНЬ 3 кг', 799, 3)\n",
      "(1525, 'ДОБРИВО УНІВЕРСАЛЬНЕ ГРУНТОВЕ ОСІНЬ 1 кг', 348, 1)\n",
      "(1526, 'ДОБРИВО ДЛЯ ГАЗОНУ ОСІНЬ 3 кг', 799, 3)\n",
      "(1527, 'ДОБРИВО ДЛЯ ВІЧНОЗЕЛЕНИХ ДЕРЕВ ТА КУЩІВ ОСІНЬ 1 кг', 348, 1)\n",
      "(1528, 'ДОБРИВО ДЛЯ ГАЗОНУ ОСІНЬ 1 кг', 348, 1)\n",
      "(1529, 'ДОБРИВО ДЛЯ ДЕКОРАТИВНИХ ЛИСТОВИХ ОСІНЬ 1 кг', 348, 1)\n",
      "(1530, 'ДОБРИВО УНІВЕРСАЛЬНЕ ГРУНТОВЕ ОСІНЬ 10 кг', 2299, 10)\n",
      "(1531, 'ДОБРИВО ДЛЯ ГАЗОНУ ВЕСНА-ЛІТО 3 кг', 799, 3)\n",
      "(1532, 'ДОБРИВО ДЛЯ ПОЛУНИЦІ 1 кг', 348, 1)\n",
      "(1533, 'ДОБРИВО ДЛЯ ВІЧНОЗЕЛЕНИХ ДЕРЕВ ТА КУЩІВ ВЕСНА-ЛІТО 3 кг', 799, 3)\n",
      "(1535, 'ДОБРИВО ДЛЯ ФРУКТОВИХ ТА ГОРІХОВИХ ДЕРЕВ 1 кг', 348, 1)\n",
      "(1536, 'ДОБРИВО ДЛЯ ГАЗОНУ ОСІНЬ 10 кг', 2299, 10)\n",
      "(1537, 'ДОБРИВО ДЛЯ ДЕКОРАТИВНИХ ЛИСТОВИХ ВЕСНА-ЛІТО 3 кг', 799, 3)\n",
      "(1538, 'ДОБРИВО ДЛЯ ВІЧНОЗЕЛЕНИХ ДЕРЕВ ТА КУЩІВ ВЕСНА-ЛІТО 10 кг', 2299, 10)\n",
      "(1539, 'ДОБРИВО ДЛЯ ДЕКОРАТИВНИХ ЛИСТОВИХ ВЕСНА-ЛІТО 1 кг', 348, 1)\n",
      "(1540, 'ДОБРИВО ДЛЯ ОВОЧІВ 3 кг', 799, 3)\n",
      "(1541, 'ДОБРИВО ДЛЯ ВИНОГРАДУ 1 кг', 348, 1)\n",
      "(1542, 'ДОБРИВО ДЛЯ ВІЧНОЗЕЛЕНИХ ДЕРЕВ ТА КУЩІВ ОСІНЬ 3 кг', 799, 3)\n",
      "(1543, 'ДОБРИВО ДЛЯ ГАЗОНУ ВЕСНА-ЛІТО 1 кг', 348, 1)\n",
      "(1544, 'ДОБРИВО ДЛЯ ОВОЧІВ 1 кг', 348, 1)\n",
      "(1545, 'ДОБРИВО ДЛЯ РОЗСАДИ 1 кг', 348, 1)\n",
      "(1546, 'ДОБРИВО ДЛЯ ТЕПЛИЧНИХ ОВОЧІВ 3 кг', 799, 3)\n",
      "(1547, 'ДОБРИВО ДЛЯ ТРОЯНД 1 кг', 348, 1)\n",
      "(1548, 'ДОБРИВО ДЛЯ ВІЧНОЗЕЛЕНИХ ДЕРЕВ ТА КУЩІВ ВЕСНА-ЛІТО 1 кг', 348, 1)\n",
      "(1549, 'ДОБРИВО ДЛЯ ГАЗОНУ ВЕСНА-ЛІТО 10 кг', 2299, 10)\n",
      "(1550, 'ДОБРИВО ДЛЯ ТЕПЛИЧНИХ ОВОЧІВ 1 кг', 348, 1)\n",
      "(1551, 'PULAN 34.4', 17800, 600)\n",
      "(1554, 'SALETRZAK 27 MACRO', 4850, 500)\n",
      "(1555, 'SIARCZAN AS 21 MACRO', 11790, 500)\n",
      "(1556, 'YARABELA СУЛЬФАН', 26680, 600)\n",
      "(1557, 'YARAMILA NP 20-20 +9,0SO3', 29320, 600)\n",
      "(1558, 'YARAMILA NPK 12-24-12', 33160, 600)\n",
      "(1559, 'YARAMILA NPK 16-16-16', 30250, 600)\n",
      "(1560, 'YARAMILA NPK 16-27-7', 33910, 600)\n",
      "(1562, 'YARAMILA NPK 7-20-28', 33160, 600)\n",
      "(1563, 'YARAMILA NPK 8-24-24', 34920, 600)\n",
      "(1564, 'YARAMILA NPK 9-12-25 + 2MGO + 6,5SO3 + MICRO', 28470, 600)\n",
      "(1565, 'СУЛЬФАТ МАГНІЮ ГРАНУЛЬОВАНИЙ', 24880, 1000)\n",
      "(1566, 'FERTICARE HYDRO 6-14-30 + MICRO', 3750, 25)\n",
      "(1567, 'FERTICARE KOMBI 14-11-25 + MICRO', 3450, 25)\n",
      "(1568, 'YARATERA SOP (СУЛЬФАТ КАЛІЮ)', 1995, 25)\n",
      "(1569, 'YARATERA КRISTA MAG (НІТРАТ МАГНІЮ)', 1630, 25)\n",
      "(1570, 'YaraTera КRISTA К (НІТРАТ КАЛІЮ)', 2840, 25)\n",
      "(1571, 'YaraTera КRISTA МАР (МОНОАМОНІЙ ФОСФАТ)', 3510, 25)\n",
      "(1572, 'YaraTera КRISTA МКР (МОНОКАЛІЙ ФОСФАТ)', 3990, 25)\n",
      "(1573, 'СУЛЬФАТ МАГНІЮ (СЕМИВОДНЕВИЙ)', 807, 25)\n",
      "(1574, 'ЯРА (FOLICARE) NPK 10-5-40+MICRO', 3820, 25)\n",
      "(1575, 'ЯРА (FOLICARE) NPK 12-0-38', 3180, 25)\n",
      "(1576, 'ЯРА (FOLICARE) NPK 12-46-8+MICRO', 4450, 25)\n",
      "(1577, 'ЯРА (FOLICARE) NPK 18-18-18+MICRO', 3960, 25)\n",
      "(1578, 'ЯРА (FOLICARE) NPK 22-5-22+MICRO', 3580, 25)\n",
      "(1579, 'ЯРА FERTICARE TOMATO', 3450, 25)\n",
      "(1580, 'ЯРА FERTICARE ОВОЧІ', 3510, 25)\n",
      "(1581, 'YARAVITA ФОСАМКО БІО', 2770, 10)\n",
      "(1583, 'ДОБРИВО НА ОСНОВІ ВИТЯЖКИ МОРСЬКИХ ВОДОРОСТЕЙ YaraVITA, 1 л', 574, 1)\n",
      "(1584, 'YARAVITA ТЕПРОСИН NP+ZN', 5060, 5)\n",
      "(1586, 'YARAVITA БОРТРАК', 2560, 10)\n",
      "(1587, 'YARAVITA БРАСІТРЕЛ ПРО', 3670, 10)\n",
      "(1588, 'YARAVITA ГРАМІТРЕЛ', 3630, 10)\n",
      "(1589, 'YARAVITA КОМБІФОС', 4070, 10)\n",
      "(1590, 'YARAVITA МАНКОЦИН', 2330, 5)\n",
      "(1591, 'YARAVITA МАНТРАК ПРО', 2350, 5)\n",
      "(1592, 'YARAVITA МАЇЗ БУСТ', 4890, 10)\n",
      "(1593, 'YARAVITA МОЛІТРАК', 10970, 5)\n",
      "(1594, 'YARAVITA ТІОТРАК', 2280, 10)\n",
      "(1596, 'YARAVITA ЦИНТРАК', 3060, 5)\n",
      "(1597, 'ДОБРИВО ДЛЯ АЗАЛІЙ ТА РОДОДЕНДРОНІВ, Yara Folicare 180 г', 169, 180)\n",
      "(1598, 'ДОБРИВО ДЛЯ ВИНОГРАДУ, Yara Folicare 180 г', 169, 180)\n",
      "(1599, 'ДОБРИВО ДЛЯ ДЕКОРАТИВНО-ЛИСТЯНИХ КІМНАТНИХ РОСЛИН, Yara Folicare 180 г', 169, 180)\n",
      "(1600, 'ДОБРИВО ДЛЯ КВІТУЧИХ КІМНАТНИХ РОСЛИН, Yara Folicare 180 г', 169, 180)\n",
      "(1601, 'ДОБРИВО ДЛЯ ЛОХИНИ ТА ЧОРНИЦІ, Yara Folicare 180 г', 169, 180)\n",
      "(1602, 'ДОБРИВО ДЛЯ МАГНОЛІЙ, ГОРТЕНЗІЙ, Yara Folicare 180 г', 169, 180)\n",
      "(1603, 'ДОБРИВО ДЛЯ ОВОЧІВ ТА ЗЕЛЕНІ, Yara Folicare 180 г', 169, 180)\n",
      "(1604, 'ДОБРИВО ДЛЯ ОРХІДЕЙ, Yara Folicare 180 г', 169, 180)\n",
      "(1605, 'ДОБРИВО ДЛЯ ПЕТУНІЙ ТА СУРФІНІЙ, Yara Folicare 180 г', 169, 180)\n",
      "(1606, 'ДОБРИВО ДЛЯ ПЛОДОВО-ЯГІДНИХ КУЛЬТУР, Yara Folicare 180 г', 169, 180)\n",
      "(1607, 'ДОБРИВО ДЛЯ САДУ ТА ГОРОДУ, Yara Folicare 180 г', 169, 180)\n",
      "(1608, 'ДОБРИВО ДЛЯ САМШИТУ ТА ВІЧНОЗЕЛЕНИХ ЧАГАРНИКІВ, Yara Folicare 180 г', 119, 180)\n",
      "(1609, 'ДОБРИВО ДЛЯ ТРОЯНД ТА КВІТУЧИХ РОСЛИН, Yara Folicare 180 г', 169, 180)\n",
      "(1610, 'ДОБРИВО ДЛЯ ХВОЙНИХ РОСЛИН, Yara Folicare 180 г', 169, 180)\n",
      "(1611, 'YARAIRIX', 24000, 1)\n",
      "(1612, 'YARAVITA  BIOMARIS', 7010, 10)\n",
      "(1614, 'YARAVITA БІОТРАК', 5990, 10)\n",
      "(1617, 'ДОБРИВО ДЛЯ ГАЗОНУ ВЕСНА-ЛІТО 3 кг', 3900, 18)\n",
      "(1618, 'ДОБРИВО ДЛЯ ГАЗОНУ ОСІНЬ 10 кг', 3900, 18)\n",
      "(1621, 'ДОБРИВО НА ОСНОВІ ВИТЯЖКИ МОРСЬКИХ ВОДОРОСТЕЙ YaraVITA, 0,5 л', 55, 1)\n",
      "(1624, 'ДОБРИВО НА ОСНОВІ ВИТЯЖКИ МОРСЬКИХ ВОДОРОСТЕЙ YaraVITA, 0,5 л', 339, 0.5)\n",
      "(1625, 'БІОСТИМУЛЯТОР РОСТУ. ТРОЯНДИ 20 мл', 60, 1)\n",
      "(1626, 'ВІДНОВЛЕННЯ ТА АКТИВІЗАЦІЯ РОСТУ ОВОЧЕВИХ ТА ФРУКТОВИХ РОСЛИН 20 мл', 60, 1)\n",
      "(1627, 'БІОСТИМУЛЯТОР РОСТУ ДЛЯ ЛОХИНИ ТА ЯГІДНИХ КУЩІВ 20 мл', 60, 1)\n",
      "(1628, 'ГАЗОН. ЗАХИСТ ВІД ПОЖОВТІННЯ 20 мл', 90, 1)\n",
      "(1629, 'РЯСНЕ ЦВІТІННЯ ТА ПЛОДОНОШЕННЯ. ОВОЧІ, ФРУКТИ ТА ЯГОДИ 25 мл', 80, 1)\n",
      "(1630, 'РЯСНЕ ЦВІТІННЯ. ГОРТЕНЗІЯ ТА МАГНОЛІЯ 20 мл', 60, 1)\n",
      "(1631, 'СИЛЬНИЙ КОРІНЬ. СТАРТ. ОВОЧІ ТА ЗЕЛЕНЬ 25 мл', 80, 1)\n",
      "(1632, 'УРОЖАЙНА КАРТОПЛЯ ТА КОРЕНЕПЛОДИ 25 мл', 80, 1)\n",
      "(1633, 'ЯСКРАВА ХВОЯ. ЗАХИСТ ТА РОЗВИТОК 20 мл', 90, 1)\n",
      "(1634, 'Монокалій фосфат 0-52-34 Nova Peak ', 3880, 25)\n"
     ],
     "output_type":"stream"
    }
   ],
   "metadata":{
    "datalore":{
     "node_id":"hlK52UGJ6F2DtWbHOGQ0gw",
     "type":"CODE",
     "hide_input_from_viewers":true,
     "hide_output_from_viewers":true
    }
   }
  },
  {
   "cell_type":"markdown",
   "source":[
    "### Завдання 3: "
   ],
   "attachments":{
    
   },
   "metadata":{
    "datalore":{
     "node_id":"hazIm1aF5U2QrENmAgJjrQ",
     "type":"MD",
     "hide_input_from_viewers":false,
     "hide_output_from_viewers":false,
     "report_properties":{
      "rowId":"GOIX7D1tST4ZYLEdsTQZei"
     }
    }
   }
  },
  {
   "cell_type":"markdown",
   "source":[
    "Ознайомтеся із роботою SQLite та відповідним модулем у Python.\n",
    "Завантажте базу даних для виконання лабораторної роботи.\n",
    "Підключіться до завантаженої бази SQLite."
   ],
   "attachments":{
    
   },
   "metadata":{
    "datalore":{
     "node_id":"CXwd3ieHWiBadadGzwYlZX",
     "type":"MD",
     "hide_input_from_viewers":false,
     "hide_output_from_viewers":false,
     "report_properties":{
      "rowId":"pwt9sWoy4yJeWzWADOc6hS"
     }
    }
   }
  },
  {
   "cell_type":"markdown",
   "source":[
    "1. Виведіть інформацію про дану базу."
   ],
   "attachments":{
    
   },
   "metadata":{
    "datalore":{
     "node_id":"Lw3T5rHWccz36fWLO5MSYb",
     "type":"MD",
     "hide_input_from_viewers":false,
     "hide_output_from_viewers":false,
     "report_properties":{
      "rowId":"R2XQ5trUAPhWfUnrzFYlVg"
     }
    }
   }
  },
  {
   "cell_type":"code",
   "source":[
    "import sqlite3\n",
    "con = sqlite3.connect(\"tysql1.sqlite\")\n",
    "\n",
    "cursor = con.cursor()\n",
    "print(cur)"
   ],
   "execution_count":23,
   "outputs":[
    {
     "name":"stdout",
     "text":[
      "<sqlite3.Cursor object at 0x7f6c0f8df570>\n"
     ],
     "output_type":"stream"
    }
   ],
   "metadata":{
    "datalore":{
     "node_id":"kwb5zzJox0eA6mrjKezPOc",
     "type":"CODE",
     "hide_input_from_viewers":false,
     "hide_output_from_viewers":false,
     "report_properties":{
      "rowId":"ruu0HnEQiwgptSGGLSNutA"
     }
    }
   }
  },
  {
   "cell_type":"markdown",
   "source":[
    "2. Виведіть перелік всіх таблиць."
   ],
   "attachments":{
    
   },
   "metadata":{
    "datalore":{
     "node_id":"nMqH6t9GzKcD0msXLQlaO4",
     "type":"MD",
     "hide_input_from_viewers":false,
     "hide_output_from_viewers":false,
     "report_properties":{
      "rowId":"XNXIqftOE7yYqfwOpu3Px8"
     }
    }
   }
  },
  {
   "cell_type":"code",
   "source":[
    "\n",
    "sql = '''SELECT \n",
    "    name\n",
    "FROM \n",
    "    sqlite_schema\n",
    "WHERE \n",
    "    type ='table' AND \n",
    "    name NOT LIKE 'sqlite_%'\n",
    "'''\n",
    "cur = con.execute(sql)\n",
    "for i in cur:\n",
    "    print(i)"
   ],
   "execution_count":25,
   "outputs":[
    {
     "name":"stdout",
     "text":[
      "('Customers',)\n",
      "('OrderItems',)\n",
      "('Orders',)\n",
      "('Products',)\n",
      "('Vendors',)\n"
     ],
     "output_type":"stream"
    }
   ],
   "metadata":{
    "datalore":{
     "node_id":"nm6Lf3wrwgBnyvmXuLQPP1",
     "type":"CODE",
     "hide_input_from_viewers":false,
     "hide_output_from_viewers":false,
     "report_properties":{
      "rowId":"WD11V5gbE9zNZcv710MAZZ"
     }
    }
   }
  },
  {
   "cell_type":"markdown",
   "source":[
    "3. Список всіх cust_id з таблиці Customers table."
   ],
   "attachments":{
    
   },
   "metadata":{
    "datalore":{
     "node_id":"BanuyZQjuD0ou8ekdaogzo",
     "type":"MD",
     "hide_input_from_viewers":false,
     "hide_output_from_viewers":false,
     "report_properties":{
      "rowId":"hpoCdbTxOpZQTB5eXCW8MA"
     }
    }
   }
  },
  {
   "cell_type":"code",
   "source":[
    "sql = '''SELECT \n",
    "    cust_id\n",
    "FROM \n",
    "    Customers \n",
    "'''\n",
    "cur = con.execute(sql)\n",
    "for i in cur:\n",
    "    print(i)"
   ],
   "execution_count":26,
   "outputs":[
    {
     "name":"stdout",
     "text":[
      "('1000000001',)\n",
      "('1000000002',)\n",
      "('1000000003',)\n",
      "('1000000004',)\n",
      "('1000000005',)\n"
     ],
     "output_type":"stream"
    }
   ],
   "metadata":{
    "datalore":{
     "node_id":"E1V0TcjWRFswpEr1eqzU6e",
     "type":"CODE",
     "hide_input_from_viewers":false,
     "hide_output_from_viewers":false,
     "report_properties":{
      "rowId":"0rmcuQZrhxeMgexRPpHFg8"
     }
    }
   }
  },
  {
   "cell_type":"markdown",
   "source":[
    "4. Всю таблицю Customers table"
   ],
   "attachments":{
    
   },
   "metadata":{
    "datalore":{
     "node_id":"XTCtra3RWi6TmplAafYJwQ",
     "type":"MD",
     "hide_input_from_viewers":false,
     "hide_output_from_viewers":false,
     "report_properties":{
      "rowId":"txMtId6wdQkveyJe3yGnQi"
     }
    }
   }
  },
  {
   "cell_type":"code",
   "source":[
    "sql = '''SELECT \n",
    "    *\n",
    "FROM \n",
    "    Customers \n",
    "'''\n",
    "cur = con.execute(sql)\n",
    "for i in cur:\n",
    "    print(i)"
   ],
   "execution_count":27,
   "outputs":[
    {
     "name":"stdout",
     "text":[
      "('1000000001', 'Village Toys', '200 Maple Lane', 'Detroit', 'MI', '44444', 'USA', 'John Smith', 'sales@villagetoys.com')\n",
      "('1000000002', 'Kids Place', '333 South Lake Drive', 'Columbus', 'OH', '43333', 'USA', 'Michelle Green', None)\n",
      "('1000000003', 'Fun4All', '1 Sunny Place', 'Muncie', 'IN', '42222', 'USA', 'Jim Jones', 'jjones@fun4all.com')\n",
      "('1000000004', 'Fun4All', '829 Riverside Drive', 'Phoenix', 'AZ', '88888', 'USA', 'Denise L. Stephens', 'dstephens@fun4all.com')\n",
      "('1000000005', 'The Toy Store', '4545 53rd Street', 'Chicago', 'IL', '54545', 'USA', 'Kim Howard', None)\n"
     ],
     "output_type":"stream"
    }
   ],
   "metadata":{
    "datalore":{
     "node_id":"gKqreSiC8QpouoQ59HL8kf",
     "type":"CODE",
     "hide_input_from_viewers":false,
     "hide_output_from_viewers":false,
     "report_properties":{
      "rowId":"grVSi2rKAdov8ENh0X4Ynj"
     }
    }
   }
  },
  {
   "cell_type":"markdown",
   "source":[
    "5. Список клієнтів (cust_names) відсортованих від Z до A"
   ],
   "attachments":{
    
   },
   "metadata":{
    "datalore":{
     "node_id":"eIsqQB5e25DeGclOJMTxP9",
     "type":"MD",
     "hide_input_from_viewers":false,
     "hide_output_from_viewers":false,
     "report_properties":{
      "rowId":"Mbl4nHHUtJ9ItKSAkxf004"
     }
    }
   }
  },
  {
   "cell_type":"code",
   "source":[
    "sql = '''SELECT \n",
    "    cust_name\n",
    "FROM \n",
    "    Customers \n",
    "order by cust_name desc\n",
    "\n",
    "'''\n",
    "\n",
    "cur = con.execute(sql)\n",
    "for i in cur:\n",
    "    print(i)"
   ],
   "execution_count":28,
   "outputs":[
    {
     "name":"stdout",
     "text":[
      "('Village Toys',)\n",
      "('The Toy Store',)\n",
      "('Kids Place',)\n",
      "('Fun4All',)\n",
      "('Fun4All',)\n"
     ],
     "output_type":"stream"
    }
   ],
   "metadata":{
    "datalore":{
     "node_id":"K76w2XgpjAelDpEESrybYn",
     "type":"CODE",
     "hide_input_from_viewers":false,
     "hide_output_from_viewers":false,
     "report_properties":{
      "rowId":"hXFUOJCNGIYg1XRKn90UvG"
     }
    }
   }
  },
  {
   "cell_type":"markdown",
   "source":[
    "6. Таблицю клієнтів та замовлень (cust_id і order_num) . Відсортуйте по клієнту і потім по даті замовлення"
   ],
   "attachments":{
    
   },
   "metadata":{
    "datalore":{
     "node_id":"YIncUs8b4j21pGaoN1I3et",
     "type":"MD",
     "hide_input_from_viewers":false,
     "hide_output_from_viewers":false,
     "report_properties":{
      "rowId":"XkdcqlPhwMFZRcKw8ZoevW"
     }
    }
   }
  },
  {
   "cell_type":"code",
   "source":[
    "sql = '''SELECT \n",
    "    c.* , o.*\n",
    "FROM \n",
    "    Customers c\n",
    "join Orders o on c.cust_id = o.cust_id\n",
    "order by c.cust_name asc, o.order_date asc\n",
    "\n",
    "'''\n",
    "\n",
    "cur = con.execute(sql)\n",
    "for i in cur:\n",
    "    print(i)"
   ],
   "execution_count":29,
   "outputs":[
    {
     "name":"stdout",
     "text":[
      "('1000000003', 'Fun4All', '1 Sunny Place', 'Muncie', 'IN', '42222', 'USA', 'Jim Jones', 'jjones@fun4all.com', 20006, '2012-01-12', '1000000003')\n",
      "('1000000004', 'Fun4All', '829 Riverside Drive', 'Phoenix', 'AZ', '88888', 'USA', 'Denise L. Stephens', 'dstephens@fun4all.com', 20007, '2012-01-30', '1000000004')\n",
      "('1000000005', 'The Toy Store', '4545 53rd Street', 'Chicago', 'IL', '54545', 'USA', 'Kim Howard', None, 20008, '2012-02-03', '1000000005')\n",
      "('1000000001', 'Village Toys', '200 Maple Lane', 'Detroit', 'MI', '44444', 'USA', 'John Smith', 'sales@villagetoys.com', 20009, '2012-02-08', '1000000001')\n",
      "('1000000001', 'Village Toys', '200 Maple Lane', 'Detroit', 'MI', '44444', 'USA', 'John Smith', 'sales@villagetoys.com', 20005, '2012-05-01', '1000000001')\n"
     ],
     "output_type":"stream"
    }
   ],
   "metadata":{
    "datalore":{
     "node_id":"rUXgXYzfPsbEemf05cxC50",
     "type":"CODE",
     "hide_input_from_viewers":false,
     "hide_output_from_viewers":false,
     "report_properties":{
      "rowId":"fE8mb9c9mFpD4ObIpRKXFL"
     }
    }
   }
  },
  {
   "cell_type":"markdown",
   "source":[
    "7. Таблицю (на основі Items) з кількість та вартістю товару. Відсортуйте в порядку спадання по кількості та вартості"
   ],
   "attachments":{
    
   },
   "metadata":{
    "datalore":{
     "node_id":"9skA2KpOYk6FacuUczQnn4",
     "type":"MD",
     "hide_input_from_viewers":false,
     "hide_output_from_viewers":false,
     "report_properties":{
      "rowId":"ffHLZYAOzYB9cSyU0qzlB2"
     }
    }
   }
  },
  {
   "cell_type":"code",
   "source":[
    "sql = '''SELECT \n",
    "    *\n",
    "FROM \n",
    "    OrderItems \n",
    "order by quantity desc, item_price desc \n",
    "'''\n",
    "\n",
    "cur = con.execute(sql)\n",
    "for i in cur:\n",
    "    print(i)"
   ],
   "execution_count":30,
   "outputs":[
    {
     "name":"stdout",
     "text":[
      "(20009, 1, 'BNBG01', 250, 2.49)\n",
      "(20009, 2, 'BNBG02', 250, 2.49)\n",
      "(20009, 3, 'BNBG03', 250, 2.49)\n",
      "(20005, 2, 'BR03', 100, 10.99)\n",
      "(20005, 1, 'BR01', 100, 5.49)\n",
      "(20007, 2, 'BNBG01', 100, 2.99)\n",
      "(20007, 3, 'BNBG02', 100, 2.99)\n",
      "(20007, 4, 'BNBG03', 100, 2.99)\n",
      "(20007, 1, 'BR03', 50, 11.49)\n",
      "(20007, 5, 'RGAN01', 50, 4.49)\n",
      "(20006, 1, 'BR01', 20, 5.99)\n",
      "(20006, 3, 'BR03', 10, 11.99)\n",
      "(20006, 2, 'BR02', 10, 8.99)\n",
      "(20008, 3, 'BNBG01', 10, 3.49)\n",
      "(20008, 4, 'BNBG02', 10, 3.49)\n",
      "(20008, 5, 'BNBG03', 10, 3.49)\n",
      "(20008, 2, 'BR03', 5, 11.99)\n",
      "(20008, 1, 'RGAN01', 5, 4.99)\n"
     ],
     "output_type":"stream"
    }
   ],
   "metadata":{
    "datalore":{
     "node_id":"jFPqqSwo8DqZ7CmvKtDNI0",
     "type":"CODE",
     "hide_input_from_viewers":false,
     "hide_output_from_viewers":false,
     "report_properties":{
      "rowId":"UTC602Wh9pe7ld63ivlumz"
     }
    }
   }
  },
  {
   "cell_type":"markdown",
   "source":[
    "8. Товар (з таблиці Products), ціна якого становить 9.49"
   ],
   "attachments":{
    
   },
   "metadata":{
    "datalore":{
     "node_id":"WYun1QccNiqaa1eUchZMZs",
     "type":"MD",
     "hide_input_from_viewers":false,
     "hide_output_from_viewers":false,
     "report_properties":{
      "rowId":"dIeNon81l28n1p3DaMcRuB"
     }
    }
   }
  },
  {
   "cell_type":"code",
   "source":[
    "sql = '''SELECT \n",
    "    *\n",
    "FROM \n",
    "    Products \n",
    "where prod_price = 9.49\n",
    "'''\n",
    "\n",
    "cur = con.execute(sql)\n",
    "for i in cur:\n",
    "    print(i)"
   ],
   "execution_count":31,
   "outputs":[
    {
     "name":"stdout",
     "text":[
      "('RYL01', 'FNG01', 'King doll', 9.49, '12 inch king doll with royal garments and crown')\n",
      "('RYL02', 'FNG01', 'Queen doll', 9.49, '12 inch queen doll with royal garments and crown')\n"
     ],
     "output_type":"stream"
    }
   ],
   "metadata":{
    "datalore":{
     "node_id":"xx0pyiBHyFO3G13pBLYgN9",
     "type":"CODE",
     "hide_input_from_viewers":false,
     "hide_output_from_viewers":false,
     "report_properties":{
      "rowId":"7KQTdLg9LAr88vprUzx7N7"
     }
    }
   }
  },
  {
   "cell_type":"markdown",
   "source":[
    "9. Виведіть назву товару та ціну, яка лежить в діапазоні від  3 до 6. Відсортуйте результат в по ціні в порядку зростання"
   ],
   "attachments":{
    
   },
   "metadata":{
    "datalore":{
     "node_id":"zGiJLfhOlcGddkekovoeyN",
     "type":"MD",
     "hide_input_from_viewers":false,
     "hide_output_from_viewers":false,
     "report_properties":{
      "rowId":"yyLZ9GsqeGL1oacWwiA4er"
     }
    }
   }
  },
  {
   "cell_type":"code",
   "source":[
    "sql = '''SELECT \n",
    "    prod_name, prod_price\n",
    "FROM \n",
    "    Products \n",
    "where prod_price between 3 and 6\n",
    "order by  prod_price asc\n",
    "'''\n",
    "\n",
    "cur = con.execute(sql)\n",
    "for i in cur:\n",
    "    print(i)"
   ],
   "execution_count":32,
   "outputs":[
    {
     "name":"stdout",
     "text":[
      "('Fish bean bag toy', 3.49)\n",
      "('Bird bean bag toy', 3.49)\n",
      "('Rabbit bean bag toy', 3.49)\n",
      "('Raggedy Ann', 4.99)\n",
      "('8 inch teddy bear', 5.99)\n"
     ],
     "output_type":"stream"
    }
   ],
   "metadata":{
    "datalore":{
     "node_id":"50SfuAx2gXvaZyMRSFFKZ1",
     "type":"CODE",
     "hide_input_from_viewers":false,
     "hide_output_from_viewers":false,
     "report_properties":{
      "rowId":"Kz6gWLyGp2KLSENpyTUfy4"
     }
    }
   }
  },
  {
   "cell_type":"markdown",
   "source":[
    "10. Кількість товару, що було продано"
   ],
   "attachments":{
    
   },
   "metadata":{
    "datalore":{
     "node_id":"ytI2xoGOW93O4XAdQaaCNh",
     "type":"MD",
     "hide_input_from_viewers":false,
     "hide_output_from_viewers":false,
     "report_properties":{
      "rowId":"eTzbrNCjXsKwNgTVfzNAuZ"
     }
    }
   }
  },
  {
   "cell_type":"code",
   "source":[
    "sql = '''SELECT \n",
    "    sum(quantity)\n",
    "FROM \n",
    "    OrderItems \n",
    "\n",
    "'''\n",
    "\n",
    "cur = con.execute(sql)\n",
    "for i in cur:\n",
    "    print(i)"
   ],
   "execution_count":33,
   "outputs":[
    {
     "name":"stdout",
     "text":[
      "(1430,)\n"
     ],
     "output_type":"stream"
    }
   ],
   "metadata":{
    "datalore":{
     "node_id":"0HkG1CERrTw2WO8BVCEJkR",
     "type":"CODE",
     "hide_input_from_viewers":false,
     "hide_output_from_viewers":false,
     "report_properties":{
      "rowId":"qg1f3isiWZA0BcKBUI5qjP"
     }
    }
   }
  },
  {
   "cell_type":"markdown",
   "source":[
    "11. Кількість найменувань товару, ціна якого більша за 4"
   ],
   "attachments":{
    
   },
   "metadata":{
    "datalore":{
     "node_id":"vtLivlyGkqGTQReSHLtaKK",
     "type":"MD",
     "hide_input_from_viewers":false,
     "hide_output_from_viewers":false,
     "report_properties":{
      "rowId":"R9wn0xmcsAlv4XFAMbH4az"
     }
    }
   }
  },
  {
   "cell_type":"code",
   "source":[
    "sql = '''SELECT \n",
    "    prod_name, prod_price\n",
    "FROM \n",
    "    Products \n",
    "where prod_price > 4\n",
    "order by  prod_price asc\n",
    "'''\n",
    "\n",
    "cur = con.execute(sql)\n",
    "for i in cur:\n",
    "    print(i)"
   ],
   "execution_count":34,
   "outputs":[
    {
     "name":"stdout",
     "text":[
      "('Raggedy Ann', 4.99)\n",
      "('8 inch teddy bear', 5.99)\n",
      "('12 inch teddy bear', 8.99)\n",
      "('King doll', 9.49)\n",
      "('Queen doll', 9.49)\n",
      "('18 inch teddy bear', 11.99)\n"
     ],
     "output_type":"stream"
    }
   ],
   "metadata":{
    "datalore":{
     "node_id":"ETCFSp7YE9OZltTiIVJ3fO",
     "type":"CODE",
     "hide_input_from_viewers":false,
     "hide_output_from_viewers":false,
     "report_properties":{
      "rowId":"KqLhsXJCAc99w9pivzquAZ"
     }
    }
   }
  },
  {
   "cell_type":"markdown",
   "source":[
    "12. Розробіть алгоритм для виведення 3 найдорожчих товарів в базі"
   ],
   "attachments":{
    
   },
   "metadata":{
    "datalore":{
     "node_id":"cPIA6B5C4UVoCQPPQveNnx",
     "type":"MD",
     "hide_input_from_viewers":false,
     "hide_output_from_viewers":false,
     "report_properties":{
      "rowId":"kAzPxxTPej26C1THYtaUqx"
     }
    }
   }
  },
  {
   "cell_type":"code",
   "source":[
    "sql = '''SELECT \n",
    "    prod_name, prod_price\n",
    "FROM \n",
    "    Products \n",
    "order by  prod_price desc\n",
    "limit 3\n",
    "'''\n",
    "\n",
    "cur = con.execute(sql)\n",
    "for i in cur:\n",
    "    print(i)"
   ],
   "execution_count":35,
   "outputs":[
    {
     "name":"stdout",
     "text":[
      "('18 inch teddy bear', 11.99)\n",
      "('King doll', 9.49)\n",
      "('Queen doll', 9.49)\n"
     ],
     "output_type":"stream"
    }
   ],
   "metadata":{
    "datalore":{
     "node_id":"I2xMtdj1xIFYa2yEi5U8S1",
     "type":"CODE",
     "hide_input_from_viewers":false,
     "hide_output_from_viewers":false,
     "report_properties":{
      "rowId":"NWbfEDz5qtlxhnBypigaOU"
     }
    }
   }
  },
  {
   "cell_type":"markdown",
   "source":[
    "13. Підрахуйте кількість замовлень для кожного клієнта використовуючи підзапити"
   ],
   "attachments":{
    
   },
   "metadata":{
    "datalore":{
     "node_id":"gZd142FTF5l96DYPqszR9u",
     "type":"MD",
     "hide_input_from_viewers":false,
     "hide_output_from_viewers":false,
     "report_properties":{
      "rowId":"jT3Bux5PA1X7FoLJ3veZJE"
     }
    }
   }
  },
  {
   "cell_type":"code",
   "source":[
    "sql = ''' SELECT \n",
    "    c.cust_id, cust_name, cnt\n",
    "    FROM Customers c\n",
    "    join (\n",
    "SELECT \n",
    "    cust_id, count(cust_id) cnt\n",
    "FROM \n",
    "    Orders \n",
    "group by cust_id) j on c.cust_id = j.cust_id\n",
    "\n",
    "'''\n",
    "\n",
    "cur = con.execute(sql)\n",
    "for i in cur:\n",
    "    print(i)"
   ],
   "execution_count":36,
   "outputs":[
    {
     "name":"stdout",
     "text":[
      "('1000000001', 'Village Toys', 2)\n",
      "('1000000003', 'Fun4All', 1)\n",
      "('1000000004', 'Fun4All', 1)\n",
      "('1000000005', 'The Toy Store', 1)\n"
     ],
     "output_type":"stream"
    }
   ],
   "metadata":{
    "datalore":{
     "node_id":"CuN4oWFdA4DuMrT28Y6mzM",
     "type":"CODE",
     "hide_input_from_viewers":false,
     "hide_output_from_viewers":false,
     "report_properties":{
      "rowId":"bIKLl1LbVTWKUt22I1WepQ"
     }
    }
   }
  },
  {
   "cell_type":"markdown",
   "source":[
    "14. Виведіть список клієнтів та їх замовлення (використайте JOIN)"
   ],
   "attachments":{
    
   },
   "metadata":{
    "datalore":{
     "node_id":"5X86guKTSNuTy6CZLdlN5s",
     "type":"MD",
     "hide_input_from_viewers":false,
     "hide_output_from_viewers":false,
     "report_properties":{
      "rowId":"3DwBDXIMTf3fWdRqHAxlEu"
     }
    }
   }
  },
  {
   "cell_type":"code",
   "source":[
    "sql = ''' SELECT \n",
    "    cust_name, o.order_date, p.prod_name\n",
    "    FROM Customers c\n",
    "    join Orders o\n",
    "on c.cust_id = o.cust_id\n",
    "join OrderItems oi on oi.order_num = o.order_num\n",
    "join Products p on oi.prod_id = p.prod_id\n",
    "\n",
    "'''\n",
    "\n",
    "cur = con.execute(sql)\n",
    "for i in cur:\n",
    "    print(i)"
   ],
   "execution_count":37,
   "outputs":[
    {
     "name":"stdout",
     "text":[
      "('Village Toys', '2012-05-01', '8 inch teddy bear')\n",
      "('Village Toys', '2012-05-01', '18 inch teddy bear')\n",
      "('Fun4All', '2012-01-12', '8 inch teddy bear')\n",
      "('Fun4All', '2012-01-12', '12 inch teddy bear')\n",
      "('Fun4All', '2012-01-12', '18 inch teddy bear')\n",
      "('Fun4All', '2012-01-30', '18 inch teddy bear')\n",
      "('Fun4All', '2012-01-30', 'Fish bean bag toy')\n",
      "('Fun4All', '2012-01-30', 'Bird bean bag toy')\n",
      "('Fun4All', '2012-01-30', 'Rabbit bean bag toy')\n",
      "('Fun4All', '2012-01-30', 'Raggedy Ann')\n",
      "('The Toy Store', '2012-02-03', 'Raggedy Ann')\n",
      "('The Toy Store', '2012-02-03', '18 inch teddy bear')\n",
      "('The Toy Store', '2012-02-03', 'Fish bean bag toy')\n",
      "('The Toy Store', '2012-02-03', 'Bird bean bag toy')\n",
      "('The Toy Store', '2012-02-03', 'Rabbit bean bag toy')\n",
      "('Village Toys', '2012-02-08', 'Fish bean bag toy')\n",
      "('Village Toys', '2012-02-08', 'Bird bean bag toy')\n",
      "('Village Toys', '2012-02-08', 'Rabbit bean bag toy')\n"
     ],
     "output_type":"stream"
    }
   ],
   "metadata":{
    "datalore":{
     "node_id":"t0va8URH0a5Cs6JHVsgrxY",
     "type":"CODE",
     "hide_input_from_viewers":false,
     "hide_output_from_viewers":false,
     "report_properties":{
      "rowId":"NB9QOMMVK9QxcwCC3qI34m"
     }
    }
   }
  },
  {
   "cell_type":"markdown",
   "source":[
    "15. Зробіть два запити: список товарів, ціна яких менша 5 та список товарів, ціна який більша рівна 5. Використайте UNION для об'єднання цих запитів"
   ],
   "attachments":{
    
   },
   "metadata":{
    "datalore":{
     "node_id":"cNUpKYdvlomgqoWL3mNLm6",
     "type":"MD",
     "hide_input_from_viewers":false,
     "hide_output_from_viewers":false,
     "report_properties":{
      "rowId":"CMDh0kGLE0xXkVkTYFjYRY"
     }
    }
   }
  },
  {
   "cell_type":"code",
   "source":[
    "sql = ''' SELECT \n",
    "    *\n",
    "    FROM Products p \n",
    "    where prod_price <5\n",
    "UNION\n",
    "SELECT \n",
    "    *\n",
    "    FROM Products p \n",
    "    where prod_price >= 5\n",
    "'''\n",
    "\n",
    "cur = con.execute(sql)\n",
    "for i in cur:\n",
    "    print(i)"
   ],
   "execution_count":38,
   "outputs":[
    {
     "name":"stdout",
     "text":[
      "('BNBG01', 'DLL01', 'Fish bean bag toy', 3.49, 'Fish bean bag toy, complete with bean bag worms with which to feed it')\n",
      "('BNBG02', 'DLL01', 'Bird bean bag toy', 3.49, 'Bird bean bag toy, eggs are not included')\n",
      "('BNBG03', 'DLL01', 'Rabbit bean bag toy', 3.49, 'Rabbit bean bag toy, comes with bean bag carrots')\n",
      "('BR01', 'BRS01', '8 inch teddy bear', 5.99, '8 inch teddy bear, comes with cap and jacket')\n",
      "('BR02', 'BRS01', '12 inch teddy bear', 8.99, '12 inch teddy bear, comes with cap and jacket')\n",
      "('BR03', 'BRS01', '18 inch teddy bear', 11.99, '18 inch teddy bear, comes with cap and jacket')\n",
      "('RGAN01', 'DLL01', 'Raggedy Ann', 4.99, '18 inch Raggedy Ann doll')\n",
      "('RYL01', 'FNG01', 'King doll', 9.49, '12 inch king doll with royal garments and crown')\n",
      "('RYL02', 'FNG01', 'Queen doll', 9.49, '12 inch queen doll with royal garments and crown')\n"
     ],
     "output_type":"stream"
    }
   ],
   "metadata":{
    "datalore":{
     "node_id":"gMnwaNAzd9H7YOUI2h15mF",
     "type":"CODE",
     "hide_input_from_viewers":false,
     "hide_output_from_viewers":false,
     "report_properties":{
      "rowId":"5elXARUzsZ45QUwso2qlGa"
     }
    }
   }
  },
  {
   "cell_type":"markdown",
   "source":[
    "### Завдання 4: "
   ],
   "attachments":{
    
   },
   "metadata":{
    "datalore":{
     "node_id":"LzR5C5u57wRUNtuPCMXwQW",
     "type":"MD",
     "hide_input_from_viewers":false,
     "hide_output_from_viewers":false,
     "report_properties":{
      "rowId":"o9zLyGl5GTu6MICwd6MOLp"
     }
    }
   }
  },
  {
   "cell_type":"markdown",
   "source":[
    "Зареєструйтеся на сайті  http:\/\/www.sql-ex.ru\/\n",
    "\n",
    "Виконайте завдання із блоку SELECT; з 1 по 30 завдання\n",
    "\n",
    "Код запитів вставляйте сюди"
   ],
   "attachments":{
    
   },
   "metadata":{
    "datalore":{
     "node_id":"0IkMFZtUXcwWnjoah2KlIE",
     "type":"MD",
     "hide_input_from_viewers":false,
     "hide_output_from_viewers":false,
     "report_properties":{
      "rowId":"GI9tbxccpNMAaeCpJIHwC1"
     }
    }
   }
  },
  {
   "cell_type":"code",
   "source":[
    
   ],
   "execution_count":null,
   "outputs":[
    
   ],
   "metadata":{
    "datalore":{
     "node_id":"2yirbmroezT3SUB402Jcda",
     "type":"CODE",
     "hide_input_from_viewers":false,
     "hide_output_from_viewers":false,
     "report_properties":{
      "rowId":"u1rUzuWeQa5K74O3dtPwVD"
     }
    }
   }
  }
 ],
 "metadata":{
  "kernelspec":{
   "display_name":"Python",
   "language":"python",
   "name":"python"
  },
  "datalore":{
   "computation_mode":"JUPYTER",
   "package_manager":"pip",
   "base_environment":"default",
   "packages":[
    
   ],
   "report_row_ids":[
    "FYEwfqds1wyph6nHRbM2k9",
    "vRwSSVdLw8afVlaqSz9yG2",
    "oIjAo4vvljED4Qdg89imgX",
    "hWF3xMOqIz2mEf7rBZRfFl",
    "33myk8UGwUV7AezgdOv5J8",
    "a44TRwTFCxxt4ZWv0IbwjY",
    "4aHLPLZeG5CDvsLy9iCLZu",
    "MOapkMXzDbsM9MicwbqrDX",
    "5INNaVnitbuyaJC6N3qRSh",
    "isjfI6yiSB1ZwfMjKJe0Oi",
    "fXUlC5KDf0Yh4Fn4YoadCx",
    "0tVfHWTe53y8eA18miRoGM",
    "aPEEshJ9m8XSjBydkffs9Q",
    "OT46IA3NjSg4dX5yBjaJvt",
    "CmhURaN71Ok1FnPTGw0can",
    "LFfnUmKhFg76XGyGJHF9fE",
    "ziKpMIBEEUEsZOetc3gGlp",
    "GOIX7D1tST4ZYLEdsTQZei",
    "pwt9sWoy4yJeWzWADOc6hS",
    "R2XQ5trUAPhWfUnrzFYlVg",
    "ruu0HnEQiwgptSGGLSNutA",
    "XNXIqftOE7yYqfwOpu3Px8",
    "WD11V5gbE9zNZcv710MAZZ",
    "hpoCdbTxOpZQTB5eXCW8MA",
    "0rmcuQZrhxeMgexRPpHFg8",
    "txMtId6wdQkveyJe3yGnQi",
    "grVSi2rKAdov8ENh0X4Ynj",
    "Mbl4nHHUtJ9ItKSAkxf004",
    "hXFUOJCNGIYg1XRKn90UvG",
    "XkdcqlPhwMFZRcKw8ZoevW",
    "fE8mb9c9mFpD4ObIpRKXFL",
    "ffHLZYAOzYB9cSyU0qzlB2",
    "UTC602Wh9pe7ld63ivlumz",
    "dIeNon81l28n1p3DaMcRuB",
    "7KQTdLg9LAr88vprUzx7N7",
    "yyLZ9GsqeGL1oacWwiA4er",
    "Kz6gWLyGp2KLSENpyTUfy4",
    "eTzbrNCjXsKwNgTVfzNAuZ",
    "qg1f3isiWZA0BcKBUI5qjP",
    "R9wn0xmcsAlv4XFAMbH4az",
    "KqLhsXJCAc99w9pivzquAZ",
    "kAzPxxTPej26C1THYtaUqx",
    "NWbfEDz5qtlxhnBypigaOU",
    "jT3Bux5PA1X7FoLJ3veZJE",
    "bIKLl1LbVTWKUt22I1WepQ",
    "3DwBDXIMTf3fWdRqHAxlEu",
    "NB9QOMMVK9QxcwCC3qI34m",
    "CMDh0kGLE0xXkVkTYFjYRY",
    "5elXARUzsZ45QUwso2qlGa",
    "o9zLyGl5GTu6MICwd6MOLp",
    "GI9tbxccpNMAaeCpJIHwC1",
    "u1rUzuWeQa5K74O3dtPwVD"
   ],
   "version":2
  }
 },
 "nbformat":4,
 "nbformat_minor":4
}