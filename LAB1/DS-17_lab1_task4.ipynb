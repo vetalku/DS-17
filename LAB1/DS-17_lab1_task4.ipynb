{
 "cells":[
  {
   "cell_type":"markdown",
   "source":[
    "# Sheet"
   ],
   "attachments":{
    
   },
   "metadata":{
    "datalore":{
     "node_id":"Sheet",
     "type":"MD",
     "hide_input_from_viewers":false,
     "hide_output_from_viewers":false,
     "sheet_delimiter":true
    }
   }
  },
  {
   "cell_type":"code",
   "source":[
    "print(\"Hello World!!!\")\n",
    "print(\"Hello World!!!\")\n",
    "print(\"Hello World!!!\")"
   ],
   "execution_count":2,
   "outputs":[
    {
     "name":"stdout",
     "text":[
      "Hello World!!!\n",
      "Hello World!!!\n",
      "Hello World!!!\n"
     ],
     "output_type":"stream"
    }
   ],
   "metadata":{
    "datalore":{
     "node_id":"EDtc2DplrEMxhKOC9fBSIQ",
     "type":"CODE",
     "hide_input_from_viewers":false,
     "hide_output_from_viewers":false,
     "report_properties":{
      "y":0
     }
    }
   }
  },
  {
   "cell_type":"markdown",
   "source":[
    "When $a \\ne 0$, there are two solutions to $(ax^2 + bx + c = 0)$ and they are \n",
    "$$ x = {-b \\pm \\sqrt{b^2-4ac} \\over 2a} $$"
   ],
   "attachments":{
    
   },
   "metadata":{
    "datalore":{
     "node_id":"dPquq0kq0IqRL3rkiYfZJz",
     "type":"MD",
     "hide_input_from_viewers":true,
     "hide_output_from_viewers":true
    }
   }
  },
  {
   "cell_type":"markdown",
   "source":[
    "**The Cauchy-Schwarz Inequality**\n",
    "\n",
    "$$\\left( \\sum_{k=1}^n a_k b_k \\right)^2 \\leq \\left( \\sum_{k=1}^n a_k^2 \\right) \\left( \\sum_{k=1}^n b_k^2 \\right)$$"
   ],
   "attachments":{
    
   },
   "metadata":{
    "datalore":{
     "node_id":"dWWMMw1lajMhepr6oHXalT",
     "type":"MD",
     "hide_input_from_viewers":true,
     "hide_output_from_viewers":true
    }
   }
  },
  {
   "cell_type":"markdown",
   "source":[
    "# Sheet 2"
   ],
   "attachments":{
    
   },
   "metadata":{
    "datalore":{
     "node_id":"Sheet 2",
     "type":"MD",
     "hide_input_from_viewers":false,
     "hide_output_from_viewers":false,
     "sheet_delimiter":true
    }
   }
  },
  {
   "cell_type":"markdown",
   "source":[
    "#  1. Markdown cells \n",
    "\n",
    "* Hi! Its Main Academy?  \n",
    "* All HTML tabs are supported!  \n",
    "* Моя сторінка на лінкедін [vitaliykucher](https:\/\/www.linkedin.com\/in\/vitaliykucher\/)\n",
    "\n",
    "\n",
    "# This is Heading1\n",
    "\n",
    "## This is Heading2\n",
    "\n",
    "some gray colored text:\n",
    ">This is where we can bring qoutes and present them nicely\n",
    "\n",
    "And this is the paragraph about something very important. Even math: \n",
    "\n",
    "$$ y_{sub} = \\sqrt{(x_{sub})} $$\n",
    "        \n",
    "Or python code example:\n",
    "\n",
    "```python\n",
    "        import math       \n",
    "         def foo():\n",
    "            return \"foo\"\n",
    "```\n",
    "\n"
   ],
   "attachments":{
    
   },
   "metadata":{
    "datalore":{
     "node_id":"mXKXh0jmVsS4RtmfwZdB0b",
     "type":"MD",
     "hide_input_from_viewers":true,
     "hide_output_from_viewers":true
    }
   }
  },
  {
   "cell_type":"code",
   "source":[
    
   ],
   "execution_count":null,
   "outputs":[
    
   ],
   "metadata":{
    "datalore":{
     "node_id":"6IR4nQqOZO19rC5QNSsdcR",
     "type":"CODE",
     "hide_input_from_viewers":true,
     "hide_output_from_viewers":true
    }
   }
  },
  {
   "cell_type":"markdown",
   "source":[
    "# Sheet 3"
   ],
   "attachments":{
    
   },
   "metadata":{
    "datalore":{
     "node_id":"Sheet 3",
     "type":"MD",
     "hide_input_from_viewers":false,
     "hide_output_from_viewers":false,
     "sheet_delimiter":true
    }
   }
  },
  {
   "cell_type":"markdown",
   "source":[
    "Here is the sample mean:\n",
    "$$ \\vec{y} = {{1\\over n} \\sum_{i=1}^n y_i}  $$\n",
    "\n",
    "Here is the sample variance:\n",
    "$$ {\\sigma}^2 = {{\\sum_{i=1}^n{(y_i-\\vec{y})^2}}\\over n-1} $$\n",
    "\n",
    "Here is the sample standard deviation:\n",
    "$$ {\\sigma} = \\sqrt{{\\sum_{i=1}^n{(y_i-\\vec{y})^2}}\\over n-1} $$"
   ],
   "attachments":{
    
   },
   "metadata":{
    "datalore":{
     "node_id":"TUr1S7rAdPIC8XgV5cFvKd",
     "type":"MD",
     "hide_input_from_viewers":true,
     "hide_output_from_viewers":true
    }
   }
  }
 ],
 "metadata":{
  "kernelspec":{
   "display_name":"Python",
   "language":"python",
   "name":"python"
  },
  "datalore":{
   "version":1,
   "computation_mode":"JUPYTER",
   "package_manager":"pip",
   "base_environment":"default",
   "packages":[
    {
     "name":"DS-17",
     "version":"main",
     "url":"https:\/\/github.com\/vetalku\/DS-17.git@main",
     "source":"GIT"
    }
   ]
  }
 },
 "nbformat":4,
 "nbformat_minor":4
}