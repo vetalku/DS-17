{
 "cells":[
  {
   "cell_type":"markdown",
   "source":[
    "# Task 3"
   ],
   "attachments":{
    
   },
   "metadata":{
    "datalore":{
     "node_id":"Task 3",
     "type":"MD",
     "hide_input_from_viewers":false,
     "hide_output_from_viewers":false,
     "sheet_delimiter":true
    }
   }
  },
  {
   "cell_type":"markdown",
   "source":[
    "#  1. Markdown cells \n",
    "\n",
    "* Hi! Its Main Academy?  \n",
    "* All HTML tabs are supported!  \n",
    "* Моя сторінка на лінкедін [vitaliykucher](https:\/\/www.linkedin.com\/in\/vitaliykucher\/)\n",
    "\n",
    "\n",
    "# This is Heading1\n",
    "\n",
    "## This is Heading2\n",
    "\n",
    "some gray colored text:\n",
    ">This is where we can bring qoutes and present them nicely\n",
    "\n",
    "And this is the paragraph about something very important. Even math: \n",
    "\n",
    "$$ y_{sub} = \\sqrt{(x_{sub})} $$\n",
    "        \n",
    "Or python code example:\n",
    "\n",
    "```python\n",
    "        import math       \n",
    "         def foo():\n",
    "            return \"foo\"\n",
    "```\n",
    "\n"
   ],
   "attachments":{
    
   },
   "metadata":{
    "datalore":{
     "node_id":"mXKXh0jmVsS4RtmfwZdB0b",
     "type":"MD",
     "hide_input_from_viewers":true,
     "hide_output_from_viewers":true
    }
   }
  },
  {
   "cell_type":"code",
   "source":[
    
   ],
   "execution_count":null,
   "outputs":[
    
   ],
   "metadata":{
    "datalore":{
     "node_id":"6IR4nQqOZO19rC5QNSsdcR",
     "type":"CODE",
     "hide_input_from_viewers":true,
     "hide_output_from_viewers":true
    }
   }
  },
  {
   "cell_type":"markdown",
   "source":[
    "# Task 4"
   ],
   "attachments":{
    
   },
   "metadata":{
    "datalore":{
     "node_id":"Task 4",
     "type":"MD",
     "hide_input_from_viewers":false,
     "hide_output_from_viewers":false,
     "sheet_delimiter":true
    }
   }
  },
  {
   "cell_type":"markdown",
   "source":[
    "Here is the sample mean:\n",
    "$$ \\vec{y} = {{1\\over n} \\sum_{i=1}^n y_i}  $$\n",
    "\n",
    "Here is the sample variance:\n",
    "$$ {\\sigma}^2 = {{\\sum_{i=1}^n{(y_i-\\vec{y})^2}}\\over n-1} $$\n",
    "\n",
    "Here is the sample standard deviation:\n",
    "$$ {\\sigma} = \\sqrt{{\\sum_{i=1}^n{(y_i-\\vec{y})^2}}\\over n-1} $$"
   ],
   "attachments":{
    
   },
   "metadata":{
    "datalore":{
     "node_id":"TUr1S7rAdPIC8XgV5cFvKd",
     "type":"MD",
     "hide_input_from_viewers":true,
     "hide_output_from_viewers":true
    }
   }
  }
 ],
 "metadata":{
  "kernelspec":{
   "display_name":"Python",
   "language":"python",
   "name":"python"
  },
  "datalore":{
   "version":1,
   "computation_mode":"JUPYTER",
   "package_manager":"pip",
   "base_environment":"default",
   "packages":[
    {
     "name":"DS-17",
     "version":"main",
     "url":"https:\/\/github.com\/vetalku\/DS-17.git@main",
     "source":"GIT"
    }
   ]
  }
 },
 "nbformat":4,
 "nbformat_minor":4
}