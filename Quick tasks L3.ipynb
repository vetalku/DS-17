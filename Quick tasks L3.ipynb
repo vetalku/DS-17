{
 "cells":[
  {
   "cell_type":"markdown",
   "source":[
    "# Quick task L3 -1 "
   ],
   "attachments":{
    
   },
   "metadata":{
    "datalore":{
     "node_id":"Quick task L3 -1 ",
     "type":"MD",
     "hide_input_from_viewers":false,
     "hide_output_from_viewers":false,
     "sheet_delimiter":true
    }
   }
  },
  {
   "cell_type":"code",
   "source":[
    "#Change values for to imputs\n",
    "\n",
    "a = input(\"Input a:\")\n",
    "b = input(\"Input b:\")\n",
    "print(f\"Values a: {a}, b: {b}\")\n",
    "\n",
    "a,b = b,a \n",
    "\n",
    "print(f\"Values changed - a: {a}, b: {b}\")"
   ],
   "execution_count":36,
   "outputs":[
    {
     "name":"stdout",
     "text":[
      "Input a: r\n",
      "Input b: y\n",
      "Values a: r, b: y\n",
      "Values changed - a: y, b: r\n",
      "221.07\n"
     ],
     "output_type":"stream"
    }
   ],
   "metadata":{
    "datalore":{
     "node_id":"ay084ctFBAR9jtYUu5i3QB",
     "type":"CODE",
     "hide_input_from_viewers":false,
     "hide_output_from_viewers":false
    }
   }
  },
  {
   "cell_type":"code",
   "source":[
    "# Sum and multiply for numbers of number\n",
    "\n",
    "n = int(input(\"Enter 3x significant number: \"))\n",
    "first_n = n\/\/100\n",
    "second_n = n%100\/\/10\n",
    "third_n = n%100%10\n",
    "\n",
    "print(f\"Splited number: {first_n}, {second_n}, {third_n}\")\n",
    "\n",
    "print(f\"Sum - {first_n+second_n+third_n}\")\n",
    "\n",
    "print(f\"Multiply - {first_n*second_n*third_n}\")"
   ],
   "execution_count":38,
   "outputs":[
    {
     "name":"stdout",
     "text":[
      "Enter 3x significant number:  456\n",
      "Splited number: 4, 5, 6\n",
      "Sum - 15\n",
      "Multiply - 120\n"
     ],
     "output_type":"stream"
    }
   ],
   "metadata":{
    "datalore":{
     "node_id":"UXAwTEDkiGsecegXkQjAq5",
     "type":"CODE",
     "hide_input_from_viewers":false,
     "hide_output_from_viewers":false
    }
   }
  },
  {
   "cell_type":"code",
   "source":[
    "#the length of the hypotenuse\n",
    "import math \n",
    "\n",
    "a = int(input(\"Side a - \"))\n",
    "b = int(input(\"Side b - \"))\n",
    "print(f\"hypotenuse - {math.sqrt(pow(a,2) + pow(b,2) )}\")"
   ],
   "execution_count":58,
   "outputs":[
    {
     "name":"stdout",
     "text":[
      "Side a -  3\n",
      "Side b -  4\n",
      "hypotenuse - 5.0\n"
     ],
     "output_type":"stream"
    }
   ],
   "metadata":{
    "datalore":{
     "node_id":"I1Tk3Fskfvs7gspv18XFS2",
     "type":"CODE",
     "hide_input_from_viewers":false,
     "hide_output_from_viewers":false
    }
   }
  },
  {
   "cell_type":"code",
   "source":[
    "# Month and total payment for credit \n",
    "\n",
    "credit_balance = int(input(\"credit_balance: \"))\n",
    "credit_term_years = int(input(\"credit_term_years, years: \"))\n",
    "credit_interest_rate = int(input(\"credit_interest_rate,%:\" ))\n",
    "        \n",
    "interest_rate_per_month = credit_interest_rate\/100\/12\n",
    "\n",
    "monthly_payment = credit_balance*interest_rate_per_month\/(1-pow(1+interest_rate_per_month,-credit_term_years*12))\n",
    "\n",
    "print (f\"monthly_payment - {round(monthly_payment,2)}\")\n",
    "print (f\"total payment for credit - {round(monthly_payment*credit_term_years*12 - credit_balance,2)}\")"
   ],
   "execution_count":49,
   "outputs":[
    {
     "name":"stdout",
     "text":[
      "credit_balance:  20000\n",
      "credit_term_years, years:  3\n",
      "credit_interest_rate,%: 12\n",
      "monthly_payment - 664.29\n",
      "total payment for credit - 3914.3\n"
     ],
     "output_type":"stream"
    }
   ],
   "metadata":{
    "datalore":{
     "node_id":"DoDzsuyNtgixdSSlz5hG4E",
     "type":"CODE",
     "hide_input_from_viewers":false,
     "hide_output_from_viewers":false
    }
   }
  },
  {
   "cell_type":"code",
   "source":[
    "#Place in alphabet \n",
    "\n",
    "letter1 = input(\"letter1 - \").upper()\n",
    "letter2 = input(\"letter2 - \").upper()\n",
    "\n",
    "print(f\"Place of {letter1} is - {ord(letter1)-64}\")\n",
    "print(f\"Place of {letter2} is - {ord(letter2)-64}\")\n",
    "print(f\"There are {abs(ord(letter1)-ord(letter2))-1} letters between {letter1} and {letter2} \")"
   ],
   "execution_count":53,
   "outputs":[
    {
     "name":"stdout",
     "text":[
      "letter1 -  f\n",
      "letter2 -  a\n",
      "Place of F is - 6\n",
      "Place of A is - 1\n",
      "There are 4 letters between F and A \n"
     ],
     "output_type":"stream"
    }
   ],
   "metadata":{
    "datalore":{
     "node_id":"DeiWlYgxveT9dCDXiPRTjn",
     "type":"CODE",
     "hide_input_from_viewers":false,
     "hide_output_from_viewers":false
    }
   }
  },
  {
   "cell_type":"markdown",
   "source":[
    "# Quick task L3 - 2"
   ],
   "attachments":{
    
   },
   "metadata":{
    "datalore":{
     "node_id":"Quick task L3 - 2",
     "type":"MD",
     "hide_input_from_viewers":false,
     "hide_output_from_viewers":false,
     "sheet_delimiter":true
    }
   }
  },
  {
   "cell_type":"code",
   "source":[
    "string = \"The length of the hypotenuse\"\n",
    "\n",
    "print(\"1. 3rd symbol - \", string[2])\n",
    "print(\"2. 2nd last symbol - \", string[-2])\n",
    "print(\"3. first 5 symbols - \", string[:5])\n",
    "print(\"4. 2nd last symbol - \", string[:-2])\n",
    "print(\"5. 2nd last symbol - \", string[::2])\n",
    "print(\"6. 2nd last symbol - \", string[1::2])\n",
    "print(\"7. 2nd last symbol - \", string[::-1])\n",
    "print(\"8. 2nd last symbol - \", string[::-2])\n",
    "print(\"9. 2nd last symbol - \", len(string))"
   ],
   "execution_count":73,
   "outputs":[
    {
     "name":"stdout",
     "text":[
      "1. 3rd symbol -  e\n",
      "2. 2nd last symbol -  s\n",
      "3. first 5 symbols -  The l\n",
      "4. 2nd last symbol -  The length of the hypotenu\n",
      "5. 2nd last symbol -  Telnt ftehptns\n",
      "6. 2nd last symbol -  h egho h yoeue\n",
      "7. 2nd last symbol -  esunetopyh eht fo htgnel ehT\n",
      "8. 2nd last symbol -  eueoy h ohge h\n",
      "9. 2nd last symbol -  28\n"
     ],
     "output_type":"stream"
    }
   ],
   "metadata":{
    "datalore":{
     "node_id":"Exmcg8g0Q6uaWC78TNKbZ8",
     "type":"CODE",
     "hide_input_from_viewers":false,
     "hide_output_from_viewers":false
    }
   }
  }
 ],
 "metadata":{
  "kernelspec":{
   "display_name":"Python",
   "language":"python",
   "name":"python"
  },
  "datalore":{
   "version":1,
   "computation_mode":"JUPYTER",
   "package_manager":"pip",
   "base_environment":"default",
   "packages":[
    
   ]
  }
 },
 "nbformat":4,
 "nbformat_minor":4
}