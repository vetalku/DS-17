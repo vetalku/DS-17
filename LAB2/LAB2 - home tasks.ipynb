{
 "cells":[
  {
   "cell_type":"markdown",
   "source":[
    "Завдання 1: Написати функцію, яка приймає на вхід список чисел та знаходить\n",
    "найбільше число, яке можна отримати шляхом конкатенації елементів списку.\n",
    "Наприклад, для списку [23, 45, 67], найбільшим числом буде 674523."
   ],
   "attachments":{
    
   },
   "metadata":{
    "datalore":{
     "node_id":"sVRImrSO7fu0YdnG1DUIWM",
     "type":"MD",
     "hide_input_from_viewers":false,
     "hide_output_from_viewers":false
    }
   }
  },
  {
   "cell_type":"code",
   "source":[
    "def merge_elements_list_to_max_value(int_list):\n",
    "    return ''.join(sorted([str(abs(i)) for i in int_list], reverse=True))\n",
    "\n",
    "k = [45, 23, 91, 67, 8, 87, 9]\n",
    "\n",
    "print(k, merge_elements_list_to_max_value(k))"
   ],
   "execution_count":19,
   "outputs":[
    {
     "name":"stdout",
     "text":[
      "[45, 23, 91, 67, 8, 87, 9] 919878674523\n"
     ],
     "output_type":"stream"
    }
   ],
   "metadata":{
    "datalore":{
     "node_id":"EzMsAW08AA57xLzAGdVlHh",
     "type":"CODE",
     "hide_input_from_viewers":false,
     "hide_output_from_viewers":false
    }
   }
  },
  {
   "cell_type":"markdown",
   "source":[
    "Завдання 2: Написати функцію, яка визначає, чи можна побудувати трикутник з\n",
    "трьох сторін, довжини яких задаються параметрами функції. Функція повинна\n",
    "повертати True, якщо такий трикутник можливий, та False - у протилежному\n",
    "випадку."
   ],
   "attachments":{
    
   },
   "metadata":{
    "datalore":{
     "node_id":"4FPQQzNYW0YtaU97OD1da0",
     "type":"MD",
     "hide_input_from_viewers":false,
     "hide_output_from_viewers":false
    }
   }
  },
  {
   "cell_type":"code",
   "source":[
    "def check_if_possible_to_buid_triangle(a, b, c):\n",
    "    if (a+b)>c and (a+c)>b and (b+c)>a:\n",
    "        return True\n",
    "    else:\n",
    "        return False\n",
    "    \n",
    "\n",
    "print(check_if_possible_to_buid_triangle(3,4,5))"
   ],
   "execution_count":30,
   "outputs":[
    {
     "name":"stdout",
     "text":[
      "True\n"
     ],
     "output_type":"stream"
    }
   ],
   "metadata":{
    "datalore":{
     "node_id":"C7t8psZCFCXVimz4UgNzoB",
     "type":"CODE",
     "hide_input_from_viewers":false,
     "hide_output_from_viewers":false
    }
   }
  },
  {
   "cell_type":"markdown",
   "source":[
    "Завдання 3: Написати функцію, яка перетворює рядок у форматі &quot;camelCase&quot;\n",
    "на рядок у форматі &quot;snake_case&quot;. Функція повинна приймати рядок у форматі\n",
    "&quot;camelCase&quot; як параметр та повертати рядок у форматі &quot;snake_case&quot;.\n",
    "Наприклад, для рядка &quot;myCamelCaseString&quot; повертається рядок\n",
    "&quot;my_camel_case_string&quot;."
   ],
   "attachments":{
    
   },
   "metadata":{
    "datalore":{
     "node_id":"sMeAa5zAKt7VG2PMiRmSbS",
     "type":"MD",
     "hide_input_from_viewers":false,
     "hide_output_from_viewers":false
    }
   }
  },
  {
   "cell_type":"code",
   "source":[
    "def from_camel_to_snake(camel_string):\n",
    "    new_name_list = [(camel_string[0].lower())]\n",
    "    for s in camel_string[1:]:\n",
    "        if s.islower():\n",
    "            new_name_list.append(s)\n",
    "        else:\n",
    "            new_name_list.append('_')\n",
    "            new_name_list.append(s.lower())\n",
    "    return ''.join(new_name_list)\n",
    "\n",
    "print(from_camel_to_snake(\"myCamelCaseString\"))"
   ],
   "execution_count":47,
   "outputs":[
    {
     "name":"stdout",
     "text":[
      "my_camel_case_string\n"
     ],
     "output_type":"stream"
    }
   ],
   "metadata":{
    "datalore":{
     "node_id":"JWxDeORVCDuFHg6QB6loAG",
     "type":"CODE",
     "hide_input_from_viewers":false,
     "hide_output_from_viewers":false
    }
   }
  }
 ],
 "metadata":{
  "kernelspec":{
   "display_name":"Python",
   "language":"python",
   "name":"python"
  },
  "datalore":{
   "version":1,
   "computation_mode":"JUPYTER",
   "package_manager":"pip",
   "base_environment":"default",
   "packages":[
    
   ]
  }
 },
 "nbformat":4,
 "nbformat_minor":4
}