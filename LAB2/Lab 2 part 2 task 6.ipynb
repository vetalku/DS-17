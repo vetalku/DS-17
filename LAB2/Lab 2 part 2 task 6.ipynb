{
 "cells":[
  {
   "cell_type":"markdown",
   "source":[
    "Напишіть функції, що:\n",
    "* рохраховує мінімальне та максимальне значення\n",
    "* середнє значення послідовності\n",
    "* медіану послідовності\n",
    "* частоту кожної цифри в послідовності\n",
    "* середнє квадратичне відхилення\n",
    "\n",
    "Послідовність чисел ганеруємо рандомно"
   ],
   "attachments":{
    
   },
   "metadata":{
    "datalore":{
     "node_id":"hQaLvTTFiZv83bvWTi2lqZ",
     "type":"MD",
     "hide_input_from_viewers":false,
     "hide_output_from_viewers":false
    }
   }
  },
  {
   "cell_type":"code",
   "source":[
    "import random\n",
    "from statistics import mean,median\n",
    "from collections import Counter\n",
    "from numpy import std\n",
    "from math import pow, sqrt\n",
    "\n",
    "#генеруэмо тисячу чисел в діапазоні від 0 до 10\n",
    "list_with_random_numbers = [random.randint(0,100) for i in range(1000)]\n",
    "\n",
    "def list_min(list_n):\n",
    "    min_n = list_n[0]\n",
    "    for n in list_n:\n",
    "        if min_n>n:\n",
    "            min_n = n\n",
    "    return min_n\n",
    "\n",
    "def list_max(list_n):\n",
    "    max_n  = list_n[0]\n",
    "    for n in list_n:\n",
    "        if max_n<n:\n",
    "            max_n = n\n",
    "    return max_n\n",
    "\n",
    "def list_avg(list_n):\n",
    "    sum_n=0\n",
    "    for n in list_n:\n",
    "        sum_n+=n\n",
    "    return sum_n\/len(list_n)\n",
    "\n",
    "def list_mid(list_n):\n",
    "    list_n.sort(reverse=False)\n",
    "    len_l = len(list_n)\n",
    "    if len_l%2 :\n",
    "        return list_n[len_l\/\/2]\n",
    "    else:\n",
    "        return list_avg(list_n[len_l\/\/2-1:len_l\/\/2+1])\n",
    "    \n",
    "\n",
    "def list_friq(list_n):\n",
    "    di={key: list_n.count(key) for key in list_n}\n",
    "    return dict(sorted(di.items(), key = lambda x:x[1],reverse=True))\n",
    "\n",
    "\n",
    "def list_std(list_n):\n",
    "    list_avg_n = list_avg(list_n)\n",
    "    sum_tmp = 0\n",
    "    for i in list_n:\n",
    "        sum_tmp+=pow((i-list_avg_n),2)\n",
    "    return sqrt((sum_tmp\/len(list_n)))\n",
    "\n",
    "#print(list_with_random_numbers)\n",
    "print(f\" мінімальне та максимальне значення - {list_min(list_with_random_numbers)} , {list_max(list_with_random_numbers)} \") \n",
    "print(f\" мінімальне та максимальне значення(python) - {sorted(list_with_random_numbers)[0]}, {sorted(list_with_random_numbers, reverse=False)[-1]}\")\n",
    "print(f\" середнє значення послідовності - {list_avg(list_with_random_numbers)} \")\n",
    "print(f\" середнє значення послідовності(python) - {mean(list_with_random_numbers)} \")\n",
    "print(f\" медіану послідовності - {list_mid(list_with_random_numbers)} \")\n",
    "print(f\" медіану послідовності(python) - {median(list_with_random_numbers)} \")\n",
    "print(f\" частоту кожної цифри в послідовності - {list_friq(list_with_random_numbers)} \")\n",
    "print(f\" частоту кожної цифри в послідовності(python) - {Counter(list_with_random_numbers)} \")\n",
    "print(f\" середнє квадратичне відхилення - {list_std(list_with_random_numbers)} \")\n",
    "print(f\" середнє квадратичне відхилення(python) - {std(list_with_random_numbers)} \")"
   ],
   "execution_count":1,
   "outputs":[
    {
     "name":"stdout",
     "text":[
      " мінімальне та максимальне значення - 0 , 100 \n",
      " мінімальне та максимальне значення(python) - 0, 100\n",
      " середнє значення послідовності - 49.462 \n",
      " середнє значення послідовності(python) - 49.462 \n",
      " медіану послідовності - 48.0 \n",
      " медіану послідовності(python) - 48.0 \n",
      " частоту кожної цифри в послідовності - {76: 22, 90: 18, 25: 16, 85: 16, 2: 15, 5: 14, 15: 14, 19: 14, 21: 14, 53: 14, 100: 14, 14: 13, 16: 13, 22: 13, 26: 13, 37: 13, 55: 13, 64: 13, 78: 13, 11: 12, 13: 12, 28: 12, 33: 12, 36: 12, 38: 12, 48: 12, 50: 12, 51: 12, 60: 12, 73: 12, 82: 12, 95: 12, 97: 12, 98: 12, 0: 11, 24: 11, 40: 11, 41: 11, 43: 11, 47: 11, 61: 11, 66: 11, 81: 11, 83: 11, 84: 11, 3: 10, 29: 10, 35: 10, 44: 10, 45: 10, 88: 10, 92: 10, 94: 10, 96: 10, 1: 9, 4: 9, 6: 9, 10: 9, 23: 9, 27: 9, 30: 9, 56: 9, 86: 9, 87: 9, 89: 9, 9: 8, 18: 8, 52: 8, 54: 8, 63: 8, 70: 8, 71: 8, 7: 7, 8: 7, 20: 7, 31: 7, 39: 7, 42: 7, 49: 7, 57: 7, 58: 7, 59: 7, 65: 7, 67: 7, 69: 7, 75: 7, 91: 7, 99: 7, 17: 6, 32: 6, 34: 6, 46: 6, 72: 6, 74: 6, 93: 6, 12: 5, 68: 5, 77: 5, 80: 5, 62: 3, 79: 2} \n",
      " частоту кожної цифри в послідовності(python) - Counter({76: 22, 90: 18, 25: 16, 85: 16, 2: 15, 5: 14, 15: 14, 19: 14, 21: 14, 53: 14, 100: 14, 14: 13, 16: 13, 22: 13, 26: 13, 37: 13, 55: 13, 64: 13, 78: 13, 11: 12, 13: 12, 28: 12, 33: 12, 36: 12, 38: 12, 48: 12, 50: 12, 51: 12, 60: 12, 73: 12, 82: 12, 95: 12, 97: 12, 98: 12, 0: 11, 24: 11, 40: 11, 41: 11, 43: 11, 47: 11, 61: 11, 66: 11, 81: 11, 83: 11, 84: 11, 3: 10, 29: 10, 35: 10, 44: 10, 45: 10, 88: 10, 92: 10, 94: 10, 96: 10, 1: 9, 4: 9, 6: 9, 10: 9, 23: 9, 27: 9, 30: 9, 56: 9, 86: 9, 87: 9, 89: 9, 9: 8, 18: 8, 52: 8, 54: 8, 63: 8, 70: 8, 71: 8, 7: 7, 8: 7, 20: 7, 31: 7, 39: 7, 42: 7, 49: 7, 57: 7, 58: 7, 59: 7, 65: 7, 67: 7, 69: 7, 75: 7, 91: 7, 99: 7, 17: 6, 32: 6, 34: 6, 46: 6, 72: 6, 74: 6, 93: 6, 12: 5, 68: 5, 77: 5, 80: 5, 62: 3, 79: 2}) \n",
      " середнє квадратичне відхилення - 29.687245678910788 \n",
      " середнє квадратичне відхилення(python) - 29.687245678910667 \n"
     ],
     "output_type":"stream"
    }
   ],
   "metadata":{
    "datalore":{
     "node_id":"G2MLhFbS5gXXWRYUQt9xMw",
     "type":"CODE",
     "hide_input_from_viewers":false,
     "hide_output_from_viewers":false
    }
   }
  }
 ],
 "metadata":{
  "kernelspec":{
   "display_name":"Python",
   "language":"python",
   "name":"python"
  },
  "datalore":{
   "version":1,
   "computation_mode":"JUPYTER",
   "package_manager":"pip",
   "base_environment":"default",
   "packages":[
    
   ]
  }
 },
 "nbformat":4,
 "nbformat_minor":4
}